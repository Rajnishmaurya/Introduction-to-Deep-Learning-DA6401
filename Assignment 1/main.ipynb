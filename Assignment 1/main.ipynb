{
 "cells": [
  {
   "cell_type": "code",
   "execution_count": 1,
   "metadata": {},
   "outputs": [
    {
     "name": "stderr",
     "output_type": "stream",
     "text": [
      "\u001b[34m\u001b[1mwandb\u001b[0m: Using wandb-core as the SDK backend.  Please refer to https://wandb.me/wandb-core for more information.\n",
      "\u001b[34m\u001b[1mwandb\u001b[0m: Currently logged in as: \u001b[33mda24m015\u001b[0m (\u001b[33mda24m015-iitm\u001b[0m) to \u001b[32mhttps://api.wandb.ai\u001b[0m. Use \u001b[1m`wandb login --relogin`\u001b[0m to force relogin\n"
     ]
    },
    {
     "data": {
      "text/plain": [
       "True"
      ]
     },
     "execution_count": 1,
     "metadata": {},
     "output_type": "execute_result"
    }
   ],
   "source": [
    "import wandb\n",
    "wandb.login()\n"
   ]
  },
  {
   "cell_type": "code",
   "execution_count": null,
   "metadata": {},
   "outputs": [],
   "source": []
  },
  {
   "cell_type": "code",
   "execution_count": null,
   "metadata": {},
   "outputs": [
    {
     "name": "stdout",
     "output_type": "stream",
     "text": [
      "Create sweep with ID: a0xv57v6\n",
      "Sweep URL: https://wandb.ai/da24m015-iitm/assignment_1/sweeps/a0xv57v6\n"
     ]
    },
    {
     "name": "stderr",
     "output_type": "stream",
     "text": [
      "\u001b[34m\u001b[1mwandb\u001b[0m: Agent Starting Run: 8n5ls54e with config:\n",
      "\u001b[34m\u001b[1mwandb\u001b[0m: \tactivation: tanh\n",
      "\u001b[34m\u001b[1mwandb\u001b[0m: \tbatch_size: 32\n",
      "\u001b[34m\u001b[1mwandb\u001b[0m: \tepochs: 5\n",
      "\u001b[34m\u001b[1mwandb\u001b[0m: \thidden_layers: 3\n",
      "\u001b[34m\u001b[1mwandb\u001b[0m: \thidden_size: 64\n",
      "\u001b[34m\u001b[1mwandb\u001b[0m: \tlearning_rate: 0.0001\n",
      "\u001b[34m\u001b[1mwandb\u001b[0m: \toptimizer: sgd\n",
      "\u001b[34m\u001b[1mwandb\u001b[0m: \tweight_decay: 0\n",
      "\u001b[34m\u001b[1mwandb\u001b[0m: \tweight_init: random\n"
     ]
    },
    {
     "data": {
      "text/html": [
       "Ignoring project 'assignment_1' when running a sweep."
      ],
      "text/plain": [
       "<IPython.core.display.HTML object>"
      ]
     },
     "metadata": {},
     "output_type": "display_data"
    },
    {
     "data": {
      "text/html": [
       "Ignoring entity 'da24m015-iitm' when running a sweep."
      ],
      "text/plain": [
       "<IPython.core.display.HTML object>"
      ]
     },
     "metadata": {},
     "output_type": "display_data"
    },
    {
     "data": {
      "text/html": [
       "Tracking run with wandb version 0.19.7"
      ],
      "text/plain": [
       "<IPython.core.display.HTML object>"
      ]
     },
     "metadata": {},
     "output_type": "display_data"
    },
    {
     "data": {
      "text/html": [
       "Run data is saved locally in <code>c:\\Users\\Rajnish\\Desktop\\Rajnish\\M.Tech DSAI'26\\M.Tech DSAI 2024-2026\\Semester 2\\Introduction to Deep Learning\\Introduction-to-Deep-Learning-DA6401-\\Assignment 1\\wandb\\run-20250307_134116-8n5ls54e</code>"
      ],
      "text/plain": [
       "<IPython.core.display.HTML object>"
      ]
     },
     "metadata": {},
     "output_type": "display_data"
    },
    {
     "data": {
      "text/html": [
       "Syncing run <strong><a href='https://wandb.ai/da24m015-iitm/assignment_1/runs/8n5ls54e' target=\"_blank\">glorious-sweep-1</a></strong> to <a href='https://wandb.ai/da24m015-iitm/assignment_1' target=\"_blank\">Weights & Biases</a> (<a href='https://wandb.me/developer-guide' target=\"_blank\">docs</a>)<br>Sweep page: <a href='https://wandb.ai/da24m015-iitm/assignment_1/sweeps/a0xv57v6' target=\"_blank\">https://wandb.ai/da24m015-iitm/assignment_1/sweeps/a0xv57v6</a>"
      ],
      "text/plain": [
       "<IPython.core.display.HTML object>"
      ]
     },
     "metadata": {},
     "output_type": "display_data"
    },
    {
     "data": {
      "text/html": [
       " View project at <a href='https://wandb.ai/da24m015-iitm/assignment_1' target=\"_blank\">https://wandb.ai/da24m015-iitm/assignment_1</a>"
      ],
      "text/plain": [
       "<IPython.core.display.HTML object>"
      ]
     },
     "metadata": {},
     "output_type": "display_data"
    },
    {
     "data": {
      "text/html": [
       " View sweep at <a href='https://wandb.ai/da24m015-iitm/assignment_1/sweeps/a0xv57v6' target=\"_blank\">https://wandb.ai/da24m015-iitm/assignment_1/sweeps/a0xv57v6</a>"
      ],
      "text/plain": [
       "<IPython.core.display.HTML object>"
      ]
     },
     "metadata": {},
     "output_type": "display_data"
    },
    {
     "data": {
      "text/html": [
       " View run at <a href='https://wandb.ai/da24m015-iitm/assignment_1/runs/8n5ls54e' target=\"_blank\">https://wandb.ai/da24m015-iitm/assignment_1/runs/8n5ls54e</a>"
      ],
      "text/plain": [
       "<IPython.core.display.HTML object>"
      ]
     },
     "metadata": {},
     "output_type": "display_data"
    },
    {
     "data": {
      "text/html": [],
      "text/plain": [
       "<IPython.core.display.HTML object>"
      ]
     },
     "metadata": {},
     "output_type": "display_data"
    },
    {
     "data": {
      "text/html": [
       "<br>    <style><br>        .wandb-row {<br>            display: flex;<br>            flex-direction: row;<br>            flex-wrap: wrap;<br>            justify-content: flex-start;<br>            width: 100%;<br>        }<br>        .wandb-col {<br>            display: flex;<br>            flex-direction: column;<br>            flex-basis: 100%;<br>            flex: 1;<br>            padding: 10px;<br>        }<br>    </style><br><div class=\"wandb-row\"><div class=\"wandb-col\"><h3>Run history:</h3><br/><table class=\"wandb\"><tr><td>accuracy</td><td>▁▂▄▆█</td></tr><tr><td>epoch</td><td>▁▃▅▆█</td></tr><tr><td>loss</td><td>█▆▅▃▁</td></tr><tr><td>val_accuracy</td><td>▁▃▄▆█</td></tr><tr><td>val_loss</td><td>█▆▅▃▁</td></tr></table><br/></div><div class=\"wandb-col\"><h3>Run summary:</h3><br/><table class=\"wandb\"><tr><td>accuracy</td><td>0.35011</td></tr><tr><td>epoch</td><td>5</td></tr><tr><td>loss</td><td>2.24787</td></tr><tr><td>val_accuracy</td><td>0.38167</td></tr><tr><td>val_loss</td><td>2.24177</td></tr></table><br/></div></div>"
      ],
      "text/plain": [
       "<IPython.core.display.HTML object>"
      ]
     },
     "metadata": {},
     "output_type": "display_data"
    },
    {
     "data": {
      "text/html": [
       " View run <strong style=\"color:#cdcd00\">hl_3_bs_32_ac_tanh</strong> at: <a href='https://wandb.ai/da24m015-iitm/assignment_1/runs/8n5ls54e' target=\"_blank\">https://wandb.ai/da24m015-iitm/assignment_1/runs/8n5ls54e</a><br> View project at: <a href='https://wandb.ai/da24m015-iitm/assignment_1' target=\"_blank\">https://wandb.ai/da24m015-iitm/assignment_1</a><br>Synced 5 W&B file(s), 0 media file(s), 0 artifact file(s) and 0 other file(s)"
      ],
      "text/plain": [
       "<IPython.core.display.HTML object>"
      ]
     },
     "metadata": {},
     "output_type": "display_data"
    },
    {
     "data": {
      "text/html": [
       "Find logs at: <code>.\\wandb\\run-20250307_134116-8n5ls54e\\logs</code>"
      ],
      "text/plain": [
       "<IPython.core.display.HTML object>"
      ]
     },
     "metadata": {},
     "output_type": "display_data"
    },
    {
     "name": "stderr",
     "output_type": "stream",
     "text": [
      "\u001b[34m\u001b[1mwandb\u001b[0m: Sweep Agent: Waiting for job.\n",
      "\u001b[34m\u001b[1mwandb\u001b[0m: Job received.\n",
      "\u001b[34m\u001b[1mwandb\u001b[0m: Agent Starting Run: wryo7foo with config:\n",
      "\u001b[34m\u001b[1mwandb\u001b[0m: \tactivation: relu\n",
      "\u001b[34m\u001b[1mwandb\u001b[0m: \tbatch_size: 32\n",
      "\u001b[34m\u001b[1mwandb\u001b[0m: \tepochs: 10\n",
      "\u001b[34m\u001b[1mwandb\u001b[0m: \thidden_layers: 3\n",
      "\u001b[34m\u001b[1mwandb\u001b[0m: \thidden_size: 64\n",
      "\u001b[34m\u001b[1mwandb\u001b[0m: \tlearning_rate: 0.0001\n",
      "\u001b[34m\u001b[1mwandb\u001b[0m: \toptimizer: rmsprop\n",
      "\u001b[34m\u001b[1mwandb\u001b[0m: \tweight_decay: 0.5\n",
      "\u001b[34m\u001b[1mwandb\u001b[0m: \tweight_init: random\n"
     ]
    },
    {
     "data": {
      "text/html": [
       "Ignoring project 'assignment_1' when running a sweep."
      ],
      "text/plain": [
       "<IPython.core.display.HTML object>"
      ]
     },
     "metadata": {},
     "output_type": "display_data"
    },
    {
     "data": {
      "text/html": [
       "Ignoring entity 'da24m015-iitm' when running a sweep."
      ],
      "text/plain": [
       "<IPython.core.display.HTML object>"
      ]
     },
     "metadata": {},
     "output_type": "display_data"
    },
    {
     "data": {
      "text/html": [
       "Tracking run with wandb version 0.19.7"
      ],
      "text/plain": [
       "<IPython.core.display.HTML object>"
      ]
     },
     "metadata": {},
     "output_type": "display_data"
    },
    {
     "data": {
      "text/html": [
       "Run data is saved locally in <code>c:\\Users\\Rajnish\\Desktop\\Rajnish\\M.Tech DSAI'26\\M.Tech DSAI 2024-2026\\Semester 2\\Introduction to Deep Learning\\Introduction-to-Deep-Learning-DA6401-\\Assignment 1\\wandb\\run-20250307_134141-wryo7foo</code>"
      ],
      "text/plain": [
       "<IPython.core.display.HTML object>"
      ]
     },
     "metadata": {},
     "output_type": "display_data"
    },
    {
     "data": {
      "text/html": [
       "Syncing run <strong><a href='https://wandb.ai/da24m015-iitm/assignment_1/runs/wryo7foo' target=\"_blank\">celestial-sweep-2</a></strong> to <a href='https://wandb.ai/da24m015-iitm/assignment_1' target=\"_blank\">Weights & Biases</a> (<a href='https://wandb.me/developer-guide' target=\"_blank\">docs</a>)<br>Sweep page: <a href='https://wandb.ai/da24m015-iitm/assignment_1/sweeps/a0xv57v6' target=\"_blank\">https://wandb.ai/da24m015-iitm/assignment_1/sweeps/a0xv57v6</a>"
      ],
      "text/plain": [
       "<IPython.core.display.HTML object>"
      ]
     },
     "metadata": {},
     "output_type": "display_data"
    },
    {
     "data": {
      "text/html": [
       " View project at <a href='https://wandb.ai/da24m015-iitm/assignment_1' target=\"_blank\">https://wandb.ai/da24m015-iitm/assignment_1</a>"
      ],
      "text/plain": [
       "<IPython.core.display.HTML object>"
      ]
     },
     "metadata": {},
     "output_type": "display_data"
    },
    {
     "data": {
      "text/html": [
       " View sweep at <a href='https://wandb.ai/da24m015-iitm/assignment_1/sweeps/a0xv57v6' target=\"_blank\">https://wandb.ai/da24m015-iitm/assignment_1/sweeps/a0xv57v6</a>"
      ],
      "text/plain": [
       "<IPython.core.display.HTML object>"
      ]
     },
     "metadata": {},
     "output_type": "display_data"
    },
    {
     "data": {
      "text/html": [
       " View run at <a href='https://wandb.ai/da24m015-iitm/assignment_1/runs/wryo7foo' target=\"_blank\">https://wandb.ai/da24m015-iitm/assignment_1/runs/wryo7foo</a>"
      ],
      "text/plain": [
       "<IPython.core.display.HTML object>"
      ]
     },
     "metadata": {},
     "output_type": "display_data"
    },
    {
     "data": {
      "text/html": [],
      "text/plain": [
       "<IPython.core.display.HTML object>"
      ]
     },
     "metadata": {},
     "output_type": "display_data"
    },
    {
     "data": {
      "text/html": [
       "<br>    <style><br>        .wandb-row {<br>            display: flex;<br>            flex-direction: row;<br>            flex-wrap: wrap;<br>            justify-content: flex-start;<br>            width: 100%;<br>        }<br>        .wandb-col {<br>            display: flex;<br>            flex-direction: column;<br>            flex-basis: 100%;<br>            flex: 1;<br>            padding: 10px;<br>        }<br>    </style><br><div class=\"wandb-row\"><div class=\"wandb-col\"><h3>Run history:</h3><br/><table class=\"wandb\"><tr><td>accuracy</td><td>▁▇▃▇▆▆▇██▇</td></tr><tr><td>epoch</td><td>▁▂▃▃▄▅▆▆▇█</td></tr><tr><td>loss</td><td>█▁▁▁▁▁▁▁▁▁</td></tr><tr><td>val_accuracy</td><td>██▁█▁▁▁▁▁▁</td></tr><tr><td>val_loss</td><td>▁▃▄▅▇▇▇▇██</td></tr></table><br/></div><div class=\"wandb-col\"><h3>Run summary:</h3><br/><table class=\"wandb\"><tr><td>accuracy</td><td>0.10022</td></tr><tr><td>epoch</td><td>10</td></tr><tr><td>loss</td><td>2.30263</td></tr><tr><td>val_accuracy</td><td>0.0925</td></tr><tr><td>val_loss</td><td>2.30283</td></tr></table><br/></div></div>"
      ],
      "text/plain": [
       "<IPython.core.display.HTML object>"
      ]
     },
     "metadata": {},
     "output_type": "display_data"
    },
    {
     "data": {
      "text/html": [
       " View run <strong style=\"color:#cdcd00\">hl_3_bs_32_ac_relu</strong> at: <a href='https://wandb.ai/da24m015-iitm/assignment_1/runs/wryo7foo' target=\"_blank\">https://wandb.ai/da24m015-iitm/assignment_1/runs/wryo7foo</a><br> View project at: <a href='https://wandb.ai/da24m015-iitm/assignment_1' target=\"_blank\">https://wandb.ai/da24m015-iitm/assignment_1</a><br>Synced 5 W&B file(s), 0 media file(s), 0 artifact file(s) and 0 other file(s)"
      ],
      "text/plain": [
       "<IPython.core.display.HTML object>"
      ]
     },
     "metadata": {},
     "output_type": "display_data"
    },
    {
     "data": {
      "text/html": [
       "Find logs at: <code>.\\wandb\\run-20250307_134141-wryo7foo\\logs</code>"
      ],
      "text/plain": [
       "<IPython.core.display.HTML object>"
      ]
     },
     "metadata": {},
     "output_type": "display_data"
    },
    {
     "name": "stderr",
     "output_type": "stream",
     "text": [
      "\u001b[34m\u001b[1mwandb\u001b[0m: Agent Starting Run: jan66vgj with config:\n",
      "\u001b[34m\u001b[1mwandb\u001b[0m: \tactivation: sigmoid\n",
      "\u001b[34m\u001b[1mwandb\u001b[0m: \tbatch_size: 16\n",
      "\u001b[34m\u001b[1mwandb\u001b[0m: \tepochs: 10\n",
      "\u001b[34m\u001b[1mwandb\u001b[0m: \thidden_layers: 5\n",
      "\u001b[34m\u001b[1mwandb\u001b[0m: \thidden_size: 128\n",
      "\u001b[34m\u001b[1mwandb\u001b[0m: \tlearning_rate: 0.001\n",
      "\u001b[34m\u001b[1mwandb\u001b[0m: \toptimizer: sgd\n",
      "\u001b[34m\u001b[1mwandb\u001b[0m: \tweight_decay: 0.0005\n",
      "\u001b[34m\u001b[1mwandb\u001b[0m: \tweight_init: xavier\n"
     ]
    },
    {
     "data": {
      "text/html": [
       "Ignoring project 'assignment_1' when running a sweep."
      ],
      "text/plain": [
       "<IPython.core.display.HTML object>"
      ]
     },
     "metadata": {},
     "output_type": "display_data"
    },
    {
     "data": {
      "text/html": [
       "Ignoring entity 'da24m015-iitm' when running a sweep."
      ],
      "text/plain": [
       "<IPython.core.display.HTML object>"
      ]
     },
     "metadata": {},
     "output_type": "display_data"
    },
    {
     "data": {
      "text/html": [
       "Tracking run with wandb version 0.19.7"
      ],
      "text/plain": [
       "<IPython.core.display.HTML object>"
      ]
     },
     "metadata": {},
     "output_type": "display_data"
    },
    {
     "data": {
      "text/html": [
       "Run data is saved locally in <code>c:\\Users\\Rajnish\\Desktop\\Rajnish\\M.Tech DSAI'26\\M.Tech DSAI 2024-2026\\Semester 2\\Introduction to Deep Learning\\Introduction-to-Deep-Learning-DA6401-\\Assignment 1\\wandb\\run-20250307_134225-jan66vgj</code>"
      ],
      "text/plain": [
       "<IPython.core.display.HTML object>"
      ]
     },
     "metadata": {},
     "output_type": "display_data"
    },
    {
     "data": {
      "text/html": [
       "Syncing run <strong><a href='https://wandb.ai/da24m015-iitm/assignment_1/runs/jan66vgj' target=\"_blank\">wobbly-sweep-3</a></strong> to <a href='https://wandb.ai/da24m015-iitm/assignment_1' target=\"_blank\">Weights & Biases</a> (<a href='https://wandb.me/developer-guide' target=\"_blank\">docs</a>)<br>Sweep page: <a href='https://wandb.ai/da24m015-iitm/assignment_1/sweeps/a0xv57v6' target=\"_blank\">https://wandb.ai/da24m015-iitm/assignment_1/sweeps/a0xv57v6</a>"
      ],
      "text/plain": [
       "<IPython.core.display.HTML object>"
      ]
     },
     "metadata": {},
     "output_type": "display_data"
    },
    {
     "data": {
      "text/html": [
       " View project at <a href='https://wandb.ai/da24m015-iitm/assignment_1' target=\"_blank\">https://wandb.ai/da24m015-iitm/assignment_1</a>"
      ],
      "text/plain": [
       "<IPython.core.display.HTML object>"
      ]
     },
     "metadata": {},
     "output_type": "display_data"
    },
    {
     "data": {
      "text/html": [
       " View sweep at <a href='https://wandb.ai/da24m015-iitm/assignment_1/sweeps/a0xv57v6' target=\"_blank\">https://wandb.ai/da24m015-iitm/assignment_1/sweeps/a0xv57v6</a>"
      ],
      "text/plain": [
       "<IPython.core.display.HTML object>"
      ]
     },
     "metadata": {},
     "output_type": "display_data"
    },
    {
     "data": {
      "text/html": [
       " View run at <a href='https://wandb.ai/da24m015-iitm/assignment_1/runs/jan66vgj' target=\"_blank\">https://wandb.ai/da24m015-iitm/assignment_1/runs/jan66vgj</a>"
      ],
      "text/plain": [
       "<IPython.core.display.HTML object>"
      ]
     },
     "metadata": {},
     "output_type": "display_data"
    },
    {
     "data": {
      "text/html": [],
      "text/plain": [
       "<IPython.core.display.HTML object>"
      ]
     },
     "metadata": {},
     "output_type": "display_data"
    },
    {
     "data": {
      "text/html": [
       "<br>    <style><br>        .wandb-row {<br>            display: flex;<br>            flex-direction: row;<br>            flex-wrap: wrap;<br>            justify-content: flex-start;<br>            width: 100%;<br>        }<br>        .wandb-col {<br>            display: flex;<br>            flex-direction: column;<br>            flex-basis: 100%;<br>            flex: 1;<br>            padding: 10px;<br>        }<br>    </style><br><div class=\"wandb-row\"><div class=\"wandb-col\"><h3>Run history:</h3><br/><table class=\"wandb\"><tr><td>accuracy</td><td>▂▂▄█▄▅▁▇▇█</td></tr><tr><td>epoch</td><td>▁▂▃▃▄▅▆▆▇█</td></tr><tr><td>loss</td><td>█▃▃▂▂▂▂▁▁▁</td></tr><tr><td>val_accuracy</td><td>█▂▂▄▇▄▁▂▇▁</td></tr><tr><td>val_loss</td><td>██▇▇▄▃▃▁▂▁</td></tr></table><br/></div><div class=\"wandb-col\"><h3>Run summary:</h3><br/><table class=\"wandb\"><tr><td>accuracy</td><td>0.10161</td></tr><tr><td>epoch</td><td>10</td></tr><tr><td>loss</td><td>2.48451</td></tr><tr><td>val_accuracy</td><td>0.0925</td></tr><tr><td>val_loss</td><td>2.48487</td></tr></table><br/></div></div>"
      ],
      "text/plain": [
       "<IPython.core.display.HTML object>"
      ]
     },
     "metadata": {},
     "output_type": "display_data"
    },
    {
     "data": {
      "text/html": [
       " View run <strong style=\"color:#cdcd00\">hl_5_bs_16_ac_sigmoid</strong> at: <a href='https://wandb.ai/da24m015-iitm/assignment_1/runs/jan66vgj' target=\"_blank\">https://wandb.ai/da24m015-iitm/assignment_1/runs/jan66vgj</a><br> View project at: <a href='https://wandb.ai/da24m015-iitm/assignment_1' target=\"_blank\">https://wandb.ai/da24m015-iitm/assignment_1</a><br>Synced 5 W&B file(s), 0 media file(s), 0 artifact file(s) and 0 other file(s)"
      ],
      "text/plain": [
       "<IPython.core.display.HTML object>"
      ]
     },
     "metadata": {},
     "output_type": "display_data"
    },
    {
     "data": {
      "text/html": [
       "Find logs at: <code>.\\wandb\\run-20250307_134225-jan66vgj\\logs</code>"
      ],
      "text/plain": [
       "<IPython.core.display.HTML object>"
      ]
     },
     "metadata": {},
     "output_type": "display_data"
    },
    {
     "name": "stderr",
     "output_type": "stream",
     "text": [
      "\u001b[34m\u001b[1mwandb\u001b[0m: Agent Starting Run: bzg52b8c with config:\n",
      "\u001b[34m\u001b[1mwandb\u001b[0m: \tactivation: tanh\n",
      "\u001b[34m\u001b[1mwandb\u001b[0m: \tbatch_size: 64\n",
      "\u001b[34m\u001b[1mwandb\u001b[0m: \tepochs: 10\n",
      "\u001b[34m\u001b[1mwandb\u001b[0m: \thidden_layers: 5\n",
      "\u001b[34m\u001b[1mwandb\u001b[0m: \thidden_size: 128\n",
      "\u001b[34m\u001b[1mwandb\u001b[0m: \tlearning_rate: 0.0001\n",
      "\u001b[34m\u001b[1mwandb\u001b[0m: \toptimizer: rmsprop\n",
      "\u001b[34m\u001b[1mwandb\u001b[0m: \tweight_decay: 0.0005\n",
      "\u001b[34m\u001b[1mwandb\u001b[0m: \tweight_init: random\n"
     ]
    },
    {
     "data": {
      "text/html": [
       "Ignoring project 'assignment_1' when running a sweep."
      ],
      "text/plain": [
       "<IPython.core.display.HTML object>"
      ]
     },
     "metadata": {},
     "output_type": "display_data"
    },
    {
     "data": {
      "text/html": [
       "Ignoring entity 'da24m015-iitm' when running a sweep."
      ],
      "text/plain": [
       "<IPython.core.display.HTML object>"
      ]
     },
     "metadata": {},
     "output_type": "display_data"
    },
    {
     "data": {
      "text/html": [
       "Tracking run with wandb version 0.19.7"
      ],
      "text/plain": [
       "<IPython.core.display.HTML object>"
      ]
     },
     "metadata": {},
     "output_type": "display_data"
    },
    {
     "data": {
      "text/html": [
       "Run data is saved locally in <code>c:\\Users\\Rajnish\\Desktop\\Rajnish\\M.Tech DSAI'26\\M.Tech DSAI 2024-2026\\Semester 2\\Introduction to Deep Learning\\Introduction-to-Deep-Learning-DA6401-\\Assignment 1\\wandb\\run-20250307_134517-bzg52b8c</code>"
      ],
      "text/plain": [
       "<IPython.core.display.HTML object>"
      ]
     },
     "metadata": {},
     "output_type": "display_data"
    },
    {
     "data": {
      "text/html": [
       "Syncing run <strong><a href='https://wandb.ai/da24m015-iitm/assignment_1/runs/bzg52b8c' target=\"_blank\">solar-sweep-4</a></strong> to <a href='https://wandb.ai/da24m015-iitm/assignment_1' target=\"_blank\">Weights & Biases</a> (<a href='https://wandb.me/developer-guide' target=\"_blank\">docs</a>)<br>Sweep page: <a href='https://wandb.ai/da24m015-iitm/assignment_1/sweeps/a0xv57v6' target=\"_blank\">https://wandb.ai/da24m015-iitm/assignment_1/sweeps/a0xv57v6</a>"
      ],
      "text/plain": [
       "<IPython.core.display.HTML object>"
      ]
     },
     "metadata": {},
     "output_type": "display_data"
    },
    {
     "data": {
      "text/html": [
       " View project at <a href='https://wandb.ai/da24m015-iitm/assignment_1' target=\"_blank\">https://wandb.ai/da24m015-iitm/assignment_1</a>"
      ],
      "text/plain": [
       "<IPython.core.display.HTML object>"
      ]
     },
     "metadata": {},
     "output_type": "display_data"
    },
    {
     "data": {
      "text/html": [
       " View sweep at <a href='https://wandb.ai/da24m015-iitm/assignment_1/sweeps/a0xv57v6' target=\"_blank\">https://wandb.ai/da24m015-iitm/assignment_1/sweeps/a0xv57v6</a>"
      ],
      "text/plain": [
       "<IPython.core.display.HTML object>"
      ]
     },
     "metadata": {},
     "output_type": "display_data"
    },
    {
     "data": {
      "text/html": [
       " View run at <a href='https://wandb.ai/da24m015-iitm/assignment_1/runs/bzg52b8c' target=\"_blank\">https://wandb.ai/da24m015-iitm/assignment_1/runs/bzg52b8c</a>"
      ],
      "text/plain": [
       "<IPython.core.display.HTML object>"
      ]
     },
     "metadata": {},
     "output_type": "display_data"
    },
    {
     "data": {
      "text/html": [],
      "text/plain": [
       "<IPython.core.display.HTML object>"
      ]
     },
     "metadata": {},
     "output_type": "display_data"
    },
    {
     "data": {
      "text/html": [
       "<br>    <style><br>        .wandb-row {<br>            display: flex;<br>            flex-direction: row;<br>            flex-wrap: wrap;<br>            justify-content: flex-start;<br>            width: 100%;<br>        }<br>        .wandb-col {<br>            display: flex;<br>            flex-direction: column;<br>            flex-basis: 100%;<br>            flex: 1;<br>            padding: 10px;<br>        }<br>    </style><br><div class=\"wandb-row\"><div class=\"wandb-col\"><h3>Run history:</h3><br/><table class=\"wandb\"><tr><td>accuracy</td><td>▁▆▇▇▇█████</td></tr><tr><td>epoch</td><td>▁▂▃▃▄▅▆▆▇█</td></tr><tr><td>loss</td><td>█▃▂▂▂▂▁▁▁▁</td></tr><tr><td>val_accuracy</td><td>▁▄▅▆▆▆▇███</td></tr><tr><td>val_loss</td><td>█▅▄▃▃▂▂▁▁▁</td></tr></table><br/></div><div class=\"wandb-col\"><h3>Run summary:</h3><br/><table class=\"wandb\"><tr><td>accuracy</td><td>0.87796</td></tr><tr><td>epoch</td><td>10</td></tr><tr><td>loss</td><td>0.45906</td></tr><tr><td>val_accuracy</td><td>0.86983</td></tr><tr><td>val_loss</td><td>0.47714</td></tr></table><br/></div></div>"
      ],
      "text/plain": [
       "<IPython.core.display.HTML object>"
      ]
     },
     "metadata": {},
     "output_type": "display_data"
    },
    {
     "data": {
      "text/html": [
       " View run <strong style=\"color:#cdcd00\">hl_5_bs_64_ac_tanh</strong> at: <a href='https://wandb.ai/da24m015-iitm/assignment_1/runs/bzg52b8c' target=\"_blank\">https://wandb.ai/da24m015-iitm/assignment_1/runs/bzg52b8c</a><br> View project at: <a href='https://wandb.ai/da24m015-iitm/assignment_1' target=\"_blank\">https://wandb.ai/da24m015-iitm/assignment_1</a><br>Synced 5 W&B file(s), 0 media file(s), 0 artifact file(s) and 0 other file(s)"
      ],
      "text/plain": [
       "<IPython.core.display.HTML object>"
      ]
     },
     "metadata": {},
     "output_type": "display_data"
    },
    {
     "data": {
      "text/html": [
       "Find logs at: <code>.\\wandb\\run-20250307_134517-bzg52b8c\\logs</code>"
      ],
      "text/plain": [
       "<IPython.core.display.HTML object>"
      ]
     },
     "metadata": {},
     "output_type": "display_data"
    },
    {
     "name": "stderr",
     "output_type": "stream",
     "text": [
      "\u001b[34m\u001b[1mwandb\u001b[0m: Agent Starting Run: 8lf93uer with config:\n",
      "\u001b[34m\u001b[1mwandb\u001b[0m: \tactivation: tanh\n",
      "\u001b[34m\u001b[1mwandb\u001b[0m: \tbatch_size: 16\n",
      "\u001b[34m\u001b[1mwandb\u001b[0m: \tepochs: 5\n",
      "\u001b[34m\u001b[1mwandb\u001b[0m: \thidden_layers: 3\n",
      "\u001b[34m\u001b[1mwandb\u001b[0m: \thidden_size: 32\n",
      "\u001b[34m\u001b[1mwandb\u001b[0m: \tlearning_rate: 0.0001\n",
      "\u001b[34m\u001b[1mwandb\u001b[0m: \toptimizer: nesterov\n",
      "\u001b[34m\u001b[1mwandb\u001b[0m: \tweight_decay: 0\n",
      "\u001b[34m\u001b[1mwandb\u001b[0m: \tweight_init: xavier\n"
     ]
    },
    {
     "data": {
      "text/html": [
       "Ignoring project 'assignment_1' when running a sweep."
      ],
      "text/plain": [
       "<IPython.core.display.HTML object>"
      ]
     },
     "metadata": {},
     "output_type": "display_data"
    },
    {
     "data": {
      "text/html": [
       "Ignoring entity 'da24m015-iitm' when running a sweep."
      ],
      "text/plain": [
       "<IPython.core.display.HTML object>"
      ]
     },
     "metadata": {},
     "output_type": "display_data"
    },
    {
     "data": {
      "text/html": [
       "Tracking run with wandb version 0.19.7"
      ],
      "text/plain": [
       "<IPython.core.display.HTML object>"
      ]
     },
     "metadata": {},
     "output_type": "display_data"
    },
    {
     "data": {
      "text/html": [
       "Run data is saved locally in <code>c:\\Users\\Rajnish\\Desktop\\Rajnish\\M.Tech DSAI'26\\M.Tech DSAI 2024-2026\\Semester 2\\Introduction to Deep Learning\\Introduction-to-Deep-Learning-DA6401-\\Assignment 1\\wandb\\run-20250307_134704-8lf93uer</code>"
      ],
      "text/plain": [
       "<IPython.core.display.HTML object>"
      ]
     },
     "metadata": {},
     "output_type": "display_data"
    },
    {
     "data": {
      "text/html": [
       "Syncing run <strong><a href='https://wandb.ai/da24m015-iitm/assignment_1/runs/8lf93uer' target=\"_blank\">dauntless-sweep-5</a></strong> to <a href='https://wandb.ai/da24m015-iitm/assignment_1' target=\"_blank\">Weights & Biases</a> (<a href='https://wandb.me/developer-guide' target=\"_blank\">docs</a>)<br>Sweep page: <a href='https://wandb.ai/da24m015-iitm/assignment_1/sweeps/a0xv57v6' target=\"_blank\">https://wandb.ai/da24m015-iitm/assignment_1/sweeps/a0xv57v6</a>"
      ],
      "text/plain": [
       "<IPython.core.display.HTML object>"
      ]
     },
     "metadata": {},
     "output_type": "display_data"
    },
    {
     "data": {
      "text/html": [
       " View project at <a href='https://wandb.ai/da24m015-iitm/assignment_1' target=\"_blank\">https://wandb.ai/da24m015-iitm/assignment_1</a>"
      ],
      "text/plain": [
       "<IPython.core.display.HTML object>"
      ]
     },
     "metadata": {},
     "output_type": "display_data"
    },
    {
     "data": {
      "text/html": [
       " View sweep at <a href='https://wandb.ai/da24m015-iitm/assignment_1/sweeps/a0xv57v6' target=\"_blank\">https://wandb.ai/da24m015-iitm/assignment_1/sweeps/a0xv57v6</a>"
      ],
      "text/plain": [
       "<IPython.core.display.HTML object>"
      ]
     },
     "metadata": {},
     "output_type": "display_data"
    },
    {
     "data": {
      "text/html": [
       " View run at <a href='https://wandb.ai/da24m015-iitm/assignment_1/runs/8lf93uer' target=\"_blank\">https://wandb.ai/da24m015-iitm/assignment_1/runs/8lf93uer</a>"
      ],
      "text/plain": [
       "<IPython.core.display.HTML object>"
      ]
     },
     "metadata": {},
     "output_type": "display_data"
    },
    {
     "data": {
      "text/html": [],
      "text/plain": [
       "<IPython.core.display.HTML object>"
      ]
     },
     "metadata": {},
     "output_type": "display_data"
    },
    {
     "data": {
      "text/html": [
       "<br>    <style><br>        .wandb-row {<br>            display: flex;<br>            flex-direction: row;<br>            flex-wrap: wrap;<br>            justify-content: flex-start;<br>            width: 100%;<br>        }<br>        .wandb-col {<br>            display: flex;<br>            flex-direction: column;<br>            flex-basis: 100%;<br>            flex: 1;<br>            padding: 10px;<br>        }<br>    </style><br><div class=\"wandb-row\"><div class=\"wandb-col\"><h3>Run history:</h3><br/><table class=\"wandb\"><tr><td>accuracy</td><td>▁▆▇██</td></tr><tr><td>epoch</td><td>▁▃▅▆█</td></tr><tr><td>loss</td><td>█▃▂▁▁</td></tr><tr><td>val_accuracy</td><td>▁▅▇▇█</td></tr><tr><td>val_loss</td><td>█▄▂▁▁</td></tr></table><br/></div><div class=\"wandb-col\"><h3>Run summary:</h3><br/><table class=\"wandb\"><tr><td>accuracy</td><td>0.83287</td></tr><tr><td>epoch</td><td>5</td></tr><tr><td>loss</td><td>0.48974</td></tr><tr><td>val_accuracy</td><td>0.828</td></tr><tr><td>val_loss</td><td>0.4816</td></tr></table><br/></div></div>"
      ],
      "text/plain": [
       "<IPython.core.display.HTML object>"
      ]
     },
     "metadata": {},
     "output_type": "display_data"
    },
    {
     "data": {
      "text/html": [
       " View run <strong style=\"color:#cdcd00\">hl_3_bs_16_ac_tanh</strong> at: <a href='https://wandb.ai/da24m015-iitm/assignment_1/runs/8lf93uer' target=\"_blank\">https://wandb.ai/da24m015-iitm/assignment_1/runs/8lf93uer</a><br> View project at: <a href='https://wandb.ai/da24m015-iitm/assignment_1' target=\"_blank\">https://wandb.ai/da24m015-iitm/assignment_1</a><br>Synced 5 W&B file(s), 0 media file(s), 0 artifact file(s) and 0 other file(s)"
      ],
      "text/plain": [
       "<IPython.core.display.HTML object>"
      ]
     },
     "metadata": {},
     "output_type": "display_data"
    },
    {
     "data": {
      "text/html": [
       "Find logs at: <code>.\\wandb\\run-20250307_134704-8lf93uer\\logs</code>"
      ],
      "text/plain": [
       "<IPython.core.display.HTML object>"
      ]
     },
     "metadata": {},
     "output_type": "display_data"
    },
    {
     "name": "stderr",
     "output_type": "stream",
     "text": [
      "\u001b[34m\u001b[1mwandb\u001b[0m: Agent Starting Run: 0fwqjiwh with config:\n",
      "\u001b[34m\u001b[1mwandb\u001b[0m: \tactivation: relu\n",
      "\u001b[34m\u001b[1mwandb\u001b[0m: \tbatch_size: 64\n",
      "\u001b[34m\u001b[1mwandb\u001b[0m: \tepochs: 10\n",
      "\u001b[34m\u001b[1mwandb\u001b[0m: \thidden_layers: 5\n",
      "\u001b[34m\u001b[1mwandb\u001b[0m: \thidden_size: 64\n",
      "\u001b[34m\u001b[1mwandb\u001b[0m: \tlearning_rate: 0.001\n",
      "\u001b[34m\u001b[1mwandb\u001b[0m: \toptimizer: sgd\n",
      "\u001b[34m\u001b[1mwandb\u001b[0m: \tweight_decay: 0\n",
      "\u001b[34m\u001b[1mwandb\u001b[0m: \tweight_init: random\n"
     ]
    },
    {
     "data": {
      "text/html": [
       "Ignoring project 'assignment_1' when running a sweep."
      ],
      "text/plain": [
       "<IPython.core.display.HTML object>"
      ]
     },
     "metadata": {},
     "output_type": "display_data"
    },
    {
     "data": {
      "text/html": [
       "Ignoring entity 'da24m015-iitm' when running a sweep."
      ],
      "text/plain": [
       "<IPython.core.display.HTML object>"
      ]
     },
     "metadata": {},
     "output_type": "display_data"
    },
    {
     "data": {
      "text/html": [
       "Tracking run with wandb version 0.19.7"
      ],
      "text/plain": [
       "<IPython.core.display.HTML object>"
      ]
     },
     "metadata": {},
     "output_type": "display_data"
    },
    {
     "data": {
      "text/html": [
       "Run data is saved locally in <code>c:\\Users\\Rajnish\\Desktop\\Rajnish\\M.Tech DSAI'26\\M.Tech DSAI 2024-2026\\Semester 2\\Introduction to Deep Learning\\Introduction-to-Deep-Learning-DA6401-\\Assignment 1\\wandb\\run-20250307_134742-0fwqjiwh</code>"
      ],
      "text/plain": [
       "<IPython.core.display.HTML object>"
      ]
     },
     "metadata": {},
     "output_type": "display_data"
    },
    {
     "data": {
      "text/html": [
       "Syncing run <strong><a href='https://wandb.ai/da24m015-iitm/assignment_1/runs/0fwqjiwh' target=\"_blank\">sweet-sweep-6</a></strong> to <a href='https://wandb.ai/da24m015-iitm/assignment_1' target=\"_blank\">Weights & Biases</a> (<a href='https://wandb.me/developer-guide' target=\"_blank\">docs</a>)<br>Sweep page: <a href='https://wandb.ai/da24m015-iitm/assignment_1/sweeps/a0xv57v6' target=\"_blank\">https://wandb.ai/da24m015-iitm/assignment_1/sweeps/a0xv57v6</a>"
      ],
      "text/plain": [
       "<IPython.core.display.HTML object>"
      ]
     },
     "metadata": {},
     "output_type": "display_data"
    },
    {
     "data": {
      "text/html": [
       " View project at <a href='https://wandb.ai/da24m015-iitm/assignment_1' target=\"_blank\">https://wandb.ai/da24m015-iitm/assignment_1</a>"
      ],
      "text/plain": [
       "<IPython.core.display.HTML object>"
      ]
     },
     "metadata": {},
     "output_type": "display_data"
    },
    {
     "data": {
      "text/html": [
       " View sweep at <a href='https://wandb.ai/da24m015-iitm/assignment_1/sweeps/a0xv57v6' target=\"_blank\">https://wandb.ai/da24m015-iitm/assignment_1/sweeps/a0xv57v6</a>"
      ],
      "text/plain": [
       "<IPython.core.display.HTML object>"
      ]
     },
     "metadata": {},
     "output_type": "display_data"
    },
    {
     "data": {
      "text/html": [
       " View run at <a href='https://wandb.ai/da24m015-iitm/assignment_1/runs/0fwqjiwh' target=\"_blank\">https://wandb.ai/da24m015-iitm/assignment_1/runs/0fwqjiwh</a>"
      ],
      "text/plain": [
       "<IPython.core.display.HTML object>"
      ]
     },
     "metadata": {},
     "output_type": "display_data"
    },
    {
     "data": {
      "text/html": [],
      "text/plain": [
       "<IPython.core.display.HTML object>"
      ]
     },
     "metadata": {},
     "output_type": "display_data"
    },
    {
     "data": {
      "text/html": [
       "<br>    <style><br>        .wandb-row {<br>            display: flex;<br>            flex-direction: row;<br>            flex-wrap: wrap;<br>            justify-content: flex-start;<br>            width: 100%;<br>        }<br>        .wandb-col {<br>            display: flex;<br>            flex-direction: column;<br>            flex-basis: 100%;<br>            flex: 1;<br>            padding: 10px;<br>        }<br>    </style><br><div class=\"wandb-row\"><div class=\"wandb-col\"><h3>Run history:</h3><br/><table class=\"wandb\"><tr><td>accuracy</td><td>▁▄▆▇▇██▇██</td></tr><tr><td>epoch</td><td>▁▂▃▃▄▅▆▆▇█</td></tr><tr><td>loss</td><td>█▇▆▅▄▄▃▃▂▁</td></tr><tr><td>val_accuracy</td><td>▁▄▄▅▆▇▇▇██</td></tr><tr><td>val_loss</td><td>█▇▆▅▅▄▃▃▂▁</td></tr></table><br/></div><div class=\"wandb-col\"><h3>Run summary:</h3><br/><table class=\"wandb\"><tr><td>accuracy</td><td>0.30757</td></tr><tr><td>epoch</td><td>10</td></tr><tr><td>loss</td><td>2.3004</td></tr><tr><td>val_accuracy</td><td>0.31317</td></tr><tr><td>val_loss</td><td>2.30034</td></tr></table><br/></div></div>"
      ],
      "text/plain": [
       "<IPython.core.display.HTML object>"
      ]
     },
     "metadata": {},
     "output_type": "display_data"
    },
    {
     "data": {
      "text/html": [
       " View run <strong style=\"color:#cdcd00\">hl_5_bs_64_ac_relu</strong> at: <a href='https://wandb.ai/da24m015-iitm/assignment_1/runs/0fwqjiwh' target=\"_blank\">https://wandb.ai/da24m015-iitm/assignment_1/runs/0fwqjiwh</a><br> View project at: <a href='https://wandb.ai/da24m015-iitm/assignment_1' target=\"_blank\">https://wandb.ai/da24m015-iitm/assignment_1</a><br>Synced 5 W&B file(s), 0 media file(s), 0 artifact file(s) and 0 other file(s)"
      ],
      "text/plain": [
       "<IPython.core.display.HTML object>"
      ]
     },
     "metadata": {},
     "output_type": "display_data"
    },
    {
     "data": {
      "text/html": [
       "Find logs at: <code>.\\wandb\\run-20250307_134742-0fwqjiwh\\logs</code>"
      ],
      "text/plain": [
       "<IPython.core.display.HTML object>"
      ]
     },
     "metadata": {},
     "output_type": "display_data"
    },
    {
     "name": "stderr",
     "output_type": "stream",
     "text": [
      "\u001b[34m\u001b[1mwandb\u001b[0m: Agent Starting Run: b927rsz3 with config:\n",
      "\u001b[34m\u001b[1mwandb\u001b[0m: \tactivation: tanh\n",
      "\u001b[34m\u001b[1mwandb\u001b[0m: \tbatch_size: 64\n",
      "\u001b[34m\u001b[1mwandb\u001b[0m: \tepochs: 5\n",
      "\u001b[34m\u001b[1mwandb\u001b[0m: \thidden_layers: 3\n",
      "\u001b[34m\u001b[1mwandb\u001b[0m: \thidden_size: 64\n",
      "\u001b[34m\u001b[1mwandb\u001b[0m: \tlearning_rate: 0.001\n",
      "\u001b[34m\u001b[1mwandb\u001b[0m: \toptimizer: adam\n",
      "\u001b[34m\u001b[1mwandb\u001b[0m: \tweight_decay: 0\n",
      "\u001b[34m\u001b[1mwandb\u001b[0m: \tweight_init: xavier\n"
     ]
    },
    {
     "data": {
      "text/html": [
       "Ignoring project 'assignment_1' when running a sweep."
      ],
      "text/plain": [
       "<IPython.core.display.HTML object>"
      ]
     },
     "metadata": {},
     "output_type": "display_data"
    },
    {
     "data": {
      "text/html": [
       "Ignoring entity 'da24m015-iitm' when running a sweep."
      ],
      "text/plain": [
       "<IPython.core.display.HTML object>"
      ]
     },
     "metadata": {},
     "output_type": "display_data"
    },
    {
     "data": {
      "text/html": [
       "Tracking run with wandb version 0.19.7"
      ],
      "text/plain": [
       "<IPython.core.display.HTML object>"
      ]
     },
     "metadata": {},
     "output_type": "display_data"
    },
    {
     "data": {
      "text/html": [
       "Run data is saved locally in <code>c:\\Users\\Rajnish\\Desktop\\Rajnish\\M.Tech DSAI'26\\M.Tech DSAI 2024-2026\\Semester 2\\Introduction to Deep Learning\\Introduction-to-Deep-Learning-DA6401-\\Assignment 1\\wandb\\run-20250307_134831-b927rsz3</code>"
      ],
      "text/plain": [
       "<IPython.core.display.HTML object>"
      ]
     },
     "metadata": {},
     "output_type": "display_data"
    },
    {
     "data": {
      "text/html": [
       "Syncing run <strong><a href='https://wandb.ai/da24m015-iitm/assignment_1/runs/b927rsz3' target=\"_blank\">amber-sweep-7</a></strong> to <a href='https://wandb.ai/da24m015-iitm/assignment_1' target=\"_blank\">Weights & Biases</a> (<a href='https://wandb.me/developer-guide' target=\"_blank\">docs</a>)<br>Sweep page: <a href='https://wandb.ai/da24m015-iitm/assignment_1/sweeps/a0xv57v6' target=\"_blank\">https://wandb.ai/da24m015-iitm/assignment_1/sweeps/a0xv57v6</a>"
      ],
      "text/plain": [
       "<IPython.core.display.HTML object>"
      ]
     },
     "metadata": {},
     "output_type": "display_data"
    },
    {
     "data": {
      "text/html": [
       " View project at <a href='https://wandb.ai/da24m015-iitm/assignment_1' target=\"_blank\">https://wandb.ai/da24m015-iitm/assignment_1</a>"
      ],
      "text/plain": [
       "<IPython.core.display.HTML object>"
      ]
     },
     "metadata": {},
     "output_type": "display_data"
    },
    {
     "data": {
      "text/html": [
       " View sweep at <a href='https://wandb.ai/da24m015-iitm/assignment_1/sweeps/a0xv57v6' target=\"_blank\">https://wandb.ai/da24m015-iitm/assignment_1/sweeps/a0xv57v6</a>"
      ],
      "text/plain": [
       "<IPython.core.display.HTML object>"
      ]
     },
     "metadata": {},
     "output_type": "display_data"
    },
    {
     "data": {
      "text/html": [
       " View run at <a href='https://wandb.ai/da24m015-iitm/assignment_1/runs/b927rsz3' target=\"_blank\">https://wandb.ai/da24m015-iitm/assignment_1/runs/b927rsz3</a>"
      ],
      "text/plain": [
       "<IPython.core.display.HTML object>"
      ]
     },
     "metadata": {},
     "output_type": "display_data"
    },
    {
     "data": {
      "text/html": [],
      "text/plain": [
       "<IPython.core.display.HTML object>"
      ]
     },
     "metadata": {},
     "output_type": "display_data"
    },
    {
     "data": {
      "text/html": [
       "<br>    <style><br>        .wandb-row {<br>            display: flex;<br>            flex-direction: row;<br>            flex-wrap: wrap;<br>            justify-content: flex-start;<br>            width: 100%;<br>        }<br>        .wandb-col {<br>            display: flex;<br>            flex-direction: column;<br>            flex-basis: 100%;<br>            flex: 1;<br>            padding: 10px;<br>        }<br>    </style><br><div class=\"wandb-row\"><div class=\"wandb-col\"><h3>Run history:</h3><br/><table class=\"wandb\"><tr><td>accuracy</td><td>▁▆▇▇█</td></tr><tr><td>epoch</td><td>▁▃▅▆█</td></tr><tr><td>loss</td><td>█▃▂▂▁</td></tr><tr><td>val_accuracy</td><td>▁▄█▇█</td></tr><tr><td>val_loss</td><td>█▅▂▂▁</td></tr></table><br/></div><div class=\"wandb-col\"><h3>Run summary:</h3><br/><table class=\"wandb\"><tr><td>accuracy</td><td>0.88772</td></tr><tr><td>epoch</td><td>5</td></tr><tr><td>loss</td><td>0.30301</td></tr><tr><td>val_accuracy</td><td>0.88033</td></tr><tr><td>val_loss</td><td>0.32564</td></tr></table><br/></div></div>"
      ],
      "text/plain": [
       "<IPython.core.display.HTML object>"
      ]
     },
     "metadata": {},
     "output_type": "display_data"
    },
    {
     "data": {
      "text/html": [
       " View run <strong style=\"color:#cdcd00\">hl_3_bs_64_ac_tanh</strong> at: <a href='https://wandb.ai/da24m015-iitm/assignment_1/runs/b927rsz3' target=\"_blank\">https://wandb.ai/da24m015-iitm/assignment_1/runs/b927rsz3</a><br> View project at: <a href='https://wandb.ai/da24m015-iitm/assignment_1' target=\"_blank\">https://wandb.ai/da24m015-iitm/assignment_1</a><br>Synced 5 W&B file(s), 0 media file(s), 0 artifact file(s) and 0 other file(s)"
      ],
      "text/plain": [
       "<IPython.core.display.HTML object>"
      ]
     },
     "metadata": {},
     "output_type": "display_data"
    },
    {
     "data": {
      "text/html": [
       "Find logs at: <code>.\\wandb\\run-20250307_134831-b927rsz3\\logs</code>"
      ],
      "text/plain": [
       "<IPython.core.display.HTML object>"
      ]
     },
     "metadata": {},
     "output_type": "display_data"
    },
    {
     "name": "stderr",
     "output_type": "stream",
     "text": [
      "\u001b[34m\u001b[1mwandb\u001b[0m: Agent Starting Run: 9pqfx3rf with config:\n",
      "\u001b[34m\u001b[1mwandb\u001b[0m: \tactivation: tanh\n",
      "\u001b[34m\u001b[1mwandb\u001b[0m: \tbatch_size: 32\n",
      "\u001b[34m\u001b[1mwandb\u001b[0m: \tepochs: 10\n",
      "\u001b[34m\u001b[1mwandb\u001b[0m: \thidden_layers: 5\n",
      "\u001b[34m\u001b[1mwandb\u001b[0m: \thidden_size: 32\n",
      "\u001b[34m\u001b[1mwandb\u001b[0m: \tlearning_rate: 0.0001\n",
      "\u001b[34m\u001b[1mwandb\u001b[0m: \toptimizer: nadam\n",
      "\u001b[34m\u001b[1mwandb\u001b[0m: \tweight_decay: 0\n",
      "\u001b[34m\u001b[1mwandb\u001b[0m: \tweight_init: random\n"
     ]
    },
    {
     "data": {
      "text/html": [
       "Ignoring project 'assignment_1' when running a sweep."
      ],
      "text/plain": [
       "<IPython.core.display.HTML object>"
      ]
     },
     "metadata": {},
     "output_type": "display_data"
    },
    {
     "data": {
      "text/html": [
       "Ignoring entity 'da24m015-iitm' when running a sweep."
      ],
      "text/plain": [
       "<IPython.core.display.HTML object>"
      ]
     },
     "metadata": {},
     "output_type": "display_data"
    },
    {
     "data": {
      "text/html": [
       "Tracking run with wandb version 0.19.7"
      ],
      "text/plain": [
       "<IPython.core.display.HTML object>"
      ]
     },
     "metadata": {},
     "output_type": "display_data"
    },
    {
     "data": {
      "text/html": [
       "Run data is saved locally in <code>c:\\Users\\Rajnish\\Desktop\\Rajnish\\M.Tech DSAI'26\\M.Tech DSAI 2024-2026\\Semester 2\\Introduction to Deep Learning\\Introduction-to-Deep-Learning-DA6401-\\Assignment 1\\wandb\\run-20250307_134909-9pqfx3rf</code>"
      ],
      "text/plain": [
       "<IPython.core.display.HTML object>"
      ]
     },
     "metadata": {},
     "output_type": "display_data"
    },
    {
     "data": {
      "text/html": [
       "Syncing run <strong><a href='https://wandb.ai/da24m015-iitm/assignment_1/runs/9pqfx3rf' target=\"_blank\">apricot-sweep-8</a></strong> to <a href='https://wandb.ai/da24m015-iitm/assignment_1' target=\"_blank\">Weights & Biases</a> (<a href='https://wandb.me/developer-guide' target=\"_blank\">docs</a>)<br>Sweep page: <a href='https://wandb.ai/da24m015-iitm/assignment_1/sweeps/a0xv57v6' target=\"_blank\">https://wandb.ai/da24m015-iitm/assignment_1/sweeps/a0xv57v6</a>"
      ],
      "text/plain": [
       "<IPython.core.display.HTML object>"
      ]
     },
     "metadata": {},
     "output_type": "display_data"
    },
    {
     "data": {
      "text/html": [
       " View project at <a href='https://wandb.ai/da24m015-iitm/assignment_1' target=\"_blank\">https://wandb.ai/da24m015-iitm/assignment_1</a>"
      ],
      "text/plain": [
       "<IPython.core.display.HTML object>"
      ]
     },
     "metadata": {},
     "output_type": "display_data"
    },
    {
     "data": {
      "text/html": [
       " View sweep at <a href='https://wandb.ai/da24m015-iitm/assignment_1/sweeps/a0xv57v6' target=\"_blank\">https://wandb.ai/da24m015-iitm/assignment_1/sweeps/a0xv57v6</a>"
      ],
      "text/plain": [
       "<IPython.core.display.HTML object>"
      ]
     },
     "metadata": {},
     "output_type": "display_data"
    },
    {
     "data": {
      "text/html": [
       " View run at <a href='https://wandb.ai/da24m015-iitm/assignment_1/runs/9pqfx3rf' target=\"_blank\">https://wandb.ai/da24m015-iitm/assignment_1/runs/9pqfx3rf</a>"
      ],
      "text/plain": [
       "<IPython.core.display.HTML object>"
      ]
     },
     "metadata": {},
     "output_type": "display_data"
    },
    {
     "data": {
      "text/html": [],
      "text/plain": [
       "<IPython.core.display.HTML object>"
      ]
     },
     "metadata": {},
     "output_type": "display_data"
    },
    {
     "data": {
      "text/html": [
       "<br>    <style><br>        .wandb-row {<br>            display: flex;<br>            flex-direction: row;<br>            flex-wrap: wrap;<br>            justify-content: flex-start;<br>            width: 100%;<br>        }<br>        .wandb-col {<br>            display: flex;<br>            flex-direction: column;<br>            flex-basis: 100%;<br>            flex: 1;<br>            padding: 10px;<br>        }<br>    </style><br><div class=\"wandb-row\"><div class=\"wandb-col\"><h3>Run history:</h3><br/><table class=\"wandb\"><tr><td>accuracy</td><td>▁▃▄▅▅▆▇▇██</td></tr><tr><td>epoch</td><td>▁▂▃▃▄▅▆▆▇█</td></tr><tr><td>loss</td><td>█▆▄▄▃▃▂▂▁▁</td></tr><tr><td>val_accuracy</td><td>▁▃▄▄▆▆▇▇▇█</td></tr><tr><td>val_loss</td><td>█▅▄▄▃▃▂▂▁▁</td></tr></table><br/></div><div class=\"wandb-col\"><h3>Run summary:</h3><br/><table class=\"wandb\"><tr><td>accuracy</td><td>0.76154</td></tr><tr><td>epoch</td><td>10</td></tr><tr><td>loss</td><td>0.66692</td></tr><tr><td>val_accuracy</td><td>0.78517</td></tr><tr><td>val_loss</td><td>0.65476</td></tr></table><br/></div></div>"
      ],
      "text/plain": [
       "<IPython.core.display.HTML object>"
      ]
     },
     "metadata": {},
     "output_type": "display_data"
    },
    {
     "data": {
      "text/html": [
       " View run <strong style=\"color:#cdcd00\">hl_5_bs_32_ac_tanh</strong> at: <a href='https://wandb.ai/da24m015-iitm/assignment_1/runs/9pqfx3rf' target=\"_blank\">https://wandb.ai/da24m015-iitm/assignment_1/runs/9pqfx3rf</a><br> View project at: <a href='https://wandb.ai/da24m015-iitm/assignment_1' target=\"_blank\">https://wandb.ai/da24m015-iitm/assignment_1</a><br>Synced 5 W&B file(s), 0 media file(s), 0 artifact file(s) and 0 other file(s)"
      ],
      "text/plain": [
       "<IPython.core.display.HTML object>"
      ]
     },
     "metadata": {},
     "output_type": "display_data"
    },
    {
     "data": {
      "text/html": [
       "Find logs at: <code>.\\wandb\\run-20250307_134909-9pqfx3rf\\logs</code>"
      ],
      "text/plain": [
       "<IPython.core.display.HTML object>"
      ]
     },
     "metadata": {},
     "output_type": "display_data"
    },
    {
     "name": "stderr",
     "output_type": "stream",
     "text": [
      "\u001b[34m\u001b[1mwandb\u001b[0m: Agent Starting Run: myx6g4ex with config:\n",
      "\u001b[34m\u001b[1mwandb\u001b[0m: \tactivation: tanh\n",
      "\u001b[34m\u001b[1mwandb\u001b[0m: \tbatch_size: 16\n",
      "\u001b[34m\u001b[1mwandb\u001b[0m: \tepochs: 10\n",
      "\u001b[34m\u001b[1mwandb\u001b[0m: \thidden_layers: 4\n",
      "\u001b[34m\u001b[1mwandb\u001b[0m: \thidden_size: 32\n",
      "\u001b[34m\u001b[1mwandb\u001b[0m: \tlearning_rate: 0.001\n",
      "\u001b[34m\u001b[1mwandb\u001b[0m: \toptimizer: nesterov\n",
      "\u001b[34m\u001b[1mwandb\u001b[0m: \tweight_decay: 0.5\n",
      "\u001b[34m\u001b[1mwandb\u001b[0m: \tweight_init: xavier\n"
     ]
    },
    {
     "data": {
      "text/html": [
       "Ignoring project 'assignment_1' when running a sweep."
      ],
      "text/plain": [
       "<IPython.core.display.HTML object>"
      ]
     },
     "metadata": {},
     "output_type": "display_data"
    },
    {
     "data": {
      "text/html": [
       "Ignoring entity 'da24m015-iitm' when running a sweep."
      ],
      "text/plain": [
       "<IPython.core.display.HTML object>"
      ]
     },
     "metadata": {},
     "output_type": "display_data"
    },
    {
     "data": {
      "text/html": [
       "Tracking run with wandb version 0.19.7"
      ],
      "text/plain": [
       "<IPython.core.display.HTML object>"
      ]
     },
     "metadata": {},
     "output_type": "display_data"
    },
    {
     "data": {
      "text/html": [
       "Run data is saved locally in <code>c:\\Users\\Rajnish\\Desktop\\Rajnish\\M.Tech DSAI'26\\M.Tech DSAI 2024-2026\\Semester 2\\Introduction to Deep Learning\\Introduction-to-Deep-Learning-DA6401-\\Assignment 1\\wandb\\run-20250307_135018-myx6g4ex</code>"
      ],
      "text/plain": [
       "<IPython.core.display.HTML object>"
      ]
     },
     "metadata": {},
     "output_type": "display_data"
    },
    {
     "data": {
      "text/html": [
       "Syncing run <strong><a href='https://wandb.ai/da24m015-iitm/assignment_1/runs/myx6g4ex' target=\"_blank\">volcanic-sweep-9</a></strong> to <a href='https://wandb.ai/da24m015-iitm/assignment_1' target=\"_blank\">Weights & Biases</a> (<a href='https://wandb.me/developer-guide' target=\"_blank\">docs</a>)<br>Sweep page: <a href='https://wandb.ai/da24m015-iitm/assignment_1/sweeps/a0xv57v6' target=\"_blank\">https://wandb.ai/da24m015-iitm/assignment_1/sweeps/a0xv57v6</a>"
      ],
      "text/plain": [
       "<IPython.core.display.HTML object>"
      ]
     },
     "metadata": {},
     "output_type": "display_data"
    },
    {
     "data": {
      "text/html": [
       " View project at <a href='https://wandb.ai/da24m015-iitm/assignment_1' target=\"_blank\">https://wandb.ai/da24m015-iitm/assignment_1</a>"
      ],
      "text/plain": [
       "<IPython.core.display.HTML object>"
      ]
     },
     "metadata": {},
     "output_type": "display_data"
    },
    {
     "data": {
      "text/html": [
       " View sweep at <a href='https://wandb.ai/da24m015-iitm/assignment_1/sweeps/a0xv57v6' target=\"_blank\">https://wandb.ai/da24m015-iitm/assignment_1/sweeps/a0xv57v6</a>"
      ],
      "text/plain": [
       "<IPython.core.display.HTML object>"
      ]
     },
     "metadata": {},
     "output_type": "display_data"
    },
    {
     "data": {
      "text/html": [
       " View run at <a href='https://wandb.ai/da24m015-iitm/assignment_1/runs/myx6g4ex' target=\"_blank\">https://wandb.ai/da24m015-iitm/assignment_1/runs/myx6g4ex</a>"
      ],
      "text/plain": [
       "<IPython.core.display.HTML object>"
      ]
     },
     "metadata": {},
     "output_type": "display_data"
    },
    {
     "data": {
      "text/html": [],
      "text/plain": [
       "<IPython.core.display.HTML object>"
      ]
     },
     "metadata": {},
     "output_type": "display_data"
    },
    {
     "data": {
      "text/html": [
       "<br>    <style><br>        .wandb-row {<br>            display: flex;<br>            flex-direction: row;<br>            flex-wrap: wrap;<br>            justify-content: flex-start;<br>            width: 100%;<br>        }<br>        .wandb-col {<br>            display: flex;<br>            flex-direction: column;<br>            flex-basis: 100%;<br>            flex: 1;<br>            padding: 10px;<br>        }<br>    </style><br><div class=\"wandb-row\"><div class=\"wandb-col\"><h3>Run history:</h3><br/><table class=\"wandb\"><tr><td>accuracy</td><td>█▂▂▂▂▃▂▃▂▁</td></tr><tr><td>epoch</td><td>▁▂▃▃▄▅▆▆▇█</td></tr><tr><td>loss</td><td>█▁▁▁▁▁▁▁▁▁</td></tr><tr><td>val_accuracy</td><td>▃▄▁██▇▃▅▅▄</td></tr><tr><td>val_loss</td><td>▄█▅▃▄▂▄▁▅▄</td></tr></table><br/></div><div class=\"wandb-col\"><h3>Run summary:</h3><br/><table class=\"wandb\"><tr><td>accuracy</td><td>0.09715</td></tr><tr><td>epoch</td><td>10</td></tr><tr><td>loss</td><td>2.30296</td></tr><tr><td>val_accuracy</td><td>0.0985</td></tr><tr><td>val_loss</td><td>2.30292</td></tr></table><br/></div></div>"
      ],
      "text/plain": [
       "<IPython.core.display.HTML object>"
      ]
     },
     "metadata": {},
     "output_type": "display_data"
    },
    {
     "data": {
      "text/html": [
       " View run <strong style=\"color:#cdcd00\">hl_4_bs_16_ac_tanh</strong> at: <a href='https://wandb.ai/da24m015-iitm/assignment_1/runs/myx6g4ex' target=\"_blank\">https://wandb.ai/da24m015-iitm/assignment_1/runs/myx6g4ex</a><br> View project at: <a href='https://wandb.ai/da24m015-iitm/assignment_1' target=\"_blank\">https://wandb.ai/da24m015-iitm/assignment_1</a><br>Synced 5 W&B file(s), 0 media file(s), 0 artifact file(s) and 0 other file(s)"
      ],
      "text/plain": [
       "<IPython.core.display.HTML object>"
      ]
     },
     "metadata": {},
     "output_type": "display_data"
    },
    {
     "data": {
      "text/html": [
       "Find logs at: <code>.\\wandb\\run-20250307_135018-myx6g4ex\\logs</code>"
      ],
      "text/plain": [
       "<IPython.core.display.HTML object>"
      ]
     },
     "metadata": {},
     "output_type": "display_data"
    },
    {
     "name": "stderr",
     "output_type": "stream",
     "text": [
      "\u001b[34m\u001b[1mwandb\u001b[0m: Agent Starting Run: 5jbu86b0 with config:\n",
      "\u001b[34m\u001b[1mwandb\u001b[0m: \tactivation: sigmoid\n",
      "\u001b[34m\u001b[1mwandb\u001b[0m: \tbatch_size: 64\n",
      "\u001b[34m\u001b[1mwandb\u001b[0m: \tepochs: 5\n",
      "\u001b[34m\u001b[1mwandb\u001b[0m: \thidden_layers: 4\n",
      "\u001b[34m\u001b[1mwandb\u001b[0m: \thidden_size: 32\n",
      "\u001b[34m\u001b[1mwandb\u001b[0m: \tlearning_rate: 0.001\n",
      "\u001b[34m\u001b[1mwandb\u001b[0m: \toptimizer: sgd\n",
      "\u001b[34m\u001b[1mwandb\u001b[0m: \tweight_decay: 0.5\n",
      "\u001b[34m\u001b[1mwandb\u001b[0m: \tweight_init: xavier\n"
     ]
    },
    {
     "data": {
      "text/html": [
       "Ignoring project 'assignment_1' when running a sweep."
      ],
      "text/plain": [
       "<IPython.core.display.HTML object>"
      ]
     },
     "metadata": {},
     "output_type": "display_data"
    },
    {
     "data": {
      "text/html": [
       "Ignoring entity 'da24m015-iitm' when running a sweep."
      ],
      "text/plain": [
       "<IPython.core.display.HTML object>"
      ]
     },
     "metadata": {},
     "output_type": "display_data"
    },
    {
     "data": {
      "text/html": [
       "Tracking run with wandb version 0.19.7"
      ],
      "text/plain": [
       "<IPython.core.display.HTML object>"
      ]
     },
     "metadata": {},
     "output_type": "display_data"
    },
    {
     "data": {
      "text/html": [
       "Run data is saved locally in <code>c:\\Users\\Rajnish\\Desktop\\Rajnish\\M.Tech DSAI'26\\M.Tech DSAI 2024-2026\\Semester 2\\Introduction to Deep Learning\\Introduction-to-Deep-Learning-DA6401-\\Assignment 1\\wandb\\run-20250307_135133-5jbu86b0</code>"
      ],
      "text/plain": [
       "<IPython.core.display.HTML object>"
      ]
     },
     "metadata": {},
     "output_type": "display_data"
    },
    {
     "data": {
      "text/html": [
       "Syncing run <strong><a href='https://wandb.ai/da24m015-iitm/assignment_1/runs/5jbu86b0' target=\"_blank\">stellar-sweep-10</a></strong> to <a href='https://wandb.ai/da24m015-iitm/assignment_1' target=\"_blank\">Weights & Biases</a> (<a href='https://wandb.me/developer-guide' target=\"_blank\">docs</a>)<br>Sweep page: <a href='https://wandb.ai/da24m015-iitm/assignment_1/sweeps/a0xv57v6' target=\"_blank\">https://wandb.ai/da24m015-iitm/assignment_1/sweeps/a0xv57v6</a>"
      ],
      "text/plain": [
       "<IPython.core.display.HTML object>"
      ]
     },
     "metadata": {},
     "output_type": "display_data"
    },
    {
     "data": {
      "text/html": [
       " View project at <a href='https://wandb.ai/da24m015-iitm/assignment_1' target=\"_blank\">https://wandb.ai/da24m015-iitm/assignment_1</a>"
      ],
      "text/plain": [
       "<IPython.core.display.HTML object>"
      ]
     },
     "metadata": {},
     "output_type": "display_data"
    },
    {
     "data": {
      "text/html": [
       " View sweep at <a href='https://wandb.ai/da24m015-iitm/assignment_1/sweeps/a0xv57v6' target=\"_blank\">https://wandb.ai/da24m015-iitm/assignment_1/sweeps/a0xv57v6</a>"
      ],
      "text/plain": [
       "<IPython.core.display.HTML object>"
      ]
     },
     "metadata": {},
     "output_type": "display_data"
    },
    {
     "data": {
      "text/html": [
       " View run at <a href='https://wandb.ai/da24m015-iitm/assignment_1/runs/5jbu86b0' target=\"_blank\">https://wandb.ai/da24m015-iitm/assignment_1/runs/5jbu86b0</a>"
      ],
      "text/plain": [
       "<IPython.core.display.HTML object>"
      ]
     },
     "metadata": {},
     "output_type": "display_data"
    },
    {
     "data": {
      "text/html": [],
      "text/plain": [
       "<IPython.core.display.HTML object>"
      ]
     },
     "metadata": {},
     "output_type": "display_data"
    },
    {
     "data": {
      "text/html": [
       "<br>    <style><br>        .wandb-row {<br>            display: flex;<br>            flex-direction: row;<br>            flex-wrap: wrap;<br>            justify-content: flex-start;<br>            width: 100%;<br>        }<br>        .wandb-col {<br>            display: flex;<br>            flex-direction: column;<br>            flex-basis: 100%;<br>            flex: 1;<br>            padding: 10px;<br>        }<br>    </style><br><div class=\"wandb-row\"><div class=\"wandb-col\"><h3>Run history:</h3><br/><table class=\"wandb\"><tr><td>accuracy</td><td>▄▆▁▁█</td></tr><tr><td>epoch</td><td>▁▃▅▆█</td></tr><tr><td>loss</td><td>█▄▂▁▁</td></tr><tr><td>val_accuracy</td><td>█▃▃▁▁</td></tr><tr><td>val_loss</td><td>█▄▂▁▁</td></tr></table><br/></div><div class=\"wandb-col\"><h3>Run summary:</h3><br/><table class=\"wandb\"><tr><td>accuracy</td><td>0.10044</td></tr><tr><td>epoch</td><td>5</td></tr><tr><td>loss</td><td>3.26862</td></tr><tr><td>val_accuracy</td><td>0.09417</td></tr><tr><td>val_loss</td><td>2.9177</td></tr></table><br/></div></div>"
      ],
      "text/plain": [
       "<IPython.core.display.HTML object>"
      ]
     },
     "metadata": {},
     "output_type": "display_data"
    },
    {
     "data": {
      "text/html": [
       " View run <strong style=\"color:#cdcd00\">hl_4_bs_64_ac_sigmoid</strong> at: <a href='https://wandb.ai/da24m015-iitm/assignment_1/runs/5jbu86b0' target=\"_blank\">https://wandb.ai/da24m015-iitm/assignment_1/runs/5jbu86b0</a><br> View project at: <a href='https://wandb.ai/da24m015-iitm/assignment_1' target=\"_blank\">https://wandb.ai/da24m015-iitm/assignment_1</a><br>Synced 5 W&B file(s), 0 media file(s), 0 artifact file(s) and 0 other file(s)"
      ],
      "text/plain": [
       "<IPython.core.display.HTML object>"
      ]
     },
     "metadata": {},
     "output_type": "display_data"
    },
    {
     "data": {
      "text/html": [
       "Find logs at: <code>.\\wandb\\run-20250307_135133-5jbu86b0\\logs</code>"
      ],
      "text/plain": [
       "<IPython.core.display.HTML object>"
      ]
     },
     "metadata": {},
     "output_type": "display_data"
    },
    {
     "name": "stderr",
     "output_type": "stream",
     "text": [
      "\u001b[34m\u001b[1mwandb\u001b[0m: Sweep Agent: Waiting for job.\n",
      "\u001b[34m\u001b[1mwandb\u001b[0m: Sweep Agent: Exiting.\n"
     ]
    }
   ],
   "source": [
    "# run correctly till question 6\n",
    "# import pandas as pd\n",
    "import numpy as np\n",
    "from keras.datasets import fashion_mnist\n",
    "import wandb\n",
    "\n",
    "# Define the sweep configuration\n",
    "sweep_config = {\n",
    "    'method': 'random',\n",
    "    'metric': {'name': 'accuracy', 'goal': 'maximize'},\n",
    "    'parameters': {\n",
    "        'learning_rate': {'values': [1e-3, 1e-4]},\n",
    "        'batch_size': {'values': [16, 32, 64]},\n",
    "        'epochs': {'values': [5, 10]},\n",
    "        'hidden_layers': {'values': [3, 4, 5]},\n",
    "        'hidden_size': {'values': [32, 64, 128]},\n",
    "        'activation': {'values': ['relu', 'sigmoid', 'tanh']},\n",
    "        'optimizer': {'values': ['sgd', 'momentum', 'nesterov', 'rmsprop', 'adam', 'nadam']},\n",
    "        'weight_init': {'values': ['random', 'xavier']},\n",
    "        'weight_decay': {\"values\": [0, 0.0005, 0.5]}\n",
    "    },\n",
    "    \"run_cap\": 10\n",
    "}\n",
    "\n",
    "# Load and preprocess the Fashion-MNIST dataset\n",
    "(x_train, y_train), (x_test, y_test) = fashion_mnist.load_data()\n",
    "x_train, x_test = x_train / 255.0, x_test / 255.0\n",
    "x_train, x_test = x_train.reshape(x_train.shape[0], -1), x_test.reshape(x_test.shape[0], -1)\n",
    "num_classes = 10\n",
    "\n",
    "# One-hot encode the labels\n",
    "def one_hot_encode(y, num_classes):\n",
    "    encoded = np.zeros((y.size, num_classes))\n",
    "    encoded[np.arange(y.size), y] = 1\n",
    "    return encoded\n",
    "\n",
    "y_train, y_test = one_hot_encode(y_train, num_classes), one_hot_encode(y_test, num_classes)\n",
    "\n",
    "# Split training data into train and validation sets\n",
    "split_idx = int(0.9 * len(x_train))\n",
    "x_train, x_val = x_train[:split_idx], x_train[split_idx:]\n",
    "y_train, y_val = y_train[:split_idx], y_train[split_idx:]\n",
    "\n",
    "# Activation Functions\n",
    "def relu(Z):\n",
    "    return np.maximum(0, Z)\n",
    "\n",
    "def sigmoid(Z):\n",
    "    Z = np.clip(Z, -500, 500)\n",
    "    return 1 / (1 + np.exp(-Z))\n",
    "\n",
    "def tanh(Z):\n",
    "    return np.tanh(Z)\n",
    "\n",
    "def softmax(Z):\n",
    "    expZ = np.exp(Z - np.max(Z, axis=1, keepdims=True))\n",
    "    return expZ / np.sum(expZ, axis=1, keepdims=True)\n",
    "\n",
    "activation_functions = {\"relu\": relu, \"sigmoid\": sigmoid, \"tanh\": tanh}\n",
    "\n",
    "# Optimizer functions\n",
    "def sgd(weights, biases, grads_W, grads_b, learning_rate):\n",
    "    for i in range(len(weights)):\n",
    "        weights[i] -= learning_rate * grads_W[i]\n",
    "        biases[i] -= learning_rate * grads_b[i]\n",
    "    return weights, biases\n",
    "\n",
    "def momentum(weights, biases, grads_W, grads_b, learning_rate, velocity_W, velocity_b, momentum=0.9):\n",
    "    for i in range(len(weights)):\n",
    "        velocity_W[i] = momentum * velocity_W[i] - learning_rate * grads_W[i]\n",
    "        velocity_b[i] = momentum * velocity_b[i] - learning_rate * grads_b[i]\n",
    "\n",
    "        weights[i] += velocity_W[i]\n",
    "        biases[i] += velocity_b[i]\n",
    "    return weights, biases, velocity_W, velocity_b\n",
    "\n",
    "def nesterov(weights, biases, grads_W, grads_b, learning_rate, velocity_W, velocity_b, momentum=0.9):\n",
    "    for i in range(len(weights)):\n",
    "        # Compute lookahead position\n",
    "        lookahead_W = weights[i] + momentum * velocity_W[i]\n",
    "        lookahead_b = biases[i] + momentum * velocity_b[i]\n",
    "\n",
    "        # Update velocity\n",
    "        velocity_W[i] = momentum * velocity_W[i] - learning_rate * grads_W[i]\n",
    "        velocity_b[i] = momentum * velocity_b[i] - learning_rate * grads_b[i]\n",
    "\n",
    "        # Update weights and biases with corrected lookahead step\n",
    "        weights[i] = lookahead_W + velocity_W[i]\n",
    "        biases[i] = lookahead_b + velocity_b[i]\n",
    "    return weights, biases, velocity_W, velocity_b\n",
    "\n",
    "def rmsprop(weights, biases, grads_W, grads_b, learning_rate, velocity_W, velocity_b, beta=0.9, epsilon=1e-6):\n",
    "    for i in range(len(weights)):\n",
    "        # Update velocity for weights and biases separately\n",
    "        velocity_W[i] = beta * velocity_W[i] + (1 - beta) * (grads_W[i] ** 2)\n",
    "        velocity_b[i] = beta * velocity_b[i] + (1 - beta) * (grads_b[i] ** 2)\n",
    "\n",
    "        # Update weights\n",
    "        weights[i] -= learning_rate * grads_W[i] / (np.sqrt(velocity_W[i]) + epsilon)\n",
    "\n",
    "        # Update biases\n",
    "        biases[i] -= learning_rate * grads_b[i] / (np.sqrt(velocity_b[i]) + epsilon)\n",
    "    return weights, biases, velocity_W, velocity_b\n",
    "\n",
    "def adam(weights, biases, grads_W, grads_b, learning_rate, velocity_W, velocity_b, moment2_W, moment2_b, t, beta1=0.9, beta2=0.999, epsilon=1e-6):\n",
    "    for i in range(len(weights)):\n",
    "        # First moment estimate\n",
    "        velocity_W[i] = beta1 * velocity_W[i] + (1 - beta1) * grads_W[i]\n",
    "        velocity_b[i] = beta1 * velocity_b[i] + (1 - beta1) * grads_b[i]\n",
    "\n",
    "        # Second moment estimate\n",
    "        moment2_W[i] = beta2 * moment2_W[i] + (1 - beta2) * (grads_W[i] ** 2)\n",
    "        moment2_b[i] = beta2 * moment2_b[i] + (1 - beta2) * (grads_b[i] ** 2)\n",
    "\n",
    "        # Bias correction\n",
    "        velocity_W_corrected = velocity_W[i] / (1 - beta1 ** t)\n",
    "        velocity_b_corrected = velocity_b[i] / (1 - beta1 ** t)\n",
    "\n",
    "        moment2_W_corrected = moment2_W[i] / (1 - beta2 ** t)\n",
    "        moment2_b_corrected = moment2_b[i] / (1 - beta2 ** t)\n",
    "\n",
    "        # Check and correct shape mismatch\n",
    "        if moment2_b_corrected.shape != biases[i].shape:\n",
    "            print(f\"Shape mismatch at layer {i}: {moment2_b_corrected.shape} vs {biases[i].shape}\")\n",
    "            moment2_b_corrected = np.reshape(moment2_b_corrected, biases[i].shape)\n",
    "\n",
    "        # Parameter update\n",
    "        weights[i] -= learning_rate * velocity_W_corrected / (np.sqrt(moment2_W_corrected) + epsilon)\n",
    "        biases[i] -= learning_rate * velocity_b_corrected / (np.sqrt(moment2_b_corrected) + epsilon)\n",
    "    \n",
    "    return weights, biases, velocity_W, velocity_b, moment2_W, moment2_b\n",
    "\n",
    "def nadam(weights, biases, grads_W, grads_b, learning_rate, velocity_W, velocity_b, moment2_W, moment2_b, t, beta1=0.9, beta2=0.999, epsilon=1e-6):\n",
    "    for i in range(len(weights)):\n",
    "        # First moment estimate\n",
    "        velocity_W[i] = beta1 * velocity_W[i] + (1 - beta1) * grads_W[i]\n",
    "        velocity_b[i] = beta1 * velocity_b[i] + (1 - beta1) * grads_b[i]\n",
    "\n",
    "        # Second moment estimate\n",
    "        moment2_W[i] = beta2 * moment2_W[i] + (1 - beta2) * (grads_W[i] ** 2)\n",
    "        moment2_b[i] = beta2 * moment2_b[i] + (1 - beta2) * (grads_b[i] ** 2)\n",
    "\n",
    "        # Bias correction\n",
    "        velocity_W_corrected = (beta1 * velocity_W[i] + (1 - beta1) * grads_W[i]) / (1 - beta1 ** t)\n",
    "        velocity_b_corrected = (beta1 * velocity_b[i] + (1 - beta1) * grads_b[i]) / (1 - beta1 ** t)\n",
    "\n",
    "        moment2_W_corrected = moment2_W[i] / (1 - beta2 ** t)\n",
    "        moment2_b_corrected = moment2_b[i] / (1 - beta2 ** t)\n",
    "\n",
    "        # Parameter update\n",
    "        weights[i] -= learning_rate * velocity_W_corrected / (np.sqrt(moment2_W_corrected) + epsilon)\n",
    "        biases[i] -= learning_rate * velocity_b_corrected / (np.sqrt(moment2_b_corrected) + epsilon)\n",
    "    \n",
    "    return weights, biases, velocity_W, velocity_b, moment2_W, moment2_b\n",
    "\n",
    "# Initialize network weights and biases\n",
    "def init_weights(layers, method=\"random\"):\n",
    "    weights = []\n",
    "    biases = []\n",
    "    for i in range(len(layers) - 1):\n",
    "        if method == \"xavier\":\n",
    "            limit = np.sqrt(6 / (layers[i] + layers[i+1]))\n",
    "        else:  # Default to \"random\"\n",
    "            limit = 0.1\n",
    "        W = np.random.uniform(-limit, limit, (layers[i], layers[i+1]))\n",
    "        weights.append(W)\n",
    "        biases.append(np.zeros((1, layers[i+1])))\n",
    "    return weights, biases\n",
    "\n",
    "# Forward pass\n",
    "def forward(X, weights, biases, activation):\n",
    "    A = [X]\n",
    "    for i in range(len(weights) - 1):\n",
    "        Z = A[-1] @ weights[i] + biases[i]\n",
    "        A.append(activation_functions[activation](Z))\n",
    "    Z = A[-1] @ weights[-1] + biases[-1]\n",
    "    A.append(softmax(Z))\n",
    "    return A\n",
    "\n",
    "# Compute loss\n",
    "def compute_loss(y_true, y_pred, weights, weight_decay):\n",
    "    loss = -np.mean(np.sum(y_true * np.log(y_pred + 1e-8), axis=1))\n",
    "    loss += (weight_decay / 2) * sum(np.sum(W**2) for W in weights)\n",
    "    return loss\n",
    "\n",
    "# Backward pass\n",
    "def backward(X, y, A, weights, weight_decay, activation):\n",
    "    grads_W, grads_b = [], []\n",
    "    dA = A[-1] - y\n",
    "    \n",
    "    for i in reversed(range(len(weights))):\n",
    "        dW = A[i].T @ dA / X.shape[0]\n",
    "        db = np.sum(dA, axis=0, keepdims=True) / X.shape[0]\n",
    "        dW += weight_decay * weights[i]\n",
    "        grads_W.append(dW)\n",
    "        grads_b.append(db)\n",
    "        \n",
    "        if i > 0:\n",
    "            if activation == \"relu\":\n",
    "                dA = (dA @ weights[i].T) * (A[i] > 0)\n",
    "            elif activation == \"sigmoid\":\n",
    "                dA = (dA @ weights[i].T) * (A[i] * (1 - A[i]))\n",
    "            elif activation == \"tanh\":\n",
    "                dA = (dA @ weights[i].T) * (1 - A[i]**2)\n",
    "    \n",
    "    return grads_W[::-1], grads_b[::-1]\n",
    "\n",
    "# Train function\n",
    "def train(X_train, y_train, X_val, y_val, layers, learning_rate, activation, optimizer, \n",
    "          weight_init, weight_decay, epochs, batch_size, beta=0.9, beta1=0.9, beta2=0.999, epsilon=1e-6):\n",
    "    \n",
    "    # Initialize weights and biases\n",
    "    weights, biases = init_weights(layers, weight_init)\n",
    "    \n",
    "    # Initialize optimizer-specific parameters\n",
    "    velocity_W = [np.zeros_like(W) for W in weights]\n",
    "    velocity_b = [np.zeros_like(b) for b in biases]\n",
    "    moment2_W = [np.zeros_like(W) for W in weights]\n",
    "    moment2_b = [np.zeros_like(b) for b in biases]\n",
    "    t = 1  # Timestep for Adam/Nadam\n",
    "    \n",
    "    num_samples = X_train.shape[0]\n",
    "    \n",
    "    for epoch in range(epochs):\n",
    "        # Shuffle training data\n",
    "        indices = np.random.permutation(num_samples)\n",
    "        X_train_shuffled, y_train_shuffled = X_train[indices], y_train[indices]\n",
    "        \n",
    "        total_loss, total_acc = 0, 0\n",
    "        num_batches = num_samples // batch_size\n",
    "        \n",
    "        for i in range(0, num_samples, batch_size):\n",
    "            X_batch = X_train_shuffled[i:i + batch_size]\n",
    "            y_batch = y_train_shuffled[i:i + batch_size]\n",
    "            \n",
    "            # Forward Pass\n",
    "            A = forward(X_batch, weights, biases, activation)\n",
    "            y_pred = A[-1]\n",
    "            \n",
    "            # Compute Loss & Accuracy\n",
    "            loss = compute_loss(y_batch, y_pred, weights, weight_decay)\n",
    "            acc = np.mean(np.argmax(y_pred, axis=1) == np.argmax(y_batch, axis=1))\n",
    "            \n",
    "            total_loss += loss * len(X_batch)\n",
    "            total_acc += acc * len(X_batch)\n",
    "            \n",
    "            # Backward Pass\n",
    "            grads_W, grads_b = backward(X_batch, y_batch, A, weights, weight_decay, activation)\n",
    "            \n",
    "            # Update Weights using the selected optimizer\n",
    "            if optimizer == \"sgd\":\n",
    "                weights, biases = sgd(weights, biases, grads_W, grads_b, learning_rate)\n",
    "            elif optimizer == \"momentum\":\n",
    "                weights, biases, velocity_W, velocity_b = momentum(\n",
    "                    weights, biases, grads_W, grads_b, learning_rate, velocity_W, velocity_b)\n",
    "            elif optimizer == \"nesterov\":\n",
    "                weights, biases, velocity_W, velocity_b = nesterov(\n",
    "                    weights, biases, grads_W, grads_b, learning_rate, velocity_W, velocity_b)\n",
    "            elif optimizer == \"rmsprop\":\n",
    "                weights, biases, velocity_W, velocity_b = rmsprop(\n",
    "                    weights, biases, grads_W, grads_b, learning_rate, velocity_W, velocity_b, beta, epsilon)\n",
    "            elif optimizer == \"adam\":\n",
    "                weights, biases, velocity_W, velocity_b, moment2_W, moment2_b = adam(\n",
    "                    weights, biases, grads_W, grads_b, learning_rate, velocity_W, velocity_b, \n",
    "                    moment2_W, moment2_b, t, beta1, beta2, epsilon)\n",
    "                t += 1\n",
    "            elif optimizer == \"nadam\":\n",
    "                weights, biases, velocity_W, velocity_b, moment2_W, moment2_b = nadam(\n",
    "                    weights, biases, grads_W, grads_b, learning_rate, velocity_W, velocity_b, \n",
    "                    moment2_W, moment2_b, t, beta1, beta2, epsilon)\n",
    "                t += 1\n",
    "        \n",
    "        # Compute average loss and accuracy for the epoch\n",
    "        avg_loss = total_loss / num_samples\n",
    "        avg_acc = total_acc / num_samples\n",
    "        \n",
    "        # Validation Metrics\n",
    "        val_A = forward(X_val, weights, biases, activation)\n",
    "        val_pred = val_A[-1]\n",
    "        val_loss = compute_loss(y_val, val_pred, weights, weight_decay)\n",
    "        val_acc = np.mean(np.argmax(val_pred, axis=1) == np.argmax(y_val, axis=1))\n",
    "        \n",
    "        # Log to Weights & Biases\n",
    "        wandb.log({\"epoch\": epoch + 1, \"loss\": avg_loss, \"accuracy\": avg_acc,\"val_loss\": val_loss, \"val_accuracy\": val_acc\n",
    "        })\n",
    "    \n",
    "    return weights, biases\n",
    "\n",
    "# Function to run a single training job with wandb logging\n",
    "def train_model():\n",
    "    # Initialize wandb for this run\n",
    "    wandb.init(project=\"assignment_1\", entity=\"da24m015-iitm\")\n",
    "    config = wandb.config\n",
    "    wandb.run.name = f\"hl_{config.hidden_layers}_bs_{config.batch_size}_ac_{config.activation}\"\n",
    "    \n",
    "    # Create network architecture based on config\n",
    "    architecture = [784] + [config.hidden_size] * config.hidden_layers + [10]\n",
    "    \n",
    "    # Train the network\n",
    "    train(x_train, y_train, x_val, y_val, layers=architecture,learning_rate=config.learning_rate,activation=config.activation,optimizer=config.optimizer,weight_init=config.weight_init,weight_decay=config.weight_decay,epochs=config.epochs,batch_size=config.batch_size\n",
    "    )\n",
    "\n",
    "# Create the sweep\n",
    "sweep_id = wandb.sweep(sweep_config, project=\"assignment_1\")\n",
    "\n",
    "# Run the sweep\n",
    "wandb.agent(sweep_id, function=train_model)"
   ]
  },
  {
   "cell_type": "code",
   "execution_count": 1,
   "metadata": {},
   "outputs": [
    {
     "name": "stderr",
     "output_type": "stream",
     "text": [
      "\u001b[34m\u001b[1mwandb\u001b[0m: Using wandb-core as the SDK backend.  Please refer to https://wandb.me/wandb-core for more information.\n"
     ]
    },
    {
     "name": "stdout",
     "output_type": "stream",
     "text": [
      "Create sweep with ID: rsqkre3e\n",
      "Sweep URL: https://wandb.ai/da24m015-iitm/assignment_1/sweeps/rsqkre3e\n"
     ]
    },
    {
     "name": "stderr",
     "output_type": "stream",
     "text": [
      "\u001b[34m\u001b[1mwandb\u001b[0m: Agent Starting Run: atn3xy3r with config:\n",
      "\u001b[34m\u001b[1mwandb\u001b[0m: \tactivation: tanh\n",
      "\u001b[34m\u001b[1mwandb\u001b[0m: \tbatch_size: 64\n",
      "\u001b[34m\u001b[1mwandb\u001b[0m: \tepochs: 5\n",
      "\u001b[34m\u001b[1mwandb\u001b[0m: \thidden_layers: 4\n",
      "\u001b[34m\u001b[1mwandb\u001b[0m: \thidden_size: 128\n",
      "\u001b[34m\u001b[1mwandb\u001b[0m: \tlearning_rate: 0.001\n",
      "\u001b[34m\u001b[1mwandb\u001b[0m: \toptimizer: momentum\n",
      "\u001b[34m\u001b[1mwandb\u001b[0m: \tweight_decay: 0\n",
      "\u001b[34m\u001b[1mwandb\u001b[0m: \tweight_init: xavier\n",
      "\u001b[34m\u001b[1mwandb\u001b[0m: Currently logged in as: \u001b[33mda24m015\u001b[0m (\u001b[33mda24m015-iitm\u001b[0m) to \u001b[32mhttps://api.wandb.ai\u001b[0m. Use \u001b[1m`wandb login --relogin`\u001b[0m to force relogin\n"
     ]
    },
    {
     "data": {
      "text/html": [
       "Ignoring project 'assignment_1' when running a sweep."
      ],
      "text/plain": [
       "<IPython.core.display.HTML object>"
      ]
     },
     "metadata": {},
     "output_type": "display_data"
    },
    {
     "data": {
      "text/html": [
       "Ignoring entity 'da24m015-iitm' when running a sweep."
      ],
      "text/plain": [
       "<IPython.core.display.HTML object>"
      ]
     },
     "metadata": {},
     "output_type": "display_data"
    },
    {
     "data": {
      "text/html": [
       "Tracking run with wandb version 0.19.7"
      ],
      "text/plain": [
       "<IPython.core.display.HTML object>"
      ]
     },
     "metadata": {},
     "output_type": "display_data"
    },
    {
     "data": {
      "text/html": [
       "Run data is saved locally in <code>c:\\Users\\Rajnish\\Desktop\\Rajnish\\M.Tech DSAI'26\\M.Tech DSAI 2024-2026\\Semester 2\\Introduction to Deep Learning\\Introduction-to-Deep-Learning-DA6401-\\Assignment 1\\wandb\\run-20250308_154937-atn3xy3r</code>"
      ],
      "text/plain": [
       "<IPython.core.display.HTML object>"
      ]
     },
     "metadata": {},
     "output_type": "display_data"
    },
    {
     "data": {
      "text/html": [
       "Syncing run <strong><a href='https://wandb.ai/da24m015-iitm/assignment_1/runs/atn3xy3r' target=\"_blank\">zesty-sweep-1</a></strong> to <a href='https://wandb.ai/da24m015-iitm/assignment_1' target=\"_blank\">Weights & Biases</a> (<a href='https://wandb.me/developer-guide' target=\"_blank\">docs</a>)<br>Sweep page: <a href='https://wandb.ai/da24m015-iitm/assignment_1/sweeps/rsqkre3e' target=\"_blank\">https://wandb.ai/da24m015-iitm/assignment_1/sweeps/rsqkre3e</a>"
      ],
      "text/plain": [
       "<IPython.core.display.HTML object>"
      ]
     },
     "metadata": {},
     "output_type": "display_data"
    },
    {
     "data": {
      "text/html": [
       " View project at <a href='https://wandb.ai/da24m015-iitm/assignment_1' target=\"_blank\">https://wandb.ai/da24m015-iitm/assignment_1</a>"
      ],
      "text/plain": [
       "<IPython.core.display.HTML object>"
      ]
     },
     "metadata": {},
     "output_type": "display_data"
    },
    {
     "data": {
      "text/html": [
       " View sweep at <a href='https://wandb.ai/da24m015-iitm/assignment_1/sweeps/rsqkre3e' target=\"_blank\">https://wandb.ai/da24m015-iitm/assignment_1/sweeps/rsqkre3e</a>"
      ],
      "text/plain": [
       "<IPython.core.display.HTML object>"
      ]
     },
     "metadata": {},
     "output_type": "display_data"
    },
    {
     "data": {
      "text/html": [
       " View run at <a href='https://wandb.ai/da24m015-iitm/assignment_1/runs/atn3xy3r' target=\"_blank\">https://wandb.ai/da24m015-iitm/assignment_1/runs/atn3xy3r</a>"
      ],
      "text/plain": [
       "<IPython.core.display.HTML object>"
      ]
     },
     "metadata": {},
     "output_type": "display_data"
    },
    {
     "data": {
      "text/html": [],
      "text/plain": [
       "<IPython.core.display.HTML object>"
      ]
     },
     "metadata": {},
     "output_type": "display_data"
    },
    {
     "data": {
      "text/html": [
       "<br>    <style><br>        .wandb-row {<br>            display: flex;<br>            flex-direction: row;<br>            flex-wrap: wrap;<br>            justify-content: flex-start;<br>            width: 100%;<br>        }<br>        .wandb-col {<br>            display: flex;<br>            flex-direction: column;<br>            flex-basis: 100%;<br>            flex: 1;<br>            padding: 10px;<br>        }<br>    </style><br><div class=\"wandb-row\"><div class=\"wandb-col\"><h3>Run history:</h3><br/><table class=\"wandb\"><tr><td>accuracy</td><td>▁▆▇██</td></tr><tr><td>epoch</td><td>▁▃▅▆█</td></tr><tr><td>loss</td><td>█▃▂▁▁</td></tr><tr><td>val_accuracy</td><td>▁▄▆▇█</td></tr><tr><td>val_loss</td><td>█▄▃▂▁</td></tr></table><br/></div><div class=\"wandb-col\"><h3>Run summary:</h3><br/><table class=\"wandb\"><tr><td>accuracy</td><td>0.85419</td></tr><tr><td>epoch</td><td>5</td></tr><tr><td>loss</td><td>0.41078</td></tr><tr><td>val_accuracy</td><td>0.85367</td></tr><tr><td>val_loss</td><td>0.40592</td></tr></table><br/></div></div>"
      ],
      "text/plain": [
       "<IPython.core.display.HTML object>"
      ]
     },
     "metadata": {},
     "output_type": "display_data"
    },
    {
     "data": {
      "text/html": [
       " View run <strong style=\"color:#cdcd00\">hl_4_bs_64_ac_tanh</strong> at: <a href='https://wandb.ai/da24m015-iitm/assignment_1/runs/atn3xy3r' target=\"_blank\">https://wandb.ai/da24m015-iitm/assignment_1/runs/atn3xy3r</a><br> View project at: <a href='https://wandb.ai/da24m015-iitm/assignment_1' target=\"_blank\">https://wandb.ai/da24m015-iitm/assignment_1</a><br>Synced 5 W&B file(s), 2 media file(s), 4 artifact file(s) and 0 other file(s)"
      ],
      "text/plain": [
       "<IPython.core.display.HTML object>"
      ]
     },
     "metadata": {},
     "output_type": "display_data"
    },
    {
     "data": {
      "text/html": [
       "Find logs at: <code>.\\wandb\\run-20250308_154937-atn3xy3r\\logs</code>"
      ],
      "text/plain": [
       "<IPython.core.display.HTML object>"
      ]
     },
     "metadata": {},
     "output_type": "display_data"
    },
    {
     "name": "stderr",
     "output_type": "stream",
     "text": [
      "\u001b[34m\u001b[1mwandb\u001b[0m: Agent Starting Run: 5qbk0him with config:\n",
      "\u001b[34m\u001b[1mwandb\u001b[0m: \tactivation: relu\n",
      "\u001b[34m\u001b[1mwandb\u001b[0m: \tbatch_size: 32\n",
      "\u001b[34m\u001b[1mwandb\u001b[0m: \tepochs: 10\n",
      "\u001b[34m\u001b[1mwandb\u001b[0m: \thidden_layers: 4\n",
      "\u001b[34m\u001b[1mwandb\u001b[0m: \thidden_size: 128\n",
      "\u001b[34m\u001b[1mwandb\u001b[0m: \tlearning_rate: 0.0001\n",
      "\u001b[34m\u001b[1mwandb\u001b[0m: \toptimizer: momentum\n",
      "\u001b[34m\u001b[1mwandb\u001b[0m: \tweight_decay: 0\n",
      "\u001b[34m\u001b[1mwandb\u001b[0m: \tweight_init: random\n"
     ]
    },
    {
     "data": {
      "text/html": [
       "Ignoring project 'assignment_1' when running a sweep."
      ],
      "text/plain": [
       "<IPython.core.display.HTML object>"
      ]
     },
     "metadata": {},
     "output_type": "display_data"
    },
    {
     "data": {
      "text/html": [
       "Ignoring entity 'da24m015-iitm' when running a sweep."
      ],
      "text/plain": [
       "<IPython.core.display.HTML object>"
      ]
     },
     "metadata": {},
     "output_type": "display_data"
    },
    {
     "data": {
      "text/html": [
       "Tracking run with wandb version 0.19.7"
      ],
      "text/plain": [
       "<IPython.core.display.HTML object>"
      ]
     },
     "metadata": {},
     "output_type": "display_data"
    },
    {
     "data": {
      "text/html": [
       "Run data is saved locally in <code>c:\\Users\\Rajnish\\Desktop\\Rajnish\\M.Tech DSAI'26\\M.Tech DSAI 2024-2026\\Semester 2\\Introduction to Deep Learning\\Introduction-to-Deep-Learning-DA6401-\\Assignment 1\\wandb\\run-20250308_155025-5qbk0him</code>"
      ],
      "text/plain": [
       "<IPython.core.display.HTML object>"
      ]
     },
     "metadata": {},
     "output_type": "display_data"
    },
    {
     "data": {
      "text/html": [
       "Syncing run <strong><a href='https://wandb.ai/da24m015-iitm/assignment_1/runs/5qbk0him' target=\"_blank\">eager-sweep-2</a></strong> to <a href='https://wandb.ai/da24m015-iitm/assignment_1' target=\"_blank\">Weights & Biases</a> (<a href='https://wandb.me/developer-guide' target=\"_blank\">docs</a>)<br>Sweep page: <a href='https://wandb.ai/da24m015-iitm/assignment_1/sweeps/rsqkre3e' target=\"_blank\">https://wandb.ai/da24m015-iitm/assignment_1/sweeps/rsqkre3e</a>"
      ],
      "text/plain": [
       "<IPython.core.display.HTML object>"
      ]
     },
     "metadata": {},
     "output_type": "display_data"
    },
    {
     "data": {
      "text/html": [
       " View project at <a href='https://wandb.ai/da24m015-iitm/assignment_1' target=\"_blank\">https://wandb.ai/da24m015-iitm/assignment_1</a>"
      ],
      "text/plain": [
       "<IPython.core.display.HTML object>"
      ]
     },
     "metadata": {},
     "output_type": "display_data"
    },
    {
     "data": {
      "text/html": [
       " View sweep at <a href='https://wandb.ai/da24m015-iitm/assignment_1/sweeps/rsqkre3e' target=\"_blank\">https://wandb.ai/da24m015-iitm/assignment_1/sweeps/rsqkre3e</a>"
      ],
      "text/plain": [
       "<IPython.core.display.HTML object>"
      ]
     },
     "metadata": {},
     "output_type": "display_data"
    },
    {
     "data": {
      "text/html": [
       " View run at <a href='https://wandb.ai/da24m015-iitm/assignment_1/runs/5qbk0him' target=\"_blank\">https://wandb.ai/da24m015-iitm/assignment_1/runs/5qbk0him</a>"
      ],
      "text/plain": [
       "<IPython.core.display.HTML object>"
      ]
     },
     "metadata": {},
     "output_type": "display_data"
    },
    {
     "data": {
      "text/html": [],
      "text/plain": [
       "<IPython.core.display.HTML object>"
      ]
     },
     "metadata": {},
     "output_type": "display_data"
    },
    {
     "data": {
      "text/html": [
       "<br>    <style><br>        .wandb-row {<br>            display: flex;<br>            flex-direction: row;<br>            flex-wrap: wrap;<br>            justify-content: flex-start;<br>            width: 100%;<br>        }<br>        .wandb-col {<br>            display: flex;<br>            flex-direction: column;<br>            flex-basis: 100%;<br>            flex: 1;<br>            padding: 10px;<br>        }<br>    </style><br><div class=\"wandb-row\"><div class=\"wandb-col\"><h3>Run history:</h3><br/><table class=\"wandb\"><tr><td>accuracy</td><td>▁▃▄▆▇▇▇███</td></tr><tr><td>epoch</td><td>▁▂▃▃▄▅▆▆▇█</td></tr><tr><td>loss</td><td>██▇▅▃▂▂▁▁▁</td></tr><tr><td>val_accuracy</td><td>▁▃▆▇▇▇▇▇██</td></tr><tr><td>val_loss</td><td>█▇▆▄▂▂▁▁▁▁</td></tr></table><br/></div><div class=\"wandb-col\"><h3>Run summary:</h3><br/><table class=\"wandb\"><tr><td>accuracy</td><td>0.73617</td></tr><tr><td>epoch</td><td>10</td></tr><tr><td>loss</td><td>0.70323</td></tr><tr><td>val_accuracy</td><td>0.75567</td></tr><tr><td>val_loss</td><td>0.67728</td></tr></table><br/></div></div>"
      ],
      "text/plain": [
       "<IPython.core.display.HTML object>"
      ]
     },
     "metadata": {},
     "output_type": "display_data"
    },
    {
     "data": {
      "text/html": [
       " View run <strong style=\"color:#cdcd00\">hl_4_bs_32_ac_relu</strong> at: <a href='https://wandb.ai/da24m015-iitm/assignment_1/runs/5qbk0him' target=\"_blank\">https://wandb.ai/da24m015-iitm/assignment_1/runs/5qbk0him</a><br> View project at: <a href='https://wandb.ai/da24m015-iitm/assignment_1' target=\"_blank\">https://wandb.ai/da24m015-iitm/assignment_1</a><br>Synced 5 W&B file(s), 2 media file(s), 4 artifact file(s) and 0 other file(s)"
      ],
      "text/plain": [
       "<IPython.core.display.HTML object>"
      ]
     },
     "metadata": {},
     "output_type": "display_data"
    },
    {
     "data": {
      "text/html": [
       "Find logs at: <code>.\\wandb\\run-20250308_155025-5qbk0him\\logs</code>"
      ],
      "text/plain": [
       "<IPython.core.display.HTML object>"
      ]
     },
     "metadata": {},
     "output_type": "display_data"
    },
    {
     "name": "stderr",
     "output_type": "stream",
     "text": [
      "\u001b[34m\u001b[1mwandb\u001b[0m: Agent Starting Run: 6w9q4ff6 with config:\n",
      "\u001b[34m\u001b[1mwandb\u001b[0m: \tactivation: tanh\n",
      "\u001b[34m\u001b[1mwandb\u001b[0m: \tbatch_size: 16\n",
      "\u001b[34m\u001b[1mwandb\u001b[0m: \tepochs: 5\n",
      "\u001b[34m\u001b[1mwandb\u001b[0m: \thidden_layers: 3\n",
      "\u001b[34m\u001b[1mwandb\u001b[0m: \thidden_size: 64\n",
      "\u001b[34m\u001b[1mwandb\u001b[0m: \tlearning_rate: 0.0001\n",
      "\u001b[34m\u001b[1mwandb\u001b[0m: \toptimizer: sgd\n",
      "\u001b[34m\u001b[1mwandb\u001b[0m: \tweight_decay: 0.0005\n",
      "\u001b[34m\u001b[1mwandb\u001b[0m: \tweight_init: random\n"
     ]
    },
    {
     "data": {
      "text/html": [
       "Ignoring project 'assignment_1' when running a sweep."
      ],
      "text/plain": [
       "<IPython.core.display.HTML object>"
      ]
     },
     "metadata": {},
     "output_type": "display_data"
    },
    {
     "data": {
      "text/html": [
       "Ignoring entity 'da24m015-iitm' when running a sweep."
      ],
      "text/plain": [
       "<IPython.core.display.HTML object>"
      ]
     },
     "metadata": {},
     "output_type": "display_data"
    },
    {
     "data": {
      "text/html": [
       "Tracking run with wandb version 0.19.7"
      ],
      "text/plain": [
       "<IPython.core.display.HTML object>"
      ]
     },
     "metadata": {},
     "output_type": "display_data"
    },
    {
     "data": {
      "text/html": [
       "Run data is saved locally in <code>c:\\Users\\Rajnish\\Desktop\\Rajnish\\M.Tech DSAI'26\\M.Tech DSAI 2024-2026\\Semester 2\\Introduction to Deep Learning\\Introduction-to-Deep-Learning-DA6401-\\Assignment 1\\wandb\\run-20250308_155304-6w9q4ff6</code>"
      ],
      "text/plain": [
       "<IPython.core.display.HTML object>"
      ]
     },
     "metadata": {},
     "output_type": "display_data"
    },
    {
     "data": {
      "text/html": [
       "Syncing run <strong><a href='https://wandb.ai/da24m015-iitm/assignment_1/runs/6w9q4ff6' target=\"_blank\">helpful-sweep-3</a></strong> to <a href='https://wandb.ai/da24m015-iitm/assignment_1' target=\"_blank\">Weights & Biases</a> (<a href='https://wandb.me/developer-guide' target=\"_blank\">docs</a>)<br>Sweep page: <a href='https://wandb.ai/da24m015-iitm/assignment_1/sweeps/rsqkre3e' target=\"_blank\">https://wandb.ai/da24m015-iitm/assignment_1/sweeps/rsqkre3e</a>"
      ],
      "text/plain": [
       "<IPython.core.display.HTML object>"
      ]
     },
     "metadata": {},
     "output_type": "display_data"
    },
    {
     "data": {
      "text/html": [
       " View project at <a href='https://wandb.ai/da24m015-iitm/assignment_1' target=\"_blank\">https://wandb.ai/da24m015-iitm/assignment_1</a>"
      ],
      "text/plain": [
       "<IPython.core.display.HTML object>"
      ]
     },
     "metadata": {},
     "output_type": "display_data"
    },
    {
     "data": {
      "text/html": [
       " View sweep at <a href='https://wandb.ai/da24m015-iitm/assignment_1/sweeps/rsqkre3e' target=\"_blank\">https://wandb.ai/da24m015-iitm/assignment_1/sweeps/rsqkre3e</a>"
      ],
      "text/plain": [
       "<IPython.core.display.HTML object>"
      ]
     },
     "metadata": {},
     "output_type": "display_data"
    },
    {
     "data": {
      "text/html": [
       " View run at <a href='https://wandb.ai/da24m015-iitm/assignment_1/runs/6w9q4ff6' target=\"_blank\">https://wandb.ai/da24m015-iitm/assignment_1/runs/6w9q4ff6</a>"
      ],
      "text/plain": [
       "<IPython.core.display.HTML object>"
      ]
     },
     "metadata": {},
     "output_type": "display_data"
    },
    {
     "data": {
      "text/html": [],
      "text/plain": [
       "<IPython.core.display.HTML object>"
      ]
     },
     "metadata": {},
     "output_type": "display_data"
    },
    {
     "data": {
      "text/html": [
       "<br>    <style><br>        .wandb-row {<br>            display: flex;<br>            flex-direction: row;<br>            flex-wrap: wrap;<br>            justify-content: flex-start;<br>            width: 100%;<br>        }<br>        .wandb-col {<br>            display: flex;<br>            flex-direction: column;<br>            flex-basis: 100%;<br>            flex: 1;<br>            padding: 10px;<br>        }<br>    </style><br><div class=\"wandb-row\"><div class=\"wandb-col\"><h3>Run history:</h3><br/><table class=\"wandb\"><tr><td>accuracy</td><td>▁▃▅▆█</td></tr><tr><td>epoch</td><td>▁▃▅▆█</td></tr><tr><td>loss</td><td>█▆▅▃▁</td></tr><tr><td>val_accuracy</td><td>▁▃▅▆█</td></tr><tr><td>val_loss</td><td>█▇▅▃▁</td></tr></table><br/></div><div class=\"wandb-col\"><h3>Run summary:</h3><br/><table class=\"wandb\"><tr><td>accuracy</td><td>0.34083</td></tr><tr><td>epoch</td><td>5</td></tr><tr><td>loss</td><td>2.28903</td></tr><tr><td>val_accuracy</td><td>0.36817</td></tr><tr><td>val_loss</td><td>2.27844</td></tr></table><br/></div></div>"
      ],
      "text/plain": [
       "<IPython.core.display.HTML object>"
      ]
     },
     "metadata": {},
     "output_type": "display_data"
    },
    {
     "data": {
      "text/html": [
       " View run <strong style=\"color:#cdcd00\">hl_3_bs_16_ac_tanh</strong> at: <a href='https://wandb.ai/da24m015-iitm/assignment_1/runs/6w9q4ff6' target=\"_blank\">https://wandb.ai/da24m015-iitm/assignment_1/runs/6w9q4ff6</a><br> View project at: <a href='https://wandb.ai/da24m015-iitm/assignment_1' target=\"_blank\">https://wandb.ai/da24m015-iitm/assignment_1</a><br>Synced 5 W&B file(s), 2 media file(s), 4 artifact file(s) and 0 other file(s)"
      ],
      "text/plain": [
       "<IPython.core.display.HTML object>"
      ]
     },
     "metadata": {},
     "output_type": "display_data"
    },
    {
     "data": {
      "text/html": [
       "Find logs at: <code>.\\wandb\\run-20250308_155304-6w9q4ff6\\logs</code>"
      ],
      "text/plain": [
       "<IPython.core.display.HTML object>"
      ]
     },
     "metadata": {},
     "output_type": "display_data"
    },
    {
     "name": "stderr",
     "output_type": "stream",
     "text": [
      "\u001b[34m\u001b[1mwandb\u001b[0m: Agent Starting Run: wi39ou19 with config:\n",
      "\u001b[34m\u001b[1mwandb\u001b[0m: \tactivation: tanh\n",
      "\u001b[34m\u001b[1mwandb\u001b[0m: \tbatch_size: 64\n",
      "\u001b[34m\u001b[1mwandb\u001b[0m: \tepochs: 5\n",
      "\u001b[34m\u001b[1mwandb\u001b[0m: \thidden_layers: 4\n",
      "\u001b[34m\u001b[1mwandb\u001b[0m: \thidden_size: 64\n",
      "\u001b[34m\u001b[1mwandb\u001b[0m: \tlearning_rate: 0.001\n",
      "\u001b[34m\u001b[1mwandb\u001b[0m: \toptimizer: nesterov\n",
      "\u001b[34m\u001b[1mwandb\u001b[0m: \tweight_decay: 0.5\n",
      "\u001b[34m\u001b[1mwandb\u001b[0m: \tweight_init: random\n"
     ]
    },
    {
     "data": {
      "text/html": [
       "Ignoring project 'assignment_1' when running a sweep."
      ],
      "text/plain": [
       "<IPython.core.display.HTML object>"
      ]
     },
     "metadata": {},
     "output_type": "display_data"
    },
    {
     "data": {
      "text/html": [
       "Ignoring entity 'da24m015-iitm' when running a sweep."
      ],
      "text/plain": [
       "<IPython.core.display.HTML object>"
      ]
     },
     "metadata": {},
     "output_type": "display_data"
    },
    {
     "data": {
      "text/html": [
       "Tracking run with wandb version 0.19.7"
      ],
      "text/plain": [
       "<IPython.core.display.HTML object>"
      ]
     },
     "metadata": {},
     "output_type": "display_data"
    },
    {
     "data": {
      "text/html": [
       "Run data is saved locally in <code>c:\\Users\\Rajnish\\Desktop\\Rajnish\\M.Tech DSAI'26\\M.Tech DSAI 2024-2026\\Semester 2\\Introduction to Deep Learning\\Introduction-to-Deep-Learning-DA6401-\\Assignment 1\\wandb\\run-20250308_155347-wi39ou19</code>"
      ],
      "text/plain": [
       "<IPython.core.display.HTML object>"
      ]
     },
     "metadata": {},
     "output_type": "display_data"
    },
    {
     "data": {
      "text/html": [
       "Syncing run <strong><a href='https://wandb.ai/da24m015-iitm/assignment_1/runs/wi39ou19' target=\"_blank\">youthful-sweep-4</a></strong> to <a href='https://wandb.ai/da24m015-iitm/assignment_1' target=\"_blank\">Weights & Biases</a> (<a href='https://wandb.me/developer-guide' target=\"_blank\">docs</a>)<br>Sweep page: <a href='https://wandb.ai/da24m015-iitm/assignment_1/sweeps/rsqkre3e' target=\"_blank\">https://wandb.ai/da24m015-iitm/assignment_1/sweeps/rsqkre3e</a>"
      ],
      "text/plain": [
       "<IPython.core.display.HTML object>"
      ]
     },
     "metadata": {},
     "output_type": "display_data"
    },
    {
     "data": {
      "text/html": [
       " View project at <a href='https://wandb.ai/da24m015-iitm/assignment_1' target=\"_blank\">https://wandb.ai/da24m015-iitm/assignment_1</a>"
      ],
      "text/plain": [
       "<IPython.core.display.HTML object>"
      ]
     },
     "metadata": {},
     "output_type": "display_data"
    },
    {
     "data": {
      "text/html": [
       " View sweep at <a href='https://wandb.ai/da24m015-iitm/assignment_1/sweeps/rsqkre3e' target=\"_blank\">https://wandb.ai/da24m015-iitm/assignment_1/sweeps/rsqkre3e</a>"
      ],
      "text/plain": [
       "<IPython.core.display.HTML object>"
      ]
     },
     "metadata": {},
     "output_type": "display_data"
    },
    {
     "data": {
      "text/html": [
       " View run at <a href='https://wandb.ai/da24m015-iitm/assignment_1/runs/wi39ou19' target=\"_blank\">https://wandb.ai/da24m015-iitm/assignment_1/runs/wi39ou19</a>"
      ],
      "text/plain": [
       "<IPython.core.display.HTML object>"
      ]
     },
     "metadata": {},
     "output_type": "display_data"
    },
    {
     "data": {
      "text/html": [],
      "text/plain": [
       "<IPython.core.display.HTML object>"
      ]
     },
     "metadata": {},
     "output_type": "display_data"
    },
    {
     "data": {
      "text/html": [
       "<br>    <style><br>        .wandb-row {<br>            display: flex;<br>            flex-direction: row;<br>            flex-wrap: wrap;<br>            justify-content: flex-start;<br>            width: 100%;<br>        }<br>        .wandb-col {<br>            display: flex;<br>            flex-direction: column;<br>            flex-basis: 100%;<br>            flex: 1;<br>            padding: 10px;<br>        }<br>    </style><br><div class=\"wandb-row\"><div class=\"wandb-col\"><h3>Run history:</h3><br/><table class=\"wandb\"><tr><td>accuracy</td><td>█▆▃▁▂</td></tr><tr><td>epoch</td><td>▁▃▅▆█</td></tr><tr><td>loss</td><td>█▁▁▁▁</td></tr><tr><td>val_accuracy</td><td>▁▂▂▂█</td></tr><tr><td>val_loss</td><td>▆█▂▇▁</td></tr></table><br/></div><div class=\"wandb-col\"><h3>Run summary:</h3><br/><table class=\"wandb\"><tr><td>accuracy</td><td>0.09789</td></tr><tr><td>epoch</td><td>5</td></tr><tr><td>loss</td><td>2.30269</td></tr><tr><td>val_accuracy</td><td>0.10033</td></tr><tr><td>val_loss</td><td>2.30268</td></tr></table><br/></div></div>"
      ],
      "text/plain": [
       "<IPython.core.display.HTML object>"
      ]
     },
     "metadata": {},
     "output_type": "display_data"
    },
    {
     "data": {
      "text/html": [
       " View run <strong style=\"color:#cdcd00\">hl_4_bs_64_ac_tanh</strong> at: <a href='https://wandb.ai/da24m015-iitm/assignment_1/runs/wi39ou19' target=\"_blank\">https://wandb.ai/da24m015-iitm/assignment_1/runs/wi39ou19</a><br> View project at: <a href='https://wandb.ai/da24m015-iitm/assignment_1' target=\"_blank\">https://wandb.ai/da24m015-iitm/assignment_1</a><br>Synced 5 W&B file(s), 2 media file(s), 4 artifact file(s) and 0 other file(s)"
      ],
      "text/plain": [
       "<IPython.core.display.HTML object>"
      ]
     },
     "metadata": {},
     "output_type": "display_data"
    },
    {
     "data": {
      "text/html": [
       "Find logs at: <code>.\\wandb\\run-20250308_155347-wi39ou19\\logs</code>"
      ],
      "text/plain": [
       "<IPython.core.display.HTML object>"
      ]
     },
     "metadata": {},
     "output_type": "display_data"
    },
    {
     "name": "stderr",
     "output_type": "stream",
     "text": [
      "\u001b[34m\u001b[1mwandb\u001b[0m: Agent Starting Run: t4oijyp4 with config:\n",
      "\u001b[34m\u001b[1mwandb\u001b[0m: \tactivation: relu\n",
      "\u001b[34m\u001b[1mwandb\u001b[0m: \tbatch_size: 32\n",
      "\u001b[34m\u001b[1mwandb\u001b[0m: \tepochs: 10\n",
      "\u001b[34m\u001b[1mwandb\u001b[0m: \thidden_layers: 3\n",
      "\u001b[34m\u001b[1mwandb\u001b[0m: \thidden_size: 32\n",
      "\u001b[34m\u001b[1mwandb\u001b[0m: \tlearning_rate: 0.001\n",
      "\u001b[34m\u001b[1mwandb\u001b[0m: \toptimizer: nesterov\n",
      "\u001b[34m\u001b[1mwandb\u001b[0m: \tweight_decay: 0.5\n",
      "\u001b[34m\u001b[1mwandb\u001b[0m: \tweight_init: random\n"
     ]
    },
    {
     "data": {
      "text/html": [
       "Ignoring project 'assignment_1' when running a sweep."
      ],
      "text/plain": [
       "<IPython.core.display.HTML object>"
      ]
     },
     "metadata": {},
     "output_type": "display_data"
    },
    {
     "data": {
      "text/html": [
       "Ignoring entity 'da24m015-iitm' when running a sweep."
      ],
      "text/plain": [
       "<IPython.core.display.HTML object>"
      ]
     },
     "metadata": {},
     "output_type": "display_data"
    },
    {
     "data": {
      "text/html": [
       "Tracking run with wandb version 0.19.7"
      ],
      "text/plain": [
       "<IPython.core.display.HTML object>"
      ]
     },
     "metadata": {},
     "output_type": "display_data"
    },
    {
     "data": {
      "text/html": [
       "Run data is saved locally in <code>c:\\Users\\Rajnish\\Desktop\\Rajnish\\M.Tech DSAI'26\\M.Tech DSAI 2024-2026\\Semester 2\\Introduction to Deep Learning\\Introduction-to-Deep-Learning-DA6401-\\Assignment 1\\wandb\\run-20250308_155414-t4oijyp4</code>"
      ],
      "text/plain": [
       "<IPython.core.display.HTML object>"
      ]
     },
     "metadata": {},
     "output_type": "display_data"
    },
    {
     "data": {
      "text/html": [
       "Syncing run <strong><a href='https://wandb.ai/da24m015-iitm/assignment_1/runs/t4oijyp4' target=\"_blank\">wise-sweep-5</a></strong> to <a href='https://wandb.ai/da24m015-iitm/assignment_1' target=\"_blank\">Weights & Biases</a> (<a href='https://wandb.me/developer-guide' target=\"_blank\">docs</a>)<br>Sweep page: <a href='https://wandb.ai/da24m015-iitm/assignment_1/sweeps/rsqkre3e' target=\"_blank\">https://wandb.ai/da24m015-iitm/assignment_1/sweeps/rsqkre3e</a>"
      ],
      "text/plain": [
       "<IPython.core.display.HTML object>"
      ]
     },
     "metadata": {},
     "output_type": "display_data"
    },
    {
     "data": {
      "text/html": [
       " View project at <a href='https://wandb.ai/da24m015-iitm/assignment_1' target=\"_blank\">https://wandb.ai/da24m015-iitm/assignment_1</a>"
      ],
      "text/plain": [
       "<IPython.core.display.HTML object>"
      ]
     },
     "metadata": {},
     "output_type": "display_data"
    },
    {
     "data": {
      "text/html": [
       " View sweep at <a href='https://wandb.ai/da24m015-iitm/assignment_1/sweeps/rsqkre3e' target=\"_blank\">https://wandb.ai/da24m015-iitm/assignment_1/sweeps/rsqkre3e</a>"
      ],
      "text/plain": [
       "<IPython.core.display.HTML object>"
      ]
     },
     "metadata": {},
     "output_type": "display_data"
    },
    {
     "data": {
      "text/html": [
       " View run at <a href='https://wandb.ai/da24m015-iitm/assignment_1/runs/t4oijyp4' target=\"_blank\">https://wandb.ai/da24m015-iitm/assignment_1/runs/t4oijyp4</a>"
      ],
      "text/plain": [
       "<IPython.core.display.HTML object>"
      ]
     },
     "metadata": {},
     "output_type": "display_data"
    },
    {
     "data": {
      "text/html": [],
      "text/plain": [
       "<IPython.core.display.HTML object>"
      ]
     },
     "metadata": {},
     "output_type": "display_data"
    },
    {
     "data": {
      "text/html": [
       "<br>    <style><br>        .wandb-row {<br>            display: flex;<br>            flex-direction: row;<br>            flex-wrap: wrap;<br>            justify-content: flex-start;<br>            width: 100%;<br>        }<br>        .wandb-col {<br>            display: flex;<br>            flex-direction: column;<br>            flex-basis: 100%;<br>            flex: 1;<br>            padding: 10px;<br>        }<br>    </style><br><div class=\"wandb-row\"><div class=\"wandb-col\"><h3>Run history:</h3><br/><table class=\"wandb\"><tr><td>accuracy</td><td>█▁▅▃█▇▅▄▁▃</td></tr><tr><td>epoch</td><td>▁▂▃▃▄▅▆▆▇█</td></tr><tr><td>loss</td><td>█▁▁▁▁▁▁▁▁▁</td></tr><tr><td>val_accuracy</td><td>▁▄▁▂▄▂██▄▁</td></tr><tr><td>val_loss</td><td>▃▃█▃▄▂▃▁▁▄</td></tr></table><br/></div><div class=\"wandb-col\"><h3>Run summary:</h3><br/><table class=\"wandb\"><tr><td>accuracy</td><td>0.09843</td></tr><tr><td>epoch</td><td>10</td></tr><tr><td>loss</td><td>2.30276</td></tr><tr><td>val_accuracy</td><td>0.0925</td></tr><tr><td>val_loss</td><td>2.30291</td></tr></table><br/></div></div>"
      ],
      "text/plain": [
       "<IPython.core.display.HTML object>"
      ]
     },
     "metadata": {},
     "output_type": "display_data"
    },
    {
     "data": {
      "text/html": [
       " View run <strong style=\"color:#cdcd00\">hl_3_bs_32_ac_relu</strong> at: <a href='https://wandb.ai/da24m015-iitm/assignment_1/runs/t4oijyp4' target=\"_blank\">https://wandb.ai/da24m015-iitm/assignment_1/runs/t4oijyp4</a><br> View project at: <a href='https://wandb.ai/da24m015-iitm/assignment_1' target=\"_blank\">https://wandb.ai/da24m015-iitm/assignment_1</a><br>Synced 5 W&B file(s), 2 media file(s), 4 artifact file(s) and 0 other file(s)"
      ],
      "text/plain": [
       "<IPython.core.display.HTML object>"
      ]
     },
     "metadata": {},
     "output_type": "display_data"
    },
    {
     "data": {
      "text/html": [
       "Find logs at: <code>.\\wandb\\run-20250308_155414-t4oijyp4\\logs</code>"
      ],
      "text/plain": [
       "<IPython.core.display.HTML object>"
      ]
     },
     "metadata": {},
     "output_type": "display_data"
    },
    {
     "name": "stderr",
     "output_type": "stream",
     "text": [
      "\u001b[34m\u001b[1mwandb\u001b[0m: Sweep Agent: Waiting for job.\n",
      "\u001b[34m\u001b[1mwandb\u001b[0m: Sweep Agent: Exiting.\n"
     ]
    }
   ],
   "source": [
    "# log the confusion matrix (till question 7)\n",
    "import numpy as np\n",
    "from keras.datasets import fashion_mnist\n",
    "import wandb\n",
    "\n",
    "# Define the sweep configuration\n",
    "sweep_config = {\n",
    "    'method': 'random',\n",
    "    'metric': {'name': 'accuracy', 'goal': 'maximize'},\n",
    "    'parameters': {\n",
    "        'learning_rate': {'values': [1e-3, 1e-4]},\n",
    "        'batch_size': {'values': [16, 32, 64]},\n",
    "        'epochs': {'values': [5, 10]},\n",
    "        'hidden_layers': {'values': [3, 4, 5]},\n",
    "        'hidden_size': {'values': [32, 64, 128]},\n",
    "        'activation': {'values': ['relu', 'sigmoid', 'tanh']},\n",
    "        'optimizer': {'values': ['sgd', 'momentum', 'nesterov', 'rmsprop', 'adam', 'nadam']},\n",
    "        'weight_init': {'values': ['random', 'xavier']},\n",
    "        'weight_decay': {\"values\": [0, 0.0005, 0.5]}\n",
    "    },\n",
    "    \"run_cap\": 5\n",
    "}\n",
    "\n",
    "# Load and preprocess the Fashion-MNIST dataset\n",
    "(x_train, y_train), (x_test, y_test) = fashion_mnist.load_data()\n",
    "x_train, x_test = x_train / 255.0, x_test / 255.0\n",
    "x_train, x_test = x_train.reshape(x_train.shape[0], -1), x_test.reshape(x_test.shape[0], -1)\n",
    "num_classes = 10\n",
    "\n",
    "# Define class names for the Fashion-MNIST dataset\n",
    "class_names = ['T-shirt/top', 'Trouser', 'Pullover', 'Dress', 'Coat',\n",
    "               'Sandal', 'Shirt', 'Sneaker', 'Bag', 'Ankle boot']\n",
    "\n",
    "# One-hot encode the labels\n",
    "def one_hot_encode(y, num_classes):\n",
    "    encoded = np.zeros((y.size, num_classes))\n",
    "    encoded[np.arange(y.size), y] = 1\n",
    "    return encoded\n",
    "\n",
    "# Keep original labels for confusion matrix\n",
    "y_train_original = y_train.copy()\n",
    "y_test_original = y_test.copy()\n",
    "\n",
    "y_train, y_test = one_hot_encode(y_train, num_classes), one_hot_encode(y_test, num_classes)\n",
    "\n",
    "# Split training data into train and validation sets\n",
    "split_idx = int(0.9 * len(x_train))\n",
    "x_train, x_val = x_train[:split_idx], x_train[split_idx:]\n",
    "y_train, y_val = y_train[:split_idx], y_train[split_idx:]\n",
    "y_train_original, y_val_original = y_train_original[:split_idx], y_train_original[split_idx:]\n",
    "\n",
    "# Activation Functions\n",
    "def relu(Z):\n",
    "    return np.maximum(0, Z)\n",
    "\n",
    "def sigmoid(Z):\n",
    "    Z = np.clip(Z, -500, 500)\n",
    "    return 1 / (1 + np.exp(-Z))\n",
    "\n",
    "def tanh(Z):\n",
    "    return np.tanh(Z)\n",
    "\n",
    "def softmax(Z):\n",
    "    expZ = np.exp(Z - np.max(Z, axis=1, keepdims=True))\n",
    "    return expZ / np.sum(expZ, axis=1, keepdims=True)\n",
    "\n",
    "activation_functions = {\"relu\": relu, \"sigmoid\": sigmoid, \"tanh\": tanh}\n",
    "\n",
    "# Optimizer functions\n",
    "def sgd(weights, biases, grads_W, grads_b, learning_rate):\n",
    "    for i in range(len(weights)):\n",
    "        weights[i] -= learning_rate * grads_W[i]\n",
    "        biases[i] -= learning_rate * grads_b[i]\n",
    "    return weights, biases\n",
    "\n",
    "def momentum(weights, biases, grads_W, grads_b, learning_rate, velocity_W, velocity_b, momentum=0.9):\n",
    "    for i in range(len(weights)):\n",
    "        velocity_W[i] = momentum * velocity_W[i] - learning_rate * grads_W[i]\n",
    "        velocity_b[i] = momentum * velocity_b[i] - learning_rate * grads_b[i]\n",
    "\n",
    "        weights[i] += velocity_W[i]\n",
    "        biases[i] += velocity_b[i]\n",
    "    return weights, biases, velocity_W, velocity_b\n",
    "\n",
    "def nesterov(weights, biases, grads_W, grads_b, learning_rate, velocity_W, velocity_b, momentum=0.9):\n",
    "    for i in range(len(weights)):\n",
    "        # Compute lookahead position\n",
    "        lookahead_W = weights[i] + momentum * velocity_W[i]\n",
    "        lookahead_b = biases[i] + momentum * velocity_b[i]\n",
    "\n",
    "        # Update velocity\n",
    "        velocity_W[i] = momentum * velocity_W[i] - learning_rate * grads_W[i]\n",
    "        velocity_b[i] = momentum * velocity_b[i] - learning_rate * grads_b[i]\n",
    "\n",
    "        # Update weights and biases with corrected lookahead step\n",
    "        weights[i] = lookahead_W + velocity_W[i]\n",
    "        biases[i] = lookahead_b + velocity_b[i]\n",
    "    return weights, biases, velocity_W, velocity_b\n",
    "\n",
    "def rmsprop(weights, biases, grads_W, grads_b, learning_rate, velocity_W, velocity_b, beta=0.9, epsilon=1e-6):\n",
    "    for i in range(len(weights)):\n",
    "        # Update velocity for weights and biases separately\n",
    "        velocity_W[i] = beta * velocity_W[i] + (1 - beta) * (grads_W[i] ** 2)\n",
    "        velocity_b[i] = beta * velocity_b[i] + (1 - beta) * (grads_b[i] ** 2)\n",
    "\n",
    "        # Update weights\n",
    "        weights[i] -= learning_rate * grads_W[i] / (np.sqrt(velocity_W[i]) + epsilon)\n",
    "\n",
    "        # Update biases\n",
    "        biases[i] -= learning_rate * grads_b[i] / (np.sqrt(velocity_b[i]) + epsilon)\n",
    "    return weights, biases, velocity_W, velocity_b\n",
    "\n",
    "def adam(weights, biases, grads_W, grads_b, learning_rate, velocity_W, velocity_b, moment2_W, moment2_b, t, beta1=0.9, beta2=0.999, epsilon=1e-6):\n",
    "    for i in range(len(weights)):\n",
    "        # First moment estimate\n",
    "        velocity_W[i] = beta1 * velocity_W[i] + (1 - beta1) * grads_W[i]\n",
    "        velocity_b[i] = beta1 * velocity_b[i] + (1 - beta1) * grads_b[i]\n",
    "\n",
    "        # Second moment estimate\n",
    "        moment2_W[i] = beta2 * moment2_W[i] + (1 - beta2) * (grads_W[i] ** 2)\n",
    "        moment2_b[i] = beta2 * moment2_b[i] + (1 - beta2) * (grads_b[i] ** 2)\n",
    "\n",
    "        # Bias correction\n",
    "        velocity_W_corrected = velocity_W[i] / (1 - beta1 ** t)\n",
    "        velocity_b_corrected = velocity_b[i] / (1 - beta1 ** t)\n",
    "\n",
    "        moment2_W_corrected = moment2_W[i] / (1 - beta2 ** t)\n",
    "        moment2_b_corrected = moment2_b[i] / (1 - beta2 ** t)\n",
    "\n",
    "        # Check and correct shape mismatch\n",
    "        if moment2_b_corrected.shape != biases[i].shape:\n",
    "            print(f\"Shape mismatch at layer {i}: {moment2_b_corrected.shape} vs {biases[i].shape}\")\n",
    "            moment2_b_corrected = np.reshape(moment2_b_corrected, biases[i].shape)\n",
    "\n",
    "        # Parameter update\n",
    "        weights[i] -= learning_rate * velocity_W_corrected / (np.sqrt(moment2_W_corrected) + epsilon)\n",
    "        biases[i] -= learning_rate * velocity_b_corrected / (np.sqrt(moment2_b_corrected) + epsilon)\n",
    "    \n",
    "    return weights, biases, velocity_W, velocity_b, moment2_W, moment2_b\n",
    "\n",
    "def nadam(weights, biases, grads_W, grads_b, learning_rate, velocity_W, velocity_b, moment2_W, moment2_b, t, beta1=0.9, beta2=0.999, epsilon=1e-6):\n",
    "    for i in range(len(weights)):\n",
    "        # First moment estimate\n",
    "        velocity_W[i] = beta1 * velocity_W[i] + (1 - beta1) * grads_W[i]\n",
    "        velocity_b[i] = beta1 * velocity_b[i] + (1 - beta1) * grads_b[i]\n",
    "\n",
    "        # Second moment estimate\n",
    "        moment2_W[i] = beta2 * moment2_W[i] + (1 - beta2) * (grads_W[i] ** 2)\n",
    "        moment2_b[i] = beta2 * moment2_b[i] + (1 - beta2) * (grads_b[i] ** 2)\n",
    "\n",
    "        # Bias correction\n",
    "        velocity_W_corrected = (beta1 * velocity_W[i] + (1 - beta1) * grads_W[i]) / (1 - beta1 ** t)\n",
    "        velocity_b_corrected = (beta1 * velocity_b[i] + (1 - beta1) * grads_b[i]) / (1 - beta1 ** t)\n",
    "\n",
    "        moment2_W_corrected = moment2_W[i] / (1 - beta2 ** t)\n",
    "        moment2_b_corrected = moment2_b[i] / (1 - beta2 ** t)\n",
    "\n",
    "        # Parameter update\n",
    "        weights[i] -= learning_rate * velocity_W_corrected / (np.sqrt(moment2_W_corrected) + epsilon)\n",
    "        biases[i] -= learning_rate * velocity_b_corrected / (np.sqrt(moment2_b_corrected) + epsilon)\n",
    "    \n",
    "    return weights, biases, velocity_W, velocity_b, moment2_W, moment2_b\n",
    "\n",
    "# Initialize network weights and biases\n",
    "def init_weights(layers, method=\"random\"):\n",
    "    weights = []\n",
    "    biases = []\n",
    "    for i in range(len(layers) - 1):\n",
    "        if method == \"xavier\":\n",
    "            limit = np.sqrt(6 / (layers[i] + layers[i+1]))\n",
    "        else:  # Default to \"random\"\n",
    "            limit = 0.1\n",
    "        W = np.random.uniform(-limit, limit, (layers[i], layers[i+1]))\n",
    "        weights.append(W)\n",
    "        biases.append(np.zeros((1, layers[i+1])))\n",
    "    return weights, biases\n",
    "\n",
    "# Forward pass\n",
    "def forward(X, weights, biases, activation):\n",
    "    A = [X]\n",
    "    for i in range(len(weights) - 1):\n",
    "        Z = A[-1] @ weights[i] + biases[i]\n",
    "        A.append(activation_functions[activation](Z))\n",
    "    Z = A[-1] @ weights[-1] + biases[-1]\n",
    "    A.append(softmax(Z))\n",
    "    return A\n",
    "\n",
    "# Compute loss\n",
    "def compute_loss(y_true, y_pred, weights, weight_decay):\n",
    "    loss = -np.mean(np.sum(y_true * np.log(y_pred + 1e-8), axis=1))\n",
    "    loss += (weight_decay / 2) * sum(np.sum(W**2) for W in weights)\n",
    "    return loss\n",
    "\n",
    "# Backward pass\n",
    "def backward(X, y, A, weights, weight_decay, activation):\n",
    "    grads_W, grads_b = [], []\n",
    "    dA = A[-1] - y\n",
    "    \n",
    "    for i in reversed(range(len(weights))):\n",
    "        dW = A[i].T @ dA / X.shape[0]\n",
    "        db = np.sum(dA, axis=0, keepdims=True) / X.shape[0]\n",
    "        dW += weight_decay * weights[i]\n",
    "        grads_W.append(dW)\n",
    "        grads_b.append(db)\n",
    "        \n",
    "        if i > 0:\n",
    "            if activation == \"relu\":\n",
    "                dA = (dA @ weights[i].T) * (A[i] > 0)\n",
    "            elif activation == \"sigmoid\":\n",
    "                dA = (dA @ weights[i].T) * (A[i] * (1 - A[i]))\n",
    "            elif activation == \"tanh\":\n",
    "                dA = (dA @ weights[i].T) * (1 - A[i]**2)\n",
    "    \n",
    "    return grads_W[::-1], grads_b[::-1]\n",
    "\n",
    "# Get predictions from the model\n",
    "def predict(X, weights, biases, activation):\n",
    "    A = forward(X, weights, biases, activation)\n",
    "    return np.argmax(A[-1], axis=1)\n",
    "\n",
    "# Train function\n",
    "def train(X_train, y_train, X_val, y_val, y_train_original, y_val_original, layers, learning_rate, activation, optimizer, \n",
    "          weight_init, weight_decay, epochs, batch_size, beta=0.9, beta1=0.9, beta2=0.999, epsilon=1e-6):\n",
    "    \n",
    "    # Initialize weights and biases\n",
    "    weights, biases = init_weights(layers, weight_init)\n",
    "    \n",
    "    # Initialize optimizer-specific parameters\n",
    "    velocity_W = [np.zeros_like(W) for W in weights]\n",
    "    velocity_b = [np.zeros_like(b) for b in biases]\n",
    "    moment2_W = [np.zeros_like(W) for W in weights]\n",
    "    moment2_b = [np.zeros_like(b) for b in biases]\n",
    "    t = 1  # Timestep for Adam/Nadam\n",
    "    \n",
    "    num_samples = X_train.shape[0]\n",
    "    \n",
    "    # Keep track of best validation accuracy\n",
    "    best_val_acc = 0\n",
    "    best_weights, best_biases = None, None\n",
    "    \n",
    "    for epoch in range(epochs):\n",
    "        # Shuffle training data\n",
    "        indices = np.random.permutation(num_samples)\n",
    "        X_train_shuffled, y_train_shuffled = X_train[indices], y_train[indices]\n",
    "        y_train_original_shuffled = y_train_original[indices]\n",
    "        \n",
    "        total_loss, total_acc = 0, 0\n",
    "        num_batches = num_samples // batch_size\n",
    "        \n",
    "        for i in range(0, num_samples, batch_size):\n",
    "            X_batch = X_train_shuffled[i:i + batch_size]\n",
    "            y_batch = y_train_shuffled[i:i + batch_size]\n",
    "            \n",
    "            # Forward Pass\n",
    "            A = forward(X_batch, weights, biases, activation)\n",
    "            y_pred = A[-1]\n",
    "            \n",
    "            # Compute Loss & Accuracy\n",
    "            loss = compute_loss(y_batch, y_pred, weights, weight_decay)\n",
    "            acc = np.mean(np.argmax(y_pred, axis=1) == np.argmax(y_batch, axis=1))\n",
    "            \n",
    "            total_loss += loss * len(X_batch)\n",
    "            total_acc += acc * len(X_batch)\n",
    "            \n",
    "            # Backward Pass\n",
    "            grads_W, grads_b = backward(X_batch, y_batch, A, weights, weight_decay, activation)\n",
    "            \n",
    "            # Update Weights using the selected optimizer\n",
    "            if optimizer == \"sgd\":\n",
    "                weights, biases = sgd(weights, biases, grads_W, grads_b, learning_rate)\n",
    "            elif optimizer == \"momentum\":\n",
    "                weights, biases, velocity_W, velocity_b = momentum(\n",
    "                    weights, biases, grads_W, grads_b, learning_rate, velocity_W, velocity_b)\n",
    "            elif optimizer == \"nesterov\":\n",
    "                weights, biases, velocity_W, velocity_b = nesterov(\n",
    "                    weights, biases, grads_W, grads_b, learning_rate, velocity_W, velocity_b)\n",
    "            elif optimizer == \"rmsprop\":\n",
    "                weights, biases, velocity_W, velocity_b = rmsprop(\n",
    "                    weights, biases, grads_W, grads_b, learning_rate, velocity_W, velocity_b, beta, epsilon)\n",
    "            elif optimizer == \"adam\":\n",
    "                weights, biases, velocity_W, velocity_b, moment2_W, moment2_b = adam(\n",
    "                    weights, biases, grads_W, grads_b, learning_rate, velocity_W, velocity_b, \n",
    "                    moment2_W, moment2_b, t, beta1, beta2, epsilon)\n",
    "                t += 1\n",
    "            elif optimizer == \"nadam\":\n",
    "                weights, biases, velocity_W, velocity_b, moment2_W, moment2_b = nadam(\n",
    "                    weights, biases, grads_W, grads_b, learning_rate, velocity_W, velocity_b, \n",
    "                    moment2_W, moment2_b, t, beta1, beta2, epsilon)\n",
    "                t += 1\n",
    "        \n",
    "        # Compute average loss and accuracy for the epoch\n",
    "        avg_loss = total_loss / num_samples\n",
    "        avg_acc = total_acc / num_samples\n",
    "        \n",
    "        # Validation Metrics\n",
    "        val_A = forward(X_val, weights, biases, activation)\n",
    "        val_pred = val_A[-1]\n",
    "        val_loss = compute_loss(y_val, val_pred, weights, weight_decay)\n",
    "        val_acc = np.mean(np.argmax(val_pred, axis=1) == np.argmax(y_val, axis=1))\n",
    "        \n",
    "        # Log to Weights & Biases\n",
    "        wandb.log({\n",
    "            \"epoch\": epoch + 1, \n",
    "            \"loss\": avg_loss, \n",
    "            \"accuracy\": avg_acc,\n",
    "            \"val_loss\": val_loss, \n",
    "            \"val_accuracy\": val_acc\n",
    "        })\n",
    "        \n",
    "        # Check if this is the best model so far\n",
    "        if val_acc > best_val_acc:\n",
    "            best_val_acc = val_acc\n",
    "            best_weights = [w.copy() for w in weights]\n",
    "            best_biases = [b.copy() for b in biases]\n",
    "    \n",
    "    # Return the best model weights and biases\n",
    "    return best_weights, best_biases\n",
    "\n",
    "# Function to create and log confusion matrices\n",
    "def log_confusion_matrices(weights, biases, activation):\n",
    "    # Get predictions for training data\n",
    "    train_predictions = predict(x_train, weights, biases, activation)\n",
    "    \n",
    "    # Get predictions for test data\n",
    "    test_predictions = predict(x_test, weights, biases, activation)\n",
    "    \n",
    "    # Log the training confusion matrix\n",
    "    wandb.log({\n",
    "        \"train_confusion_matrix\": wandb.plot.confusion_matrix(\n",
    "            probs=None,\n",
    "            y_true=y_train_original, \n",
    "            preds=train_predictions,\n",
    "            class_names=class_names\n",
    "        )\n",
    "    })\n",
    "    \n",
    "    # Log the test confusion matrix\n",
    "    wandb.log({\n",
    "        \"test_confusion_matrix\": wandb.plot.confusion_matrix(\n",
    "            probs=None,\n",
    "            y_true=y_test_original, \n",
    "            preds=test_predictions,\n",
    "            class_names=class_names\n",
    "        )\n",
    "    })\n",
    "\n",
    "# Function to run a single training job with wandb logging\n",
    "def train_model():\n",
    "    # Initialize wandb for this run\n",
    "    wandb.init(project=\"assignment_1\", entity=\"da24m015-iitm\")\n",
    "    config = wandb.config\n",
    "    wandb.run.name = f\"hl_{config.hidden_layers}_bs_{config.batch_size}_ac_{config.activation}\"\n",
    "    \n",
    "    # Create network architecture based on config\n",
    "    architecture = [784] + [config.hidden_size] * config.hidden_layers + [10]\n",
    "    \n",
    "    # Train the network and get the best model\n",
    "    best_weights, best_biases = train(\n",
    "        x_train, y_train, x_val, y_val, y_train_original, y_val_original,\n",
    "        layers=architecture,\n",
    "        learning_rate=config.learning_rate,\n",
    "        activation=config.activation,\n",
    "        optimizer=config.optimizer,\n",
    "        weight_init=config.weight_init,\n",
    "        weight_decay=config.weight_decay,\n",
    "        epochs=config.epochs,\n",
    "        batch_size=config.batch_size\n",
    "    )\n",
    "    # print(f\"Best_weights:{best_weights},Best_biases:{best_biases}\")\n",
    "    # Log confusion matrices for the best model\n",
    "    log_confusion_matrices(best_weights, best_biases, config.activation)\n",
    "\n",
    "# Create the sweep\n",
    "sweep_id = wandb.sweep(sweep_config, project=\"assignment_1\")\n",
    "\n",
    "# Run the sweep\n",
    "wandb.agent(sweep_id, function=train_model)"
   ]
  },
  {
   "cell_type": "code",
   "execution_count": null,
   "metadata": {},
   "outputs": [],
   "source": []
  }
 ],
 "metadata": {
  "kernelspec": {
   "display_name": "keras_env",
   "language": "python",
   "name": "python3"
  },
  "language_info": {
   "codemirror_mode": {
    "name": "ipython",
    "version": 3
   },
   "file_extension": ".py",
   "mimetype": "text/x-python",
   "name": "python",
   "nbconvert_exporter": "python",
   "pygments_lexer": "ipython3",
   "version": "3.10.16"
  }
 },
 "nbformat": 4,
 "nbformat_minor": 2
}
