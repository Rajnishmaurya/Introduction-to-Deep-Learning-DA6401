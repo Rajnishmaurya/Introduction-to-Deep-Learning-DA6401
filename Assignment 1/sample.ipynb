{
 "cells": [
  {
   "cell_type": "code",
   "execution_count": 1,
   "metadata": {},
   "outputs": [
    {
     "name": "stderr",
     "output_type": "stream",
     "text": [
      "\u001b[34m\u001b[1mwandb\u001b[0m: Using wandb-core as the SDK backend.  Please refer to https://wandb.me/wandb-core for more information.\n"
     ]
    },
    {
     "name": "stdout",
     "output_type": "stream",
     "text": [
      "Create sweep with ID: s3a26pnx\n",
      "Sweep URL: https://wandb.ai/da24m015-iitm/assignment_1/sweeps/s3a26pnx\n"
     ]
    },
    {
     "name": "stderr",
     "output_type": "stream",
     "text": [
      "\u001b[34m\u001b[1mwandb\u001b[0m: Agent Starting Run: qwetvhy7 with config:\n",
      "\u001b[34m\u001b[1mwandb\u001b[0m: \tactivation: relu\n",
      "\u001b[34m\u001b[1mwandb\u001b[0m: \tbatch_size: 16\n",
      "\u001b[34m\u001b[1mwandb\u001b[0m: \tepochs: 5\n",
      "\u001b[34m\u001b[1mwandb\u001b[0m: \thidden_layers: 3\n",
      "\u001b[34m\u001b[1mwandb\u001b[0m: \thidden_size: 64\n",
      "\u001b[34m\u001b[1mwandb\u001b[0m: \tlearning_rate: 0.0001\n",
      "\u001b[34m\u001b[1mwandb\u001b[0m: \toptimizer: rmsprop\n",
      "\u001b[34m\u001b[1mwandb\u001b[0m: \tweight_decay: 0.0005\n",
      "\u001b[34m\u001b[1mwandb\u001b[0m: \tweight_init: xavier\n",
      "\u001b[34m\u001b[1mwandb\u001b[0m: Currently logged in as: \u001b[33mda24m015\u001b[0m (\u001b[33mda24m015-iitm\u001b[0m) to \u001b[32mhttps://api.wandb.ai\u001b[0m. Use \u001b[1m`wandb login --relogin`\u001b[0m to force relogin\n"
     ]
    },
    {
     "data": {
      "text/html": [
       "Ignoring project 'assignment_1' when running a sweep."
      ],
      "text/plain": [
       "<IPython.core.display.HTML object>"
      ]
     },
     "metadata": {},
     "output_type": "display_data"
    },
    {
     "data": {
      "text/html": [
       "Ignoring entity 'da24m015-iitm' when running a sweep."
      ],
      "text/plain": [
       "<IPython.core.display.HTML object>"
      ]
     },
     "metadata": {},
     "output_type": "display_data"
    },
    {
     "data": {
      "text/html": [
       "Tracking run with wandb version 0.19.7"
      ],
      "text/plain": [
       "<IPython.core.display.HTML object>"
      ]
     },
     "metadata": {},
     "output_type": "display_data"
    },
    {
     "data": {
      "text/html": [
       "Run data is saved locally in <code>c:\\Users\\Rajnish\\Desktop\\Rajnish\\M.Tech DSAI'26\\M.Tech DSAI 2024-2026\\Semester 2\\Introduction to Deep Learning\\Introduction-to-Deep-Learning-DA6401-\\Assignment 1\\wandb\\run-20250307_193620-qwetvhy7</code>"
      ],
      "text/plain": [
       "<IPython.core.display.HTML object>"
      ]
     },
     "metadata": {},
     "output_type": "display_data"
    },
    {
     "data": {
      "text/html": [
       "Syncing run <strong><a href='https://wandb.ai/da24m015-iitm/assignment_1/runs/qwetvhy7' target=\"_blank\">fearless-sweep-1</a></strong> to <a href='https://wandb.ai/da24m015-iitm/assignment_1' target=\"_blank\">Weights & Biases</a> (<a href='https://wandb.me/developer-guide' target=\"_blank\">docs</a>)<br>Sweep page: <a href='https://wandb.ai/da24m015-iitm/assignment_1/sweeps/s3a26pnx' target=\"_blank\">https://wandb.ai/da24m015-iitm/assignment_1/sweeps/s3a26pnx</a>"
      ],
      "text/plain": [
       "<IPython.core.display.HTML object>"
      ]
     },
     "metadata": {},
     "output_type": "display_data"
    },
    {
     "data": {
      "text/html": [
       " View project at <a href='https://wandb.ai/da24m015-iitm/assignment_1' target=\"_blank\">https://wandb.ai/da24m015-iitm/assignment_1</a>"
      ],
      "text/plain": [
       "<IPython.core.display.HTML object>"
      ]
     },
     "metadata": {},
     "output_type": "display_data"
    },
    {
     "data": {
      "text/html": [
       " View sweep at <a href='https://wandb.ai/da24m015-iitm/assignment_1/sweeps/s3a26pnx' target=\"_blank\">https://wandb.ai/da24m015-iitm/assignment_1/sweeps/s3a26pnx</a>"
      ],
      "text/plain": [
       "<IPython.core.display.HTML object>"
      ]
     },
     "metadata": {},
     "output_type": "display_data"
    },
    {
     "data": {
      "text/html": [
       " View run at <a href='https://wandb.ai/da24m015-iitm/assignment_1/runs/qwetvhy7' target=\"_blank\">https://wandb.ai/da24m015-iitm/assignment_1/runs/qwetvhy7</a>"
      ],
      "text/plain": [
       "<IPython.core.display.HTML object>"
      ]
     },
     "metadata": {},
     "output_type": "display_data"
    },
    {
     "data": {
      "text/html": [],
      "text/plain": [
       "<IPython.core.display.HTML object>"
      ]
     },
     "metadata": {},
     "output_type": "display_data"
    },
    {
     "data": {
      "text/html": [
       "<br>    <style><br>        .wandb-row {<br>            display: flex;<br>            flex-direction: row;<br>            flex-wrap: wrap;<br>            justify-content: flex-start;<br>            width: 100%;<br>        }<br>        .wandb-col {<br>            display: flex;<br>            flex-direction: column;<br>            flex-basis: 100%;<br>            flex: 1;<br>            padding: 10px;<br>        }<br>    </style><br><div class=\"wandb-row\"><div class=\"wandb-col\"><h3>Run history:</h3><br/><table class=\"wandb\"><tr><td>accuracy</td><td>▁▆▇██</td></tr><tr><td>best_model_test_accuracy</td><td>▁</td></tr><tr><td>epoch</td><td>▁▁▁▃▃▃▅▅▅▆▆▆███</td></tr><tr><td>loss</td><td>█▃▂▁▁</td></tr><tr><td>val_accuracy</td><td>▁▄▅▇█</td></tr><tr><td>val_loss</td><td>█▅▃▂▁</td></tr></table><br/></div><div class=\"wandb-col\"><h3>Run summary:</h3><br/><table class=\"wandb\"><tr><td>accuracy</td><td>0.86435</td></tr><tr><td>best_model_test_accuracy</td><td>0.8583</td></tr><tr><td>epoch</td><td>5</td></tr><tr><td>loss</td><td>0.44564</td></tr><tr><td>val_accuracy</td><td>0.86367</td></tr><tr><td>val_loss</td><td>0.44806</td></tr></table><br/></div></div>"
      ],
      "text/plain": [
       "<IPython.core.display.HTML object>"
      ]
     },
     "metadata": {},
     "output_type": "display_data"
    },
    {
     "data": {
      "text/html": [
       " View run <strong style=\"color:#cdcd00\">hl_3_bs_16_ac_relu</strong> at: <a href='https://wandb.ai/da24m015-iitm/assignment_1/runs/qwetvhy7' target=\"_blank\">https://wandb.ai/da24m015-iitm/assignment_1/runs/qwetvhy7</a><br> View project at: <a href='https://wandb.ai/da24m015-iitm/assignment_1' target=\"_blank\">https://wandb.ai/da24m015-iitm/assignment_1</a><br>Synced 5 W&B file(s), 13 media file(s), 26 artifact file(s) and 0 other file(s)"
      ],
      "text/plain": [
       "<IPython.core.display.HTML object>"
      ]
     },
     "metadata": {},
     "output_type": "display_data"
    },
    {
     "data": {
      "text/html": [
       "Find logs at: <code>.\\wandb\\run-20250307_193620-qwetvhy7\\logs</code>"
      ],
      "text/plain": [
       "<IPython.core.display.HTML object>"
      ]
     },
     "metadata": {},
     "output_type": "display_data"
    },
    {
     "name": "stderr",
     "output_type": "stream",
     "text": [
      "\u001b[34m\u001b[1mwandb\u001b[0m: Agent Starting Run: o9tgh30b with config:\n",
      "\u001b[34m\u001b[1mwandb\u001b[0m: \tactivation: tanh\n",
      "\u001b[34m\u001b[1mwandb\u001b[0m: \tbatch_size: 32\n",
      "\u001b[34m\u001b[1mwandb\u001b[0m: \tepochs: 10\n",
      "\u001b[34m\u001b[1mwandb\u001b[0m: \thidden_layers: 5\n",
      "\u001b[34m\u001b[1mwandb\u001b[0m: \thidden_size: 64\n",
      "\u001b[34m\u001b[1mwandb\u001b[0m: \tlearning_rate: 0.0001\n",
      "\u001b[34m\u001b[1mwandb\u001b[0m: \toptimizer: sgd\n",
      "\u001b[34m\u001b[1mwandb\u001b[0m: \tweight_decay: 0\n",
      "\u001b[34m\u001b[1mwandb\u001b[0m: \tweight_init: random\n"
     ]
    },
    {
     "data": {
      "text/html": [
       "Ignoring project 'assignment_1' when running a sweep."
      ],
      "text/plain": [
       "<IPython.core.display.HTML object>"
      ]
     },
     "metadata": {},
     "output_type": "display_data"
    },
    {
     "data": {
      "text/html": [
       "Ignoring entity 'da24m015-iitm' when running a sweep."
      ],
      "text/plain": [
       "<IPython.core.display.HTML object>"
      ]
     },
     "metadata": {},
     "output_type": "display_data"
    },
    {
     "data": {
      "text/html": [
       "Tracking run with wandb version 0.19.7"
      ],
      "text/plain": [
       "<IPython.core.display.HTML object>"
      ]
     },
     "metadata": {},
     "output_type": "display_data"
    },
    {
     "data": {
      "text/html": [
       "Run data is saved locally in <code>c:\\Users\\Rajnish\\Desktop\\Rajnish\\M.Tech DSAI'26\\M.Tech DSAI 2024-2026\\Semester 2\\Introduction to Deep Learning\\Introduction-to-Deep-Learning-DA6401-\\Assignment 1\\wandb\\run-20250307_193739-o9tgh30b</code>"
      ],
      "text/plain": [
       "<IPython.core.display.HTML object>"
      ]
     },
     "metadata": {},
     "output_type": "display_data"
    },
    {
     "data": {
      "text/html": [
       "Syncing run <strong><a href='https://wandb.ai/da24m015-iitm/assignment_1/runs/o9tgh30b' target=\"_blank\">playful-sweep-2</a></strong> to <a href='https://wandb.ai/da24m015-iitm/assignment_1' target=\"_blank\">Weights & Biases</a> (<a href='https://wandb.me/developer-guide' target=\"_blank\">docs</a>)<br>Sweep page: <a href='https://wandb.ai/da24m015-iitm/assignment_1/sweeps/s3a26pnx' target=\"_blank\">https://wandb.ai/da24m015-iitm/assignment_1/sweeps/s3a26pnx</a>"
      ],
      "text/plain": [
       "<IPython.core.display.HTML object>"
      ]
     },
     "metadata": {},
     "output_type": "display_data"
    },
    {
     "data": {
      "text/html": [
       " View project at <a href='https://wandb.ai/da24m015-iitm/assignment_1' target=\"_blank\">https://wandb.ai/da24m015-iitm/assignment_1</a>"
      ],
      "text/plain": [
       "<IPython.core.display.HTML object>"
      ]
     },
     "metadata": {},
     "output_type": "display_data"
    },
    {
     "data": {
      "text/html": [
       " View sweep at <a href='https://wandb.ai/da24m015-iitm/assignment_1/sweeps/s3a26pnx' target=\"_blank\">https://wandb.ai/da24m015-iitm/assignment_1/sweeps/s3a26pnx</a>"
      ],
      "text/plain": [
       "<IPython.core.display.HTML object>"
      ]
     },
     "metadata": {},
     "output_type": "display_data"
    },
    {
     "data": {
      "text/html": [
       " View run at <a href='https://wandb.ai/da24m015-iitm/assignment_1/runs/o9tgh30b' target=\"_blank\">https://wandb.ai/da24m015-iitm/assignment_1/runs/o9tgh30b</a>"
      ],
      "text/plain": [
       "<IPython.core.display.HTML object>"
      ]
     },
     "metadata": {},
     "output_type": "display_data"
    },
    {
     "data": {
      "text/html": [],
      "text/plain": [
       "<IPython.core.display.HTML object>"
      ]
     },
     "metadata": {},
     "output_type": "display_data"
    },
    {
     "data": {
      "text/html": [
       "<br>    <style><br>        .wandb-row {<br>            display: flex;<br>            flex-direction: row;<br>            flex-wrap: wrap;<br>            justify-content: flex-start;<br>            width: 100%;<br>        }<br>        .wandb-col {<br>            display: flex;<br>            flex-direction: column;<br>            flex-basis: 100%;<br>            flex: 1;<br>            padding: 10px;<br>        }<br>    </style><br><div class=\"wandb-row\"><div class=\"wandb-col\"><h3>Run history:</h3><br/><table class=\"wandb\"><tr><td>accuracy</td><td>▁▁▂▂▂▃▄▅▆█</td></tr><tr><td>best_model_test_accuracy</td><td>▁</td></tr><tr><td>epoch</td><td>▁▁▁▂▂▂▃▃▃▃▃▃▄▄▄▅▅▅▆▆▆▆▆▆▇▇▇███</td></tr><tr><td>loss</td><td>█▇▇▆▅▄▄▃▂▁</td></tr><tr><td>val_accuracy</td><td>▁▁▂▂▂▃▄▅▇█</td></tr><tr><td>val_loss</td><td>█▇▇▆▅▄▄▃▂▁</td></tr></table><br/></div><div class=\"wandb-col\"><h3>Run summary:</h3><br/><table class=\"wandb\"><tr><td>accuracy</td><td>0.23969</td></tr><tr><td>best_model_test_accuracy</td><td>0.2557</td></tr><tr><td>epoch</td><td>10</td></tr><tr><td>loss</td><td>2.29608</td></tr><tr><td>val_accuracy</td><td>0.263</td></tr><tr><td>val_loss</td><td>2.29548</td></tr></table><br/></div></div>"
      ],
      "text/plain": [
       "<IPython.core.display.HTML object>"
      ]
     },
     "metadata": {},
     "output_type": "display_data"
    },
    {
     "data": {
      "text/html": [
       " View run <strong style=\"color:#cdcd00\">hl_5_bs_32_ac_tanh</strong> at: <a href='https://wandb.ai/da24m015-iitm/assignment_1/runs/o9tgh30b' target=\"_blank\">https://wandb.ai/da24m015-iitm/assignment_1/runs/o9tgh30b</a><br> View project at: <a href='https://wandb.ai/da24m015-iitm/assignment_1' target=\"_blank\">https://wandb.ai/da24m015-iitm/assignment_1</a><br>Synced 5 W&B file(s), 23 media file(s), 46 artifact file(s) and 0 other file(s)"
      ],
      "text/plain": [
       "<IPython.core.display.HTML object>"
      ]
     },
     "metadata": {},
     "output_type": "display_data"
    },
    {
     "data": {
      "text/html": [
       "Find logs at: <code>.\\wandb\\run-20250307_193739-o9tgh30b\\logs</code>"
      ],
      "text/plain": [
       "<IPython.core.display.HTML object>"
      ]
     },
     "metadata": {},
     "output_type": "display_data"
    },
    {
     "name": "stderr",
     "output_type": "stream",
     "text": [
      "\u001b[34m\u001b[1mwandb\u001b[0m: Agent Starting Run: ye9b17fq with config:\n",
      "\u001b[34m\u001b[1mwandb\u001b[0m: \tactivation: relu\n",
      "\u001b[34m\u001b[1mwandb\u001b[0m: \tbatch_size: 16\n",
      "\u001b[34m\u001b[1mwandb\u001b[0m: \tepochs: 10\n",
      "\u001b[34m\u001b[1mwandb\u001b[0m: \thidden_layers: 5\n",
      "\u001b[34m\u001b[1mwandb\u001b[0m: \thidden_size: 128\n",
      "\u001b[34m\u001b[1mwandb\u001b[0m: \tlearning_rate: 0.0001\n",
      "\u001b[34m\u001b[1mwandb\u001b[0m: \toptimizer: rmsprop\n",
      "\u001b[34m\u001b[1mwandb\u001b[0m: \tweight_decay: 0.0005\n",
      "\u001b[34m\u001b[1mwandb\u001b[0m: \tweight_init: xavier\n"
     ]
    },
    {
     "data": {
      "text/html": [
       "Ignoring project 'assignment_1' when running a sweep."
      ],
      "text/plain": [
       "<IPython.core.display.HTML object>"
      ]
     },
     "metadata": {},
     "output_type": "display_data"
    },
    {
     "data": {
      "text/html": [
       "Ignoring entity 'da24m015-iitm' when running a sweep."
      ],
      "text/plain": [
       "<IPython.core.display.HTML object>"
      ]
     },
     "metadata": {},
     "output_type": "display_data"
    },
    {
     "data": {
      "text/html": [
       "Tracking run with wandb version 0.19.7"
      ],
      "text/plain": [
       "<IPython.core.display.HTML object>"
      ]
     },
     "metadata": {},
     "output_type": "display_data"
    },
    {
     "data": {
      "text/html": [
       "Run data is saved locally in <code>c:\\Users\\Rajnish\\Desktop\\Rajnish\\M.Tech DSAI'26\\M.Tech DSAI 2024-2026\\Semester 2\\Introduction to Deep Learning\\Introduction-to-Deep-Learning-DA6401-\\Assignment 1\\wandb\\run-20250307_193932-ye9b17fq</code>"
      ],
      "text/plain": [
       "<IPython.core.display.HTML object>"
      ]
     },
     "metadata": {},
     "output_type": "display_data"
    },
    {
     "data": {
      "text/html": [
       "Syncing run <strong><a href='https://wandb.ai/da24m015-iitm/assignment_1/runs/ye9b17fq' target=\"_blank\">divine-sweep-3</a></strong> to <a href='https://wandb.ai/da24m015-iitm/assignment_1' target=\"_blank\">Weights & Biases</a> (<a href='https://wandb.me/developer-guide' target=\"_blank\">docs</a>)<br>Sweep page: <a href='https://wandb.ai/da24m015-iitm/assignment_1/sweeps/s3a26pnx' target=\"_blank\">https://wandb.ai/da24m015-iitm/assignment_1/sweeps/s3a26pnx</a>"
      ],
      "text/plain": [
       "<IPython.core.display.HTML object>"
      ]
     },
     "metadata": {},
     "output_type": "display_data"
    },
    {
     "data": {
      "text/html": [
       " View project at <a href='https://wandb.ai/da24m015-iitm/assignment_1' target=\"_blank\">https://wandb.ai/da24m015-iitm/assignment_1</a>"
      ],
      "text/plain": [
       "<IPython.core.display.HTML object>"
      ]
     },
     "metadata": {},
     "output_type": "display_data"
    },
    {
     "data": {
      "text/html": [
       " View sweep at <a href='https://wandb.ai/da24m015-iitm/assignment_1/sweeps/s3a26pnx' target=\"_blank\">https://wandb.ai/da24m015-iitm/assignment_1/sweeps/s3a26pnx</a>"
      ],
      "text/plain": [
       "<IPython.core.display.HTML object>"
      ]
     },
     "metadata": {},
     "output_type": "display_data"
    },
    {
     "data": {
      "text/html": [
       " View run at <a href='https://wandb.ai/da24m015-iitm/assignment_1/runs/ye9b17fq' target=\"_blank\">https://wandb.ai/da24m015-iitm/assignment_1/runs/ye9b17fq</a>"
      ],
      "text/plain": [
       "<IPython.core.display.HTML object>"
      ]
     },
     "metadata": {},
     "output_type": "display_data"
    },
    {
     "data": {
      "text/html": [],
      "text/plain": [
       "<IPython.core.display.HTML object>"
      ]
     },
     "metadata": {},
     "output_type": "display_data"
    },
    {
     "data": {
      "text/html": [
       "<br>    <style><br>        .wandb-row {<br>            display: flex;<br>            flex-direction: row;<br>            flex-wrap: wrap;<br>            justify-content: flex-start;<br>            width: 100%;<br>        }<br>        .wandb-col {<br>            display: flex;<br>            flex-direction: column;<br>            flex-basis: 100%;<br>            flex: 1;<br>            padding: 10px;<br>        }<br>    </style><br><div class=\"wandb-row\"><div class=\"wandb-col\"><h3>Run history:</h3><br/><table class=\"wandb\"><tr><td>accuracy</td><td>▁▅▆▇▇▇▇███</td></tr><tr><td>best_model_test_accuracy</td><td>▁</td></tr><tr><td>epoch</td><td>▁▁▁▂▂▂▃▃▃▃▃▃▄▄▄▅▅▅▆▆▆▆▆▆▇▇▇███</td></tr><tr><td>loss</td><td>█▄▃▂▂▂▂▁▁▁</td></tr><tr><td>val_accuracy</td><td>▁▄▆▇█▇▇▇██</td></tr><tr><td>val_loss</td><td>█▆▄▃▂▂▂▁▁▁</td></tr></table><br/></div><div class=\"wandb-col\"><h3>Run summary:</h3><br/><table class=\"wandb\"><tr><td>accuracy</td><td>0.89431</td></tr><tr><td>best_model_test_accuracy</td><td>0.8724</td></tr><tr><td>epoch</td><td>10</td></tr><tr><td>loss</td><td>0.42077</td></tr><tr><td>val_accuracy</td><td>0.8825</td></tr><tr><td>val_loss</td><td>0.46176</td></tr></table><br/></div></div>"
      ],
      "text/plain": [
       "<IPython.core.display.HTML object>"
      ]
     },
     "metadata": {},
     "output_type": "display_data"
    },
    {
     "data": {
      "text/html": [
       " View run <strong style=\"color:#cdcd00\">hl_5_bs_16_ac_relu</strong> at: <a href='https://wandb.ai/da24m015-iitm/assignment_1/runs/ye9b17fq' target=\"_blank\">https://wandb.ai/da24m015-iitm/assignment_1/runs/ye9b17fq</a><br> View project at: <a href='https://wandb.ai/da24m015-iitm/assignment_1' target=\"_blank\">https://wandb.ai/da24m015-iitm/assignment_1</a><br>Synced 5 W&B file(s), 23 media file(s), 46 artifact file(s) and 0 other file(s)"
      ],
      "text/plain": [
       "<IPython.core.display.HTML object>"
      ]
     },
     "metadata": {},
     "output_type": "display_data"
    },
    {
     "data": {
      "text/html": [
       "Find logs at: <code>.\\wandb\\run-20250307_193932-ye9b17fq\\logs</code>"
      ],
      "text/plain": [
       "<IPython.core.display.HTML object>"
      ]
     },
     "metadata": {},
     "output_type": "display_data"
    },
    {
     "name": "stderr",
     "output_type": "stream",
     "text": [
      "\u001b[34m\u001b[1mwandb\u001b[0m: Ctrl + C detected. Stopping sweep.\n"
     ]
    }
   ],
   "source": [
    "import numpy as np\n",
    "from keras.datasets import fashion_mnist\n",
    "import wandb\n",
    "\n",
    "# Define the sweep configuration\n",
    "sweep_config = {\n",
    "    'method': 'random',\n",
    "    'metric': {'name': 'accuracy', 'goal': 'maximize'},\n",
    "    'parameters': {\n",
    "        'learning_rate': {'values': [1e-3, 1e-4]},\n",
    "        'batch_size': {'values': [16, 32, 64]},\n",
    "        'epochs': {'values': [5, 10]},\n",
    "        'hidden_layers': {'values': [3, 4, 5]},\n",
    "        'hidden_size': {'values': [32, 64, 128]},\n",
    "        'activation': {'values': ['relu', 'sigmoid', 'tanh']},\n",
    "        'optimizer': {'values': ['sgd', 'momentum', 'nesterov', 'rmsprop', 'adam', 'nadam']},\n",
    "        'weight_init': {'values': ['random', 'xavier']},\n",
    "        'weight_decay': {\"values\": [0, 0.0005, 0.5]}\n",
    "    },\n",
    "    \"run_cap\": 10\n",
    "}\n",
    "\n",
    "# Load and preprocess the Fashion-MNIST dataset\n",
    "(x_train, y_train), (x_test, y_test) = fashion_mnist.load_data()\n",
    "x_train, x_test = x_train / 255.0, x_test / 255.0\n",
    "x_train, x_test = x_train.reshape(x_train.shape[0], -1), x_test.reshape(x_test.shape[0], -1)\n",
    "num_classes = 10\n",
    "\n",
    "# Define class names for the Fashion-MNIST dataset\n",
    "class_names = ['T-shirt/top', 'Trouser', 'Pullover', 'Dress', 'Coat',\n",
    "               'Sandal', 'Shirt', 'Sneaker', 'Bag', 'Ankle boot']\n",
    "\n",
    "# One-hot encode the labels\n",
    "def one_hot_encode(y, num_classes):\n",
    "    encoded = np.zeros((y.size, num_classes))\n",
    "    encoded[np.arange(y.size), y] = 1\n",
    "    return encoded\n",
    "\n",
    "# Keep original labels for confusion matrix\n",
    "y_train_original = y_train.copy()\n",
    "y_test_original = y_test.copy()\n",
    "\n",
    "y_train, y_test = one_hot_encode(y_train, num_classes), one_hot_encode(y_test, num_classes)\n",
    "\n",
    "# Split training data into train and validation sets\n",
    "split_idx = int(0.9 * len(x_train))\n",
    "x_train, x_val = x_train[:split_idx], x_train[split_idx:]\n",
    "y_train, y_val = y_train[:split_idx], y_train[split_idx:]\n",
    "y_train_original, y_val_original = y_train_original[:split_idx], y_train_original[split_idx:]\n",
    "\n",
    "# Activation Functions\n",
    "def relu(Z):\n",
    "    return np.maximum(0, Z)\n",
    "\n",
    "def sigmoid(Z):\n",
    "    Z = np.clip(Z, -500, 500)\n",
    "    return 1 / (1 + np.exp(-Z))\n",
    "\n",
    "def tanh(Z):\n",
    "    return np.tanh(Z)\n",
    "\n",
    "def softmax(Z):\n",
    "    expZ = np.exp(Z - np.max(Z, axis=1, keepdims=True))\n",
    "    return expZ / np.sum(expZ, axis=1, keepdims=True)\n",
    "\n",
    "activation_functions = {\"relu\": relu, \"sigmoid\": sigmoid, \"tanh\": tanh}\n",
    "\n",
    "# Optimizer functions\n",
    "def sgd(weights, biases, grads_W, grads_b, learning_rate):\n",
    "    for i in range(len(weights)):\n",
    "        weights[i] -= learning_rate * grads_W[i]\n",
    "        biases[i] -= learning_rate * grads_b[i]\n",
    "    return weights, biases\n",
    "\n",
    "def momentum(weights, biases, grads_W, grads_b, learning_rate, velocity_W, velocity_b, momentum=0.9):\n",
    "    for i in range(len(weights)):\n",
    "        velocity_W[i] = momentum * velocity_W[i] - learning_rate * grads_W[i]\n",
    "        velocity_b[i] = momentum * velocity_b[i] - learning_rate * grads_b[i]\n",
    "\n",
    "        weights[i] += velocity_W[i]\n",
    "        biases[i] += velocity_b[i]\n",
    "    return weights, biases, velocity_W, velocity_b\n",
    "\n",
    "def nesterov(weights, biases, grads_W, grads_b, learning_rate, velocity_W, velocity_b, momentum=0.9):\n",
    "    for i in range(len(weights)):\n",
    "        # Compute lookahead position\n",
    "        lookahead_W = weights[i] + momentum * velocity_W[i]\n",
    "        lookahead_b = biases[i] + momentum * velocity_b[i]\n",
    "\n",
    "        # Update velocity\n",
    "        velocity_W[i] = momentum * velocity_W[i] - learning_rate * grads_W[i]\n",
    "        velocity_b[i] = momentum * velocity_b[i] - learning_rate * grads_b[i]\n",
    "\n",
    "        # Update weights and biases with corrected lookahead step\n",
    "        weights[i] = lookahead_W + velocity_W[i]\n",
    "        biases[i] = lookahead_b + velocity_b[i]\n",
    "    return weights, biases, velocity_W, velocity_b\n",
    "\n",
    "def rmsprop(weights, biases, grads_W, grads_b, learning_rate, velocity_W, velocity_b, beta=0.9, epsilon=1e-6):\n",
    "    for i in range(len(weights)):\n",
    "        # Update velocity for weights and biases separately\n",
    "        velocity_W[i] = beta * velocity_W[i] + (1 - beta) * (grads_W[i] ** 2)\n",
    "        velocity_b[i] = beta * velocity_b[i] + (1 - beta) * (grads_b[i] ** 2)\n",
    "\n",
    "        # Update weights\n",
    "        weights[i] -= learning_rate * grads_W[i] / (np.sqrt(velocity_W[i]) + epsilon)\n",
    "\n",
    "        # Update biases\n",
    "        biases[i] -= learning_rate * grads_b[i] / (np.sqrt(velocity_b[i]) + epsilon)\n",
    "    return weights, biases, velocity_W, velocity_b\n",
    "\n",
    "def adam(weights, biases, grads_W, grads_b, learning_rate, velocity_W, velocity_b, moment2_W, moment2_b, t, beta1=0.9, beta2=0.999, epsilon=1e-6):\n",
    "    for i in range(len(weights)):\n",
    "        # First moment estimate\n",
    "        velocity_W[i] = beta1 * velocity_W[i] + (1 - beta1) * grads_W[i]\n",
    "        velocity_b[i] = beta1 * velocity_b[i] + (1 - beta1) * grads_b[i]\n",
    "\n",
    "        # Second moment estimate\n",
    "        moment2_W[i] = beta2 * moment2_W[i] + (1 - beta2) * (grads_W[i] ** 2)\n",
    "        moment2_b[i] = beta2 * moment2_b[i] + (1 - beta2) * (grads_b[i] ** 2)\n",
    "\n",
    "        # Bias correction\n",
    "        velocity_W_corrected = velocity_W[i] / (1 - beta1 ** t)\n",
    "        velocity_b_corrected = velocity_b[i] / (1 - beta1 ** t)\n",
    "\n",
    "        moment2_W_corrected = moment2_W[i] / (1 - beta2 ** t)\n",
    "        moment2_b_corrected = moment2_b[i] / (1 - beta2 ** t)\n",
    "\n",
    "        # Check and correct shape mismatch\n",
    "        if moment2_b_corrected.shape != biases[i].shape:\n",
    "            print(f\"Shape mismatch at layer {i}: {moment2_b_corrected.shape} vs {biases[i].shape}\")\n",
    "            moment2_b_corrected = np.reshape(moment2_b_corrected, biases[i].shape)\n",
    "\n",
    "        # Parameter update\n",
    "        weights[i] -= learning_rate * velocity_W_corrected / (np.sqrt(moment2_W_corrected) + epsilon)\n",
    "        biases[i] -= learning_rate * velocity_b_corrected / (np.sqrt(moment2_b_corrected) + epsilon)\n",
    "    \n",
    "    return weights, biases, velocity_W, velocity_b, moment2_W, moment2_b\n",
    "\n",
    "def nadam(weights, biases, grads_W, grads_b, learning_rate, velocity_W, velocity_b, moment2_W, moment2_b, t, beta1=0.9, beta2=0.999, epsilon=1e-6):\n",
    "    for i in range(len(weights)):\n",
    "        # First moment estimate\n",
    "        velocity_W[i] = beta1 * velocity_W[i] + (1 - beta1) * grads_W[i]\n",
    "        velocity_b[i] = beta1 * velocity_b[i] + (1 - beta1) * grads_b[i]\n",
    "\n",
    "        # Second moment estimate\n",
    "        moment2_W[i] = beta2 * moment2_W[i] + (1 - beta2) * (grads_W[i] ** 2)\n",
    "        moment2_b[i] = beta2 * moment2_b[i] + (1 - beta2) * (grads_b[i] ** 2)\n",
    "\n",
    "        # Bias correction\n",
    "        velocity_W_corrected = (beta1 * velocity_W[i] + (1 - beta1) * grads_W[i]) / (1 - beta1 ** t)\n",
    "        velocity_b_corrected = (beta1 * velocity_b[i] + (1 - beta1) * grads_b[i]) / (1 - beta1 ** t)\n",
    "\n",
    "        moment2_W_corrected = moment2_W[i] / (1 - beta2 ** t)\n",
    "        moment2_b_corrected = moment2_b[i] / (1 - beta2 ** t)\n",
    "\n",
    "        # Parameter update\n",
    "        weights[i] -= learning_rate * velocity_W_corrected / (np.sqrt(moment2_W_corrected) + epsilon)\n",
    "        biases[i] -= learning_rate * velocity_b_corrected / (np.sqrt(moment2_b_corrected) + epsilon)\n",
    "    \n",
    "    return weights, biases, velocity_W, velocity_b, moment2_W, moment2_b\n",
    "\n",
    "# Initialize network weights and biases\n",
    "def init_weights(layers, method=\"random\"):\n",
    "    weights = []\n",
    "    biases = []\n",
    "    for i in range(len(layers) - 1):\n",
    "        if method == \"xavier\":\n",
    "            limit = np.sqrt(6 / (layers[i] + layers[i+1]))\n",
    "        else:  # Default to \"random\"\n",
    "            limit = 0.1\n",
    "        W = np.random.uniform(-limit, limit, (layers[i], layers[i+1]))\n",
    "        weights.append(W)\n",
    "        biases.append(np.zeros((1, layers[i+1])))\n",
    "    return weights, biases\n",
    "\n",
    "# Forward pass\n",
    "def forward(X, weights, biases, activation):\n",
    "    A = [X]\n",
    "    for i in range(len(weights) - 1):\n",
    "        Z = A[-1] @ weights[i] + biases[i]\n",
    "        A.append(activation_functions[activation](Z))\n",
    "    Z = A[-1] @ weights[-1] + biases[-1]\n",
    "    A.append(softmax(Z))\n",
    "    return A\n",
    "\n",
    "# Compute loss\n",
    "def compute_loss(y_true, y_pred, weights, weight_decay):\n",
    "    loss = -np.mean(np.sum(y_true * np.log(y_pred + 1e-8), axis=1))\n",
    "    loss += (weight_decay / 2) * sum(np.sum(W**2) for W in weights)\n",
    "    return loss\n",
    "\n",
    "# Backward pass\n",
    "def backward(X, y, A, weights, weight_decay, activation):\n",
    "    grads_W, grads_b = [], []\n",
    "    dA = A[-1] - y\n",
    "    \n",
    "    for i in reversed(range(len(weights))):\n",
    "        dW = A[i].T @ dA / X.shape[0]\n",
    "        db = np.sum(dA, axis=0, keepdims=True) / X.shape[0]\n",
    "        dW += weight_decay * weights[i]\n",
    "        grads_W.append(dW)\n",
    "        grads_b.append(db)\n",
    "        \n",
    "        if i > 0:\n",
    "            if activation == \"relu\":\n",
    "                dA = (dA @ weights[i].T) * (A[i] > 0)\n",
    "            elif activation == \"sigmoid\":\n",
    "                dA = (dA @ weights[i].T) * (A[i] * (1 - A[i]))\n",
    "            elif activation == \"tanh\":\n",
    "                dA = (dA @ weights[i].T) * (1 - A[i]**2)\n",
    "    \n",
    "    return grads_W[::-1], grads_b[::-1]\n",
    "\n",
    "# Get predictions from the model\n",
    "def predict(X, weights, biases, activation):\n",
    "    A = forward(X, weights, biases, activation)\n",
    "    return np.argmax(A[-1], axis=1)\n",
    "\n",
    "# Function to log confusion matrices at each epoch\n",
    "def log_confusion_matrix_per_epoch(X, y_true, weights, biases, activation, dataset_name, epoch):\n",
    "    # Get predictions\n",
    "    predictions = predict(X, weights, biases, activation)\n",
    "    \n",
    "    # Log the confusion matrix\n",
    "    wandb.log({\n",
    "        f\"{dataset_name}_confusion_matrix_epoch_{epoch}\": wandb.plot.confusion_matrix(\n",
    "            probs=None,\n",
    "            y_true=y_true, \n",
    "            preds=predictions,\n",
    "            class_names=class_names\n",
    "        ),\n",
    "        \"epoch\": epoch\n",
    "    })\n",
    "\n",
    "# Train function with per-epoch confusion matrix logging\n",
    "def train(X_train, y_train, X_val, y_val, y_train_original, y_val_original, layers, learning_rate, activation, optimizer, \n",
    "          weight_init, weight_decay, epochs, batch_size, beta=0.9, beta1=0.9, beta2=0.999, epsilon=1e-6):\n",
    "    \n",
    "    # Initialize weights and biases\n",
    "    weights, biases = init_weights(layers, weight_init)\n",
    "    \n",
    "    # Initialize optimizer-specific parameters\n",
    "    velocity_W = [np.zeros_like(W) for W in weights]\n",
    "    velocity_b = [np.zeros_like(b) for b in biases]\n",
    "    moment2_W = [np.zeros_like(W) for W in weights]\n",
    "    moment2_b = [np.zeros_like(b) for b in biases]\n",
    "    t = 1  # Timestep for Adam/Nadam\n",
    "    \n",
    "    num_samples = X_train.shape[0]\n",
    "    \n",
    "    # Keep track of best validation accuracy\n",
    "    best_val_acc = 0\n",
    "    best_weights, best_biases = None, None\n",
    "    \n",
    "    for epoch in range(epochs):\n",
    "        # Shuffle training data\n",
    "        indices = np.random.permutation(num_samples)\n",
    "        X_train_shuffled, y_train_shuffled = X_train[indices], y_train[indices]\n",
    "        y_train_original_shuffled = y_train_original[indices]\n",
    "        \n",
    "        total_loss, total_acc = 0, 0\n",
    "        num_batches = num_samples // batch_size\n",
    "        \n",
    "        for i in range(0, num_samples, batch_size):\n",
    "            X_batch = X_train_shuffled[i:i + batch_size]\n",
    "            y_batch = y_train_shuffled[i:i + batch_size]\n",
    "            \n",
    "            # Forward Pass\n",
    "            A = forward(X_batch, weights, biases, activation)\n",
    "            y_pred = A[-1]\n",
    "            \n",
    "            # Compute Loss & Accuracy\n",
    "            loss = compute_loss(y_batch, y_pred, weights, weight_decay)\n",
    "            acc = np.mean(np.argmax(y_pred, axis=1) == np.argmax(y_batch, axis=1))\n",
    "            \n",
    "            total_loss += loss * len(X_batch)\n",
    "            total_acc += acc * len(X_batch)\n",
    "            \n",
    "            # Backward Pass\n",
    "            grads_W, grads_b = backward(X_batch, y_batch, A, weights, weight_decay, activation)\n",
    "            \n",
    "            # Update Weights using the selected optimizer\n",
    "            if optimizer == \"sgd\":\n",
    "                weights, biases = sgd(weights, biases, grads_W, grads_b, learning_rate)\n",
    "            elif optimizer == \"momentum\":\n",
    "                weights, biases, velocity_W, velocity_b = momentum(\n",
    "                    weights, biases, grads_W, grads_b, learning_rate, velocity_W, velocity_b)\n",
    "            elif optimizer == \"nesterov\":\n",
    "                weights, biases, velocity_W, velocity_b = nesterov(\n",
    "                    weights, biases, grads_W, grads_b, learning_rate, velocity_W, velocity_b)\n",
    "            elif optimizer == \"rmsprop\":\n",
    "                weights, biases, velocity_W, velocity_b = rmsprop(\n",
    "                    weights, biases, grads_W, grads_b, learning_rate, velocity_W, velocity_b, beta, epsilon)\n",
    "            elif optimizer == \"adam\":\n",
    "                weights, biases, velocity_W, velocity_b, moment2_W, moment2_b = adam(\n",
    "                    weights, biases, grads_W, grads_b, learning_rate, velocity_W, velocity_b, \n",
    "                    moment2_W, moment2_b, t, beta1, beta2, epsilon)\n",
    "                t += 1\n",
    "            elif optimizer == \"nadam\":\n",
    "                weights, biases, velocity_W, velocity_b, moment2_W, moment2_b = nadam(\n",
    "                    weights, biases, grads_W, grads_b, learning_rate, velocity_W, velocity_b, \n",
    "                    moment2_W, moment2_b, t, beta1, beta2, epsilon)\n",
    "                t += 1\n",
    "        \n",
    "        # Compute average loss and accuracy for the epoch\n",
    "        avg_loss = total_loss / num_samples\n",
    "        avg_acc = total_acc / num_samples\n",
    "        \n",
    "        # Validation Metrics\n",
    "        val_A = forward(X_val, weights, biases, activation)\n",
    "        val_pred = val_A[-1]\n",
    "        val_loss = compute_loss(y_val, val_pred, weights, weight_decay)\n",
    "        val_acc = np.mean(np.argmax(val_pred, axis=1) == np.argmax(y_val, axis=1))\n",
    "        \n",
    "        # Log confusion matrices for training and validation data at each epoch\n",
    "        log_confusion_matrix_per_epoch(X_train, y_train_original, weights, biases, activation, \"train\", epoch+1)\n",
    "        log_confusion_matrix_per_epoch(X_val, y_val_original, weights, biases, activation, \"val\", epoch+1)\n",
    "        \n",
    "        # Log metrics to Weights & Biases\n",
    "        wandb.log({\n",
    "            \"epoch\": epoch + 1, \n",
    "            \"loss\": avg_loss, \n",
    "            \"accuracy\": avg_acc,\n",
    "            \"val_loss\": val_loss, \n",
    "            \"val_accuracy\": val_acc\n",
    "        })\n",
    "        \n",
    "        # Check if this is the best model so far\n",
    "        if val_acc > best_val_acc:\n",
    "            best_val_acc = val_acc\n",
    "            best_weights = [w.copy() for w in weights]\n",
    "            best_biases = [b.copy() for b in biases]\n",
    "    \n",
    "    # Return the best model weights and biases\n",
    "    return best_weights, best_biases\n",
    "\n",
    "# Function to run a single training job with wandb logging\n",
    "def train_model():\n",
    "    # Initialize wandb for this run\n",
    "    wandb.init(project=\"assignment_1\", entity=\"da24m015-iitm\")\n",
    "    config = wandb.config\n",
    "    wandb.run.name = f\"hl_{config.hidden_layers}_bs_{config.batch_size}_ac_{config.activation}\"\n",
    "    \n",
    "    # Create network architecture based on config\n",
    "    architecture = [784] + [config.hidden_size] * config.hidden_layers + [10]\n",
    "    \n",
    "    # Train the network and get the best model\n",
    "    best_weights, best_biases = train(\n",
    "        x_train, y_train, x_val, y_val, y_train_original, y_val_original,\n",
    "        layers=architecture,\n",
    "        learning_rate=config.learning_rate,\n",
    "        activation=config.activation,\n",
    "        optimizer=config.optimizer,\n",
    "        weight_init=config.weight_init,\n",
    "        weight_decay=config.weight_decay,\n",
    "        epochs=config.epochs,\n",
    "        batch_size=config.batch_size\n",
    "    )\n",
    "    \n",
    "    # Log the confusion matrices for the best model\n",
    "    # For the TRAIN dataset\n",
    "    train_predictions = predict(x_train, best_weights, best_biases, config.activation)\n",
    "    wandb.log({\n",
    "        \"best_model_train_confusion_matrix\": wandb.plot.confusion_matrix(\n",
    "            probs=None,\n",
    "            y_true=y_train_original,\n",
    "            preds=train_predictions,\n",
    "            class_names=class_names\n",
    "        )\n",
    "    })\n",
    "    \n",
    "    # For the TEST dataset\n",
    "    test_predictions = predict(x_test, best_weights, best_biases, config.activation)\n",
    "    wandb.log({\n",
    "        \"best_model_test_confusion_matrix\": wandb.plot.confusion_matrix(\n",
    "            probs=None,\n",
    "            y_true=y_test_original,\n",
    "            preds=test_predictions,\n",
    "            class_names=class_names\n",
    "        )\n",
    "    })\n",
    "    \n",
    "    # Calculate and log the test accuracy\n",
    "    test_accuracy = np.mean(test_predictions == y_test_original)\n",
    "    wandb.log({\"best_model_test_accuracy\": test_accuracy})\n",
    "    \n",
    "    # Log confusion matrices for validation set as well (for completeness)\n",
    "    val_predictions = predict(x_val, best_weights, best_biases, config.activation)\n",
    "    wandb.log({\n",
    "        \"best_model_val_confusion_matrix\": wandb.plot.confusion_matrix(\n",
    "            probs=None,\n",
    "            y_true=y_val_original,\n",
    "            preds=val_predictions,\n",
    "            class_names=class_names\n",
    "        )\n",
    "    })\n",
    "\n",
    "# Create the sweep\n",
    "sweep_id = wandb.sweep(sweep_config, project=\"assignment_1\")\n",
    "\n",
    "# Run the sweep\n",
    "wandb.agent(sweep_id, function=train_model)"
   ]
  },
  {
   "cell_type": "code",
   "execution_count": null,
   "metadata": {},
   "outputs": [
    {
     "name": "stdout",
     "output_type": "stream",
     "text": [
      "Create sweep with ID: lx7gbvwf\n",
      "Sweep URL: https://wandb.ai/da24m015-iitm/assignment_1/sweeps/lx7gbvwf\n"
     ]
    },
    {
     "name": "stderr",
     "output_type": "stream",
     "text": [
      "\u001b[34m\u001b[1mwandb\u001b[0m: Agent Starting Run: okra7oeu with config:\n",
      "\u001b[34m\u001b[1mwandb\u001b[0m: \tactivation: relu\n",
      "\u001b[34m\u001b[1mwandb\u001b[0m: \tbatch_size: 64\n",
      "\u001b[34m\u001b[1mwandb\u001b[0m: \tepochs: 10\n",
      "\u001b[34m\u001b[1mwandb\u001b[0m: \thidden_layers: 5\n",
      "\u001b[34m\u001b[1mwandb\u001b[0m: \thidden_size: 128\n",
      "\u001b[34m\u001b[1mwandb\u001b[0m: \tlearning_rate: 0.0001\n",
      "\u001b[34m\u001b[1mwandb\u001b[0m: \toptimizer: nadam\n",
      "\u001b[34m\u001b[1mwandb\u001b[0m: \tweight_decay: 0.0005\n",
      "\u001b[34m\u001b[1mwandb\u001b[0m: \tweight_init: xavier\n"
     ]
    },
    {
     "data": {
      "text/html": [
       "Ignoring project 'assignment_1' when running a sweep."
      ],
      "text/plain": [
       "<IPython.core.display.HTML object>"
      ]
     },
     "metadata": {},
     "output_type": "display_data"
    },
    {
     "data": {
      "text/html": [
       "Ignoring entity 'da24m015-iitm' when running a sweep."
      ],
      "text/plain": [
       "<IPython.core.display.HTML object>"
      ]
     },
     "metadata": {},
     "output_type": "display_data"
    },
    {
     "data": {
      "text/html": [
       "Tracking run with wandb version 0.19.7"
      ],
      "text/plain": [
       "<IPython.core.display.HTML object>"
      ]
     },
     "metadata": {},
     "output_type": "display_data"
    },
    {
     "data": {
      "text/html": [
       "Run data is saved locally in <code>c:\\Users\\Rajnish\\Desktop\\Rajnish\\M.Tech DSAI'26\\M.Tech DSAI 2024-2026\\Semester 2\\Introduction to Deep Learning\\Introduction-to-Deep-Learning-DA6401-\\Assignment 1\\wandb\\run-20250307_193409-okra7oeu</code>"
      ],
      "text/plain": [
       "<IPython.core.display.HTML object>"
      ]
     },
     "metadata": {},
     "output_type": "display_data"
    },
    {
     "data": {
      "text/html": [
       "Syncing run <strong><a href='https://wandb.ai/da24m015-iitm/assignment_1/runs/okra7oeu' target=\"_blank\">balmy-sweep-1</a></strong> to <a href='https://wandb.ai/da24m015-iitm/assignment_1' target=\"_blank\">Weights & Biases</a> (<a href='https://wandb.me/developer-guide' target=\"_blank\">docs</a>)<br>Sweep page: <a href='https://wandb.ai/da24m015-iitm/assignment_1/sweeps/lx7gbvwf' target=\"_blank\">https://wandb.ai/da24m015-iitm/assignment_1/sweeps/lx7gbvwf</a>"
      ],
      "text/plain": [
       "<IPython.core.display.HTML object>"
      ]
     },
     "metadata": {},
     "output_type": "display_data"
    },
    {
     "data": {
      "text/html": [
       " View project at <a href='https://wandb.ai/da24m015-iitm/assignment_1' target=\"_blank\">https://wandb.ai/da24m015-iitm/assignment_1</a>"
      ],
      "text/plain": [
       "<IPython.core.display.HTML object>"
      ]
     },
     "metadata": {},
     "output_type": "display_data"
    },
    {
     "data": {
      "text/html": [
       " View sweep at <a href='https://wandb.ai/da24m015-iitm/assignment_1/sweeps/lx7gbvwf' target=\"_blank\">https://wandb.ai/da24m015-iitm/assignment_1/sweeps/lx7gbvwf</a>"
      ],
      "text/plain": [
       "<IPython.core.display.HTML object>"
      ]
     },
     "metadata": {},
     "output_type": "display_data"
    },
    {
     "data": {
      "text/html": [
       " View run at <a href='https://wandb.ai/da24m015-iitm/assignment_1/runs/okra7oeu' target=\"_blank\">https://wandb.ai/da24m015-iitm/assignment_1/runs/okra7oeu</a>"
      ],
      "text/plain": [
       "<IPython.core.display.HTML object>"
      ]
     },
     "metadata": {},
     "output_type": "display_data"
    }
   ],
   "source": [
    "# not printing the confusion matrix\n",
    "import numpy as np\n",
    "from keras.datasets import fashion_mnist\n",
    "import wandb\n",
    "\n",
    "# Define the sweep configuration\n",
    "sweep_config = {\n",
    "    'method': 'random',\n",
    "    'metric': {'name': 'accuracy', 'goal': 'maximize'},\n",
    "    'parameters': {\n",
    "        'learning_rate': {'values': [1e-3, 1e-4]},\n",
    "        'batch_size': {'values': [16, 32, 64]},\n",
    "        'epochs': {'values': [5, 10]},\n",
    "        'hidden_layers': {'values': [3, 4, 5]},\n",
    "        'hidden_size': {'values': [32, 64, 128]},\n",
    "        'activation': {'values': ['relu', 'sigmoid', 'tanh']},\n",
    "        'optimizer': {'values': ['sgd', 'momentum', 'nesterov', 'rmsprop', 'adam', 'nadam']},\n",
    "        'weight_init': {'values': ['random', 'xavier']},\n",
    "        'weight_decay': {\"values\": [0, 0.0005, 0.5]}\n",
    "    },\n",
    "    \"run_cap\": 10\n",
    "}\n",
    "\n",
    "# Load and preprocess the Fashion-MNIST dataset\n",
    "(x_train, y_train), (x_test, y_test) = fashion_mnist.load_data()\n",
    "x_train, x_test = x_train / 255.0, x_test / 255.0\n",
    "x_train, x_test = x_train.reshape(x_train.shape[0], -1), x_test.reshape(x_test.shape[0], -1)\n",
    "num_classes = 10\n",
    "\n",
    "# Define class names for the Fashion-MNIST dataset\n",
    "class_names = ['T-shirt/top', 'Trouser', 'Pullover', 'Dress', 'Coat',\n",
    "               'Sandal', 'Shirt', 'Sneaker', 'Bag', 'Ankle boot']\n",
    "\n",
    "# One-hot encode the labels\n",
    "def one_hot_encode(y, num_classes):\n",
    "    encoded = np.zeros((y.size, num_classes))\n",
    "    encoded[np.arange(y.size), y] = 1\n",
    "    return encoded\n",
    "\n",
    "# Keep original labels for confusion matrix\n",
    "y_train_original = y_train.copy()\n",
    "y_test_original = y_test.copy()\n",
    "\n",
    "y_train, y_test = one_hot_encode(y_train, num_classes), one_hot_encode(y_test, num_classes)\n",
    "\n",
    "# Split training data into train and validation sets\n",
    "split_idx = int(0.9 * len(x_train))\n",
    "x_train, x_val = x_train[:split_idx], x_train[split_idx:]\n",
    "y_train, y_val = y_train[:split_idx], y_train[split_idx:]\n",
    "y_train_original, y_val_original = y_train_original[:split_idx], y_train_original[split_idx:]\n",
    "\n",
    "# Activation Functions\n",
    "def relu(Z):\n",
    "    return np.maximum(0, Z)\n",
    "\n",
    "def sigmoid(Z):\n",
    "    Z = np.clip(Z, -500, 500)\n",
    "    return 1 / (1 + np.exp(-Z))\n",
    "\n",
    "def tanh(Z):\n",
    "    return np.tanh(Z)\n",
    "\n",
    "def softmax(Z):\n",
    "    expZ = np.exp(Z - np.max(Z, axis=1, keepdims=True))\n",
    "    return expZ / np.sum(expZ, axis=1, keepdims=True)\n",
    "\n",
    "activation_functions = {\"relu\": relu, \"sigmoid\": sigmoid, \"tanh\": tanh}\n",
    "\n",
    "# Optimizer functions\n",
    "def sgd(weights, biases, grads_W, grads_b, learning_rate):\n",
    "    for i in range(len(weights)):\n",
    "        weights[i] -= learning_rate * grads_W[i]\n",
    "        biases[i] -= learning_rate * grads_b[i]\n",
    "    return weights, biases\n",
    "\n",
    "def momentum(weights, biases, grads_W, grads_b, learning_rate, velocity_W, velocity_b, momentum=0.9):\n",
    "    for i in range(len(weights)):\n",
    "        velocity_W[i] = momentum * velocity_W[i] - learning_rate * grads_W[i]\n",
    "        velocity_b[i] = momentum * velocity_b[i] - learning_rate * grads_b[i]\n",
    "\n",
    "        weights[i] += velocity_W[i]\n",
    "        biases[i] += velocity_b[i]\n",
    "    return weights, biases, velocity_W, velocity_b\n",
    "\n",
    "def nesterov(weights, biases, grads_W, grads_b, learning_rate, velocity_W, velocity_b, momentum=0.9):\n",
    "    for i in range(len(weights)):\n",
    "        # Compute lookahead position\n",
    "        lookahead_W = weights[i] + momentum * velocity_W[i]\n",
    "        lookahead_b = biases[i] + momentum * velocity_b[i]\n",
    "\n",
    "        # Update velocity\n",
    "        velocity_W[i] = momentum * velocity_W[i] - learning_rate * grads_W[i]\n",
    "        velocity_b[i] = momentum * velocity_b[i] - learning_rate * grads_b[i]\n",
    "\n",
    "        # Update weights and biases with corrected lookahead step\n",
    "        weights[i] = lookahead_W + velocity_W[i]\n",
    "        biases[i] = lookahead_b + velocity_b[i]\n",
    "    return weights, biases, velocity_W, velocity_b\n",
    "\n",
    "def rmsprop(weights, biases, grads_W, grads_b, learning_rate, velocity_W, velocity_b, beta=0.9, epsilon=1e-6):\n",
    "    for i in range(len(weights)):\n",
    "        # Update velocity for weights and biases separately\n",
    "        velocity_W[i] = beta * velocity_W[i] + (1 - beta) * (grads_W[i] ** 2)\n",
    "        velocity_b[i] = beta * velocity_b[i] + (1 - beta) * (grads_b[i] ** 2)\n",
    "\n",
    "        # Update weights\n",
    "        weights[i] -= learning_rate * grads_W[i] / (np.sqrt(velocity_W[i]) + epsilon)\n",
    "\n",
    "        # Update biases\n",
    "        biases[i] -= learning_rate * grads_b[i] / (np.sqrt(velocity_b[i]) + epsilon)\n",
    "    return weights, biases, velocity_W, velocity_b\n",
    "\n",
    "def adam(weights, biases, grads_W, grads_b, learning_rate, velocity_W, velocity_b, moment2_W, moment2_b, t, beta1=0.9, beta2=0.999, epsilon=1e-6):\n",
    "    for i in range(len(weights)):\n",
    "        # First moment estimate\n",
    "        velocity_W[i] = beta1 * velocity_W[i] + (1 - beta1) * grads_W[i]\n",
    "        velocity_b[i] = beta1 * velocity_b[i] + (1 - beta1) * grads_b[i]\n",
    "\n",
    "        # Second moment estimate\n",
    "        moment2_W[i] = beta2 * moment2_W[i] + (1 - beta2) * (grads_W[i] ** 2)\n",
    "        moment2_b[i] = beta2 * moment2_b[i] + (1 - beta2) * (grads_b[i] ** 2)\n",
    "\n",
    "        # Bias correction\n",
    "        velocity_W_corrected = velocity_W[i] / (1 - beta1 ** t)\n",
    "        velocity_b_corrected = velocity_b[i] / (1 - beta1 ** t)\n",
    "\n",
    "        moment2_W_corrected = moment2_W[i] / (1 - beta2 ** t)\n",
    "        moment2_b_corrected = moment2_b[i] / (1 - beta2 ** t)\n",
    "\n",
    "        # Check and correct shape mismatch\n",
    "        if moment2_b_corrected.shape != biases[i].shape:\n",
    "            print(f\"Shape mismatch at layer {i}: {moment2_b_corrected.shape} vs {biases[i].shape}\")\n",
    "            moment2_b_corrected = np.reshape(moment2_b_corrected, biases[i].shape)\n",
    "\n",
    "        # Parameter update\n",
    "        weights[i] -= learning_rate * velocity_W_corrected / (np.sqrt(moment2_W_corrected) + epsilon)\n",
    "        biases[i] -= learning_rate * velocity_b_corrected / (np.sqrt(moment2_b_corrected) + epsilon)\n",
    "    \n",
    "    return weights, biases, velocity_W, velocity_b, moment2_W, moment2_b\n",
    "\n",
    "def nadam(weights, biases, grads_W, grads_b, learning_rate, velocity_W, velocity_b, moment2_W, moment2_b, t, beta1=0.9, beta2=0.999, epsilon=1e-6):\n",
    "    for i in range(len(weights)):\n",
    "        # First moment estimate\n",
    "        velocity_W[i] = beta1 * velocity_W[i] + (1 - beta1) * grads_W[i]\n",
    "        velocity_b[i] = beta1 * velocity_b[i] + (1 - beta1) * grads_b[i]\n",
    "\n",
    "        # Second moment estimate\n",
    "        moment2_W[i] = beta2 * moment2_W[i] + (1 - beta2) * (grads_W[i] ** 2)\n",
    "        moment2_b[i] = beta2 * moment2_b[i] + (1 - beta2) * (grads_b[i] ** 2)\n",
    "\n",
    "        # Bias correction\n",
    "        velocity_W_corrected = (beta1 * velocity_W[i] + (1 - beta1) * grads_W[i]) / (1 - beta1 ** t)\n",
    "        velocity_b_corrected = (beta1 * velocity_b[i] + (1 - beta1) * grads_b[i]) / (1 - beta1 ** t)\n",
    "\n",
    "        moment2_W_corrected = moment2_W[i] / (1 - beta2 ** t)\n",
    "        moment2_b_corrected = moment2_b[i] / (1 - beta2 ** t)\n",
    "\n",
    "        # Parameter update\n",
    "        weights[i] -= learning_rate * velocity_W_corrected / (np.sqrt(moment2_W_corrected) + epsilon)\n",
    "        biases[i] -= learning_rate * velocity_b_corrected / (np.sqrt(moment2_b_corrected) + epsilon)\n",
    "    \n",
    "    return weights, biases, velocity_W, velocity_b, moment2_W, moment2_b\n",
    "\n",
    "# Initialize network weights and biases\n",
    "def init_weights(layers, method=\"random\"):\n",
    "    weights = []\n",
    "    biases = []\n",
    "    for i in range(len(layers) - 1):\n",
    "        if method == \"xavier\":\n",
    "            limit = np.sqrt(6 / (layers[i] + layers[i+1]))\n",
    "        else:  # Default to \"random\"\n",
    "            limit = 0.1\n",
    "        W = np.random.uniform(-limit, limit, (layers[i], layers[i+1]))\n",
    "        weights.append(W)\n",
    "        biases.append(np.zeros((1, layers[i+1])))\n",
    "    return weights, biases\n",
    "\n",
    "# Forward pass\n",
    "def forward(X, weights, biases, activation):\n",
    "    A = [X]\n",
    "    for i in range(len(weights) - 1):\n",
    "        Z = A[-1] @ weights[i] + biases[i]\n",
    "        A.append(activation_functions[activation](Z))\n",
    "    Z = A[-1] @ weights[-1] + biases[-1]\n",
    "    A.append(softmax(Z))\n",
    "    return A\n",
    "\n",
    "# Compute loss\n",
    "def compute_loss(y_true, y_pred, weights, weight_decay):\n",
    "    loss = -np.mean(np.sum(y_true * np.log(y_pred + 1e-8), axis=1))\n",
    "    loss += (weight_decay / 2) * sum(np.sum(W**2) for W in weights)\n",
    "    return loss\n",
    "\n",
    "# Backward pass\n",
    "def backward(X, y, A, weights, weight_decay, activation):\n",
    "    grads_W, grads_b = [], []\n",
    "    dA = A[-1] - y\n",
    "    \n",
    "    for i in reversed(range(len(weights))):\n",
    "        dW = A[i].T @ dA / X.shape[0]\n",
    "        db = np.sum(dA, axis=0, keepdims=True) / X.shape[0]\n",
    "        dW += weight_decay * weights[i]\n",
    "        grads_W.append(dW)\n",
    "        grads_b.append(db)\n",
    "        \n",
    "        if i > 0:\n",
    "            if activation == \"relu\":\n",
    "                dA = (dA @ weights[i].T) * (A[i] > 0)\n",
    "            elif activation == \"sigmoid\":\n",
    "                dA = (dA @ weights[i].T) * (A[i] * (1 - A[i]))\n",
    "            elif activation == \"tanh\":\n",
    "                dA = (dA @ weights[i].T) * (1 - A[i]**2)\n",
    "    \n",
    "    return grads_W[::-1], grads_b[::-1]\n",
    "\n",
    "# Get predictions from the model\n",
    "def predict(X, weights, biases, activation):\n",
    "    A = forward(X, weights, biases, activation)\n",
    "    return np.argmax(A[-1], axis=1)\n",
    "\n",
    "# Function to log confusion matrices at each epoch\n",
    "def log_confusion_matrix_per_epoch(X, y_true, weights, biases, activation, dataset_name, epoch):\n",
    "    # Get predictions\n",
    "    predictions = predict(X, weights, biases, activation)\n",
    "    \n",
    "    # Log the confusion matrix\n",
    "    wandb.log({\n",
    "        f\"{dataset_name}_confusion_matrix_epoch_{epoch}\": wandb.plot.confusion_matrix(\n",
    "            probs=None,\n",
    "            y_true=y_true, \n",
    "            preds=predictions,\n",
    "            class_names=class_names\n",
    "        ),\n",
    "        \"epoch\": epoch\n",
    "    })\n",
    "\n",
    "# Train function with per-epoch confusion matrix logging\n",
    "def train(X_train, y_train, X_val, y_val, y_train_original, y_val_original, layers, learning_rate, activation, optimizer, \n",
    "          weight_init, weight_decay, epochs, batch_size, beta=0.9, beta1=0.9, beta2=0.999, epsilon=1e-6):\n",
    "    \n",
    "    # Initialize weights and biases\n",
    "    weights, biases = init_weights(layers, weight_init)\n",
    "    \n",
    "    # Initialize optimizer-specific parameters\n",
    "    velocity_W = [np.zeros_like(W) for W in weights]\n",
    "    velocity_b = [np.zeros_like(b) for b in biases]\n",
    "    moment2_W = [np.zeros_like(W) for W in weights]\n",
    "    moment2_b = [np.zeros_like(b) for b in biases]\n",
    "    t = 1  # Timestep for Adam/Nadam\n",
    "    \n",
    "    num_samples = X_train.shape[0]\n",
    "    \n",
    "    # Keep track of best validation accuracy\n",
    "    best_val_acc = 0\n",
    "    best_weights, best_biases = None, None\n",
    "    \n",
    "    for epoch in range(epochs):\n",
    "        # Shuffle training data\n",
    "        indices = np.random.permutation(num_samples)\n",
    "        X_train_shuffled, y_train_shuffled = X_train[indices], y_train[indices]\n",
    "        y_train_original_shuffled = y_train_original[indices]\n",
    "        \n",
    "        total_loss, total_acc = 0, 0\n",
    "        num_batches = num_samples // batch_size\n",
    "        \n",
    "        for i in range(0, num_samples, batch_size):\n",
    "            X_batch = X_train_shuffled[i:i + batch_size]\n",
    "            y_batch = y_train_shuffled[i:i + batch_size]\n",
    "            \n",
    "            # Forward Pass\n",
    "            A = forward(X_batch, weights, biases, activation)\n",
    "            y_pred = A[-1]\n",
    "            \n",
    "            # Compute Loss & Accuracy\n",
    "            loss = compute_loss(y_batch, y_pred, weights, weight_decay)\n",
    "            acc = np.mean(np.argmax(y_pred, axis=1) == np.argmax(y_batch, axis=1))\n",
    "            \n",
    "            total_loss += loss * len(X_batch)\n",
    "            total_acc += acc * len(X_batch)\n",
    "            \n",
    "            # Backward Pass\n",
    "            grads_W, grads_b = backward(X_batch, y_batch, A, weights, weight_decay, activation)\n",
    "            \n",
    "            # Update Weights using the selected optimizer\n",
    "            if optimizer == \"sgd\":\n",
    "                weights, biases = sgd(weights, biases, grads_W, grads_b, learning_rate)\n",
    "            elif optimizer == \"momentum\":\n",
    "                weights, biases, velocity_W, velocity_b = momentum(\n",
    "                    weights, biases, grads_W, grads_b, learning_rate, velocity_W, velocity_b)\n",
    "            elif optimizer == \"nesterov\":\n",
    "                weights, biases, velocity_W, velocity_b = nesterov(\n",
    "                    weights, biases, grads_W, grads_b, learning_rate, velocity_W, velocity_b)\n",
    "            elif optimizer == \"rmsprop\":\n",
    "                weights, biases, velocity_W, velocity_b = rmsprop(\n",
    "                    weights, biases, grads_W, grads_b, learning_rate, velocity_W, velocity_b, beta, epsilon)\n",
    "            elif optimizer == \"adam\":\n",
    "                weights, biases, velocity_W, velocity_b, moment2_W, moment2_b = adam(\n",
    "                    weights, biases, grads_W, grads_b, learning_rate, velocity_W, velocity_b, \n",
    "                    moment2_W, moment2_b, t, beta1, beta2, epsilon)\n",
    "                t += 1\n",
    "            elif optimizer == \"nadam\":\n",
    "                weights, biases, velocity_W, velocity_b, moment2_W, moment2_b = nadam(\n",
    "                    weights, biases, grads_W, grads_b, learning_rate, velocity_W, velocity_b, \n",
    "                    moment2_W, moment2_b, t, beta1, beta2, epsilon)\n",
    "                t += 1\n",
    "        \n",
    "        # Compute average loss and accuracy for the epoch\n",
    "        avg_loss = total_loss / num_samples\n",
    "        avg_acc = total_acc / num_samples\n",
    "        \n",
    "        # Validation Metrics\n",
    "        val_A = forward(X_val, weights, biases, activation)\n",
    "        val_pred = val_A[-1]\n",
    "        val_loss = compute_loss(y_val, val_pred, weights, weight_decay)\n",
    "        val_acc = np.mean(np.argmax(val_pred, axis=1) == np.argmax(y_val, axis=1))\n",
    "        \n",
    "        # Log confusion matrices for training and validation data at each epoch\n",
    "        log_confusion_matrix_per_epoch(X_train, y_train_original, weights, biases, activation, \"train\", epoch+1)\n",
    "        log_confusion_matrix_per_epoch(X_val, y_val_original, weights, biases, activation, \"val\", epoch+1)\n",
    "        \n",
    "        # Log metrics to Weights & Biases\n",
    "        wandb.log({\n",
    "            \"epoch\": epoch + 1, \n",
    "            \"loss\": avg_loss, \n",
    "            \"accuracy\": avg_acc,\n",
    "            \"val_loss\": val_loss, \n",
    "            \"val_accuracy\": val_acc\n",
    "        })\n",
    "        \n",
    "        # Check if this is the best model so far\n",
    "        if val_acc > best_val_acc:\n",
    "            best_val_acc = val_acc\n",
    "            best_weights = [w.copy() for w in weights]\n",
    "            best_biases = [b.copy() for b in biases]\n",
    "    \n",
    "    # Return the best model weights and biases\n",
    "    return best_weights, best_biases\n",
    "\n",
    "# Function to run a single training job with wandb logging\n",
    "def train_model():\n",
    "    # Initialize wandb for this run\n",
    "    wandb.init(project=\"assignment_1\", entity=\"da24m015-iitm\")\n",
    "    config = wandb.config\n",
    "    wandb.run.name = f\"hl_{config.hidden_layers}_bs_{config.batch_size}_ac_{config.activation}\"\n",
    "    \n",
    "    # Create network architecture based on config\n",
    "    architecture = [784] + [config.hidden_size] * config.hidden_layers + [10]\n",
    "    \n",
    "    # Train the network and get the best model\n",
    "    best_weights, best_biases = train(\n",
    "        x_train, y_train, x_val, y_val, y_train_original, y_val_original,\n",
    "        layers=architecture,\n",
    "        learning_rate=config.learning_rate,\n",
    "        activation=config.activation,\n",
    "        optimizer=config.optimizer,\n",
    "        weight_init=config.weight_init,\n",
    "        weight_decay=config.weight_decay,\n",
    "        epochs=config.epochs,\n",
    "        batch_size=config.batch_size\n",
    "    )\n",
    "    \n",
    "    # Log final test confusion matrix\n",
    "    log_confusion_matrix_per_epoch(x_test, y_test_original, best_weights, best_biases, config.activation, \"test\", config.epochs)\n",
    "\n",
    "# Create the sweep\n",
    "sweep_id = wandb.sweep(sweep_config, project=\"assignment_1\")\n",
    "\n",
    "# Run the sweep\n",
    "wandb.agent(sweep_id, function=train_model)"
   ]
  },
  {
   "cell_type": "code",
   "execution_count": null,
   "metadata": {},
   "outputs": [
    {
     "name": "stderr",
     "output_type": "stream",
     "text": [
      "\u001b[34m\u001b[1mwandb\u001b[0m: Using wandb-core as the SDK backend.  Please refer to https://wandb.me/wandb-core for more information.\n"
     ]
    },
    {
     "name": "stdout",
     "output_type": "stream",
     "text": [
      "Create sweep with ID: 0t4kxske\n",
      "Sweep URL: https://wandb.ai/da24m015-iitm/assignment_1/sweeps/0t4kxske\n"
     ]
    },
    {
     "name": "stderr",
     "output_type": "stream",
     "text": [
      "\u001b[34m\u001b[1mwandb\u001b[0m: Agent Starting Run: q08420bc with config:\n",
      "\u001b[34m\u001b[1mwandb\u001b[0m: \tactivation: sigmoid\n",
      "\u001b[34m\u001b[1mwandb\u001b[0m: \tbatch_size: 64\n",
      "\u001b[34m\u001b[1mwandb\u001b[0m: \tepochs: 5\n",
      "\u001b[34m\u001b[1mwandb\u001b[0m: \thidden_layers: 3\n",
      "\u001b[34m\u001b[1mwandb\u001b[0m: \thidden_size: 32\n",
      "\u001b[34m\u001b[1mwandb\u001b[0m: \tlearning_rate: 0.001\n",
      "\u001b[34m\u001b[1mwandb\u001b[0m: \toptimizer: nesterov\n",
      "\u001b[34m\u001b[1mwandb\u001b[0m: \tweight_decay: 0\n",
      "\u001b[34m\u001b[1mwandb\u001b[0m: \tweight_init: random\n",
      "\u001b[34m\u001b[1mwandb\u001b[0m: Currently logged in as: \u001b[33mda24m015\u001b[0m (\u001b[33mda24m015-iitm\u001b[0m) to \u001b[32mhttps://api.wandb.ai\u001b[0m. Use \u001b[1m`wandb login --relogin`\u001b[0m to force relogin\n"
     ]
    },
    {
     "data": {
      "text/html": [
       "Ignoring project 'assignment_1' when running a sweep."
      ],
      "text/plain": [
       "<IPython.core.display.HTML object>"
      ]
     },
     "metadata": {},
     "output_type": "display_data"
    },
    {
     "data": {
      "text/html": [
       "Ignoring entity 'da24m015-iitm' when running a sweep."
      ],
      "text/plain": [
       "<IPython.core.display.HTML object>"
      ]
     },
     "metadata": {},
     "output_type": "display_data"
    },
    {
     "data": {
      "text/html": [
       "Tracking run with wandb version 0.19.7"
      ],
      "text/plain": [
       "<IPython.core.display.HTML object>"
      ]
     },
     "metadata": {},
     "output_type": "display_data"
    },
    {
     "data": {
      "text/html": [
       "Run data is saved locally in <code>c:\\Users\\Rajnish\\Desktop\\Rajnish\\M.Tech DSAI'26\\M.Tech DSAI 2024-2026\\Semester 2\\Introduction to Deep Learning\\Introduction-to-Deep-Learning-DA6401-\\Assignment 1\\wandb\\run-20250307_232335-q08420bc</code>"
      ],
      "text/plain": [
       "<IPython.core.display.HTML object>"
      ]
     },
     "metadata": {},
     "output_type": "display_data"
    },
    {
     "data": {
      "text/html": [
       "Syncing run <strong><a href='https://wandb.ai/da24m015-iitm/assignment_1/runs/q08420bc' target=\"_blank\">different-sweep-1</a></strong> to <a href='https://wandb.ai/da24m015-iitm/assignment_1' target=\"_blank\">Weights & Biases</a> (<a href='https://wandb.me/developer-guide' target=\"_blank\">docs</a>)<br>Sweep page: <a href='https://wandb.ai/da24m015-iitm/assignment_1/sweeps/0t4kxske' target=\"_blank\">https://wandb.ai/da24m015-iitm/assignment_1/sweeps/0t4kxske</a>"
      ],
      "text/plain": [
       "<IPython.core.display.HTML object>"
      ]
     },
     "metadata": {},
     "output_type": "display_data"
    },
    {
     "data": {
      "text/html": [
       " View project at <a href='https://wandb.ai/da24m015-iitm/assignment_1' target=\"_blank\">https://wandb.ai/da24m015-iitm/assignment_1</a>"
      ],
      "text/plain": [
       "<IPython.core.display.HTML object>"
      ]
     },
     "metadata": {},
     "output_type": "display_data"
    },
    {
     "data": {
      "text/html": [
       " View sweep at <a href='https://wandb.ai/da24m015-iitm/assignment_1/sweeps/0t4kxske' target=\"_blank\">https://wandb.ai/da24m015-iitm/assignment_1/sweeps/0t4kxske</a>"
      ],
      "text/plain": [
       "<IPython.core.display.HTML object>"
      ]
     },
     "metadata": {},
     "output_type": "display_data"
    },
    {
     "data": {
      "text/html": [
       " View run at <a href='https://wandb.ai/da24m015-iitm/assignment_1/runs/q08420bc' target=\"_blank\">https://wandb.ai/da24m015-iitm/assignment_1/runs/q08420bc</a>"
      ],
      "text/plain": [
       "<IPython.core.display.HTML object>"
      ]
     },
     "metadata": {},
     "output_type": "display_data"
    },
    {
     "name": "stdout",
     "output_type": "stream",
     "text": [
      "Best_weights:[array([[-0.05216659,  0.08270878,  0.03424146, ..., -0.05701827,\n",
      "         0.02512718,  0.02028427],\n",
      "       [-0.08653061,  0.01632067, -0.08762236, ...,  0.07152038,\n",
      "        -0.01927711,  0.07835504],\n",
      "       [-0.0117141 , -0.02355968, -0.02705998, ..., -0.08495119,\n",
      "         0.00554691,  0.04150443],\n",
      "       ...,\n",
      "       [ 0.09507752,  0.07022542,  0.06338356, ..., -0.0729068 ,\n",
      "         0.04327816,  0.03189479],\n",
      "       [-0.05825874, -0.01498061,  0.0757699 , ...,  0.07003182,\n",
      "        -0.00849934,  0.07575871],\n",
      "       [-0.00014141, -0.03266108, -0.04543727, ..., -0.0056526 ,\n",
      "        -0.04470036,  0.02271949]]), array([[-0.0023959 , -0.09006189, -0.02136422, ..., -0.04316662,\n",
      "         0.01400784,  0.03983845],\n",
      "       [ 0.02164511, -0.00310404, -0.0551893 , ...,  0.09742472,\n",
      "        -0.05402902, -0.00297696],\n",
      "       [ 0.02413507,  0.03307944,  0.01728318, ...,  0.0236859 ,\n",
      "        -0.01415782, -0.06944164],\n",
      "       ...,\n",
      "       [ 0.07210727,  0.03792157,  0.0323013 , ...,  0.09656563,\n",
      "         0.08875263,  0.06041894],\n",
      "       [-0.09099873, -0.05896212,  0.02472247, ..., -0.09097489,\n",
      "         0.00644385,  0.04079183],\n",
      "       [ 0.0728147 , -0.0438803 ,  0.03320467, ..., -0.09058498,\n",
      "        -0.06551548,  0.02527627]]), array([[-0.0545199 , -0.06111314,  0.02851526, ..., -0.01343746,\n",
      "        -0.00505641, -0.04141487],\n",
      "       [ 0.05655327, -0.09237537, -0.06909855, ...,  0.0330502 ,\n",
      "         0.05247089, -0.01283374],\n",
      "       [-0.05099796,  0.00100439,  0.03964589, ..., -0.00975702,\n",
      "         0.0109366 , -0.06446803],\n",
      "       ...,\n",
      "       [ 0.07155018, -0.09000184,  0.01433916, ..., -0.02010795,\n",
      "        -0.01370145, -0.01185795],\n",
      "       [-0.10091445, -0.0816019 , -0.05520715, ..., -0.05327219,\n",
      "         0.05497049,  0.07124964],\n",
      "       [ 0.09319223, -0.0161325 , -0.06995358, ...,  0.06714347,\n",
      "         0.0189672 ,  0.01063371]]), array([[-0.10231135,  0.04529275,  0.0370583 ,  0.09634916, -0.0896469 ,\n",
      "         0.04701805,  0.08104247,  0.07793058, -0.06547083, -0.02820761],\n",
      "       [ 0.02941243, -0.06195998, -0.07990435,  0.07776146, -0.02933797,\n",
      "         0.03448653, -0.04954966, -0.10500714, -0.028512  , -0.02762022],\n",
      "       [-0.03726506, -0.0634158 , -0.09850123, -0.04616225,  0.00625629,\n",
      "         0.05040189,  0.05045783, -0.00393623,  0.02552479, -0.00404845],\n",
      "       [ 0.05527147, -0.07555177,  0.03855774,  0.04446941, -0.02376674,\n",
      "         0.02113141,  0.09240922, -0.03657085, -0.03189164,  0.06572793],\n",
      "       [ 0.03597326, -0.06392549, -0.01410862, -0.09897447, -0.08034157,\n",
      "         0.01730818,  0.0286856 ,  0.05092429,  0.01705501,  0.01685684],\n",
      "       [ 0.07745786, -0.05460242,  0.06818827,  0.02117104,  0.08394983,\n",
      "        -0.08079432,  0.00716493, -0.02633357,  0.00992843,  0.02632957],\n",
      "       [ 0.0663031 ,  0.02323848,  0.04042961,  0.07485347,  0.09504494,\n",
      "         0.0322527 , -0.10351807, -0.03394265, -0.02822409,  0.10715004],\n",
      "       [-0.08687948, -0.00842846, -0.09577191,  0.08530019,  0.08304009,\n",
      "         0.06555035, -0.05738264, -0.00508997,  0.01998546,  0.00918469],\n",
      "       [ 0.06300734, -0.01896538, -0.02481066,  0.02656103,  0.03466663,\n",
      "         0.08877111, -0.03770229,  0.08660711, -0.07150944, -0.01628761],\n",
      "       [ 0.08225407, -0.0202443 ,  0.07300048, -0.09884927, -0.02048952,\n",
      "        -0.09078664,  0.07114533,  0.05595869, -0.05422923, -0.08832853],\n",
      "       [-0.03801946, -0.06111878,  0.0171498 ,  0.07051078, -0.02499353,\n",
      "        -0.04294312,  0.03346052,  0.06361508,  0.02865998, -0.05577325],\n",
      "       [ 0.01927551, -0.07749706, -0.05697835, -0.01679819, -0.08042067,\n",
      "        -0.04457773, -0.01318196, -0.05978772,  0.04044408, -0.06888191],\n",
      "       [-0.01395861, -0.05771243, -0.04606487,  0.06662676, -0.06674572,\n",
      "         0.04638367,  0.06130411, -0.09022572,  0.039396  ,  0.04134978],\n",
      "       [ 0.03498308,  0.10188789,  0.01462883,  0.02305129,  0.08948925,\n",
      "         0.00774712,  0.00987968, -0.06350704, -0.03882704, -0.00406839],\n",
      "       [-0.02966571, -0.06259442,  0.01308345, -0.03990968,  0.09482062,\n",
      "        -0.0522973 ,  0.08546891,  0.06383633,  0.07237738,  0.0397812 ],\n",
      "       [-0.05422065, -0.03598913, -0.01819882, -0.04787887, -0.0868388 ,\n",
      "        -0.08725238,  0.06943923,  0.01723907, -0.03896717,  0.09939456],\n",
      "       [-0.02522786,  0.06137824, -0.0622578 ,  0.00956811, -0.02676621,\n",
      "         0.04081752,  0.05845225, -0.00540558, -0.03503078, -0.04231286],\n",
      "       [-0.01042537,  0.09654096, -0.0289798 ,  0.05425987, -0.01502846,\n",
      "        -0.03158306,  0.04510024,  0.07209341, -0.03556749, -0.06707787],\n",
      "       [-0.10532905,  0.02394022,  0.0171583 , -0.07069602,  0.09717282,\n",
      "        -0.02248492, -0.10494958, -0.05870474, -0.02637438,  0.04297424],\n",
      "       [-0.02171435, -0.05614452,  0.03421533, -0.09263879,  0.04713536,\n",
      "         0.03496516, -0.06811744, -0.0655526 ,  0.0678841 ,  0.08575217],\n",
      "       [ 0.02681242, -0.03567656,  0.05558217,  0.03512918, -0.00970256,\n",
      "         0.06806195,  0.05289915, -0.06360643,  0.0542596 , -0.02851971],\n",
      "       [ 0.03776733,  0.0339927 ,  0.08290237,  0.06202407,  0.027227  ,\n",
      "         0.03733706, -0.09071611, -0.04969703, -0.01272247, -0.03686188],\n",
      "       [ 0.06155449, -0.02229283, -0.05387135, -0.00558676, -0.04203346,\n",
      "         0.05233625, -0.05167325,  0.08904198, -0.00292111, -0.01883697],\n",
      "       [-0.03012027, -0.0110135 , -0.10598427,  0.03463226, -0.08642652,\n",
      "        -0.09108314, -0.05212115,  0.06165856, -0.08824665, -0.05059163],\n",
      "       [-0.01409193, -0.0578136 , -0.06095094, -0.04690065,  0.01187213,\n",
      "         0.04506746, -0.04709445,  0.07798252,  0.05973116,  0.04902322],\n",
      "       [ 0.02479566, -0.02604883, -0.02955746, -0.0471254 , -0.03833309,\n",
      "        -0.09485783, -0.05783972,  0.01192799,  0.04659036, -0.01596215],\n",
      "       [-0.01234229,  0.0413858 ,  0.09398912,  0.04689015, -0.0744771 ,\n",
      "         0.06035649,  0.0627004 ,  0.055253  , -0.04213284, -0.06435005],\n",
      "       [ 0.03299975,  0.06407156, -0.07673035, -0.08364507, -0.0418875 ,\n",
      "        -0.02268728, -0.04667873,  0.04137667, -0.07149606, -0.0068543 ],\n",
      "       [ 0.0018442 ,  0.05383069,  0.03666366, -0.0830645 , -0.00747715,\n",
      "         0.03401339, -0.027772  , -0.07494606,  0.05481085, -0.07482273],\n",
      "       [-0.0584457 ,  0.07934741,  0.05427752, -0.07009233,  0.01379531,\n",
      "        -0.09938074, -0.07460173, -0.07485915,  0.08961424, -0.02489318],\n",
      "       [-0.0710459 ,  0.11031365,  0.02318076, -0.01835582, -0.02835686,\n",
      "         0.0568576 , -0.0296543 , -0.06596985,  0.09642487,  0.09426758],\n",
      "       [ 0.00212227,  0.00752841,  0.0290572 ,  0.02884387,  0.02855929,\n",
      "        -0.08084828,  0.09237882,  0.03287633, -0.00624386,  0.03171891]])],Best_biases:[array([[-1.29234289e-04, -9.18414087e-05,  1.09943234e-04,\n",
      "        -9.42384500e-05, -1.76917894e-05,  1.16253175e-04,\n",
      "         4.27059143e-05, -6.78717917e-05, -2.87288244e-04,\n",
      "         1.88232308e-05,  1.12035482e-04, -1.12975955e-04,\n",
      "         3.84434631e-04, -5.98267516e-05, -8.61720041e-06,\n",
      "        -1.73553080e-04,  1.23075891e-05, -1.01041180e-04,\n",
      "         2.60324427e-06,  5.53813525e-04,  6.16151465e-05,\n",
      "         1.75759592e-04, -1.28826267e-04,  1.26509884e-04,\n",
      "         2.65483122e-05,  1.41630536e-06, -3.74851936e-05,\n",
      "         1.13549135e-04,  3.65687137e-05,  5.52925049e-05,\n",
      "         2.15516752e-06,  3.31579955e-05]]), array([[ 1.48235416e-04, -1.39241527e-04, -1.42836781e-04,\n",
      "        -1.65449869e-05, -4.59057058e-05,  8.41226770e-05,\n",
      "        -1.99628849e-04, -3.76295848e-05,  2.40720665e-05,\n",
      "        -2.09042335e-04, -1.43182520e-04,  7.34335666e-05,\n",
      "         2.52858550e-05,  7.09854775e-05, -7.54162681e-05,\n",
      "        -3.48580375e-05, -2.54595127e-05,  1.83491952e-05,\n",
      "         1.04608440e-05,  1.61300514e-04,  9.78580899e-05,\n",
      "        -3.91620786e-04,  5.53130969e-05, -1.48560411e-04,\n",
      "        -2.34826394e-04, -4.16987142e-05,  1.71325981e-04,\n",
      "        -1.25048934e-04,  9.88554014e-06, -9.17729497e-05,\n",
      "        -2.60623939e-05, -9.62181673e-05]]), array([[-1.64257301e-03, -1.49814383e-03, -1.42072048e-03,\n",
      "        -2.39302161e-03, -2.00848800e-03, -1.57057929e-03,\n",
      "        -5.26472700e-04, -1.87916693e-04, -1.85516093e-03,\n",
      "        -2.60592124e-03, -2.07072358e-03, -2.10585825e-03,\n",
      "        -1.67725182e-03, -4.70748149e-04, -1.24738877e-03,\n",
      "        -1.04463444e-03, -1.17825882e-03, -9.98598878e-04,\n",
      "         3.58103014e-04, -9.36802638e-04, -2.19311256e-03,\n",
      "        -1.31576745e-03, -2.02333590e-03, -1.24863993e-03,\n",
      "        -1.31548022e-03, -1.14432999e-03, -2.11715183e-03,\n",
      "        -8.08766544e-04, -1.36965004e-03,  6.61186957e-05,\n",
      "         3.29758807e-05, -7.39588693e-04]]), array([[-0.02014922,  0.0294882 , -0.0129924 ,  0.00054685,  0.01460573,\n",
      "        -0.01318343, -0.01344219, -0.00463048,  0.00031542,  0.01944152]])]\n"
     ]
    },
    {
     "data": {
      "text/html": [],
      "text/plain": [
       "<IPython.core.display.HTML object>"
      ]
     },
     "metadata": {},
     "output_type": "display_data"
    },
    {
     "data": {
      "text/html": [
       "<br>    <style><br>        .wandb-row {<br>            display: flex;<br>            flex-direction: row;<br>            flex-wrap: wrap;<br>            justify-content: flex-start;<br>            width: 100%;<br>        }<br>        .wandb-col {<br>            display: flex;<br>            flex-direction: column;<br>            flex-basis: 100%;<br>            flex: 1;<br>            padding: 10px;<br>        }<br>    </style><br><div class=\"wandb-row\"><div class=\"wandb-col\"><h3>Run history:</h3><br/><table class=\"wandb\"><tr><td>accuracy</td><td>▂▇▁██</td></tr><tr><td>epoch</td><td>▁▃▅▆█</td></tr><tr><td>loss</td><td>█▂▃▁▁</td></tr><tr><td>val_accuracy</td><td>██▄█▁</td></tr><tr><td>val_loss</td><td>▁▅▅▆█</td></tr></table><br/></div><div class=\"wandb-col\"><h3>Run summary:</h3><br/><table class=\"wandb\"><tr><td>accuracy</td><td>0.10076</td></tr><tr><td>epoch</td><td>5</td></tr><tr><td>loss</td><td>2.30309</td></tr><tr><td>val_accuracy</td><td>0.0925</td></tr><tr><td>val_loss</td><td>2.30353</td></tr></table><br/></div></div>"
      ],
      "text/plain": [
       "<IPython.core.display.HTML object>"
      ]
     },
     "metadata": {},
     "output_type": "display_data"
    },
    {
     "data": {
      "text/html": [
       " View run <strong style=\"color:#cdcd00\">hl_3_bs_64_ac_sigmoid</strong> at: <a href='https://wandb.ai/da24m015-iitm/assignment_1/runs/q08420bc' target=\"_blank\">https://wandb.ai/da24m015-iitm/assignment_1/runs/q08420bc</a><br> View project at: <a href='https://wandb.ai/da24m015-iitm/assignment_1' target=\"_blank\">https://wandb.ai/da24m015-iitm/assignment_1</a><br>Synced 5 W&B file(s), 2 media file(s), 4 artifact file(s) and 0 other file(s)"
      ],
      "text/plain": [
       "<IPython.core.display.HTML object>"
      ]
     },
     "metadata": {},
     "output_type": "display_data"
    },
    {
     "data": {
      "text/html": [
       "Find logs at: <code>.\\wandb\\run-20250307_232335-q08420bc\\logs</code>"
      ],
      "text/plain": [
       "<IPython.core.display.HTML object>"
      ]
     },
     "metadata": {},
     "output_type": "display_data"
    },
    {
     "name": "stderr",
     "output_type": "stream",
     "text": [
      "\u001b[34m\u001b[1mwandb\u001b[0m: Agent Starting Run: mcbi60ou with config:\n",
      "\u001b[34m\u001b[1mwandb\u001b[0m: \tactivation: tanh\n",
      "\u001b[34m\u001b[1mwandb\u001b[0m: \tbatch_size: 16\n",
      "\u001b[34m\u001b[1mwandb\u001b[0m: \tepochs: 5\n",
      "\u001b[34m\u001b[1mwandb\u001b[0m: \thidden_layers: 4\n",
      "\u001b[34m\u001b[1mwandb\u001b[0m: \thidden_size: 128\n",
      "\u001b[34m\u001b[1mwandb\u001b[0m: \tlearning_rate: 0.0001\n",
      "\u001b[34m\u001b[1mwandb\u001b[0m: \toptimizer: nesterov\n",
      "\u001b[34m\u001b[1mwandb\u001b[0m: \tweight_decay: 0.0005\n",
      "\u001b[34m\u001b[1mwandb\u001b[0m: \tweight_init: random\n"
     ]
    },
    {
     "data": {
      "text/html": [
       "Ignoring project 'assignment_1' when running a sweep."
      ],
      "text/plain": [
       "<IPython.core.display.HTML object>"
      ]
     },
     "metadata": {},
     "output_type": "display_data"
    },
    {
     "data": {
      "text/html": [
       "Ignoring entity 'da24m015-iitm' when running a sweep."
      ],
      "text/plain": [
       "<IPython.core.display.HTML object>"
      ]
     },
     "metadata": {},
     "output_type": "display_data"
    },
    {
     "data": {
      "text/html": [
       "Tracking run with wandb version 0.19.7"
      ],
      "text/plain": [
       "<IPython.core.display.HTML object>"
      ]
     },
     "metadata": {},
     "output_type": "display_data"
    },
    {
     "data": {
      "text/html": [
       "Run data is saved locally in <code>c:\\Users\\Rajnish\\Desktop\\Rajnish\\M.Tech DSAI'26\\M.Tech DSAI 2024-2026\\Semester 2\\Introduction to Deep Learning\\Introduction-to-Deep-Learning-DA6401-\\Assignment 1\\wandb\\run-20250307_232357-mcbi60ou</code>"
      ],
      "text/plain": [
       "<IPython.core.display.HTML object>"
      ]
     },
     "metadata": {},
     "output_type": "display_data"
    },
    {
     "data": {
      "text/html": [
       "Syncing run <strong><a href='https://wandb.ai/da24m015-iitm/assignment_1/runs/mcbi60ou' target=\"_blank\">astral-sweep-2</a></strong> to <a href='https://wandb.ai/da24m015-iitm/assignment_1' target=\"_blank\">Weights & Biases</a> (<a href='https://wandb.me/developer-guide' target=\"_blank\">docs</a>)<br>Sweep page: <a href='https://wandb.ai/da24m015-iitm/assignment_1/sweeps/0t4kxske' target=\"_blank\">https://wandb.ai/da24m015-iitm/assignment_1/sweeps/0t4kxske</a>"
      ],
      "text/plain": [
       "<IPython.core.display.HTML object>"
      ]
     },
     "metadata": {},
     "output_type": "display_data"
    },
    {
     "data": {
      "text/html": [
       " View project at <a href='https://wandb.ai/da24m015-iitm/assignment_1' target=\"_blank\">https://wandb.ai/da24m015-iitm/assignment_1</a>"
      ],
      "text/plain": [
       "<IPython.core.display.HTML object>"
      ]
     },
     "metadata": {},
     "output_type": "display_data"
    },
    {
     "data": {
      "text/html": [
       " View sweep at <a href='https://wandb.ai/da24m015-iitm/assignment_1/sweeps/0t4kxske' target=\"_blank\">https://wandb.ai/da24m015-iitm/assignment_1/sweeps/0t4kxske</a>"
      ],
      "text/plain": [
       "<IPython.core.display.HTML object>"
      ]
     },
     "metadata": {},
     "output_type": "display_data"
    },
    {
     "data": {
      "text/html": [
       " View run at <a href='https://wandb.ai/da24m015-iitm/assignment_1/runs/mcbi60ou' target=\"_blank\">https://wandb.ai/da24m015-iitm/assignment_1/runs/mcbi60ou</a>"
      ],
      "text/plain": [
       "<IPython.core.display.HTML object>"
      ]
     },
     "metadata": {},
     "output_type": "display_data"
    }
   ],
   "source": [
    "# log the confusion matrix (till question 7)\n",
    "import numpy as np\n",
    "from keras.datasets import fashion_mnist\n",
    "import wandb\n",
    "\n",
    "# Define the sweep configuration\n",
    "sweep_config = {\n",
    "    'method': 'random',\n",
    "    'metric': {'name': 'accuracy', 'goal': 'maximize'},\n",
    "    'parameters': {\n",
    "        'learning_rate': {'values': [1e-3, 1e-4]},\n",
    "        'batch_size': {'values': [16, 32, 64]},\n",
    "        'epochs': {'values': [5, 10]},\n",
    "        'hidden_layers': {'values': [3, 4, 5]},\n",
    "        'hidden_size': {'values': [32, 64, 128]},\n",
    "        'activation': {'values': ['relu', 'sigmoid', 'tanh']},\n",
    "        'optimizer': {'values': ['sgd', 'momentum', 'nesterov', 'rmsprop', 'adam', 'nadam']},\n",
    "        'weight_init': {'values': ['random', 'xavier']},\n",
    "        'weight_decay': {\"values\": [0, 0.0005, 0.5]}\n",
    "    },\n",
    "    \"run_cap\": 5\n",
    "}\n",
    "\n",
    "# Load and preprocess the Fashion-MNIST dataset\n",
    "(x_train, y_train), (x_test, y_test) = fashion_mnist.load_data()\n",
    "x_train, x_test = x_train / 255.0, x_test / 255.0\n",
    "x_train, x_test = x_train.reshape(x_train.shape[0], -1), x_test.reshape(x_test.shape[0], -1)\n",
    "num_classes = 10\n",
    "\n",
    "# Define class names for the Fashion-MNIST dataset\n",
    "class_names = ['T-shirt/top', 'Trouser', 'Pullover', 'Dress', 'Coat',\n",
    "               'Sandal', 'Shirt', 'Sneaker', 'Bag', 'Ankle boot']\n",
    "\n",
    "# One-hot encode the labels\n",
    "def one_hot_encode(y, num_classes):\n",
    "    encoded = np.zeros((y.size, num_classes))\n",
    "    encoded[np.arange(y.size), y] = 1\n",
    "    return encoded\n",
    "\n",
    "# Keep original labels for confusion matrix\n",
    "y_train_original = y_train.copy()\n",
    "y_test_original = y_test.copy()\n",
    "\n",
    "y_train, y_test = one_hot_encode(y_train, num_classes), one_hot_encode(y_test, num_classes)\n",
    "\n",
    "# Split training data into train and validation sets\n",
    "split_idx = int(0.9 * len(x_train))\n",
    "x_train, x_val = x_train[:split_idx], x_train[split_idx:]\n",
    "y_train, y_val = y_train[:split_idx], y_train[split_idx:]\n",
    "y_train_original, y_val_original = y_train_original[:split_idx], y_train_original[split_idx:]\n",
    "\n",
    "# Activation Functions\n",
    "def relu(Z):\n",
    "    return np.maximum(0, Z)\n",
    "\n",
    "def sigmoid(Z):\n",
    "    Z = np.clip(Z, -500, 500)\n",
    "    return 1 / (1 + np.exp(-Z))\n",
    "\n",
    "def tanh(Z):\n",
    "    return np.tanh(Z)\n",
    "\n",
    "def softmax(Z):\n",
    "    expZ = np.exp(Z - np.max(Z, axis=1, keepdims=True))\n",
    "    return expZ / np.sum(expZ, axis=1, keepdims=True)\n",
    "\n",
    "activation_functions = {\"relu\": relu, \"sigmoid\": sigmoid, \"tanh\": tanh}\n",
    "\n",
    "# Optimizer functions\n",
    "def sgd(weights, biases, grads_W, grads_b, learning_rate):\n",
    "    for i in range(len(weights)):\n",
    "        weights[i] -= learning_rate * grads_W[i]\n",
    "        biases[i] -= learning_rate * grads_b[i]\n",
    "    return weights, biases\n",
    "\n",
    "def momentum(weights, biases, grads_W, grads_b, learning_rate, velocity_W, velocity_b, momentum=0.9):\n",
    "    for i in range(len(weights)):\n",
    "        velocity_W[i] = momentum * velocity_W[i] - learning_rate * grads_W[i]\n",
    "        velocity_b[i] = momentum * velocity_b[i] - learning_rate * grads_b[i]\n",
    "\n",
    "        weights[i] += velocity_W[i]\n",
    "        biases[i] += velocity_b[i]\n",
    "    return weights, biases, velocity_W, velocity_b\n",
    "\n",
    "def nesterov(weights, biases, grads_W, grads_b, learning_rate, velocity_W, velocity_b, momentum=0.9):\n",
    "    for i in range(len(weights)):\n",
    "        # Compute lookahead position\n",
    "        lookahead_W = weights[i] + momentum * velocity_W[i]\n",
    "        lookahead_b = biases[i] + momentum * velocity_b[i]\n",
    "\n",
    "        # Update velocity\n",
    "        velocity_W[i] = momentum * velocity_W[i] - learning_rate * grads_W[i]\n",
    "        velocity_b[i] = momentum * velocity_b[i] - learning_rate * grads_b[i]\n",
    "\n",
    "        # Update weights and biases with corrected lookahead step\n",
    "        weights[i] = lookahead_W + velocity_W[i]\n",
    "        biases[i] = lookahead_b + velocity_b[i]\n",
    "    return weights, biases, velocity_W, velocity_b\n",
    "\n",
    "def rmsprop(weights, biases, grads_W, grads_b, learning_rate, velocity_W, velocity_b, beta=0.9, epsilon=1e-6):\n",
    "    for i in range(len(weights)):\n",
    "        # Update velocity for weights and biases separately\n",
    "        velocity_W[i] = beta * velocity_W[i] + (1 - beta) * (grads_W[i] ** 2)\n",
    "        velocity_b[i] = beta * velocity_b[i] + (1 - beta) * (grads_b[i] ** 2)\n",
    "\n",
    "        # Update weights\n",
    "        weights[i] -= learning_rate * grads_W[i] / (np.sqrt(velocity_W[i]) + epsilon)\n",
    "\n",
    "        # Update biases\n",
    "        biases[i] -= learning_rate * grads_b[i] / (np.sqrt(velocity_b[i]) + epsilon)\n",
    "    return weights, biases, velocity_W, velocity_b\n",
    "\n",
    "def adam(weights, biases, grads_W, grads_b, learning_rate, velocity_W, velocity_b, moment2_W, moment2_b, t, beta1=0.9, beta2=0.999, epsilon=1e-6):\n",
    "    for i in range(len(weights)):\n",
    "        # First moment estimate\n",
    "        velocity_W[i] = beta1 * velocity_W[i] + (1 - beta1) * grads_W[i]\n",
    "        velocity_b[i] = beta1 * velocity_b[i] + (1 - beta1) * grads_b[i]\n",
    "\n",
    "        # Second moment estimate\n",
    "        moment2_W[i] = beta2 * moment2_W[i] + (1 - beta2) * (grads_W[i] ** 2)\n",
    "        moment2_b[i] = beta2 * moment2_b[i] + (1 - beta2) * (grads_b[i] ** 2)\n",
    "\n",
    "        # Bias correction\n",
    "        velocity_W_corrected = velocity_W[i] / (1 - beta1 ** t)\n",
    "        velocity_b_corrected = velocity_b[i] / (1 - beta1 ** t)\n",
    "\n",
    "        moment2_W_corrected = moment2_W[i] / (1 - beta2 ** t)\n",
    "        moment2_b_corrected = moment2_b[i] / (1 - beta2 ** t)\n",
    "\n",
    "        # Check and correct shape mismatch\n",
    "        if moment2_b_corrected.shape != biases[i].shape:\n",
    "            print(f\"Shape mismatch at layer {i}: {moment2_b_corrected.shape} vs {biases[i].shape}\")\n",
    "            moment2_b_corrected = np.reshape(moment2_b_corrected, biases[i].shape)\n",
    "\n",
    "        # Parameter update\n",
    "        weights[i] -= learning_rate * velocity_W_corrected / (np.sqrt(moment2_W_corrected) + epsilon)\n",
    "        biases[i] -= learning_rate * velocity_b_corrected / (np.sqrt(moment2_b_corrected) + epsilon)\n",
    "    \n",
    "    return weights, biases, velocity_W, velocity_b, moment2_W, moment2_b\n",
    "\n",
    "def nadam(weights, biases, grads_W, grads_b, learning_rate, velocity_W, velocity_b, moment2_W, moment2_b, t, beta1=0.9, beta2=0.999, epsilon=1e-6):\n",
    "    for i in range(len(weights)):\n",
    "        # First moment estimate\n",
    "        velocity_W[i] = beta1 * velocity_W[i] + (1 - beta1) * grads_W[i]\n",
    "        velocity_b[i] = beta1 * velocity_b[i] + (1 - beta1) * grads_b[i]\n",
    "\n",
    "        # Second moment estimate\n",
    "        moment2_W[i] = beta2 * moment2_W[i] + (1 - beta2) * (grads_W[i] ** 2)\n",
    "        moment2_b[i] = beta2 * moment2_b[i] + (1 - beta2) * (grads_b[i] ** 2)\n",
    "\n",
    "        # Bias correction\n",
    "        velocity_W_corrected = (beta1 * velocity_W[i] + (1 - beta1) * grads_W[i]) / (1 - beta1 ** t)\n",
    "        velocity_b_corrected = (beta1 * velocity_b[i] + (1 - beta1) * grads_b[i]) / (1 - beta1 ** t)\n",
    "\n",
    "        moment2_W_corrected = moment2_W[i] / (1 - beta2 ** t)\n",
    "        moment2_b_corrected = moment2_b[i] / (1 - beta2 ** t)\n",
    "\n",
    "        # Parameter update\n",
    "        weights[i] -= learning_rate * velocity_W_corrected / (np.sqrt(moment2_W_corrected) + epsilon)\n",
    "        biases[i] -= learning_rate * velocity_b_corrected / (np.sqrt(moment2_b_corrected) + epsilon)\n",
    "    \n",
    "    return weights, biases, velocity_W, velocity_b, moment2_W, moment2_b\n",
    "\n",
    "# Initialize network weights and biases\n",
    "def init_weights(layers, method=\"random\"):\n",
    "    weights = []\n",
    "    biases = []\n",
    "    for i in range(len(layers) - 1):\n",
    "        if method == \"xavier\":\n",
    "            limit = np.sqrt(6 / (layers[i] + layers[i+1]))\n",
    "        else:  # Default to \"random\"\n",
    "            limit = 0.1\n",
    "        W = np.random.uniform(-limit, limit, (layers[i], layers[i+1]))\n",
    "        weights.append(W)\n",
    "        biases.append(np.zeros((1, layers[i+1])))\n",
    "    return weights, biases\n",
    "\n",
    "# Forward pass\n",
    "def forward(X, weights, biases, activation):\n",
    "    A = [X]\n",
    "    for i in range(len(weights) - 1):\n",
    "        Z = A[-1] @ weights[i] + biases[i]\n",
    "        A.append(activation_functions[activation](Z))\n",
    "    Z = A[-1] @ weights[-1] + biases[-1]\n",
    "    A.append(softmax(Z))\n",
    "    return A\n",
    "\n",
    "# Compute loss\n",
    "def compute_loss(y_true, y_pred, weights, weight_decay):\n",
    "    loss = -np.mean(np.sum(y_true * np.log(y_pred + 1e-8), axis=1))\n",
    "    loss += (weight_decay / 2) * sum(np.sum(W**2) for W in weights)\n",
    "    return loss\n",
    "\n",
    "# Backward pass\n",
    "def backward(X, y, A, weights, weight_decay, activation):\n",
    "    grads_W, grads_b = [], []\n",
    "    dA = A[-1] - y\n",
    "    \n",
    "    for i in reversed(range(len(weights))):\n",
    "        dW = A[i].T @ dA / X.shape[0]\n",
    "        db = np.sum(dA, axis=0, keepdims=True) / X.shape[0]\n",
    "        dW += weight_decay * weights[i]\n",
    "        grads_W.append(dW)\n",
    "        grads_b.append(db)\n",
    "        \n",
    "        if i > 0:\n",
    "            if activation == \"relu\":\n",
    "                dA = (dA @ weights[i].T) * (A[i] > 0)\n",
    "            elif activation == \"sigmoid\":\n",
    "                dA = (dA @ weights[i].T) * (A[i] * (1 - A[i]))\n",
    "            elif activation == \"tanh\":\n",
    "                dA = (dA @ weights[i].T) * (1 - A[i]**2)\n",
    "    \n",
    "    return grads_W[::-1], grads_b[::-1]\n",
    "\n",
    "# Get predictions from the model\n",
    "def predict(X, weights, biases, activation):\n",
    "    A = forward(X, weights, biases, activation)\n",
    "    return np.argmax(A[-1], axis=1)\n",
    "\n",
    "# Train function\n",
    "def train(X_train, y_train, X_val, y_val, y_train_original, y_val_original, layers, learning_rate, activation, optimizer, \n",
    "          weight_init, weight_decay, epochs, batch_size, beta=0.9, beta1=0.9, beta2=0.999, epsilon=1e-6):\n",
    "    \n",
    "    # Initialize weights and biases\n",
    "    weights, biases = init_weights(layers, weight_init)\n",
    "    \n",
    "    # Initialize optimizer-specific parameters\n",
    "    velocity_W = [np.zeros_like(W) for W in weights]\n",
    "    velocity_b = [np.zeros_like(b) for b in biases]\n",
    "    moment2_W = [np.zeros_like(W) for W in weights]\n",
    "    moment2_b = [np.zeros_like(b) for b in biases]\n",
    "    t = 1  # Timestep for Adam/Nadam\n",
    "    \n",
    "    num_samples = X_train.shape[0]\n",
    "    \n",
    "    # Keep track of best validation accuracy\n",
    "    best_val_acc = 0\n",
    "    best_weights, best_biases = None, None\n",
    "    \n",
    "    for epoch in range(epochs):\n",
    "        # Shuffle training data\n",
    "        indices = np.random.permutation(num_samples)\n",
    "        X_train_shuffled, y_train_shuffled = X_train[indices], y_train[indices]\n",
    "        y_train_original_shuffled = y_train_original[indices]\n",
    "        \n",
    "        total_loss, total_acc = 0, 0\n",
    "        num_batches = num_samples // batch_size\n",
    "        \n",
    "        for i in range(0, num_samples, batch_size):\n",
    "            X_batch = X_train_shuffled[i:i + batch_size]\n",
    "            y_batch = y_train_shuffled[i:i + batch_size]\n",
    "            \n",
    "            # Forward Pass\n",
    "            A = forward(X_batch, weights, biases, activation)\n",
    "            y_pred = A[-1]\n",
    "            \n",
    "            # Compute Loss & Accuracy\n",
    "            loss = compute_loss(y_batch, y_pred, weights, weight_decay)\n",
    "            acc = np.mean(np.argmax(y_pred, axis=1) == np.argmax(y_batch, axis=1))\n",
    "            \n",
    "            total_loss += loss * len(X_batch)\n",
    "            total_acc += acc * len(X_batch)\n",
    "            \n",
    "            # Backward Pass\n",
    "            grads_W, grads_b = backward(X_batch, y_batch, A, weights, weight_decay, activation)\n",
    "            \n",
    "            # Update Weights using the selected optimizer\n",
    "            if optimizer == \"sgd\":\n",
    "                weights, biases = sgd(weights, biases, grads_W, grads_b, learning_rate)\n",
    "            elif optimizer == \"momentum\":\n",
    "                weights, biases, velocity_W, velocity_b = momentum(\n",
    "                    weights, biases, grads_W, grads_b, learning_rate, velocity_W, velocity_b)\n",
    "            elif optimizer == \"nesterov\":\n",
    "                weights, biases, velocity_W, velocity_b = nesterov(\n",
    "                    weights, biases, grads_W, grads_b, learning_rate, velocity_W, velocity_b)\n",
    "            elif optimizer == \"rmsprop\":\n",
    "                weights, biases, velocity_W, velocity_b = rmsprop(\n",
    "                    weights, biases, grads_W, grads_b, learning_rate, velocity_W, velocity_b, beta, epsilon)\n",
    "            elif optimizer == \"adam\":\n",
    "                weights, biases, velocity_W, velocity_b, moment2_W, moment2_b = adam(\n",
    "                    weights, biases, grads_W, grads_b, learning_rate, velocity_W, velocity_b, \n",
    "                    moment2_W, moment2_b, t, beta1, beta2, epsilon)\n",
    "                t += 1\n",
    "            elif optimizer == \"nadam\":\n",
    "                weights, biases, velocity_W, velocity_b, moment2_W, moment2_b = nadam(\n",
    "                    weights, biases, grads_W, grads_b, learning_rate, velocity_W, velocity_b, \n",
    "                    moment2_W, moment2_b, t, beta1, beta2, epsilon)\n",
    "                t += 1\n",
    "        \n",
    "        # Compute average loss and accuracy for the epoch\n",
    "        avg_loss = total_loss / num_samples\n",
    "        avg_acc = total_acc / num_samples\n",
    "        \n",
    "        # Validation Metrics\n",
    "        val_A = forward(X_val, weights, biases, activation)\n",
    "        val_pred = val_A[-1]\n",
    "        val_loss = compute_loss(y_val, val_pred, weights, weight_decay)\n",
    "        val_acc = np.mean(np.argmax(val_pred, axis=1) == np.argmax(y_val, axis=1))\n",
    "        \n",
    "        # Log to Weights & Biases\n",
    "        wandb.log({\n",
    "            \"epoch\": epoch + 1, \n",
    "            \"loss\": avg_loss, \n",
    "            \"accuracy\": avg_acc,\n",
    "            \"val_loss\": val_loss, \n",
    "            \"val_accuracy\": val_acc\n",
    "        })\n",
    "        \n",
    "        # Check if this is the best model so far\n",
    "        if val_acc > best_val_acc:\n",
    "            best_val_acc = val_acc\n",
    "            best_weights = [w.copy() for w in weights]\n",
    "            best_biases = [b.copy() for b in biases]\n",
    "    \n",
    "    # Return the best model weights and biases\n",
    "    return best_weights, best_biases\n",
    "\n",
    "# Function to create and log confusion matrices\n",
    "def log_confusion_matrices(weights, biases, activation):\n",
    "    # Get predictions for training data\n",
    "    train_predictions = predict(x_train, weights, biases, activation)\n",
    "    \n",
    "    # Get predictions for test data\n",
    "    test_predictions = predict(x_test, weights, biases, activation)\n",
    "    \n",
    "    # Log the training confusion matrix\n",
    "    wandb.log({\n",
    "        \"train_confusion_matrix\": wandb.plot.confusion_matrix(\n",
    "            probs=None,\n",
    "            y_true=y_train_original, \n",
    "            preds=train_predictions,\n",
    "            class_names=class_names\n",
    "        )\n",
    "    })\n",
    "    \n",
    "    # Log the test confusion matrix\n",
    "    wandb.log({\n",
    "        \"test_confusion_matrix\": wandb.plot.confusion_matrix(\n",
    "            probs=None,\n",
    "            y_true=y_test_original, \n",
    "            preds=test_predictions,\n",
    "            class_names=class_names\n",
    "        )\n",
    "    })\n",
    "\n",
    "# Function to run a single training job with wandb logging\n",
    "def train_model():\n",
    "    # Initialize wandb for this run\n",
    "    wandb.init(project=\"assignment_1\", entity=\"da24m015-iitm\")\n",
    "    config = wandb.config\n",
    "    wandb.run.name = f\"hl_{config.hidden_layers}_bs_{config.batch_size}_ac_{config.activation}\"\n",
    "    \n",
    "    # Create network architecture based on config\n",
    "    architecture = [784] + [config.hidden_size] * config.hidden_layers + [10]\n",
    "    \n",
    "    # Train the network and get the best model\n",
    "    best_weights, best_biases = train(\n",
    "        x_train, y_train, x_val, y_val, y_train_original, y_val_original,\n",
    "        layers=architecture,\n",
    "        learning_rate=config.learning_rate,\n",
    "        activation=config.activation,\n",
    "        optimizer=config.optimizer,\n",
    "        weight_init=config.weight_init,\n",
    "        weight_decay=config.weight_decay,\n",
    "        epochs=config.epochs,\n",
    "        batch_size=config.batch_size\n",
    "    )\n",
    "    print(f\"Best_weights:{best_weights},Best_biases:{best_biases}\")\n",
    "    # Log confusion matrices for the best model\n",
    "    log_confusion_matrices(best_weights, best_biases, config.activation)\n",
    "\n",
    "# Create the sweep\n",
    "sweep_id = wandb.sweep(sweep_config, project=\"assignment_1\")\n",
    "\n",
    "# Run the sweep\n",
    "wandb.agent(sweep_id, function=train_model)"
   ]
  },
  {
   "cell_type": "code",
   "execution_count": null,
   "metadata": {},
   "outputs": [],
   "source": []
  },
  {
   "cell_type": "code",
   "execution_count": 3,
   "metadata": {},
   "outputs": [
    {
     "name": "stdout",
     "output_type": "stream",
     "text": [
      "Error in callback <bound method _WandbInit._resume_backend of <wandb.sdk.wandb_init._WandbInit object at 0x000001885F24D990>> (for pre_run_cell), with arguments args (<ExecutionInfo object at 1887d4f79d0, raw_cell=\"import numpy as np\n",
      "import matplotlib.pyplot as plt..\" store_history=True silent=False shell_futures=True cell_id=vscode-notebook-cell:/c%3A/Users/Rajnish/Desktop/Rajnish/M.Tech%20DSAI%2726/M.Tech%20DSAI%202024-2026/Semester%202/Introduction%20to%20Deep%20Learning/Introduction-to-Deep-Learning-DA6401-/Assignment%201/sample.ipynb#W6sZmlsZQ%3D%3D>,),kwargs {}:\n"
     ]
    },
    {
     "ename": "ConnectionAbortedError",
     "evalue": "[WinError 10053] An established connection was aborted by the software in your host machine",
     "output_type": "error",
     "traceback": [
      "\u001b[1;31m---------------------------------------------------------------------------\u001b[0m",
      "\u001b[1;31mConnectionAbortedError\u001b[0m                    Traceback (most recent call last)",
      "File \u001b[1;32mc:\\Users\\Rajnish\\anaconda3\\envs\\keras_env\\lib\\site-packages\\wandb\\sdk\\wandb_init.py:570\u001b[0m, in \u001b[0;36m_WandbInit._resume_backend\u001b[1;34m(self, *args, **kwargs)\u001b[0m\n\u001b[0;32m    568\u001b[0m \u001b[38;5;28;01mif\u001b[39;00m \u001b[38;5;28mself\u001b[39m\u001b[38;5;241m.\u001b[39mbackend \u001b[38;5;129;01mis\u001b[39;00m \u001b[38;5;129;01mnot\u001b[39;00m \u001b[38;5;28;01mNone\u001b[39;00m \u001b[38;5;129;01mand\u001b[39;00m \u001b[38;5;28mself\u001b[39m\u001b[38;5;241m.\u001b[39mbackend\u001b[38;5;241m.\u001b[39minterface \u001b[38;5;129;01mis\u001b[39;00m \u001b[38;5;129;01mnot\u001b[39;00m \u001b[38;5;28;01mNone\u001b[39;00m:\n\u001b[0;32m    569\u001b[0m     \u001b[38;5;28mself\u001b[39m\u001b[38;5;241m.\u001b[39m_logger\u001b[38;5;241m.\u001b[39minfo(\u001b[38;5;124m\"\u001b[39m\u001b[38;5;124mresuming backend\u001b[39m\u001b[38;5;124m\"\u001b[39m)  \u001b[38;5;66;03m# type: ignore\u001b[39;00m\n\u001b[1;32m--> 570\u001b[0m     \u001b[38;5;28;43mself\u001b[39;49m\u001b[38;5;241;43m.\u001b[39;49m\u001b[43mbackend\u001b[49m\u001b[38;5;241;43m.\u001b[39;49m\u001b[43minterface\u001b[49m\u001b[38;5;241;43m.\u001b[39;49m\u001b[43mpublish_resume\u001b[49m\u001b[43m(\u001b[49m\u001b[43m)\u001b[49m\n",
      "File \u001b[1;32mc:\\Users\\Rajnish\\anaconda3\\envs\\keras_env\\lib\\site-packages\\wandb\\sdk\\interface\\interface.py:779\u001b[0m, in \u001b[0;36mInterfaceBase.publish_resume\u001b[1;34m(self)\u001b[0m\n\u001b[0;32m    777\u001b[0m \u001b[38;5;28;01mdef\u001b[39;00m\u001b[38;5;250m \u001b[39m\u001b[38;5;21mpublish_resume\u001b[39m(\u001b[38;5;28mself\u001b[39m) \u001b[38;5;241m-\u001b[39m\u001b[38;5;241m>\u001b[39m \u001b[38;5;28;01mNone\u001b[39;00m:\n\u001b[0;32m    778\u001b[0m     resume \u001b[38;5;241m=\u001b[39m pb\u001b[38;5;241m.\u001b[39mResumeRequest()\n\u001b[1;32m--> 779\u001b[0m     \u001b[38;5;28;43mself\u001b[39;49m\u001b[38;5;241;43m.\u001b[39;49m\u001b[43m_publish_resume\u001b[49m\u001b[43m(\u001b[49m\u001b[43mresume\u001b[49m\u001b[43m)\u001b[49m\n",
      "File \u001b[1;32mc:\\Users\\Rajnish\\anaconda3\\envs\\keras_env\\lib\\site-packages\\wandb\\sdk\\interface\\interface_shared.py:301\u001b[0m, in \u001b[0;36mInterfaceShared._publish_resume\u001b[1;34m(self, resume)\u001b[0m\n\u001b[0;32m    299\u001b[0m \u001b[38;5;28;01mdef\u001b[39;00m\u001b[38;5;250m \u001b[39m\u001b[38;5;21m_publish_resume\u001b[39m(\u001b[38;5;28mself\u001b[39m, resume: pb\u001b[38;5;241m.\u001b[39mResumeRequest) \u001b[38;5;241m-\u001b[39m\u001b[38;5;241m>\u001b[39m \u001b[38;5;28;01mNone\u001b[39;00m:\n\u001b[0;32m    300\u001b[0m     rec \u001b[38;5;241m=\u001b[39m \u001b[38;5;28mself\u001b[39m\u001b[38;5;241m.\u001b[39m_make_request(resume\u001b[38;5;241m=\u001b[39mresume)\n\u001b[1;32m--> 301\u001b[0m     \u001b[38;5;28;43mself\u001b[39;49m\u001b[38;5;241;43m.\u001b[39;49m\u001b[43m_publish\u001b[49m\u001b[43m(\u001b[49m\u001b[43mrec\u001b[49m\u001b[43m)\u001b[49m\n",
      "File \u001b[1;32mc:\\Users\\Rajnish\\anaconda3\\envs\\keras_env\\lib\\site-packages\\wandb\\sdk\\interface\\interface_sock.py:46\u001b[0m, in \u001b[0;36mInterfaceSock._publish\u001b[1;34m(self, record, local)\u001b[0m\n\u001b[0;32m     44\u001b[0m \u001b[38;5;28;01mdef\u001b[39;00m\u001b[38;5;250m \u001b[39m\u001b[38;5;21m_publish\u001b[39m(\u001b[38;5;28mself\u001b[39m, record: \u001b[38;5;124m\"\u001b[39m\u001b[38;5;124mpb.Record\u001b[39m\u001b[38;5;124m\"\u001b[39m, local: Optional[\u001b[38;5;28mbool\u001b[39m] \u001b[38;5;241m=\u001b[39m \u001b[38;5;28;01mNone\u001b[39;00m) \u001b[38;5;241m-\u001b[39m\u001b[38;5;241m>\u001b[39m \u001b[38;5;28;01mNone\u001b[39;00m:\n\u001b[0;32m     45\u001b[0m     \u001b[38;5;28mself\u001b[39m\u001b[38;5;241m.\u001b[39m_assign(record)\n\u001b[1;32m---> 46\u001b[0m     \u001b[38;5;28;43mself\u001b[39;49m\u001b[38;5;241;43m.\u001b[39;49m\u001b[43m_sock_client\u001b[49m\u001b[38;5;241;43m.\u001b[39;49m\u001b[43msend_record_publish\u001b[49m\u001b[43m(\u001b[49m\u001b[43mrecord\u001b[49m\u001b[43m)\u001b[49m\n",
      "File \u001b[1;32mc:\\Users\\Rajnish\\anaconda3\\envs\\keras_env\\lib\\site-packages\\wandb\\sdk\\lib\\sock_client.py:224\u001b[0m, in \u001b[0;36mSockClient.send_record_publish\u001b[1;34m(self, record)\u001b[0m\n\u001b[0;32m    222\u001b[0m server_req\u001b[38;5;241m.\u001b[39mrequest_id \u001b[38;5;241m=\u001b[39m record\u001b[38;5;241m.\u001b[39mcontrol\u001b[38;5;241m.\u001b[39mmailbox_slot\n\u001b[0;32m    223\u001b[0m server_req\u001b[38;5;241m.\u001b[39mrecord_publish\u001b[38;5;241m.\u001b[39mCopyFrom(record)\n\u001b[1;32m--> 224\u001b[0m \u001b[38;5;28;43mself\u001b[39;49m\u001b[38;5;241;43m.\u001b[39;49m\u001b[43msend_server_request\u001b[49m\u001b[43m(\u001b[49m\u001b[43mserver_req\u001b[49m\u001b[43m)\u001b[49m\n",
      "File \u001b[1;32mc:\\Users\\Rajnish\\anaconda3\\envs\\keras_env\\lib\\site-packages\\wandb\\sdk\\lib\\sock_client.py:154\u001b[0m, in \u001b[0;36mSockClient.send_server_request\u001b[1;34m(self, msg)\u001b[0m\n\u001b[0;32m    153\u001b[0m \u001b[38;5;28;01mdef\u001b[39;00m\u001b[38;5;250m \u001b[39m\u001b[38;5;21msend_server_request\u001b[39m(\u001b[38;5;28mself\u001b[39m, msg: Any) \u001b[38;5;241m-\u001b[39m\u001b[38;5;241m>\u001b[39m \u001b[38;5;28;01mNone\u001b[39;00m:\n\u001b[1;32m--> 154\u001b[0m     \u001b[38;5;28;43mself\u001b[39;49m\u001b[38;5;241;43m.\u001b[39;49m\u001b[43m_send_message\u001b[49m\u001b[43m(\u001b[49m\u001b[43mmsg\u001b[49m\u001b[43m)\u001b[49m\n",
      "File \u001b[1;32mc:\\Users\\Rajnish\\anaconda3\\envs\\keras_env\\lib\\site-packages\\wandb\\sdk\\lib\\sock_client.py:151\u001b[0m, in \u001b[0;36mSockClient._send_message\u001b[1;34m(self, msg)\u001b[0m\n\u001b[0;32m    149\u001b[0m header \u001b[38;5;241m=\u001b[39m struct\u001b[38;5;241m.\u001b[39mpack(\u001b[38;5;124m\"\u001b[39m\u001b[38;5;124m<BI\u001b[39m\u001b[38;5;124m\"\u001b[39m, \u001b[38;5;28mord\u001b[39m(\u001b[38;5;124m\"\u001b[39m\u001b[38;5;124mW\u001b[39m\u001b[38;5;124m\"\u001b[39m), raw_size)\n\u001b[0;32m    150\u001b[0m \u001b[38;5;28;01mwith\u001b[39;00m \u001b[38;5;28mself\u001b[39m\u001b[38;5;241m.\u001b[39m_lock:\n\u001b[1;32m--> 151\u001b[0m     \u001b[38;5;28;43mself\u001b[39;49m\u001b[38;5;241;43m.\u001b[39;49m\u001b[43m_sendall_with_error_handle\u001b[49m\u001b[43m(\u001b[49m\u001b[43mheader\u001b[49m\u001b[43m \u001b[49m\u001b[38;5;241;43m+\u001b[39;49m\u001b[43m \u001b[49m\u001b[43mdata\u001b[49m\u001b[43m)\u001b[49m\n",
      "File \u001b[1;32mc:\\Users\\Rajnish\\anaconda3\\envs\\keras_env\\lib\\site-packages\\wandb\\sdk\\lib\\sock_client.py:130\u001b[0m, in \u001b[0;36mSockClient._sendall_with_error_handle\u001b[1;34m(self, data)\u001b[0m\n\u001b[0;32m    128\u001b[0m start_time \u001b[38;5;241m=\u001b[39m time\u001b[38;5;241m.\u001b[39mmonotonic()\n\u001b[0;32m    129\u001b[0m \u001b[38;5;28;01mtry\u001b[39;00m:\n\u001b[1;32m--> 130\u001b[0m     sent \u001b[38;5;241m=\u001b[39m \u001b[38;5;28;43mself\u001b[39;49m\u001b[38;5;241;43m.\u001b[39;49m\u001b[43m_sock\u001b[49m\u001b[38;5;241;43m.\u001b[39;49m\u001b[43msend\u001b[49m\u001b[43m(\u001b[49m\u001b[43mdata\u001b[49m\u001b[43m)\u001b[49m\n\u001b[0;32m    131\u001b[0m     \u001b[38;5;66;03m# sent equal to 0 indicates a closed socket\u001b[39;00m\n\u001b[0;32m    132\u001b[0m     \u001b[38;5;28;01mif\u001b[39;00m sent \u001b[38;5;241m==\u001b[39m \u001b[38;5;241m0\u001b[39m:\n",
      "\u001b[1;31mConnectionAbortedError\u001b[0m: [WinError 10053] An established connection was aborted by the software in your host machine"
     ]
    },
    {
     "name": "stderr",
     "output_type": "stream",
     "text": [
      "\u001b[34m\u001b[1mwandb\u001b[0m: \u001b[33mWARNING\u001b[0m Calling wandb.login() after wandb.init() has no effect.\n"
     ]
    },
    {
     "name": "stdout",
     "output_type": "stream",
     "text": [
      "Create sweep with ID: uopjmcei\n",
      "Sweep URL: https://wandb.ai/da24m015-iitm/assignment_1/sweeps/uopjmcei\n"
     ]
    },
    {
     "name": "stderr",
     "output_type": "stream",
     "text": [
      "\u001b[34m\u001b[1mwandb\u001b[0m: Agent Starting Run: szq6ky86 with config:\n",
      "\u001b[34m\u001b[1mwandb\u001b[0m: \tactivation: tanh\n",
      "\u001b[34m\u001b[1mwandb\u001b[0m: \tbatch_size: 16\n",
      "\u001b[34m\u001b[1mwandb\u001b[0m: \tepochs: 3\n",
      "\u001b[34m\u001b[1mwandb\u001b[0m: \thidden_layers: 5\n",
      "\u001b[34m\u001b[1mwandb\u001b[0m: \thidden_size: 32\n",
      "\u001b[34m\u001b[1mwandb\u001b[0m: \tlearning_rate: 0.001\n",
      "\u001b[34m\u001b[1mwandb\u001b[0m: \toptimizer: nadam\n",
      "\u001b[34m\u001b[1mwandb\u001b[0m: \tweight_decay: 0.5\n",
      "\u001b[34m\u001b[1mwandb\u001b[0m: \tweight_init: xavier\n"
     ]
    },
    {
     "data": {
      "text/html": [
       "Ignoring project 'assignment_1' when running a sweep."
      ],
      "text/plain": [
       "<IPython.core.display.HTML object>"
      ]
     },
     "metadata": {},
     "output_type": "display_data"
    },
    {
     "data": {
      "text/html": [
       "Ignoring entity 'da24m015-iitm' when running a sweep."
      ],
      "text/plain": [
       "<IPython.core.display.HTML object>"
      ]
     },
     "metadata": {},
     "output_type": "display_data"
    },
    {
     "name": "stderr",
     "output_type": "stream",
     "text": [
      "Exception in thread Thread-38 (_run_job):\n",
      "Traceback (most recent call last):\n",
      "  File \"c:\\Users\\Rajnish\\anaconda3\\envs\\keras_env\\lib\\site-packages\\wandb\\agents\\pyagent.py\", line 306, in _run_job\n",
      "    self._function()\n",
      "  File \"C:\\Users\\Rajnish\\AppData\\Local\\Temp\\ipykernel_16604\\920114889.py\", line 297, in train_model\n",
      "  File \"c:\\Users\\Rajnish\\anaconda3\\envs\\keras_env\\lib\\site-packages\\wandb\\sdk\\wandb_init.py\", line 1485, in init\n",
      "    wandb._sentry.reraise(e)\n",
      "  File \"c:\\Users\\Rajnish\\anaconda3\\envs\\keras_env\\lib\\site-packages\\wandb\\analytics\\sentry.py\", line 156, in reraise\n",
      "    raise exc.with_traceback(sys.exc_info()[2])\n",
      "  File \"c:\\Users\\Rajnish\\anaconda3\\envs\\keras_env\\lib\\site-packages\\wandb\\sdk\\wandb_init.py\", line 1471, in init\n",
      "    return wi.init(run_settings, run_config)\n",
      "  File \"c:\\Users\\Rajnish\\anaconda3\\envs\\keras_env\\lib\\site-packages\\wandb\\sdk\\wandb_init.py\", line 779, in init\n",
      "    with telemetry.context() as tel:\n",
      "  File \"c:\\Users\\Rajnish\\anaconda3\\envs\\keras_env\\lib\\site-packages\\wandb\\sdk\\lib\\telemetry.py\", line 42, in __exit__\n",
      "    self._run._telemetry_callback(self._obj)\n",
      "  File \"c:\\Users\\Rajnish\\anaconda3\\envs\\keras_env\\lib\\site-packages\\wandb\\sdk\\wandb_run.py\", line 749, in _telemetry_callback\n",
      "    self._telemetry_flush()\n",
      "  File \"c:\\Users\\Rajnish\\anaconda3\\envs\\keras_env\\lib\\site-packages\\wandb\\sdk\\wandb_run.py\", line 762, in _telemetry_flush\n",
      "    self._backend.interface._publish_telemetry(self._telemetry_obj)\n",
      "  File \"c:\\Users\\Rajnish\\anaconda3\\envs\\keras_env\\lib\\site-packages\\wandb\\sdk\\interface\\interface_shared.py\", line 70, in _publish_telemetry\n",
      "    self._publish(rec)\n",
      "  File \"c:\\Users\\Rajnish\\anaconda3\\envs\\keras_env\\lib\\site-packages\\wandb\\sdk\\interface\\interface_sock.py\", line 46, in _publish\n",
      "    self._sock_client.send_record_publish(record)\n",
      "  File \"c:\\Users\\Rajnish\\anaconda3\\envs\\keras_env\\lib\\site-packages\\wandb\\sdk\\lib\\sock_client.py\", line 224, in send_record_publish\n",
      "    self.send_server_request(server_req)\n",
      "  File \"c:\\Users\\Rajnish\\anaconda3\\envs\\keras_env\\lib\\site-packages\\wandb\\sdk\\lib\\sock_client.py\", line 154, in send_server_request\n",
      "    self._send_message(msg)\n",
      "  File \"c:\\Users\\Rajnish\\anaconda3\\envs\\keras_env\\lib\\site-packages\\wandb\\sdk\\lib\\sock_client.py\", line 151, in _send_message\n",
      "    self._sendall_with_error_handle(header + data)\n",
      "  File \"c:\\Users\\Rajnish\\anaconda3\\envs\\keras_env\\lib\\site-packages\\wandb\\sdk\\lib\\sock_client.py\", line 130, in _sendall_with_error_handle\n",
      "    sent = self._sock.send(data)\n",
      "ConnectionAbortedError: [WinError 10053] An established connection was aborted by the software in your host machine\n",
      "\n",
      "During handling of the above exception, another exception occurred:\n",
      "\n",
      "Traceback (most recent call last):\n",
      "  File \"c:\\Users\\Rajnish\\anaconda3\\envs\\keras_env\\lib\\threading.py\", line 1016, in _bootstrap_inner\n",
      "    self.run()\n",
      "  File \"c:\\Users\\Rajnish\\anaconda3\\envs\\keras_env\\lib\\site-packages\\ipykernel\\ipkernel.py\", line 766, in run_closure\n",
      "    _threading_Thread_run(self)\n",
      "  File \"c:\\Users\\Rajnish\\anaconda3\\envs\\keras_env\\lib\\threading.py\", line 953, in run\n",
      "    self._target(*self._args, **self._kwargs)\n",
      "  File \"c:\\Users\\Rajnish\\anaconda3\\envs\\keras_env\\lib\\site-packages\\wandb\\agents\\pyagent.py\", line 311, in _run_job\n",
      "    wandb.finish(exit_code=1)\n",
      "  File \"c:\\Users\\Rajnish\\anaconda3\\envs\\keras_env\\lib\\site-packages\\wandb\\sdk\\wandb_run.py\", line 4132, in finish\n",
      "    wandb.run.finish(exit_code=exit_code, quiet=quiet)\n",
      "  File \"c:\\Users\\Rajnish\\anaconda3\\envs\\keras_env\\lib\\site-packages\\wandb\\sdk\\wandb_run.py\", line 449, in wrapper\n",
      "    return func(self, *args, **kwargs)\n",
      "  File \"c:\\Users\\Rajnish\\anaconda3\\envs\\keras_env\\lib\\site-packages\\wandb\\sdk\\wandb_run.py\", line 391, in wrapper\n",
      "    return func(self, *args, **kwargs)\n",
      "  File \"c:\\Users\\Rajnish\\anaconda3\\envs\\keras_env\\lib\\site-packages\\wandb\\sdk\\wandb_run.py\", line 2106, in finish\n",
      "    return self._finish(exit_code)\n",
      "  File \"c:\\Users\\Rajnish\\anaconda3\\envs\\keras_env\\lib\\site-packages\\wandb\\sdk\\wandb_run.py\", line 2113, in _finish\n",
      "    with telemetry.context(run=self) as tel:\n",
      "  File \"c:\\Users\\Rajnish\\anaconda3\\envs\\keras_env\\lib\\site-packages\\wandb\\sdk\\lib\\telemetry.py\", line 42, in __exit__\n",
      "    self._run._telemetry_callback(self._obj)\n",
      "  File \"c:\\Users\\Rajnish\\anaconda3\\envs\\keras_env\\lib\\site-packages\\wandb\\sdk\\wandb_run.py\", line 749, in _telemetry_callback\n",
      "    self._telemetry_flush()\n",
      "  File \"c:\\Users\\Rajnish\\anaconda3\\envs\\keras_env\\lib\\site-packages\\wandb\\sdk\\wandb_run.py\", line 762, in _telemetry_flush\n",
      "    self._backend.interface._publish_telemetry(self._telemetry_obj)\n",
      "  File \"c:\\Users\\Rajnish\\anaconda3\\envs\\keras_env\\lib\\site-packages\\wandb\\sdk\\interface\\interface_shared.py\", line 70, in _publish_telemetry\n",
      "    self._publish(rec)\n",
      "  File \"c:\\Users\\Rajnish\\anaconda3\\envs\\keras_env\\lib\\site-packages\\wandb\\sdk\\interface\\interface_sock.py\", line 46, in _publish\n",
      "    self._sock_client.send_record_publish(record)\n",
      "  File \"c:\\Users\\Rajnish\\anaconda3\\envs\\keras_env\\lib\\site-packages\\wandb\\sdk\\lib\\sock_client.py\", line 224, in send_record_publish\n",
      "    self.send_server_request(server_req)\n",
      "  File \"c:\\Users\\Rajnish\\anaconda3\\envs\\keras_env\\lib\\site-packages\\wandb\\sdk\\lib\\sock_client.py\", line 154, in send_server_request\n",
      "    self._send_message(msg)\n",
      "  File \"c:\\Users\\Rajnish\\anaconda3\\envs\\keras_env\\lib\\site-packages\\wandb\\sdk\\lib\\sock_client.py\", line 151, in _send_message\n",
      "    self._sendall_with_error_handle(header + data)\n",
      "  File \"c:\\Users\\Rajnish\\anaconda3\\envs\\keras_env\\lib\\site-packages\\wandb\\sdk\\lib\\sock_client.py\", line 130, in _sendall_with_error_handle\n",
      "    sent = self._sock.send(data)\n",
      "ConnectionAbortedError: [WinError 10053] An established connection was aborted by the software in your host machine\n",
      "\u001b[34m\u001b[1mwandb\u001b[0m: Sweep Agent: Waiting for job.\n",
      "\u001b[34m\u001b[1mwandb\u001b[0m: Job received.\n",
      "\u001b[34m\u001b[1mwandb\u001b[0m: Agent Starting Run: z4m270j5 with config:\n",
      "\u001b[34m\u001b[1mwandb\u001b[0m: \tactivation: relu\n",
      "\u001b[34m\u001b[1mwandb\u001b[0m: \tbatch_size: 64\n",
      "\u001b[34m\u001b[1mwandb\u001b[0m: \tepochs: 3\n",
      "\u001b[34m\u001b[1mwandb\u001b[0m: \thidden_layers: 5\n",
      "\u001b[34m\u001b[1mwandb\u001b[0m: \thidden_size: 32\n",
      "\u001b[34m\u001b[1mwandb\u001b[0m: \tlearning_rate: 0.001\n",
      "\u001b[34m\u001b[1mwandb\u001b[0m: \toptimizer: adam\n",
      "\u001b[34m\u001b[1mwandb\u001b[0m: \tweight_decay: 0.0005\n",
      "\u001b[34m\u001b[1mwandb\u001b[0m: \tweight_init: random\n"
     ]
    },
    {
     "data": {
      "text/html": [
       "Ignoring project 'assignment_1' when running a sweep."
      ],
      "text/plain": [
       "<IPython.core.display.HTML object>"
      ]
     },
     "metadata": {},
     "output_type": "display_data"
    },
    {
     "data": {
      "text/html": [
       "Ignoring entity 'da24m015-iitm' when running a sweep."
      ],
      "text/plain": [
       "<IPython.core.display.HTML object>"
      ]
     },
     "metadata": {},
     "output_type": "display_data"
    },
    {
     "name": "stderr",
     "output_type": "stream",
     "text": [
      "Exception in thread Thread-41 (_run_job):\n",
      "Traceback (most recent call last):\n",
      "  File \"c:\\Users\\Rajnish\\anaconda3\\envs\\keras_env\\lib\\site-packages\\wandb\\agents\\pyagent.py\", line 306, in _run_job\n",
      "    self._function()\n",
      "  File \"C:\\Users\\Rajnish\\AppData\\Local\\Temp\\ipykernel_16604\\920114889.py\", line 297, in train_model\n",
      "  File \"c:\\Users\\Rajnish\\anaconda3\\envs\\keras_env\\lib\\site-packages\\wandb\\sdk\\wandb_init.py\", line 1485, in init\n",
      "    wandb._sentry.reraise(e)\n",
      "  File \"c:\\Users\\Rajnish\\anaconda3\\envs\\keras_env\\lib\\site-packages\\wandb\\analytics\\sentry.py\", line 156, in reraise\n",
      "    raise exc.with_traceback(sys.exc_info()[2])\n",
      "  File \"c:\\Users\\Rajnish\\anaconda3\\envs\\keras_env\\lib\\site-packages\\wandb\\sdk\\wandb_init.py\", line 1471, in init\n",
      "    return wi.init(run_settings, run_config)\n",
      "  File \"c:\\Users\\Rajnish\\anaconda3\\envs\\keras_env\\lib\\site-packages\\wandb\\sdk\\wandb_init.py\", line 779, in init\n",
      "    with telemetry.context() as tel:\n",
      "  File \"c:\\Users\\Rajnish\\anaconda3\\envs\\keras_env\\lib\\site-packages\\wandb\\sdk\\lib\\telemetry.py\", line 42, in __exit__\n",
      "    self._run._telemetry_callback(self._obj)\n",
      "  File \"c:\\Users\\Rajnish\\anaconda3\\envs\\keras_env\\lib\\site-packages\\wandb\\sdk\\wandb_run.py\", line 749, in _telemetry_callback\n",
      "    self._telemetry_flush()\n",
      "  File \"c:\\Users\\Rajnish\\anaconda3\\envs\\keras_env\\lib\\site-packages\\wandb\\sdk\\wandb_run.py\", line 762, in _telemetry_flush\n",
      "    self._backend.interface._publish_telemetry(self._telemetry_obj)\n",
      "  File \"c:\\Users\\Rajnish\\anaconda3\\envs\\keras_env\\lib\\site-packages\\wandb\\sdk\\interface\\interface_shared.py\", line 70, in _publish_telemetry\n",
      "    self._publish(rec)\n",
      "  File \"c:\\Users\\Rajnish\\anaconda3\\envs\\keras_env\\lib\\site-packages\\wandb\\sdk\\interface\\interface_sock.py\", line 46, in _publish\n",
      "    self._sock_client.send_record_publish(record)\n",
      "  File \"c:\\Users\\Rajnish\\anaconda3\\envs\\keras_env\\lib\\site-packages\\wandb\\sdk\\lib\\sock_client.py\", line 224, in send_record_publish\n",
      "    self.send_server_request(server_req)\n",
      "  File \"c:\\Users\\Rajnish\\anaconda3\\envs\\keras_env\\lib\\site-packages\\wandb\\sdk\\lib\\sock_client.py\", line 154, in send_server_request\n",
      "    self._send_message(msg)\n",
      "  File \"c:\\Users\\Rajnish\\anaconda3\\envs\\keras_env\\lib\\site-packages\\wandb\\sdk\\lib\\sock_client.py\", line 151, in _send_message\n",
      "    self._sendall_with_error_handle(header + data)\n",
      "  File \"c:\\Users\\Rajnish\\anaconda3\\envs\\keras_env\\lib\\site-packages\\wandb\\sdk\\lib\\sock_client.py\", line 130, in _sendall_with_error_handle\n",
      "    sent = self._sock.send(data)\n",
      "ConnectionAbortedError: [WinError 10053] An established connection was aborted by the software in your host machine\n",
      "\n",
      "During handling of the above exception, another exception occurred:\n",
      "\n",
      "Traceback (most recent call last):\n",
      "  File \"c:\\Users\\Rajnish\\anaconda3\\envs\\keras_env\\lib\\threading.py\", line 1016, in _bootstrap_inner\n",
      "    self.run()\n",
      "  File \"c:\\Users\\Rajnish\\anaconda3\\envs\\keras_env\\lib\\site-packages\\ipykernel\\ipkernel.py\", line 766, in run_closure\n",
      "    _threading_Thread_run(self)\n",
      "  File \"c:\\Users\\Rajnish\\anaconda3\\envs\\keras_env\\lib\\threading.py\", line 953, in run\n",
      "    self._target(*self._args, **self._kwargs)\n",
      "  File \"c:\\Users\\Rajnish\\anaconda3\\envs\\keras_env\\lib\\site-packages\\wandb\\agents\\pyagent.py\", line 311, in _run_job\n",
      "    wandb.finish(exit_code=1)\n",
      "  File \"c:\\Users\\Rajnish\\anaconda3\\envs\\keras_env\\lib\\site-packages\\wandb\\sdk\\wandb_run.py\", line 4132, in finish\n",
      "    wandb.run.finish(exit_code=exit_code, quiet=quiet)\n",
      "  File \"c:\\Users\\Rajnish\\anaconda3\\envs\\keras_env\\lib\\site-packages\\wandb\\sdk\\wandb_run.py\", line 449, in wrapper\n",
      "    return func(self, *args, **kwargs)\n",
      "  File \"c:\\Users\\Rajnish\\anaconda3\\envs\\keras_env\\lib\\site-packages\\wandb\\sdk\\wandb_run.py\", line 391, in wrapper\n",
      "    return func(self, *args, **kwargs)\n",
      "  File \"c:\\Users\\Rajnish\\anaconda3\\envs\\keras_env\\lib\\site-packages\\wandb\\sdk\\wandb_run.py\", line 2106, in finish\n",
      "    return self._finish(exit_code)\n",
      "  File \"c:\\Users\\Rajnish\\anaconda3\\envs\\keras_env\\lib\\site-packages\\wandb\\sdk\\wandb_run.py\", line 2113, in _finish\n",
      "    with telemetry.context(run=self) as tel:\n",
      "  File \"c:\\Users\\Rajnish\\anaconda3\\envs\\keras_env\\lib\\site-packages\\wandb\\sdk\\lib\\telemetry.py\", line 42, in __exit__\n",
      "    self._run._telemetry_callback(self._obj)\n",
      "  File \"c:\\Users\\Rajnish\\anaconda3\\envs\\keras_env\\lib\\site-packages\\wandb\\sdk\\wandb_run.py\", line 749, in _telemetry_callback\n",
      "    self._telemetry_flush()\n",
      "  File \"c:\\Users\\Rajnish\\anaconda3\\envs\\keras_env\\lib\\site-packages\\wandb\\sdk\\wandb_run.py\", line 762, in _telemetry_flush\n",
      "    self._backend.interface._publish_telemetry(self._telemetry_obj)\n",
      "  File \"c:\\Users\\Rajnish\\anaconda3\\envs\\keras_env\\lib\\site-packages\\wandb\\sdk\\interface\\interface_shared.py\", line 70, in _publish_telemetry\n",
      "    self._publish(rec)\n",
      "  File \"c:\\Users\\Rajnish\\anaconda3\\envs\\keras_env\\lib\\site-packages\\wandb\\sdk\\interface\\interface_sock.py\", line 46, in _publish\n",
      "    self._sock_client.send_record_publish(record)\n",
      "  File \"c:\\Users\\Rajnish\\anaconda3\\envs\\keras_env\\lib\\site-packages\\wandb\\sdk\\lib\\sock_client.py\", line 224, in send_record_publish\n",
      "    self.send_server_request(server_req)\n",
      "  File \"c:\\Users\\Rajnish\\anaconda3\\envs\\keras_env\\lib\\site-packages\\wandb\\sdk\\lib\\sock_client.py\", line 154, in send_server_request\n",
      "    self._send_message(msg)\n",
      "  File \"c:\\Users\\Rajnish\\anaconda3\\envs\\keras_env\\lib\\site-packages\\wandb\\sdk\\lib\\sock_client.py\", line 151, in _send_message\n",
      "    self._sendall_with_error_handle(header + data)\n",
      "  File \"c:\\Users\\Rajnish\\anaconda3\\envs\\keras_env\\lib\\site-packages\\wandb\\sdk\\lib\\sock_client.py\", line 130, in _sendall_with_error_handle\n",
      "    sent = self._sock.send(data)\n",
      "ConnectionAbortedError: [WinError 10053] An established connection was aborted by the software in your host machine\n",
      "\u001b[34m\u001b[1mwandb\u001b[0m: Ctrl + C detected. Stopping sweep.\n"
     ]
    },
    {
     "name": "stdout",
     "output_type": "stream",
     "text": [
      "Error in callback <bound method _WandbInit._pause_backend of <wandb.sdk.wandb_init._WandbInit object at 0x000001885F24D990>> (for post_run_cell), with arguments args (<ExecutionResult object at 1887d4f7d60, execution_count=3 error_before_exec=None error_in_exec=None info=<ExecutionInfo object at 1887d4f79d0, raw_cell=\"import numpy as np\n",
      "import matplotlib.pyplot as plt..\" store_history=True silent=False shell_futures=True cell_id=vscode-notebook-cell:/c%3A/Users/Rajnish/Desktop/Rajnish/M.Tech%20DSAI%2726/M.Tech%20DSAI%202024-2026/Semester%202/Introduction%20to%20Deep%20Learning/Introduction-to-Deep-Learning-DA6401-/Assignment%201/sample.ipynb#W6sZmlsZQ%3D%3D> result=None>,),kwargs {}:\n"
     ]
    },
    {
     "ename": "ConnectionAbortedError",
     "evalue": "[WinError 10053] An established connection was aborted by the software in your host machine",
     "output_type": "error",
     "traceback": [
      "\u001b[1;31m---------------------------------------------------------------------------\u001b[0m",
      "\u001b[1;31mConnectionAbortedError\u001b[0m                    Traceback (most recent call last)",
      "File \u001b[1;32mc:\\Users\\Rajnish\\anaconda3\\envs\\keras_env\\lib\\site-packages\\wandb\\sdk\\wandb_init.py:565\u001b[0m, in \u001b[0;36m_WandbInit._pause_backend\u001b[1;34m(self, *args, **kwargs)\u001b[0m\n\u001b[0;32m    563\u001b[0m \u001b[38;5;28;01mif\u001b[39;00m \u001b[38;5;28mself\u001b[39m\u001b[38;5;241m.\u001b[39mbackend\u001b[38;5;241m.\u001b[39minterface \u001b[38;5;129;01mis\u001b[39;00m \u001b[38;5;129;01mnot\u001b[39;00m \u001b[38;5;28;01mNone\u001b[39;00m:\n\u001b[0;32m    564\u001b[0m     \u001b[38;5;28mself\u001b[39m\u001b[38;5;241m.\u001b[39m_logger\u001b[38;5;241m.\u001b[39minfo(\u001b[38;5;124m\"\u001b[39m\u001b[38;5;124mpausing backend\u001b[39m\u001b[38;5;124m\"\u001b[39m)  \u001b[38;5;66;03m# type: ignore\u001b[39;00m\n\u001b[1;32m--> 565\u001b[0m     \u001b[38;5;28;43mself\u001b[39;49m\u001b[38;5;241;43m.\u001b[39;49m\u001b[43mbackend\u001b[49m\u001b[38;5;241;43m.\u001b[39;49m\u001b[43minterface\u001b[49m\u001b[38;5;241;43m.\u001b[39;49m\u001b[43mpublish_pause\u001b[49m\u001b[43m(\u001b[49m\u001b[43m)\u001b[49m\n",
      "File \u001b[1;32mc:\\Users\\Rajnish\\anaconda3\\envs\\keras_env\\lib\\site-packages\\wandb\\sdk\\interface\\interface.py:771\u001b[0m, in \u001b[0;36mInterfaceBase.publish_pause\u001b[1;34m(self)\u001b[0m\n\u001b[0;32m    769\u001b[0m \u001b[38;5;28;01mdef\u001b[39;00m\u001b[38;5;250m \u001b[39m\u001b[38;5;21mpublish_pause\u001b[39m(\u001b[38;5;28mself\u001b[39m) \u001b[38;5;241m-\u001b[39m\u001b[38;5;241m>\u001b[39m \u001b[38;5;28;01mNone\u001b[39;00m:\n\u001b[0;32m    770\u001b[0m     pause \u001b[38;5;241m=\u001b[39m pb\u001b[38;5;241m.\u001b[39mPauseRequest()\n\u001b[1;32m--> 771\u001b[0m     \u001b[38;5;28;43mself\u001b[39;49m\u001b[38;5;241;43m.\u001b[39;49m\u001b[43m_publish_pause\u001b[49m\u001b[43m(\u001b[49m\u001b[43mpause\u001b[49m\u001b[43m)\u001b[49m\n",
      "File \u001b[1;32mc:\\Users\\Rajnish\\anaconda3\\envs\\keras_env\\lib\\site-packages\\wandb\\sdk\\interface\\interface_shared.py:297\u001b[0m, in \u001b[0;36mInterfaceShared._publish_pause\u001b[1;34m(self, pause)\u001b[0m\n\u001b[0;32m    295\u001b[0m \u001b[38;5;28;01mdef\u001b[39;00m\u001b[38;5;250m \u001b[39m\u001b[38;5;21m_publish_pause\u001b[39m(\u001b[38;5;28mself\u001b[39m, pause: pb\u001b[38;5;241m.\u001b[39mPauseRequest) \u001b[38;5;241m-\u001b[39m\u001b[38;5;241m>\u001b[39m \u001b[38;5;28;01mNone\u001b[39;00m:\n\u001b[0;32m    296\u001b[0m     rec \u001b[38;5;241m=\u001b[39m \u001b[38;5;28mself\u001b[39m\u001b[38;5;241m.\u001b[39m_make_request(pause\u001b[38;5;241m=\u001b[39mpause)\n\u001b[1;32m--> 297\u001b[0m     \u001b[38;5;28;43mself\u001b[39;49m\u001b[38;5;241;43m.\u001b[39;49m\u001b[43m_publish\u001b[49m\u001b[43m(\u001b[49m\u001b[43mrec\u001b[49m\u001b[43m)\u001b[49m\n",
      "File \u001b[1;32mc:\\Users\\Rajnish\\anaconda3\\envs\\keras_env\\lib\\site-packages\\wandb\\sdk\\interface\\interface_sock.py:46\u001b[0m, in \u001b[0;36mInterfaceSock._publish\u001b[1;34m(self, record, local)\u001b[0m\n\u001b[0;32m     44\u001b[0m \u001b[38;5;28;01mdef\u001b[39;00m\u001b[38;5;250m \u001b[39m\u001b[38;5;21m_publish\u001b[39m(\u001b[38;5;28mself\u001b[39m, record: \u001b[38;5;124m\"\u001b[39m\u001b[38;5;124mpb.Record\u001b[39m\u001b[38;5;124m\"\u001b[39m, local: Optional[\u001b[38;5;28mbool\u001b[39m] \u001b[38;5;241m=\u001b[39m \u001b[38;5;28;01mNone\u001b[39;00m) \u001b[38;5;241m-\u001b[39m\u001b[38;5;241m>\u001b[39m \u001b[38;5;28;01mNone\u001b[39;00m:\n\u001b[0;32m     45\u001b[0m     \u001b[38;5;28mself\u001b[39m\u001b[38;5;241m.\u001b[39m_assign(record)\n\u001b[1;32m---> 46\u001b[0m     \u001b[38;5;28;43mself\u001b[39;49m\u001b[38;5;241;43m.\u001b[39;49m\u001b[43m_sock_client\u001b[49m\u001b[38;5;241;43m.\u001b[39;49m\u001b[43msend_record_publish\u001b[49m\u001b[43m(\u001b[49m\u001b[43mrecord\u001b[49m\u001b[43m)\u001b[49m\n",
      "File \u001b[1;32mc:\\Users\\Rajnish\\anaconda3\\envs\\keras_env\\lib\\site-packages\\wandb\\sdk\\lib\\sock_client.py:224\u001b[0m, in \u001b[0;36mSockClient.send_record_publish\u001b[1;34m(self, record)\u001b[0m\n\u001b[0;32m    222\u001b[0m server_req\u001b[38;5;241m.\u001b[39mrequest_id \u001b[38;5;241m=\u001b[39m record\u001b[38;5;241m.\u001b[39mcontrol\u001b[38;5;241m.\u001b[39mmailbox_slot\n\u001b[0;32m    223\u001b[0m server_req\u001b[38;5;241m.\u001b[39mrecord_publish\u001b[38;5;241m.\u001b[39mCopyFrom(record)\n\u001b[1;32m--> 224\u001b[0m \u001b[38;5;28;43mself\u001b[39;49m\u001b[38;5;241;43m.\u001b[39;49m\u001b[43msend_server_request\u001b[49m\u001b[43m(\u001b[49m\u001b[43mserver_req\u001b[49m\u001b[43m)\u001b[49m\n",
      "File \u001b[1;32mc:\\Users\\Rajnish\\anaconda3\\envs\\keras_env\\lib\\site-packages\\wandb\\sdk\\lib\\sock_client.py:154\u001b[0m, in \u001b[0;36mSockClient.send_server_request\u001b[1;34m(self, msg)\u001b[0m\n\u001b[0;32m    153\u001b[0m \u001b[38;5;28;01mdef\u001b[39;00m\u001b[38;5;250m \u001b[39m\u001b[38;5;21msend_server_request\u001b[39m(\u001b[38;5;28mself\u001b[39m, msg: Any) \u001b[38;5;241m-\u001b[39m\u001b[38;5;241m>\u001b[39m \u001b[38;5;28;01mNone\u001b[39;00m:\n\u001b[1;32m--> 154\u001b[0m     \u001b[38;5;28;43mself\u001b[39;49m\u001b[38;5;241;43m.\u001b[39;49m\u001b[43m_send_message\u001b[49m\u001b[43m(\u001b[49m\u001b[43mmsg\u001b[49m\u001b[43m)\u001b[49m\n",
      "File \u001b[1;32mc:\\Users\\Rajnish\\anaconda3\\envs\\keras_env\\lib\\site-packages\\wandb\\sdk\\lib\\sock_client.py:151\u001b[0m, in \u001b[0;36mSockClient._send_message\u001b[1;34m(self, msg)\u001b[0m\n\u001b[0;32m    149\u001b[0m header \u001b[38;5;241m=\u001b[39m struct\u001b[38;5;241m.\u001b[39mpack(\u001b[38;5;124m\"\u001b[39m\u001b[38;5;124m<BI\u001b[39m\u001b[38;5;124m\"\u001b[39m, \u001b[38;5;28mord\u001b[39m(\u001b[38;5;124m\"\u001b[39m\u001b[38;5;124mW\u001b[39m\u001b[38;5;124m\"\u001b[39m), raw_size)\n\u001b[0;32m    150\u001b[0m \u001b[38;5;28;01mwith\u001b[39;00m \u001b[38;5;28mself\u001b[39m\u001b[38;5;241m.\u001b[39m_lock:\n\u001b[1;32m--> 151\u001b[0m     \u001b[38;5;28;43mself\u001b[39;49m\u001b[38;5;241;43m.\u001b[39;49m\u001b[43m_sendall_with_error_handle\u001b[49m\u001b[43m(\u001b[49m\u001b[43mheader\u001b[49m\u001b[43m \u001b[49m\u001b[38;5;241;43m+\u001b[39;49m\u001b[43m \u001b[49m\u001b[43mdata\u001b[49m\u001b[43m)\u001b[49m\n",
      "File \u001b[1;32mc:\\Users\\Rajnish\\anaconda3\\envs\\keras_env\\lib\\site-packages\\wandb\\sdk\\lib\\sock_client.py:130\u001b[0m, in \u001b[0;36mSockClient._sendall_with_error_handle\u001b[1;34m(self, data)\u001b[0m\n\u001b[0;32m    128\u001b[0m start_time \u001b[38;5;241m=\u001b[39m time\u001b[38;5;241m.\u001b[39mmonotonic()\n\u001b[0;32m    129\u001b[0m \u001b[38;5;28;01mtry\u001b[39;00m:\n\u001b[1;32m--> 130\u001b[0m     sent \u001b[38;5;241m=\u001b[39m \u001b[38;5;28;43mself\u001b[39;49m\u001b[38;5;241;43m.\u001b[39;49m\u001b[43m_sock\u001b[49m\u001b[38;5;241;43m.\u001b[39;49m\u001b[43msend\u001b[49m\u001b[43m(\u001b[49m\u001b[43mdata\u001b[49m\u001b[43m)\u001b[49m\n\u001b[0;32m    131\u001b[0m     \u001b[38;5;66;03m# sent equal to 0 indicates a closed socket\u001b[39;00m\n\u001b[0;32m    132\u001b[0m     \u001b[38;5;28;01mif\u001b[39;00m sent \u001b[38;5;241m==\u001b[39m \u001b[38;5;241m0\u001b[39m:\n",
      "\u001b[1;31mConnectionAbortedError\u001b[0m: [WinError 10053] An established connection was aborted by the software in your host machine"
     ]
    }
   ],
   "source": [
    "import numpy as np\n",
    "import matplotlib.pyplot as plt\n",
    "from keras.datasets import fashion_mnist\n",
    "import wandb\n",
    "import seaborn as sns\n",
    "from sklearn.metrics import confusion_matrix\n",
    "import json\n",
    "\n",
    "# Define the sweep configuration with fixed 3 epochs\n",
    "sweep_config = {\n",
    "    'method': 'random',\n",
    "    'metric': {'name': 'accuracy', 'goal': 'maximize'},\n",
    "    'parameters': {\n",
    "        'learning_rate': {'values': [1e-3, 1e-4]},\n",
    "        'batch_size': {'values': [16, 32, 64]},\n",
    "        'epochs': {'value': 3},  # Fixed to 3 epochs\n",
    "        'hidden_layers': {'values': [3, 4, 5]},\n",
    "        'hidden_size': {'values': [32, 64, 128]},\n",
    "        'activation': {'values': ['relu', 'sigmoid', 'tanh']},\n",
    "        'optimizer': {'values': ['sgd', 'momentum', 'nesterov', 'rmsprop', 'adam', 'nadam']},\n",
    "        'weight_init': {'values': ['random', 'xavier']},\n",
    "        'weight_decay': {\"values\": [0, 0.0005, 0.5]}\n",
    "    },\n",
    "    \"run_cap\": 3\n",
    "}\n",
    "\n",
    "# Load and preprocess the Fashion-MNIST dataset\n",
    "(x_train, y_train), (x_test, y_test) = fashion_mnist.load_data()\n",
    "x_train, x_test = x_train / 255.0, x_test / 255.0\n",
    "x_train, x_test = x_train.reshape(x_train.shape[0], -1), x_test.reshape(x_test.shape[0], -1)\n",
    "num_classes = 10\n",
    "\n",
    "# One-hot encode the labels\n",
    "def one_hot_encode(y, num_classes):\n",
    "    encoded = np.zeros((y.size, num_classes))\n",
    "    encoded[np.arange(y.size), y] = 1\n",
    "    return encoded\n",
    "\n",
    "y_train_encoded, y_test_encoded = one_hot_encode(y_train, num_classes), one_hot_encode(y_test, num_classes)\n",
    "\n",
    "# Save original labels for confusion matrix\n",
    "y_train_labels = y_train.copy()\n",
    "y_test_labels = y_test.copy()\n",
    "\n",
    "# Split training data into train and validation sets\n",
    "split_idx = int(0.9 * len(x_train))\n",
    "x_train, x_val = x_train[:split_idx], x_train[split_idx:]\n",
    "y_train_encoded, y_val_encoded = y_train_encoded[:split_idx], y_train_encoded[split_idx:]\n",
    "y_train_labels = y_train_labels[:split_idx]\n",
    "\n",
    "# Activation Functions\n",
    "def relu(Z):\n",
    "    return np.maximum(0, Z)\n",
    "\n",
    "def sigmoid(Z):\n",
    "    Z = np.clip(Z, -500, 500)\n",
    "    return 1 / (1 + np.exp(-Z))\n",
    "\n",
    "def tanh(Z):\n",
    "    return np.tanh(Z)\n",
    "\n",
    "def softmax(Z):\n",
    "    expZ = np.exp(Z - np.max(Z, axis=1, keepdims=True))\n",
    "    return expZ / np.sum(expZ, axis=1, keepdims=True)\n",
    "\n",
    "activation_functions = {\"relu\": relu, \"sigmoid\": sigmoid, \"tanh\": tanh}\n",
    "\n",
    "# Optimizer functions\n",
    "def sgd(weights, biases, grads_W, grads_b, learning_rate):\n",
    "    for i in range(len(weights)):\n",
    "        weights[i] -= learning_rate * grads_W[i]\n",
    "        biases[i] -= learning_rate * grads_b[i]\n",
    "    return weights, biases\n",
    "\n",
    "def momentum(weights, biases, grads_W, grads_b, learning_rate, velocity_W, velocity_b, momentum=0.9):\n",
    "    for i in range(len(weights)):\n",
    "        velocity_W[i] = momentum * velocity_W[i] - learning_rate * grads_W[i]\n",
    "        velocity_b[i] = momentum * velocity_b[i] - learning_rate * grads_b[i]\n",
    "\n",
    "        weights[i] += velocity_W[i]\n",
    "        biases[i] += velocity_b[i]\n",
    "    return weights, biases, velocity_W, velocity_b\n",
    "\n",
    "def nesterov(weights, biases, grads_W, grads_b, learning_rate, velocity_W, velocity_b, momentum=0.9):\n",
    "    for i in range(len(weights)):\n",
    "        # Compute lookahead position\n",
    "        lookahead_W = weights[i] + momentum * velocity_W[i]\n",
    "        lookahead_b = biases[i] + momentum * velocity_b[i]\n",
    "\n",
    "        # Update velocity\n",
    "        velocity_W[i] = momentum * velocity_W[i] - learning_rate * grads_W[i]\n",
    "        velocity_b[i] = momentum * velocity_b[i] - learning_rate * grads_b[i]\n",
    "\n",
    "        # Update weights and biases with corrected lookahead step\n",
    "        weights[i] = lookahead_W + velocity_W[i]\n",
    "        biases[i] = lookahead_b + velocity_b[i]\n",
    "    return weights, biases, velocity_W, velocity_b\n",
    "\n",
    "def rmsprop(weights, biases, grads_W, grads_b, learning_rate, velocity_W, velocity_b, beta=0.9, epsilon=1e-6):\n",
    "    for i in range(len(weights)):\n",
    "        # Update velocity for weights and biases separately\n",
    "        velocity_W[i] = beta * velocity_W[i] + (1 - beta) * (grads_W[i] ** 2)\n",
    "        velocity_b[i] = beta * velocity_b[i] + (1 - beta) * (grads_b[i] ** 2)\n",
    "\n",
    "        # Update weights\n",
    "        weights[i] -= learning_rate * grads_W[i] / (np.sqrt(velocity_W[i]) + epsilon)\n",
    "\n",
    "        # Update biases\n",
    "        biases[i] -= learning_rate * grads_b[i] / (np.sqrt(velocity_b[i]) + epsilon)\n",
    "    return weights, biases, velocity_W, velocity_b\n",
    "\n",
    "def adam(weights, biases, grads_W, grads_b, learning_rate, velocity_W, velocity_b, moment2_W, moment2_b, t, beta1=0.9, beta2=0.999, epsilon=1e-6):\n",
    "    for i in range(len(weights)):\n",
    "        # First moment estimate\n",
    "        velocity_W[i] = beta1 * velocity_W[i] + (1 - beta1) * grads_W[i]\n",
    "        velocity_b[i] = beta1 * velocity_b[i] + (1 - beta1) * grads_b[i]\n",
    "\n",
    "        # Second moment estimate\n",
    "        moment2_W[i] = beta2 * moment2_W[i] + (1 - beta2) * (grads_W[i] ** 2)\n",
    "        moment2_b[i] = beta2 * moment2_b[i] + (1 - beta2) * (grads_b[i] ** 2)\n",
    "\n",
    "        # Bias correction\n",
    "        velocity_W_corrected = velocity_W[i] / (1 - beta1 ** t)\n",
    "        velocity_b_corrected = velocity_b[i] / (1 - beta1 ** t)\n",
    "\n",
    "        moment2_W_corrected = moment2_W[i] / (1 - beta2 ** t)\n",
    "        moment2_b_corrected = moment2_b[i] / (1 - beta2 ** t)\n",
    "\n",
    "        # Check and correct shape mismatch\n",
    "        if moment2_b_corrected.shape != biases[i].shape:\n",
    "            print(f\"Shape mismatch at layer {i}: {moment2_b_corrected.shape} vs {biases[i].shape}\")\n",
    "            moment2_b_corrected = np.reshape(moment2_b_corrected, biases[i].shape)\n",
    "\n",
    "        # Parameter update\n",
    "        weights[i] -= learning_rate * velocity_W_corrected / (np.sqrt(moment2_W_corrected) + epsilon)\n",
    "        biases[i] -= learning_rate * velocity_b_corrected / (np.sqrt(moment2_b_corrected) + epsilon)\n",
    "    \n",
    "    return weights, biases, velocity_W, velocity_b, moment2_W, moment2_b\n",
    "\n",
    "def nadam(weights, biases, grads_W, grads_b, learning_rate, velocity_W, velocity_b, moment2_W, moment2_b, t, beta1=0.9, beta2=0.999, epsilon=1e-6):\n",
    "    for i in range(len(weights)):\n",
    "        # First moment estimate\n",
    "        velocity_W[i] = beta1 * velocity_W[i] + (1 - beta1) * grads_W[i]\n",
    "        velocity_b[i] = beta1 * velocity_b[i] + (1 - beta1) * grads_b[i]\n",
    "\n",
    "        # Second moment estimate\n",
    "        moment2_W[i] = beta2 * moment2_W[i] + (1 - beta2) * (grads_W[i] ** 2)\n",
    "        moment2_b[i] = beta2 * moment2_b[i] + (1 - beta2) * (grads_b[i] ** 2)\n",
    "\n",
    "        # Bias correction\n",
    "        velocity_W_corrected = (beta1 * velocity_W[i] + (1 - beta1) * grads_W[i]) / (1 - beta1 ** t)\n",
    "        velocity_b_corrected = (beta1 * velocity_b[i] + (1 - beta1) * grads_b[i]) / (1 - beta1 ** t)\n",
    "\n",
    "        moment2_W_corrected = moment2_W[i] / (1 - beta2 ** t)\n",
    "        moment2_b_corrected = moment2_b[i] / (1 - beta2 ** t)\n",
    "\n",
    "        # Parameter update\n",
    "        weights[i] -= learning_rate * velocity_W_corrected / (np.sqrt(moment2_W_corrected) + epsilon)\n",
    "        biases[i] -= learning_rate * velocity_b_corrected / (np.sqrt(moment2_b_corrected) + epsilon)\n",
    "    \n",
    "    return weights, biases, velocity_W, velocity_b, moment2_W, moment2_b\n",
    "\n",
    "# Initialize network weights and biases\n",
    "def init_weights(layers, method=\"random\"):\n",
    "    weights = []\n",
    "    biases = []\n",
    "    for i in range(len(layers) - 1):\n",
    "        if method == \"xavier\":\n",
    "            limit = np.sqrt(6 / (layers[i] + layers[i+1]))\n",
    "        else:  # Default to \"random\"\n",
    "            limit = 0.1\n",
    "        W = np.random.uniform(-limit, limit, (layers[i], layers[i+1]))\n",
    "        weights.append(W)\n",
    "        biases.append(np.zeros((1, layers[i+1])))\n",
    "    return weights, biases\n",
    "\n",
    "# Forward pass\n",
    "def forward(X, weights, biases, activation):\n",
    "    A = [X]\n",
    "    for i in range(len(weights) - 1):\n",
    "        Z = A[-1] @ weights[i] + biases[i]\n",
    "        A.append(activation_functions[activation](Z))\n",
    "    Z = A[-1] @ weights[-1] + biases[-1]\n",
    "    A.append(softmax(Z))\n",
    "    return A\n",
    "\n",
    "# Compute loss\n",
    "def compute_loss(y_true, y_pred, weights, weight_decay):\n",
    "    loss = -np.mean(np.sum(y_true * np.log(y_pred + 1e-8), axis=1))\n",
    "    loss += (weight_decay / 2) * sum(np.sum(W**2) for W in weights)\n",
    "    return loss\n",
    "\n",
    "# Backward pass\n",
    "def backward(X, y, A, weights, weight_decay, activation):\n",
    "    grads_W, grads_b = [], []\n",
    "    dA = A[-1] - y\n",
    "    \n",
    "    for i in reversed(range(len(weights))):\n",
    "        dW = A[i].T @ dA / X.shape[0]\n",
    "        db = np.sum(dA, axis=0, keepdims=True) / X.shape[0]\n",
    "        dW += weight_decay * weights[i]\n",
    "        grads_W.append(dW)\n",
    "        grads_b.append(db)\n",
    "        \n",
    "        if i > 0:\n",
    "            if activation == \"relu\":\n",
    "                dA = (dA @ weights[i].T) * (A[i] > 0)\n",
    "            elif activation == \"sigmoid\":\n",
    "                dA = (dA @ weights[i].T) * (A[i] * (1 - A[i]))\n",
    "            elif activation == \"tanh\":\n",
    "                dA = (dA @ weights[i].T) * (1 - A[i]**2)\n",
    "    \n",
    "    return grads_W[::-1], grads_b[::-1]\n",
    "\n",
    "# Function to evaluate a model and get predictions\n",
    "def evaluate_model(weights, biases, X, y_encoded, y_labels, activation):\n",
    "    # Forward pass\n",
    "    A = forward(X, weights, biases, activation)\n",
    "    y_pred = A[-1]\n",
    "    \n",
    "    # Calculate accuracy\n",
    "    y_pred_labels = np.argmax(y_pred, axis=1)\n",
    "    acc = np.mean(y_pred_labels == y_labels)\n",
    "    \n",
    "    # Compute confusion matrix\n",
    "    cm = confusion_matrix(y_labels, y_pred_labels)\n",
    "    \n",
    "    return acc, cm, y_pred_labels\n",
    "\n",
    "# Function to plot confusion matrix with enhanced visualization\n",
    "def plot_confusion_matrix(cm, class_names, dataset_type):\n",
    "    plt.figure(figsize=(12, 10))\n",
    "    \n",
    "    # Create a heatmap with a custom colormap\n",
    "    ax = sns.heatmap(cm, annot=True, fmt='d', cmap='Blues', \n",
    "                    xticklabels=class_names, \n",
    "                    yticklabels=class_names)\n",
    "    \n",
    "    # Improve aesthetics\n",
    "    plt.title(f'Confusion Matrix for Fashion MNIST {dataset_type} Set', fontsize=16)\n",
    "    plt.xlabel('Predicted Label', fontsize=14)\n",
    "    plt.ylabel('True Label', fontsize=14)\n",
    "    \n",
    "    # Save the confusion matrix\n",
    "    filename = f'confusion_matrix_{dataset_type.lower()}.png'\n",
    "    plt.tight_layout()\n",
    "    plt.savefig(filename)\n",
    "    \n",
    "    # Log to wandb\n",
    "    wandb.log({f\"confusion_matrix_{dataset_type.lower()}\": wandb.Image(plt)})\n",
    "    \n",
    "    plt.close()\n",
    "\n",
    "# Function to plot misclassified examples\n",
    "def plot_misclassifications(X, y_true, y_pred, class_names, dataset_type):\n",
    "    # Find misclassified examples\n",
    "    misclassified_indices = np.where(y_true != y_pred)[0]\n",
    "    \n",
    "    if len(misclassified_indices) > 0:\n",
    "        # Select a subset of misclassified examples\n",
    "        sample_size = min(25, len(misclassified_indices))\n",
    "        sample_indices = np.random.choice(misclassified_indices, sample_size, replace=False)\n",
    "        \n",
    "        # Create a grid to display the images\n",
    "        fig, axes = plt.subplots(5, 5, figsize=(15, 15))\n",
    "        axes = axes.flatten()\n",
    "        \n",
    "        # Original shape of each image\n",
    "        img_size = int(np.sqrt(X.shape[1]))\n",
    "        \n",
    "        for i, idx in enumerate(sample_indices):\n",
    "            if i < 25:  # Ensure we don't go out of bounds\n",
    "                # Reshape the flattened image back to 2D\n",
    "                img = X[idx].reshape(img_size, img_size)\n",
    "                \n",
    "                # Display the image\n",
    "                axes[i].imshow(img, cmap='gray')\n",
    "                axes[i].set_title(f\"True: {class_names[y_true[idx]]}\\nPred: {class_names[y_pred[idx]]}\")\n",
    "                axes[i].axis('off')\n",
    "        \n",
    "        # Remove empty subplots\n",
    "        for i in range(sample_size, 25):\n",
    "            fig.delaxes(axes[i])\n",
    "            \n",
    "        plt.tight_layout()\n",
    "        filename = f'misclassified_examples_{dataset_type.lower()}.png'\n",
    "        plt.savefig(filename)\n",
    "        \n",
    "        # Log to wandb\n",
    "        wandb.log({f\"misclassified_examples_{dataset_type.lower()}\": wandb.Image(plt)})\n",
    "        \n",
    "        plt.close()\n",
    "\n",
    "# Modified train_model function to log confusion matrices during training\n",
    "def train_model():\n",
    "    # Initialize wandb for this run\n",
    "    wandb.init(project=\"assignment_1\", entity=\"da24m015-iitm\")\n",
    "    config = wandb.config\n",
    "    wandb.run.name = f\"hl_{config.hidden_layers}_bs_{config.batch_size}_ac_{config.activation}_ep_{config.epochs}\"\n",
    "    \n",
    "    # Create network architecture based on config\n",
    "    architecture = [784] + [config.hidden_size] * config.hidden_layers + [10]\n",
    "    \n",
    "    # Initialize weights and biases\n",
    "    weights, biases = init_weights(architecture, config.weight_init)\n",
    "    \n",
    "    # Initialize optimizer-specific parameters\n",
    "    velocity_W = [np.zeros_like(W) for W in weights]\n",
    "    velocity_b = [np.zeros_like(b) for b in biases]\n",
    "    moment2_W = [np.zeros_like(W) for W in weights]\n",
    "    moment2_b = [np.zeros_like(b) for b in biases]\n",
    "    t = 1  # Timestep for Adam/Nadam\n",
    "    \n",
    "    num_samples = x_train.shape[0]\n",
    "    \n",
    "    best_val_acc = 0\n",
    "    best_weights = None\n",
    "    best_biases = None\n",
    "    \n",
    "    # Class names for Fashion MNIST\n",
    "    class_names = [\n",
    "        'T-shirt/top', 'Trouser', 'Pullover', 'Dress', 'Coat',\n",
    "        'Sandal', 'Shirt', 'Sneaker', 'Bag', 'Ankle boot'\n",
    "    ]\n",
    "    \n",
    "    for epoch in range(config.epochs):\n",
    "        # Shuffle training data\n",
    "        indices = np.random.permutation(num_samples)\n",
    "        X_train_shuffled = x_train[indices]\n",
    "        y_train_encoded_shuffled = y_train_encoded[indices]\n",
    "        y_train_labels_shuffled = y_train_labels[indices]\n",
    "        \n",
    "        total_loss, total_acc = 0, 0\n",
    "        num_batches = num_samples // config.batch_size\n",
    "        \n",
    "        for i in range(0, num_samples, config.batch_size):\n",
    "            X_batch = X_train_shuffled[i:i + config.batch_size]\n",
    "            y_batch_encoded = y_train_encoded_shuffled[i:i + config.batch_size]\n",
    "            \n",
    "            # Forward Pass\n",
    "            A = forward(X_batch, weights, biases, config.activation)\n",
    "            y_pred = A[-1]\n",
    "            \n",
    "            # Compute Loss & Accuracy\n",
    "            loss = compute_loss(y_batch_encoded, y_pred, weights, config.weight_decay)\n",
    "            acc = np.mean(np.argmax(y_pred, axis=1) == np.argmax(y_batch_encoded, axis=1))\n",
    "            \n",
    "            total_loss += loss * len(X_batch)\n",
    "            total_acc += acc * len(X_batch)\n",
    "            \n",
    "            # Backward Pass\n",
    "            grads_W, grads_b = backward(X_batch, y_batch_encoded, A, weights, config.weight_decay, config.activation)\n",
    "            \n",
    "            # Update Weights using the selected optimizer\n",
    "            if config.optimizer == \"sgd\":\n",
    "                weights, biases = sgd(weights, biases, grads_W, grads_b, config.learning_rate)\n",
    "            elif config.optimizer == \"momentum\":\n",
    "                weights, biases, velocity_W, velocity_b = momentum(\n",
    "                    weights, biases, grads_W, grads_b, config.learning_rate, velocity_W, velocity_b)\n",
    "            elif config.optimizer == \"nesterov\":\n",
    "                weights, biases, velocity_W, velocity_b = nesterov(\n",
    "                    weights, biases, grads_W, grads_b, config.learning_rate, velocity_W, velocity_b)\n",
    "            elif config.optimizer == \"rmsprop\":\n",
    "                weights, biases, velocity_W, velocity_b = rmsprop(\n",
    "                    weights, biases, grads_W, grads_b, config.learning_rate, velocity_W, velocity_b)\n",
    "            elif config.optimizer == \"adam\":\n",
    "                weights, biases, velocity_W, velocity_b, moment2_W, moment2_b = adam(\n",
    "                    weights, biases, grads_W, grads_b, config.learning_rate, velocity_W, velocity_b, \n",
    "                    moment2_W, moment2_b, t)\n",
    "                t += 1\n",
    "            elif config.optimizer == \"nadam\":\n",
    "                weights, biases, velocity_W, velocity_b, moment2_W, moment2_b = nadam(\n",
    "                    weights, biases, grads_W, grads_b, config.learning_rate, velocity_W, velocity_b, \n",
    "                    moment2_W, moment2_b, t)\n",
    "                t += 1\n",
    "        \n",
    "        # Compute average loss and accuracy for the epoch\n",
    "        avg_loss = total_loss / num_samples\n",
    "        avg_acc = total_acc / num_samples\n",
    "        \n",
    "        # Validation Metrics\n",
    "        val_A = forward(x_val, weights, biases, config.activation)\n",
    "        val_pred = val_A[-1]\n",
    "        val_loss = compute_loss(y_val_encoded, val_pred, weights, config.weight_decay)\n",
    "        val_acc = np.mean(np.argmax(val_pred, axis=1) == np.argmax(y_val_encoded, axis=1))\n",
    "        \n",
    "        # Log metrics to Weights & Biases\n",
    "        wandb.log({\n",
    "            \"epoch\": epoch + 1, \n",
    "            \"loss\": avg_loss, \n",
    "            \"accuracy\": avg_acc,\n",
    "            \"val_loss\": val_loss, \n",
    "            \"val_accuracy\": val_acc\n",
    "        })\n",
    "        \n",
    "        # Save the best model\n",
    "        if val_acc > best_val_acc:\n",
    "            best_val_acc = val_acc\n",
    "            best_weights = [w.copy() for w in weights]\n",
    "            best_biases = [b.copy() for b in biases]\n",
    "    \n",
    "    # After training, evaluate and log confusion matrices for train and test sets with best model\n",
    "    train_acc, train_cm, train_pred = evaluate_model(\n",
    "        best_weights, best_biases, x_train, y_train_encoded, y_train_labels, config.activation\n",
    "    )\n",
    "    \n",
    "    test_acc, test_cm, test_pred = evaluate_model(\n",
    "        best_weights, best_biases, x_test, y_test_encoded, y_test_labels, config.activation\n",
    "    )\n",
    "    \n",
    "    # Log the confusion matrices\n",
    "    plot_confusion_matrix(train_cm, class_names, \"Training\")\n",
    "    plot_confusion_matrix(test_cm, class_names, \"Test\")\n",
    "    \n",
    "    # Plot misclassified examples\n",
    "    plot_misclassifications(x_train, y_train_labels, train_pred, class_names, \"Training\")\n",
    "    plot_misclassifications(x_test, y_test_labels, test_pred, class_names, \"Test\")\n",
    "    \n",
    "    # Log final test and train accuracy\n",
    "    wandb.log({\n",
    "        \"final_train_accuracy\": train_acc,\n",
    "        \"final_test_accuracy\": test_acc\n",
    "    })\n",
    "    \n",
    "    # Save the best model parameters to wandb\n",
    "    model_artifact = wandb.Artifact('best_model', type='model')\n",
    "    \n",
    "    # Save the best model configuration for later retrieval\n",
    "    best_config = {\n",
    "        \"architecture\": architecture,\n",
    "        \"activation\": config.activation,\n",
    "        \"optimizer\": config.optimizer,\n",
    "        \"learning_rate\": config.learning_rate,\n",
    "        \"batch_size\": config.batch_size,\n",
    "        \"weight_decay\": config.weight_decay,\n",
    "        \"weight_init\": config.weight_init,\n",
    "        \"hidden_layers\": config.hidden_layers,\n",
    "        \"hidden_size\": config.hidden_size,\n",
    "        \"val_accuracy\": best_val_acc,\n",
    "        \"train_accuracy\": train_acc,\n",
    "        \"test_accuracy\": test_acc\n",
    "    }\n",
    "    \n",
    "    # Save best model config as JSON\n",
    "    with open('best_model_config.json', 'w') as f:\n",
    "        json.dump(best_config, f)\n",
    "    \n",
    "    model_artifact.add_file('best_model_config.json')\n",
    "    \n",
    "    # Save best weights and biases as numpy arrays\n",
    "    for i, (w, b) in enumerate(zip(best_weights, best_biases)):\n",
    "        np.save(f'best_weights_{i}.npy', w)\n",
    "        np.save(f'best_biases_{i}.npy', b)\n",
    "        model_artifact.add_file(f'best_weights_{i}.npy')\n",
    "        model_artifact.add_file(f'best_biases_{i}.npy')\n",
    "    \n",
    "    wandb.log_artifact(model_artifact)\n",
    "    \n",
    "    return best_weights, best_biases, best_config\n",
    "\n",
    "# Main execution\n",
    "if __name__ == \"__main__\":\n",
    "    # Run the sweep with fixed 3 epochs\n",
    "    sweep_id = wandb.sweep(sweep_config, project=\"assignment_1\")\n",
    "    wandb.agent(sweep_id, function=train_model)"
   ]
  },
  {
   "cell_type": "code",
   "execution_count": 1,
   "metadata": {},
   "outputs": [
    {
     "name": "stderr",
     "output_type": "stream",
     "text": [
      "\u001b[34m\u001b[1mwandb\u001b[0m: Using wandb-core as the SDK backend.  Please refer to https://wandb.me/wandb-core for more information.\n"
     ]
    },
    {
     "name": "stdout",
     "output_type": "stream",
     "text": [
      "Create sweep with ID: 79d02iaz\n",
      "Sweep URL: https://wandb.ai/da24m015-iitm/assignment_1/sweeps/79d02iaz\n"
     ]
    },
    {
     "name": "stderr",
     "output_type": "stream",
     "text": [
      "\u001b[34m\u001b[1mwandb\u001b[0m: Agent Starting Run: qr1qg8gw with config:\n",
      "\u001b[34m\u001b[1mwandb\u001b[0m: \tactivation: sigmoid\n",
      "\u001b[34m\u001b[1mwandb\u001b[0m: \tbatch_size: 64\n",
      "\u001b[34m\u001b[1mwandb\u001b[0m: \tepochs: 10\n",
      "\u001b[34m\u001b[1mwandb\u001b[0m: \thidden_layers: 5\n",
      "\u001b[34m\u001b[1mwandb\u001b[0m: \thidden_size: 64\n",
      "\u001b[34m\u001b[1mwandb\u001b[0m: \tlearning_rate: 0.001\n",
      "\u001b[34m\u001b[1mwandb\u001b[0m: \toptimizer: rmsprop\n",
      "\u001b[34m\u001b[1mwandb\u001b[0m: \tweight_decay: 0.0005\n",
      "\u001b[34m\u001b[1mwandb\u001b[0m: \tweight_init: xavier\n",
      "\u001b[34m\u001b[1mwandb\u001b[0m: Currently logged in as: \u001b[33mda24m015\u001b[0m (\u001b[33mda24m015-iitm\u001b[0m) to \u001b[32mhttps://api.wandb.ai\u001b[0m. Use \u001b[1m`wandb login --relogin`\u001b[0m to force relogin\n"
     ]
    },
    {
     "data": {
      "text/html": [
       "Ignoring project 'assignment_1' when running a sweep."
      ],
      "text/plain": [
       "<IPython.core.display.HTML object>"
      ]
     },
     "metadata": {},
     "output_type": "display_data"
    },
    {
     "data": {
      "text/html": [
       "Ignoring entity 'da24m015-iitm' when running a sweep."
      ],
      "text/plain": [
       "<IPython.core.display.HTML object>"
      ]
     },
     "metadata": {},
     "output_type": "display_data"
    },
    {
     "data": {
      "text/html": [
       "Tracking run with wandb version 0.19.7"
      ],
      "text/plain": [
       "<IPython.core.display.HTML object>"
      ]
     },
     "metadata": {},
     "output_type": "display_data"
    },
    {
     "data": {
      "text/html": [
       "Run data is saved locally in <code>c:\\Users\\Rajnish\\Desktop\\Rajnish\\M.Tech DSAI'26\\M.Tech DSAI 2024-2026\\Semester 2\\Introduction to Deep Learning\\Introduction-to-Deep-Learning-DA6401-\\Assignment 1\\wandb\\run-20250307_150256-qr1qg8gw</code>"
      ],
      "text/plain": [
       "<IPython.core.display.HTML object>"
      ]
     },
     "metadata": {},
     "output_type": "display_data"
    },
    {
     "data": {
      "text/html": [
       "Syncing run <strong><a href='https://wandb.ai/da24m015-iitm/assignment_1/runs/qr1qg8gw' target=\"_blank\">balmy-sweep-1</a></strong> to <a href='https://wandb.ai/da24m015-iitm/assignment_1' target=\"_blank\">Weights & Biases</a> (<a href='https://wandb.me/developer-guide' target=\"_blank\">docs</a>)<br>Sweep page: <a href='https://wandb.ai/da24m015-iitm/assignment_1/sweeps/79d02iaz' target=\"_blank\">https://wandb.ai/da24m015-iitm/assignment_1/sweeps/79d02iaz</a>"
      ],
      "text/plain": [
       "<IPython.core.display.HTML object>"
      ]
     },
     "metadata": {},
     "output_type": "display_data"
    },
    {
     "data": {
      "text/html": [
       " View project at <a href='https://wandb.ai/da24m015-iitm/assignment_1' target=\"_blank\">https://wandb.ai/da24m015-iitm/assignment_1</a>"
      ],
      "text/plain": [
       "<IPython.core.display.HTML object>"
      ]
     },
     "metadata": {},
     "output_type": "display_data"
    },
    {
     "data": {
      "text/html": [
       " View sweep at <a href='https://wandb.ai/da24m015-iitm/assignment_1/sweeps/79d02iaz' target=\"_blank\">https://wandb.ai/da24m015-iitm/assignment_1/sweeps/79d02iaz</a>"
      ],
      "text/plain": [
       "<IPython.core.display.HTML object>"
      ]
     },
     "metadata": {},
     "output_type": "display_data"
    },
    {
     "data": {
      "text/html": [
       " View run at <a href='https://wandb.ai/da24m015-iitm/assignment_1/runs/qr1qg8gw' target=\"_blank\">https://wandb.ai/da24m015-iitm/assignment_1/runs/qr1qg8gw</a>"
      ],
      "text/plain": [
       "<IPython.core.display.HTML object>"
      ]
     },
     "metadata": {},
     "output_type": "display_data"
    },
    {
     "data": {
      "text/html": [],
      "text/plain": [
       "<IPython.core.display.HTML object>"
      ]
     },
     "metadata": {},
     "output_type": "display_data"
    },
    {
     "data": {
      "text/html": [
       "<br>    <style><br>        .wandb-row {<br>            display: flex;<br>            flex-direction: row;<br>            flex-wrap: wrap;<br>            justify-content: flex-start;<br>            width: 100%;<br>        }<br>        .wandb-col {<br>            display: flex;<br>            flex-direction: column;<br>            flex-basis: 100%;<br>            flex: 1;<br>            padding: 10px;<br>        }<br>    </style><br><div class=\"wandb-row\"><div class=\"wandb-col\"><h3>Run history:</h3><br/><table class=\"wandb\"><tr><td>accuracy</td><td>▁▅▆▇▇▇████</td></tr><tr><td>epoch</td><td>▁▂▃▃▄▅▆▆▇█</td></tr><tr><td>loss</td><td>█▃▂▂▂▁▁▁▁▁</td></tr><tr><td>val_accuracy</td><td>▁▄▃▂▆▄▇█▆█</td></tr><tr><td>val_loss</td><td>█▄▄▅▂▅▂▁▃▁</td></tr></table><br/></div><div class=\"wandb-col\"><h3>Run summary:</h3><br/><table class=\"wandb\"><tr><td>accuracy</td><td>0.75928</td></tr><tr><td>epoch</td><td>10</td></tr><tr><td>loss</td><td>0.88313</td></tr><tr><td>val_accuracy</td><td>0.763</td></tr><tr><td>val_loss</td><td>0.8665</td></tr></table><br/></div></div>"
      ],
      "text/plain": [
       "<IPython.core.display.HTML object>"
      ]
     },
     "metadata": {},
     "output_type": "display_data"
    },
    {
     "data": {
      "text/html": [
       " View run <strong style=\"color:#cdcd00\">hl_5_bs_64_ac_sigmoid</strong> at: <a href='https://wandb.ai/da24m015-iitm/assignment_1/runs/qr1qg8gw' target=\"_blank\">https://wandb.ai/da24m015-iitm/assignment_1/runs/qr1qg8gw</a><br> View project at: <a href='https://wandb.ai/da24m015-iitm/assignment_1' target=\"_blank\">https://wandb.ai/da24m015-iitm/assignment_1</a><br>Synced 5 W&B file(s), 0 media file(s), 14 artifact file(s) and 0 other file(s)"
      ],
      "text/plain": [
       "<IPython.core.display.HTML object>"
      ]
     },
     "metadata": {},
     "output_type": "display_data"
    },
    {
     "data": {
      "text/html": [
       "Find logs at: <code>.\\wandb\\run-20250307_150256-qr1qg8gw\\logs</code>"
      ],
      "text/plain": [
       "<IPython.core.display.HTML object>"
      ]
     },
     "metadata": {},
     "output_type": "display_data"
    },
    {
     "name": "stderr",
     "output_type": "stream",
     "text": [
      "\u001b[34m\u001b[1mwandb\u001b[0m: Agent Starting Run: awbi2rzf with config:\n",
      "\u001b[34m\u001b[1mwandb\u001b[0m: \tactivation: sigmoid\n",
      "\u001b[34m\u001b[1mwandb\u001b[0m: \tbatch_size: 16\n",
      "\u001b[34m\u001b[1mwandb\u001b[0m: \tepochs: 5\n",
      "\u001b[34m\u001b[1mwandb\u001b[0m: \thidden_layers: 3\n",
      "\u001b[34m\u001b[1mwandb\u001b[0m: \thidden_size: 128\n",
      "\u001b[34m\u001b[1mwandb\u001b[0m: \tlearning_rate: 0.0001\n",
      "\u001b[34m\u001b[1mwandb\u001b[0m: \toptimizer: nadam\n",
      "\u001b[34m\u001b[1mwandb\u001b[0m: \tweight_decay: 0.5\n",
      "\u001b[34m\u001b[1mwandb\u001b[0m: \tweight_init: random\n"
     ]
    },
    {
     "data": {
      "text/html": [
       "Ignoring project 'assignment_1' when running a sweep."
      ],
      "text/plain": [
       "<IPython.core.display.HTML object>"
      ]
     },
     "metadata": {},
     "output_type": "display_data"
    },
    {
     "data": {
      "text/html": [
       "Ignoring entity 'da24m015-iitm' when running a sweep."
      ],
      "text/plain": [
       "<IPython.core.display.HTML object>"
      ]
     },
     "metadata": {},
     "output_type": "display_data"
    },
    {
     "data": {
      "text/html": [
       "Tracking run with wandb version 0.19.7"
      ],
      "text/plain": [
       "<IPython.core.display.HTML object>"
      ]
     },
     "metadata": {},
     "output_type": "display_data"
    },
    {
     "data": {
      "text/html": [
       "Run data is saved locally in <code>c:\\Users\\Rajnish\\Desktop\\Rajnish\\M.Tech DSAI'26\\M.Tech DSAI 2024-2026\\Semester 2\\Introduction to Deep Learning\\Introduction-to-Deep-Learning-DA6401-\\Assignment 1\\wandb\\run-20250307_150339-awbi2rzf</code>"
      ],
      "text/plain": [
       "<IPython.core.display.HTML object>"
      ]
     },
     "metadata": {},
     "output_type": "display_data"
    },
    {
     "data": {
      "text/html": [
       "Syncing run <strong><a href='https://wandb.ai/da24m015-iitm/assignment_1/runs/awbi2rzf' target=\"_blank\">exalted-sweep-2</a></strong> to <a href='https://wandb.ai/da24m015-iitm/assignment_1' target=\"_blank\">Weights & Biases</a> (<a href='https://wandb.me/developer-guide' target=\"_blank\">docs</a>)<br>Sweep page: <a href='https://wandb.ai/da24m015-iitm/assignment_1/sweeps/79d02iaz' target=\"_blank\">https://wandb.ai/da24m015-iitm/assignment_1/sweeps/79d02iaz</a>"
      ],
      "text/plain": [
       "<IPython.core.display.HTML object>"
      ]
     },
     "metadata": {},
     "output_type": "display_data"
    },
    {
     "data": {
      "text/html": [
       " View project at <a href='https://wandb.ai/da24m015-iitm/assignment_1' target=\"_blank\">https://wandb.ai/da24m015-iitm/assignment_1</a>"
      ],
      "text/plain": [
       "<IPython.core.display.HTML object>"
      ]
     },
     "metadata": {},
     "output_type": "display_data"
    },
    {
     "data": {
      "text/html": [
       " View sweep at <a href='https://wandb.ai/da24m015-iitm/assignment_1/sweeps/79d02iaz' target=\"_blank\">https://wandb.ai/da24m015-iitm/assignment_1/sweeps/79d02iaz</a>"
      ],
      "text/plain": [
       "<IPython.core.display.HTML object>"
      ]
     },
     "metadata": {},
     "output_type": "display_data"
    },
    {
     "data": {
      "text/html": [
       " View run at <a href='https://wandb.ai/da24m015-iitm/assignment_1/runs/awbi2rzf' target=\"_blank\">https://wandb.ai/da24m015-iitm/assignment_1/runs/awbi2rzf</a>"
      ],
      "text/plain": [
       "<IPython.core.display.HTML object>"
      ]
     },
     "metadata": {},
     "output_type": "display_data"
    },
    {
     "data": {
      "text/html": [],
      "text/plain": [
       "<IPython.core.display.HTML object>"
      ]
     },
     "metadata": {},
     "output_type": "display_data"
    },
    {
     "data": {
      "text/html": [
       "<br>    <style><br>        .wandb-row {<br>            display: flex;<br>            flex-direction: row;<br>            flex-wrap: wrap;<br>            justify-content: flex-start;<br>            width: 100%;<br>        }<br>        .wandb-col {<br>            display: flex;<br>            flex-direction: column;<br>            flex-basis: 100%;<br>            flex: 1;<br>            padding: 10px;<br>        }<br>    </style><br><div class=\"wandb-row\"><div class=\"wandb-col\"><h3>Run history:</h3><br/><table class=\"wandb\"><tr><td>accuracy</td><td>▆▁█▇▅</td></tr><tr><td>epoch</td><td>▁▃▅▆█</td></tr><tr><td>loss</td><td>█▁▁▁▁</td></tr><tr><td>val_accuracy</td><td>▄██▁▁</td></tr><tr><td>val_loss</td><td>▃▁▄▅█</td></tr></table><br/></div><div class=\"wandb-col\"><h3>Run summary:</h3><br/><table class=\"wandb\"><tr><td>accuracy</td><td>0.09954</td></tr><tr><td>epoch</td><td>5</td></tr><tr><td>loss</td><td>2.30373</td></tr><tr><td>val_accuracy</td><td>0.09733</td></tr><tr><td>val_loss</td><td>2.30479</td></tr></table><br/></div></div>"
      ],
      "text/plain": [
       "<IPython.core.display.HTML object>"
      ]
     },
     "metadata": {},
     "output_type": "display_data"
    },
    {
     "data": {
      "text/html": [
       " View run <strong style=\"color:#cdcd00\">hl_3_bs_16_ac_sigmoid</strong> at: <a href='https://wandb.ai/da24m015-iitm/assignment_1/runs/awbi2rzf' target=\"_blank\">https://wandb.ai/da24m015-iitm/assignment_1/runs/awbi2rzf</a><br> View project at: <a href='https://wandb.ai/da24m015-iitm/assignment_1' target=\"_blank\">https://wandb.ai/da24m015-iitm/assignment_1</a><br>Synced 5 W&B file(s), 0 media file(s), 10 artifact file(s) and 0 other file(s)"
      ],
      "text/plain": [
       "<IPython.core.display.HTML object>"
      ]
     },
     "metadata": {},
     "output_type": "display_data"
    },
    {
     "data": {
      "text/html": [
       "Find logs at: <code>.\\wandb\\run-20250307_150339-awbi2rzf\\logs</code>"
      ],
      "text/plain": [
       "<IPython.core.display.HTML object>"
      ]
     },
     "metadata": {},
     "output_type": "display_data"
    },
    {
     "name": "stderr",
     "output_type": "stream",
     "text": [
      "\u001b[34m\u001b[1mwandb\u001b[0m: Agent Starting Run: 10z7a42s with config:\n",
      "\u001b[34m\u001b[1mwandb\u001b[0m: \tactivation: relu\n",
      "\u001b[34m\u001b[1mwandb\u001b[0m: \tbatch_size: 16\n",
      "\u001b[34m\u001b[1mwandb\u001b[0m: \tepochs: 5\n",
      "\u001b[34m\u001b[1mwandb\u001b[0m: \thidden_layers: 5\n",
      "\u001b[34m\u001b[1mwandb\u001b[0m: \thidden_size: 32\n",
      "\u001b[34m\u001b[1mwandb\u001b[0m: \tlearning_rate: 0.001\n",
      "\u001b[34m\u001b[1mwandb\u001b[0m: \toptimizer: nesterov\n",
      "\u001b[34m\u001b[1mwandb\u001b[0m: \tweight_decay: 0.5\n",
      "\u001b[34m\u001b[1mwandb\u001b[0m: \tweight_init: xavier\n"
     ]
    },
    {
     "data": {
      "text/html": [
       "Ignoring project 'assignment_1' when running a sweep."
      ],
      "text/plain": [
       "<IPython.core.display.HTML object>"
      ]
     },
     "metadata": {},
     "output_type": "display_data"
    },
    {
     "data": {
      "text/html": [
       "Ignoring entity 'da24m015-iitm' when running a sweep."
      ],
      "text/plain": [
       "<IPython.core.display.HTML object>"
      ]
     },
     "metadata": {},
     "output_type": "display_data"
    },
    {
     "data": {
      "text/html": [
       "Tracking run with wandb version 0.19.7"
      ],
      "text/plain": [
       "<IPython.core.display.HTML object>"
      ]
     },
     "metadata": {},
     "output_type": "display_data"
    },
    {
     "data": {
      "text/html": [
       "Run data is saved locally in <code>c:\\Users\\Rajnish\\Desktop\\Rajnish\\M.Tech DSAI'26\\M.Tech DSAI 2024-2026\\Semester 2\\Introduction to Deep Learning\\Introduction-to-Deep-Learning-DA6401-\\Assignment 1\\wandb\\run-20250307_150618-10z7a42s</code>"
      ],
      "text/plain": [
       "<IPython.core.display.HTML object>"
      ]
     },
     "metadata": {},
     "output_type": "display_data"
    },
    {
     "data": {
      "text/html": [
       "Syncing run <strong><a href='https://wandb.ai/da24m015-iitm/assignment_1/runs/10z7a42s' target=\"_blank\">giddy-sweep-3</a></strong> to <a href='https://wandb.ai/da24m015-iitm/assignment_1' target=\"_blank\">Weights & Biases</a> (<a href='https://wandb.me/developer-guide' target=\"_blank\">docs</a>)<br>Sweep page: <a href='https://wandb.ai/da24m015-iitm/assignment_1/sweeps/79d02iaz' target=\"_blank\">https://wandb.ai/da24m015-iitm/assignment_1/sweeps/79d02iaz</a>"
      ],
      "text/plain": [
       "<IPython.core.display.HTML object>"
      ]
     },
     "metadata": {},
     "output_type": "display_data"
    },
    {
     "data": {
      "text/html": [
       " View project at <a href='https://wandb.ai/da24m015-iitm/assignment_1' target=\"_blank\">https://wandb.ai/da24m015-iitm/assignment_1</a>"
      ],
      "text/plain": [
       "<IPython.core.display.HTML object>"
      ]
     },
     "metadata": {},
     "output_type": "display_data"
    },
    {
     "data": {
      "text/html": [
       " View sweep at <a href='https://wandb.ai/da24m015-iitm/assignment_1/sweeps/79d02iaz' target=\"_blank\">https://wandb.ai/da24m015-iitm/assignment_1/sweeps/79d02iaz</a>"
      ],
      "text/plain": [
       "<IPython.core.display.HTML object>"
      ]
     },
     "metadata": {},
     "output_type": "display_data"
    },
    {
     "data": {
      "text/html": [
       " View run at <a href='https://wandb.ai/da24m015-iitm/assignment_1/runs/10z7a42s' target=\"_blank\">https://wandb.ai/da24m015-iitm/assignment_1/runs/10z7a42s</a>"
      ],
      "text/plain": [
       "<IPython.core.display.HTML object>"
      ]
     },
     "metadata": {},
     "output_type": "display_data"
    },
    {
     "data": {
      "text/html": [],
      "text/plain": [
       "<IPython.core.display.HTML object>"
      ]
     },
     "metadata": {},
     "output_type": "display_data"
    },
    {
     "data": {
      "text/html": [
       "<br>    <style><br>        .wandb-row {<br>            display: flex;<br>            flex-direction: row;<br>            flex-wrap: wrap;<br>            justify-content: flex-start;<br>            width: 100%;<br>        }<br>        .wandb-col {<br>            display: flex;<br>            flex-direction: column;<br>            flex-basis: 100%;<br>            flex: 1;<br>            padding: 10px;<br>        }<br>    </style><br><div class=\"wandb-row\"><div class=\"wandb-col\"><h3>Run history:</h3><br/><table class=\"wandb\"><tr><td>accuracy</td><td>▅▄▁█▂</td></tr><tr><td>epoch</td><td>▁▃▅▆█</td></tr><tr><td>loss</td><td>█▁▁▁▁</td></tr><tr><td>val_accuracy</td><td>█▇▅▃▁</td></tr><tr><td>val_loss</td><td>▁▃▂█▃</td></tr></table><br/></div><div class=\"wandb-col\"><h3>Run summary:</h3><br/><table class=\"wandb\"><tr><td>accuracy</td><td>0.09841</td></tr><tr><td>epoch</td><td>5</td></tr><tr><td>loss</td><td>2.30297</td></tr><tr><td>val_accuracy</td><td>0.09417</td></tr><tr><td>val_loss</td><td>2.303</td></tr></table><br/></div></div>"
      ],
      "text/plain": [
       "<IPython.core.display.HTML object>"
      ]
     },
     "metadata": {},
     "output_type": "display_data"
    },
    {
     "data": {
      "text/html": [
       " View run <strong style=\"color:#cdcd00\">hl_5_bs_16_ac_relu</strong> at: <a href='https://wandb.ai/da24m015-iitm/assignment_1/runs/10z7a42s' target=\"_blank\">https://wandb.ai/da24m015-iitm/assignment_1/runs/10z7a42s</a><br> View project at: <a href='https://wandb.ai/da24m015-iitm/assignment_1' target=\"_blank\">https://wandb.ai/da24m015-iitm/assignment_1</a><br>Synced 5 W&B file(s), 0 media file(s), 14 artifact file(s) and 0 other file(s)"
      ],
      "text/plain": [
       "<IPython.core.display.HTML object>"
      ]
     },
     "metadata": {},
     "output_type": "display_data"
    },
    {
     "data": {
      "text/html": [
       "Find logs at: <code>.\\wandb\\run-20250307_150618-10z7a42s\\logs</code>"
      ],
      "text/plain": [
       "<IPython.core.display.HTML object>"
      ]
     },
     "metadata": {},
     "output_type": "display_data"
    },
    {
     "name": "stderr",
     "output_type": "stream",
     "text": [
      "\u001b[34m\u001b[1mwandb\u001b[0m: Sweep Agent: Waiting for job.\n",
      "\u001b[34m\u001b[1mwandb\u001b[0m: Sweep Agent: Exiting.\n"
     ]
    },
    {
     "data": {
      "text/html": [
       "Changes to your `wandb` environment variables will be ignored because your `wandb` session has already started. For more information on how to modify your settings with `wandb.init()` arguments, please refer to <a href='https://wandb.me/wandb-init' target=\"_blank\">the W&B docs</a>."
      ],
      "text/plain": [
       "<IPython.core.display.HTML object>"
      ]
     },
     "metadata": {},
     "output_type": "display_data"
    },
    {
     "data": {
      "text/html": [
       "Ignoring project 'assignment_1' when running a sweep."
      ],
      "text/plain": [
       "<IPython.core.display.HTML object>"
      ]
     },
     "metadata": {},
     "output_type": "display_data"
    },
    {
     "data": {
      "text/html": [
       "Ignoring entity 'da24m015-iitm' when running a sweep."
      ],
      "text/plain": [
       "<IPython.core.display.HTML object>"
      ]
     },
     "metadata": {},
     "output_type": "display_data"
    },
    {
     "data": {
      "text/html": [
       "Tracking run with wandb version 0.19.7"
      ],
      "text/plain": [
       "<IPython.core.display.HTML object>"
      ]
     },
     "metadata": {},
     "output_type": "display_data"
    },
    {
     "data": {
      "text/html": [
       "Run data is saved locally in <code>c:\\Users\\Rajnish\\Desktop\\Rajnish\\M.Tech DSAI'26\\M.Tech DSAI 2024-2026\\Semester 2\\Introduction to Deep Learning\\Introduction-to-Deep-Learning-DA6401-\\Assignment 1\\wandb\\run-20250307_150658-10z7a42s</code>"
      ],
      "text/plain": [
       "<IPython.core.display.HTML object>"
      ]
     },
     "metadata": {},
     "output_type": "display_data"
    },
    {
     "data": {
      "text/html": [
       "Syncing run <strong><a href='https://wandb.ai/da24m015-iitm/assignment_1/runs/10z7a42s' target=\"_blank\">best_model_evaluation</a></strong> to <a href='https://wandb.ai/da24m015-iitm/assignment_1' target=\"_blank\">Weights & Biases</a> (<a href='https://wandb.me/developer-guide' target=\"_blank\">docs</a>)<br>Sweep page: <a href='https://wandb.ai/da24m015-iitm/assignment_1/sweeps/79d02iaz' target=\"_blank\">https://wandb.ai/da24m015-iitm/assignment_1/sweeps/79d02iaz</a>"
      ],
      "text/plain": [
       "<IPython.core.display.HTML object>"
      ]
     },
     "metadata": {},
     "output_type": "display_data"
    },
    {
     "data": {
      "text/html": [
       " View project at <a href='https://wandb.ai/da24m015-iitm/assignment_1' target=\"_blank\">https://wandb.ai/da24m015-iitm/assignment_1</a>"
      ],
      "text/plain": [
       "<IPython.core.display.HTML object>"
      ]
     },
     "metadata": {},
     "output_type": "display_data"
    },
    {
     "data": {
      "text/html": [
       " View sweep at <a href='https://wandb.ai/da24m015-iitm/assignment_1/sweeps/79d02iaz' target=\"_blank\">https://wandb.ai/da24m015-iitm/assignment_1/sweeps/79d02iaz</a>"
      ],
      "text/plain": [
       "<IPython.core.display.HTML object>"
      ]
     },
     "metadata": {},
     "output_type": "display_data"
    },
    {
     "data": {
      "text/html": [
       " View run at <a href='https://wandb.ai/da24m015-iitm/assignment_1/runs/10z7a42s' target=\"_blank\">https://wandb.ai/da24m015-iitm/assignment_1/runs/10z7a42s</a>"
      ],
      "text/plain": [
       "<IPython.core.display.HTML object>"
      ]
     },
     "metadata": {},
     "output_type": "display_data"
    },
    {
     "name": "stdout",
     "output_type": "stream",
     "text": [
      "Best run: amber-sweep-9 with validation accuracy: 0.8857\n"
     ]
    },
    {
     "name": "stderr",
     "output_type": "stream",
     "text": [
      "\u001b[34m\u001b[1mwandb\u001b[0m:   13 of 13 files downloaded.  \n"
     ]
    },
    {
     "name": "stdout",
     "output_type": "stream",
     "text": [
      "Test accuracy: 0.1000\n"
     ]
    },
    {
     "data": {
      "image/png": "[encoded data removed]",
      "text/plain": [
       "<Figure size 1200x1000 with 2 Axes>"
      ]
     },
     "metadata": {},
     "output_type": "display_data"
    },
    {
     "data": {
      "image/png": "[encoded data removed]",
      "text/plain": [
       "<Figure size 1500x1500 with 25 Axes>"
      ]
     },
     "metadata": {},
     "output_type": "display_data"
    },
    {
     "name": "stderr",
     "output_type": "stream",
     "text": [
      "\u001b[34m\u001b[1mwandb\u001b[0m: \u001b[33mWARNING\u001b[0m Config item 'activation' was locked by 'sweep' (ignored update).\n",
      "\u001b[34m\u001b[1mwandb\u001b[0m: \u001b[33mWARNING\u001b[0m Config item 'optimizer' was locked by 'sweep' (ignored update).\n",
      "\u001b[34m\u001b[1mwandb\u001b[0m: \u001b[33mWARNING\u001b[0m Config item 'learning_rate' was locked by 'sweep' (ignored update).\n",
      "\u001b[34m\u001b[1mwandb\u001b[0m: \u001b[33mWARNING\u001b[0m Config item 'batch_size' was locked by 'sweep' (ignored update).\n",
      "\u001b[34m\u001b[1mwandb\u001b[0m: \u001b[33mWARNING\u001b[0m Config item 'weight_decay' was locked by 'sweep' (ignored update).\n",
      "\u001b[34m\u001b[1mwandb\u001b[0m: \u001b[33mWARNING\u001b[0m Config item 'weight_init' was locked by 'sweep' (ignored update).\n",
      "\u001b[34m\u001b[1mwandb\u001b[0m: \u001b[33mWARNING\u001b[0m Config item 'hidden_layers' was locked by 'sweep' (ignored update).\n",
      "\u001b[34m\u001b[1mwandb\u001b[0m: \u001b[33mWARNING\u001b[0m Config item 'hidden_size' was locked by 'sweep' (ignored update).\n"
     ]
    }
   ],
   "source": [
    "# tille Q7\n",
    "# import numpy as np\n",
    "# import matplotlib.pyplot as plt\n",
    "# from keras.datasets import fashion_mnist\n",
    "# import wandb\n",
    "# import seaborn as sns\n",
    "# from sklearn.metrics import confusion_matrix\n",
    "\n",
    "# Keep all the existing code from the provided script, and add the following at the end\n",
    "# import numpy as np\n",
    "# from keras.datasets import fashion_mnist\n",
    "# import wandb\n",
    "# import json\n",
    "# import matplotlib.pyplot as plt\n",
    "\n",
    "import numpy as np\n",
    "import matplotlib.pyplot as plt\n",
    "from keras.datasets import fashion_mnist\n",
    "import wandb\n",
    "import seaborn as sns\n",
    "from sklearn.metrics import confusion_matrix\n",
    "import json  # Add this for the previous error\n",
    "\n",
    "# Define the sweep configuration\n",
    "sweep_config = {\n",
    "    'method': 'random',\n",
    "    'metric': {'name': 'accuracy', 'goal': 'maximize'},\n",
    "    'parameters': {\n",
    "        'learning_rate': {'values': [1e-3, 1e-4]},\n",
    "        'batch_size': {'values': [16, 32, 64]},\n",
    "        'epochs': {'values': [5, 10]},\n",
    "        'hidden_layers': {'values': [3, 4, 5]},\n",
    "        'hidden_size': {'values': [32, 64, 128]},\n",
    "        'activation': {'values': ['relu', 'sigmoid', 'tanh']},\n",
    "        'optimizer': {'values': ['sgd', 'momentum', 'nesterov', 'rmsprop', 'adam', 'nadam']},\n",
    "        'weight_init': {'values': ['random', 'xavier']},\n",
    "        'weight_decay': {\"values\": [0, 0.0005, 0.5]}\n",
    "    },\n",
    "    \"run_cap\": 3\n",
    "}\n",
    "\n",
    "# Load and preprocess the Fashion-MNIST dataset\n",
    "(x_train, y_train), (x_test, y_test) = fashion_mnist.load_data()\n",
    "x_train, x_test = x_train / 255.0, x_test / 255.0\n",
    "x_train, x_test = x_train.reshape(x_train.shape[0], -1), x_test.reshape(x_test.shape[0], -1)\n",
    "num_classes = 10\n",
    "\n",
    "# One-hot encode the labels\n",
    "def one_hot_encode(y, num_classes):\n",
    "    encoded = np.zeros((y.size, num_classes))\n",
    "    encoded[np.arange(y.size), y] = 1\n",
    "    return encoded\n",
    "\n",
    "y_train, y_test = one_hot_encode(y_train, num_classes), one_hot_encode(y_test, num_classes)\n",
    "\n",
    "# Split training data into train and validation sets\n",
    "split_idx = int(0.9 * len(x_train))\n",
    "x_train, x_val = x_train[:split_idx], x_train[split_idx:]\n",
    "y_train, y_val = y_train[:split_idx], y_train[split_idx:]\n",
    "\n",
    "# Activation Functions\n",
    "def relu(Z):\n",
    "    return np.maximum(0, Z)\n",
    "\n",
    "def sigmoid(Z):\n",
    "    Z = np.clip(Z, -500, 500)\n",
    "    return 1 / (1 + np.exp(-Z))\n",
    "\n",
    "def tanh(Z):\n",
    "    return np.tanh(Z)\n",
    "\n",
    "def softmax(Z):\n",
    "    expZ = np.exp(Z - np.max(Z, axis=1, keepdims=True))\n",
    "    return expZ / np.sum(expZ, axis=1, keepdims=True)\n",
    "\n",
    "activation_functions = {\"relu\": relu, \"sigmoid\": sigmoid, \"tanh\": tanh}\n",
    "\n",
    "# Optimizer functions\n",
    "def sgd(weights, biases, grads_W, grads_b, learning_rate):\n",
    "    for i in range(len(weights)):\n",
    "        weights[i] -= learning_rate * grads_W[i]\n",
    "        biases[i] -= learning_rate * grads_b[i]\n",
    "    return weights, biases\n",
    "\n",
    "def momentum(weights, biases, grads_W, grads_b, learning_rate, velocity_W, velocity_b, momentum=0.9):\n",
    "    for i in range(len(weights)):\n",
    "        velocity_W[i] = momentum * velocity_W[i] - learning_rate * grads_W[i]\n",
    "        velocity_b[i] = momentum * velocity_b[i] - learning_rate * grads_b[i]\n",
    "\n",
    "        weights[i] += velocity_W[i]\n",
    "        biases[i] += velocity_b[i]\n",
    "    return weights, biases, velocity_W, velocity_b\n",
    "\n",
    "def nesterov(weights, biases, grads_W, grads_b, learning_rate, velocity_W, velocity_b, momentum=0.9):\n",
    "    for i in range(len(weights)):\n",
    "        # Compute lookahead position\n",
    "        lookahead_W = weights[i] + momentum * velocity_W[i]\n",
    "        lookahead_b = biases[i] + momentum * velocity_b[i]\n",
    "\n",
    "        # Update velocity\n",
    "        velocity_W[i] = momentum * velocity_W[i] - learning_rate * grads_W[i]\n",
    "        velocity_b[i] = momentum * velocity_b[i] - learning_rate * grads_b[i]\n",
    "\n",
    "        # Update weights and biases with corrected lookahead step\n",
    "        weights[i] = lookahead_W + velocity_W[i]\n",
    "        biases[i] = lookahead_b + velocity_b[i]\n",
    "    return weights, biases, velocity_W, velocity_b\n",
    "\n",
    "def rmsprop(weights, biases, grads_W, grads_b, learning_rate, velocity_W, velocity_b, beta=0.9, epsilon=1e-6):\n",
    "    for i in range(len(weights)):\n",
    "        # Update velocity for weights and biases separately\n",
    "        velocity_W[i] = beta * velocity_W[i] + (1 - beta) * (grads_W[i] ** 2)\n",
    "        velocity_b[i] = beta * velocity_b[i] + (1 - beta) * (grads_b[i] ** 2)\n",
    "\n",
    "        # Update weights\n",
    "        weights[i] -= learning_rate * grads_W[i] / (np.sqrt(velocity_W[i]) + epsilon)\n",
    "\n",
    "        # Update biases\n",
    "        biases[i] -= learning_rate * grads_b[i] / (np.sqrt(velocity_b[i]) + epsilon)\n",
    "    return weights, biases, velocity_W, velocity_b\n",
    "\n",
    "def adam(weights, biases, grads_W, grads_b, learning_rate, velocity_W, velocity_b, moment2_W, moment2_b, t, beta1=0.9, beta2=0.999, epsilon=1e-6):\n",
    "    for i in range(len(weights)):\n",
    "        # First moment estimate\n",
    "        velocity_W[i] = beta1 * velocity_W[i] + (1 - beta1) * grads_W[i]\n",
    "        velocity_b[i] = beta1 * velocity_b[i] + (1 - beta1) * grads_b[i]\n",
    "\n",
    "        # Second moment estimate\n",
    "        moment2_W[i] = beta2 * moment2_W[i] + (1 - beta2) * (grads_W[i] ** 2)\n",
    "        moment2_b[i] = beta2 * moment2_b[i] + (1 - beta2) * (grads_b[i] ** 2)\n",
    "\n",
    "        # Bias correction\n",
    "        velocity_W_corrected = velocity_W[i] / (1 - beta1 ** t)\n",
    "        velocity_b_corrected = velocity_b[i] / (1 - beta1 ** t)\n",
    "\n",
    "        moment2_W_corrected = moment2_W[i] / (1 - beta2 ** t)\n",
    "        moment2_b_corrected = moment2_b[i] / (1 - beta2 ** t)\n",
    "\n",
    "        # Check and correct shape mismatch\n",
    "        if moment2_b_corrected.shape != biases[i].shape:\n",
    "            print(f\"Shape mismatch at layer {i}: {moment2_b_corrected.shape} vs {biases[i].shape}\")\n",
    "            moment2_b_corrected = np.reshape(moment2_b_corrected, biases[i].shape)\n",
    "\n",
    "        # Parameter update\n",
    "        weights[i] -= learning_rate * velocity_W_corrected / (np.sqrt(moment2_W_corrected) + epsilon)\n",
    "        biases[i] -= learning_rate * velocity_b_corrected / (np.sqrt(moment2_b_corrected) + epsilon)\n",
    "    \n",
    "    return weights, biases, velocity_W, velocity_b, moment2_W, moment2_b\n",
    "\n",
    "def nadam(weights, biases, grads_W, grads_b, learning_rate, velocity_W, velocity_b, moment2_W, moment2_b, t, beta1=0.9, beta2=0.999, epsilon=1e-6):\n",
    "    for i in range(len(weights)):\n",
    "        # First moment estimate\n",
    "        velocity_W[i] = beta1 * velocity_W[i] + (1 - beta1) * grads_W[i]\n",
    "        velocity_b[i] = beta1 * velocity_b[i] + (1 - beta1) * grads_b[i]\n",
    "\n",
    "        # Second moment estimate\n",
    "        moment2_W[i] = beta2 * moment2_W[i] + (1 - beta2) * (grads_W[i] ** 2)\n",
    "        moment2_b[i] = beta2 * moment2_b[i] + (1 - beta2) * (grads_b[i] ** 2)\n",
    "\n",
    "        # Bias correction\n",
    "        velocity_W_corrected = (beta1 * velocity_W[i] + (1 - beta1) * grads_W[i]) / (1 - beta1 ** t)\n",
    "        velocity_b_corrected = (beta1 * velocity_b[i] + (1 - beta1) * grads_b[i]) / (1 - beta1 ** t)\n",
    "\n",
    "        moment2_W_corrected = moment2_W[i] / (1 - beta2 ** t)\n",
    "        moment2_b_corrected = moment2_b[i] / (1 - beta2 ** t)\n",
    "\n",
    "        # Parameter update\n",
    "        weights[i] -= learning_rate * velocity_W_corrected / (np.sqrt(moment2_W_corrected) + epsilon)\n",
    "        biases[i] -= learning_rate * velocity_b_corrected / (np.sqrt(moment2_b_corrected) + epsilon)\n",
    "    \n",
    "    return weights, biases, velocity_W, velocity_b, moment2_W, moment2_b\n",
    "\n",
    "# Initialize network weights and biases\n",
    "def init_weights(layers, method=\"random\"):\n",
    "    weights = []\n",
    "    biases = []\n",
    "    for i in range(len(layers) - 1):\n",
    "        if method == \"xavier\":\n",
    "            limit = np.sqrt(6 / (layers[i] + layers[i+1]))\n",
    "        else:  # Default to \"random\"\n",
    "            limit = 0.1\n",
    "        W = np.random.uniform(-limit, limit, (layers[i], layers[i+1]))\n",
    "        weights.append(W)\n",
    "        biases.append(np.zeros((1, layers[i+1])))\n",
    "    return weights, biases\n",
    "\n",
    "# Forward pass\n",
    "def forward(X, weights, biases, activation):\n",
    "    A = [X]\n",
    "    for i in range(len(weights) - 1):\n",
    "        Z = A[-1] @ weights[i] + biases[i]\n",
    "        A.append(activation_functions[activation](Z))\n",
    "    Z = A[-1] @ weights[-1] + biases[-1]\n",
    "    A.append(softmax(Z))\n",
    "    return A\n",
    "\n",
    "# Compute loss\n",
    "def compute_loss(y_true, y_pred, weights, weight_decay):\n",
    "    loss = -np.mean(np.sum(y_true * np.log(y_pred + 1e-8), axis=1))\n",
    "    loss += (weight_decay / 2) * sum(np.sum(W**2) for W in weights)\n",
    "    return loss\n",
    "\n",
    "# Backward pass\n",
    "def backward(X, y, A, weights, weight_decay, activation):\n",
    "    grads_W, grads_b = [], []\n",
    "    dA = A[-1] - y\n",
    "    \n",
    "    for i in reversed(range(len(weights))):\n",
    "        dW = A[i].T @ dA / X.shape[0]\n",
    "        db = np.sum(dA, axis=0, keepdims=True) / X.shape[0]\n",
    "        dW += weight_decay * weights[i]\n",
    "        grads_W.append(dW)\n",
    "        grads_b.append(db)\n",
    "        \n",
    "        if i > 0:\n",
    "            if activation == \"relu\":\n",
    "                dA = (dA @ weights[i].T) * (A[i] > 0)\n",
    "            elif activation == \"sigmoid\":\n",
    "                dA = (dA @ weights[i].T) * (A[i] * (1 - A[i]))\n",
    "            elif activation == \"tanh\":\n",
    "                dA = (dA @ weights[i].T) * (1 - A[i]**2)\n",
    "    \n",
    "    return grads_W[::-1], grads_b[::-1]\n",
    "\n",
    "\n",
    "# Function to evaluate a model on test data\n",
    "def evaluate_best_model(weights, biases, X_test, y_test, activation):\n",
    "    # Forward pass\n",
    "    A = forward(X_test, weights, biases, activation)\n",
    "    y_pred = A[-1]\n",
    "    \n",
    "    # Calculate accuracy\n",
    "    test_acc = np.mean(np.argmax(y_pred, axis=1) == np.argmax(y_test, axis=1))\n",
    "    \n",
    "    # Get predicted class labels\n",
    "    y_pred_labels = np.argmax(y_pred, axis=1)\n",
    "    y_true_labels = np.argmax(y_test, axis=1)\n",
    "    \n",
    "    # Compute confusion matrix\n",
    "    cm = confusion_matrix(y_true_labels, y_pred_labels)\n",
    "    \n",
    "    return test_acc, cm, y_pred_labels, y_true_labels\n",
    "\n",
    "# Function to plot confusion matrix with enhanced visualization\n",
    "def plot_confusion_matrix(cm, class_names):\n",
    "    plt.figure(figsize=(12, 10))\n",
    "    \n",
    "    # Create a heatmap with a custom colormap\n",
    "    ax = sns.heatmap(cm, annot=True, fmt='d', cmap='Blues', \n",
    "                    xticklabels=class_names, \n",
    "                    yticklabels=class_names)\n",
    "    \n",
    "    # Improve aesthetics\n",
    "    plt.title('Confusion Matrix for Fashion MNIST Classification', fontsize=16)\n",
    "    plt.xlabel('Predicted Label', fontsize=14)\n",
    "    plt.ylabel('True Label', fontsize=14)\n",
    "    \n",
    "    # Save the confusion matrix\n",
    "    plt.tight_layout()\n",
    "    plt.savefig('confusion_matrix.png')\n",
    "    \n",
    "    # Log to wandb\n",
    "    wandb.log({\"confusion_matrix\": wandb.Image(plt)})\n",
    "    \n",
    "    plt.show()\n",
    "\n",
    "# Function to create interactive visualizations of misclassified examples\n",
    "def plot_misclassifications(X_test, y_true, y_pred, class_names):\n",
    "    # Find misclassified examples\n",
    "    misclassified_indices = np.where(y_true != y_pred)[0]\n",
    "    \n",
    "    if len(misclassified_indices) > 0:\n",
    "        # Select a subset of misclassified examples\n",
    "        sample_size = min(25, len(misclassified_indices))\n",
    "        sample_indices = np.random.choice(misclassified_indices, sample_size, replace=False)\n",
    "        \n",
    "        # Create a grid to display the images\n",
    "        fig, axes = plt.subplots(5, 5, figsize=(15, 15))\n",
    "        axes = axes.flatten()\n",
    "        \n",
    "        # Original shape of each image\n",
    "        img_size = int(np.sqrt(X_test.shape[1]))\n",
    "        \n",
    "        for i, idx in enumerate(sample_indices):\n",
    "            if i < 25:  # Ensure we don't go out of bounds\n",
    "                # Reshape the flattened image back to 2D\n",
    "                img = X_test[idx].reshape(img_size, img_size)\n",
    "                \n",
    "                # Display the image\n",
    "                axes[i].imshow(img, cmap='gray')\n",
    "                axes[i].set_title(f\"True: {class_names[y_true[idx]]}\\nPred: {class_names[y_pred[idx]]}\")\n",
    "                axes[i].axis('off')\n",
    "        \n",
    "        # Remove empty subplots\n",
    "        for i in range(sample_size, 25):\n",
    "            fig.delaxes(axes[i])\n",
    "            \n",
    "        plt.tight_layout()\n",
    "        plt.savefig('misclassified_examples.png')\n",
    "        \n",
    "        # Log to wandb\n",
    "        wandb.log({\"misclassified_examples\": wandb.Image(plt)})\n",
    "        \n",
    "        plt.show()\n",
    "\n",
    "# Replace the train_model function to save the best model\n",
    "def train_model():\n",
    "    # Initialize wandb for this run\n",
    "    wandb.init(project=\"assignment_1\", entity=\"da24m015-iitm\")\n",
    "    config = wandb.config\n",
    "    wandb.run.name = f\"hl_{config.hidden_layers}_bs_{config.batch_size}_ac_{config.activation}\"\n",
    "    \n",
    "    # Create network architecture based on config\n",
    "    architecture = [784] + [config.hidden_size] * config.hidden_layers + [10]\n",
    "    \n",
    "    # Initialize weights and biases\n",
    "    weights, biases = init_weights(architecture, config.weight_init)\n",
    "    \n",
    "    # Initialize optimizer-specific parameters\n",
    "    velocity_W = [np.zeros_like(W) for W in weights]\n",
    "    velocity_b = [np.zeros_like(b) for b in biases]\n",
    "    moment2_W = [np.zeros_like(W) for W in weights]\n",
    "    moment2_b = [np.zeros_like(b) for b in biases]\n",
    "    t = 1  # Timestep for Adam/Nadam\n",
    "    \n",
    "    num_samples = x_train.shape[0]\n",
    "    \n",
    "    best_val_acc = 0\n",
    "    best_weights = None\n",
    "    best_biases = None\n",
    "    \n",
    "    for epoch in range(config.epochs):\n",
    "        # Shuffle training data\n",
    "        indices = np.random.permutation(num_samples)\n",
    "        X_train_shuffled, y_train_shuffled = x_train[indices], y_train[indices]\n",
    "        \n",
    "        total_loss, total_acc = 0, 0\n",
    "        num_batches = num_samples // config.batch_size\n",
    "        \n",
    "        for i in range(0, num_samples, config.batch_size):\n",
    "            X_batch = X_train_shuffled[i:i + config.batch_size]\n",
    "            y_batch = y_train_shuffled[i:i + config.batch_size]\n",
    "            \n",
    "            # Forward Pass\n",
    "            A = forward(X_batch, weights, biases, config.activation)\n",
    "            y_pred = A[-1]\n",
    "            \n",
    "            # Compute Loss & Accuracy\n",
    "            loss = compute_loss(y_batch, y_pred, weights, config.weight_decay)\n",
    "            acc = np.mean(np.argmax(y_pred, axis=1) == np.argmax(y_batch, axis=1))\n",
    "            \n",
    "            total_loss += loss * len(X_batch)\n",
    "            total_acc += acc * len(X_batch)\n",
    "            \n",
    "            # Backward Pass\n",
    "            grads_W, grads_b = backward(X_batch, y_batch, A, weights, config.weight_decay, config.activation)\n",
    "            \n",
    "            # Update Weights using the selected optimizer\n",
    "            if config.optimizer == \"sgd\":\n",
    "                weights, biases = sgd(weights, biases, grads_W, grads_b, config.learning_rate)\n",
    "            elif config.optimizer == \"momentum\":\n",
    "                weights, biases, velocity_W, velocity_b = momentum(\n",
    "                    weights, biases, grads_W, grads_b, config.learning_rate, velocity_W, velocity_b)\n",
    "            elif config.optimizer == \"nesterov\":\n",
    "                weights, biases, velocity_W, velocity_b = nesterov(\n",
    "                    weights, biases, grads_W, grads_b, config.learning_rate, velocity_W, velocity_b)\n",
    "            elif config.optimizer == \"rmsprop\":\n",
    "                weights, biases, velocity_W, velocity_b = rmsprop(\n",
    "                    weights, biases, grads_W, grads_b, config.learning_rate, velocity_W, velocity_b)\n",
    "            elif config.optimizer == \"adam\":\n",
    "                weights, biases, velocity_W, velocity_b, moment2_W, moment2_b = adam(\n",
    "                    weights, biases, grads_W, grads_b, config.learning_rate, velocity_W, velocity_b, \n",
    "                    moment2_W, moment2_b, t)\n",
    "                t += 1\n",
    "            elif config.optimizer == \"nadam\":\n",
    "                weights, biases, velocity_W, velocity_b, moment2_W, moment2_b = nadam(\n",
    "                    weights, biases, grads_W, grads_b, config.learning_rate, velocity_W, velocity_b, \n",
    "                    moment2_W, moment2_b, t)\n",
    "                t += 1\n",
    "        \n",
    "        # Compute average loss and accuracy for the epoch\n",
    "        avg_loss = total_loss / num_samples\n",
    "        avg_acc = total_acc / num_samples\n",
    "        \n",
    "        # Validation Metrics\n",
    "        val_A = forward(x_val, weights, biases, config.activation)\n",
    "        val_pred = val_A[-1]\n",
    "        val_loss = compute_loss(y_val, val_pred, weights, config.weight_decay)\n",
    "        val_acc = np.mean(np.argmax(val_pred, axis=1) == np.argmax(y_val, axis=1))\n",
    "        \n",
    "        # Log metrics to Weights & Biases\n",
    "        wandb.log({\n",
    "            \"epoch\": epoch + 1, \n",
    "            \"loss\": avg_loss, \n",
    "            \"accuracy\": avg_acc,\n",
    "            \"val_loss\": val_loss, \n",
    "            \"val_accuracy\": val_acc\n",
    "        })\n",
    "        \n",
    "        # Save the best model\n",
    "        if val_acc > best_val_acc:\n",
    "            best_val_acc = val_acc\n",
    "            best_weights = [w.copy() for w in weights]\n",
    "            best_biases = [b.copy() for b in biases]\n",
    "    \n",
    "    # Save the best model parameters to wandb\n",
    "    model_artifact = wandb.Artifact('best_model', type='model')\n",
    "    \n",
    "    # Save the best model configuration for later retrieval\n",
    "    best_config = {\n",
    "        \"architecture\": architecture,\n",
    "        \"activation\": config.activation,\n",
    "        \"optimizer\": config.optimizer,\n",
    "        \"learning_rate\": config.learning_rate,\n",
    "        \"batch_size\": config.batch_size,\n",
    "        \"weight_decay\": config.weight_decay,\n",
    "        \"weight_init\": config.weight_init,\n",
    "        \"hidden_layers\": config.hidden_layers,\n",
    "        \"hidden_size\": config.hidden_size,\n",
    "        \"val_accuracy\": best_val_acc\n",
    "    }\n",
    "    \n",
    "    # Save best model config as JSON\n",
    "    import json\n",
    "    with open('best_model_config.json', 'w') as f:\n",
    "        json.dump(best_config, f)\n",
    "    \n",
    "    model_artifact.add_file('best_model_config.json')\n",
    "    \n",
    "    # Save best weights and biases as numpy arrays\n",
    "    for i, (w, b) in enumerate(zip(best_weights, best_biases)):\n",
    "        np.save(f'best_weights_{i}.npy', w)\n",
    "        np.save(f'best_biases_{i}.npy', b)\n",
    "        model_artifact.add_file(f'best_weights_{i}.npy')\n",
    "        model_artifact.add_file(f'best_biases_{i}.npy')\n",
    "    \n",
    "    wandb.log_artifact(model_artifact)\n",
    "    \n",
    "    return best_weights, best_biases, best_config\n",
    "\n",
    "# Function to evaluate and analyze the best model after sweeps\n",
    "def analyze_best_model(api=None):\n",
    "    if api is None:\n",
    "        api = wandb.Api()\n",
    "    \n",
    "    # Start a new wandb run for evaluation\n",
    "    wandb.init(project=\"assignment_1\", entity=\"da24m015-iitm\", name=\"best_model_evaluation\")\n",
    "    \n",
    "    # Get all runs from the sweep\n",
    "    runs = api.runs(\"da24m015-iitm/assignment_1\")\n",
    "    \n",
    "    # Find the run with the highest validation accuracy\n",
    "    best_run = None\n",
    "    best_val_acc = 0\n",
    "    \n",
    "    for run in runs:\n",
    "        if run.state == \"finished\":\n",
    "            # Get the best validation accuracy from the run\n",
    "            val_acc = run.summary.get(\"val_accuracy\", 0)\n",
    "            if val_acc > best_val_acc:\n",
    "                best_val_acc = val_acc\n",
    "                best_run = run\n",
    "    \n",
    "    if best_run:\n",
    "        print(f\"Best run: {best_run.name} with validation accuracy: {best_val_acc:.4f}\")\n",
    "        \n",
    "        # Download the best model artifact\n",
    "        artifact = api.artifact(f\"da24m015-iitm/assignment_1/best_model:latest\")\n",
    "        artifact_dir = artifact.download()\n",
    "        \n",
    "        # Load model configuration\n",
    "        with open(f\"{artifact_dir}/best_model_config.json\", \"r\") as f:\n",
    "            config = json.load(f)\n",
    "        \n",
    "        # Load weights and biases\n",
    "        architecture = config[\"architecture\"]\n",
    "        weights = []\n",
    "        biases = []\n",
    "        \n",
    "        for i in range(len(architecture) - 1):\n",
    "            weights.append(np.load(f\"{artifact_dir}/best_weights_{i}.npy\"))\n",
    "            biases.append(np.load(f\"{artifact_dir}/best_biases_{i}.npy\"))\n",
    "        \n",
    "        # Evaluate on the test set\n",
    "        test_acc, cm, y_pred, y_true = evaluate_best_model(\n",
    "            weights, biases, x_test, y_test, config[\"activation\"]\n",
    "        )\n",
    "        \n",
    "        print(f\"Test accuracy: {test_acc:.4f}\")\n",
    "        \n",
    "        # Class names for Fashion MNIST\n",
    "        class_names = [\n",
    "            'T-shirt/top', 'Trouser', 'Pullover', 'Dress', 'Coat',\n",
    "            'Sandal', 'Shirt', 'Sneaker', 'Bag', 'Ankle boot'\n",
    "        ]\n",
    "        \n",
    "        # Plot confusion matrix\n",
    "        plot_confusion_matrix(cm, class_names)\n",
    "        \n",
    "        # Plot misclassified examples\n",
    "        plot_misclassifications(x_test, y_true, y_pred, class_names)\n",
    "        \n",
    "        # Log the best model configuration\n",
    "        wandb.config.update(config)\n",
    "        \n",
    "        # Log test accuracy\n",
    "        wandb.log({\"test_accuracy\": test_acc})\n",
    "        \n",
    "        return weights, biases, config\n",
    "    else:\n",
    "        print(\"No completed runs found.\")\n",
    "        return None, None, None\n",
    "\n",
    "# Main execution for evaluation after sweeps complete\n",
    "if __name__ == \"__main__\":\n",
    "    # First run the sweep as before\n",
    "    sweep_id = wandb.sweep(sweep_config, project=\"assignment_1\")\n",
    "    wandb.agent(sweep_id, function=train_model)\n",
    "    \n",
    "    # After the sweep completes, analyze the best model\n",
    "    api = wandb.Api()\n",
    "    analyze_best_model(api)"
   ]
  },
  {
   "cell_type": "code",
   "execution_count": null,
   "metadata": {},
   "outputs": [],
   "source": []
  },
  {
   "cell_type": "code",
   "execution_count": null,
   "metadata": {},
   "outputs": [],
   "source": []
  },
  {
   "cell_type": "code",
   "execution_count": null,
   "metadata": {},
   "outputs": [],
   "source": []
  },
  {
   "cell_type": "code",
   "execution_count": 3,
   "metadata": {},
   "outputs": [
    {
     "name": "stdout",
     "output_type": "stream",
     "text": [
      "Error in callback <bound method _WandbInit._resume_backend of <wandb.sdk.wandb_init._WandbInit object at 0x000001D3E4A18F40>> (for pre_run_cell), with arguments args (<ExecutionInfo object at 1d3843a9780, raw_cell=\"import numpy as np\n",
      "import wandb\n",
      "from keras.dataset..\" store_history=True silent=False shell_futures=True cell_id=vscode-notebook-cell:/c%3A/Users/Rajnish/Desktop/Rajnish/M.Tech%20DSAI%2726/M.Tech%20DSAI%202024-2026/Semester%202/Introduction%20to%20Deep%20Learning/Introduction-to-Deep-Learning-DA6401-/Assignment%201/sample.ipynb#W1sZmlsZQ%3D%3D>,),kwargs {}:\n"
     ]
    },
    {
     "ename": "ConnectionAbortedError",
     "evalue": "[WinError 10053] An established connection was aborted by the software in your host machine",
     "output_type": "error",
     "traceback": [
      "\u001b[1;31m---------------------------------------------------------------------------\u001b[0m",
      "\u001b[1;31mConnectionAbortedError\u001b[0m                    Traceback (most recent call last)",
      "File \u001b[1;32mc:\\Users\\Rajnish\\anaconda3\\envs\\keras_env\\lib\\site-packages\\wandb\\sdk\\wandb_init.py:570\u001b[0m, in \u001b[0;36m_WandbInit._resume_backend\u001b[1;34m(self, *args, **kwargs)\u001b[0m\n\u001b[0;32m    568\u001b[0m \u001b[38;5;28;01mif\u001b[39;00m \u001b[38;5;28mself\u001b[39m\u001b[38;5;241m.\u001b[39mbackend \u001b[38;5;129;01mis\u001b[39;00m \u001b[38;5;129;01mnot\u001b[39;00m \u001b[38;5;28;01mNone\u001b[39;00m \u001b[38;5;129;01mand\u001b[39;00m \u001b[38;5;28mself\u001b[39m\u001b[38;5;241m.\u001b[39mbackend\u001b[38;5;241m.\u001b[39minterface \u001b[38;5;129;01mis\u001b[39;00m \u001b[38;5;129;01mnot\u001b[39;00m \u001b[38;5;28;01mNone\u001b[39;00m:\n\u001b[0;32m    569\u001b[0m     \u001b[38;5;28mself\u001b[39m\u001b[38;5;241m.\u001b[39m_logger\u001b[38;5;241m.\u001b[39minfo(\u001b[38;5;124m\"\u001b[39m\u001b[38;5;124mresuming backend\u001b[39m\u001b[38;5;124m\"\u001b[39m)  \u001b[38;5;66;03m# type: ignore\u001b[39;00m\n\u001b[1;32m--> 570\u001b[0m     \u001b[38;5;28;43mself\u001b[39;49m\u001b[38;5;241;43m.\u001b[39;49m\u001b[43mbackend\u001b[49m\u001b[38;5;241;43m.\u001b[39;49m\u001b[43minterface\u001b[49m\u001b[38;5;241;43m.\u001b[39;49m\u001b[43mpublish_resume\u001b[49m\u001b[43m(\u001b[49m\u001b[43m)\u001b[49m\n",
      "File \u001b[1;32mc:\\Users\\Rajnish\\anaconda3\\envs\\keras_env\\lib\\site-packages\\wandb\\sdk\\interface\\interface.py:779\u001b[0m, in \u001b[0;36mInterfaceBase.publish_resume\u001b[1;34m(self)\u001b[0m\n\u001b[0;32m    777\u001b[0m \u001b[38;5;28;01mdef\u001b[39;00m\u001b[38;5;250m \u001b[39m\u001b[38;5;21mpublish_resume\u001b[39m(\u001b[38;5;28mself\u001b[39m) \u001b[38;5;241m-\u001b[39m\u001b[38;5;241m>\u001b[39m \u001b[38;5;28;01mNone\u001b[39;00m:\n\u001b[0;32m    778\u001b[0m     resume \u001b[38;5;241m=\u001b[39m pb\u001b[38;5;241m.\u001b[39mResumeRequest()\n\u001b[1;32m--> 779\u001b[0m     \u001b[38;5;28;43mself\u001b[39;49m\u001b[38;5;241;43m.\u001b[39;49m\u001b[43m_publish_resume\u001b[49m\u001b[43m(\u001b[49m\u001b[43mresume\u001b[49m\u001b[43m)\u001b[49m\n",
      "File \u001b[1;32mc:\\Users\\Rajnish\\anaconda3\\envs\\keras_env\\lib\\site-packages\\wandb\\sdk\\interface\\interface_shared.py:301\u001b[0m, in \u001b[0;36mInterfaceShared._publish_resume\u001b[1;34m(self, resume)\u001b[0m\n\u001b[0;32m    299\u001b[0m \u001b[38;5;28;01mdef\u001b[39;00m\u001b[38;5;250m \u001b[39m\u001b[38;5;21m_publish_resume\u001b[39m(\u001b[38;5;28mself\u001b[39m, resume: pb\u001b[38;5;241m.\u001b[39mResumeRequest) \u001b[38;5;241m-\u001b[39m\u001b[38;5;241m>\u001b[39m \u001b[38;5;28;01mNone\u001b[39;00m:\n\u001b[0;32m    300\u001b[0m     rec \u001b[38;5;241m=\u001b[39m \u001b[38;5;28mself\u001b[39m\u001b[38;5;241m.\u001b[39m_make_request(resume\u001b[38;5;241m=\u001b[39mresume)\n\u001b[1;32m--> 301\u001b[0m     \u001b[38;5;28;43mself\u001b[39;49m\u001b[38;5;241;43m.\u001b[39;49m\u001b[43m_publish\u001b[49m\u001b[43m(\u001b[49m\u001b[43mrec\u001b[49m\u001b[43m)\u001b[49m\n",
      "File \u001b[1;32mc:\\Users\\Rajnish\\anaconda3\\envs\\keras_env\\lib\\site-packages\\wandb\\sdk\\interface\\interface_sock.py:46\u001b[0m, in \u001b[0;36mInterfaceSock._publish\u001b[1;34m(self, record, local)\u001b[0m\n\u001b[0;32m     44\u001b[0m \u001b[38;5;28;01mdef\u001b[39;00m\u001b[38;5;250m \u001b[39m\u001b[38;5;21m_publish\u001b[39m(\u001b[38;5;28mself\u001b[39m, record: \u001b[38;5;124m\"\u001b[39m\u001b[38;5;124mpb.Record\u001b[39m\u001b[38;5;124m\"\u001b[39m, local: Optional[\u001b[38;5;28mbool\u001b[39m] \u001b[38;5;241m=\u001b[39m \u001b[38;5;28;01mNone\u001b[39;00m) \u001b[38;5;241m-\u001b[39m\u001b[38;5;241m>\u001b[39m \u001b[38;5;28;01mNone\u001b[39;00m:\n\u001b[0;32m     45\u001b[0m     \u001b[38;5;28mself\u001b[39m\u001b[38;5;241m.\u001b[39m_assign(record)\n\u001b[1;32m---> 46\u001b[0m     \u001b[38;5;28;43mself\u001b[39;49m\u001b[38;5;241;43m.\u001b[39;49m\u001b[43m_sock_client\u001b[49m\u001b[38;5;241;43m.\u001b[39;49m\u001b[43msend_record_publish\u001b[49m\u001b[43m(\u001b[49m\u001b[43mrecord\u001b[49m\u001b[43m)\u001b[49m\n",
      "File \u001b[1;32mc:\\Users\\Rajnish\\anaconda3\\envs\\keras_env\\lib\\site-packages\\wandb\\sdk\\lib\\sock_client.py:224\u001b[0m, in \u001b[0;36mSockClient.send_record_publish\u001b[1;34m(self, record)\u001b[0m\n\u001b[0;32m    222\u001b[0m server_req\u001b[38;5;241m.\u001b[39mrequest_id \u001b[38;5;241m=\u001b[39m record\u001b[38;5;241m.\u001b[39mcontrol\u001b[38;5;241m.\u001b[39mmailbox_slot\n\u001b[0;32m    223\u001b[0m server_req\u001b[38;5;241m.\u001b[39mrecord_publish\u001b[38;5;241m.\u001b[39mCopyFrom(record)\n\u001b[1;32m--> 224\u001b[0m \u001b[38;5;28;43mself\u001b[39;49m\u001b[38;5;241;43m.\u001b[39;49m\u001b[43msend_server_request\u001b[49m\u001b[43m(\u001b[49m\u001b[43mserver_req\u001b[49m\u001b[43m)\u001b[49m\n",
      "File \u001b[1;32mc:\\Users\\Rajnish\\anaconda3\\envs\\keras_env\\lib\\site-packages\\wandb\\sdk\\lib\\sock_client.py:154\u001b[0m, in \u001b[0;36mSockClient.send_server_request\u001b[1;34m(self, msg)\u001b[0m\n\u001b[0;32m    153\u001b[0m \u001b[38;5;28;01mdef\u001b[39;00m\u001b[38;5;250m \u001b[39m\u001b[38;5;21msend_server_request\u001b[39m(\u001b[38;5;28mself\u001b[39m, msg: Any) \u001b[38;5;241m-\u001b[39m\u001b[38;5;241m>\u001b[39m \u001b[38;5;28;01mNone\u001b[39;00m:\n\u001b[1;32m--> 154\u001b[0m     \u001b[38;5;28;43mself\u001b[39;49m\u001b[38;5;241;43m.\u001b[39;49m\u001b[43m_send_message\u001b[49m\u001b[43m(\u001b[49m\u001b[43mmsg\u001b[49m\u001b[43m)\u001b[49m\n",
      "File \u001b[1;32mc:\\Users\\Rajnish\\anaconda3\\envs\\keras_env\\lib\\site-packages\\wandb\\sdk\\lib\\sock_client.py:151\u001b[0m, in \u001b[0;36mSockClient._send_message\u001b[1;34m(self, msg)\u001b[0m\n\u001b[0;32m    149\u001b[0m header \u001b[38;5;241m=\u001b[39m struct\u001b[38;5;241m.\u001b[39mpack(\u001b[38;5;124m\"\u001b[39m\u001b[38;5;124m<BI\u001b[39m\u001b[38;5;124m\"\u001b[39m, \u001b[38;5;28mord\u001b[39m(\u001b[38;5;124m\"\u001b[39m\u001b[38;5;124mW\u001b[39m\u001b[38;5;124m\"\u001b[39m), raw_size)\n\u001b[0;32m    150\u001b[0m \u001b[38;5;28;01mwith\u001b[39;00m \u001b[38;5;28mself\u001b[39m\u001b[38;5;241m.\u001b[39m_lock:\n\u001b[1;32m--> 151\u001b[0m     \u001b[38;5;28;43mself\u001b[39;49m\u001b[38;5;241;43m.\u001b[39;49m\u001b[43m_sendall_with_error_handle\u001b[49m\u001b[43m(\u001b[49m\u001b[43mheader\u001b[49m\u001b[43m \u001b[49m\u001b[38;5;241;43m+\u001b[39;49m\u001b[43m \u001b[49m\u001b[43mdata\u001b[49m\u001b[43m)\u001b[49m\n",
      "File \u001b[1;32mc:\\Users\\Rajnish\\anaconda3\\envs\\keras_env\\lib\\site-packages\\wandb\\sdk\\lib\\sock_client.py:130\u001b[0m, in \u001b[0;36mSockClient._sendall_with_error_handle\u001b[1;34m(self, data)\u001b[0m\n\u001b[0;32m    128\u001b[0m start_time \u001b[38;5;241m=\u001b[39m time\u001b[38;5;241m.\u001b[39mmonotonic()\n\u001b[0;32m    129\u001b[0m \u001b[38;5;28;01mtry\u001b[39;00m:\n\u001b[1;32m--> 130\u001b[0m     sent \u001b[38;5;241m=\u001b[39m \u001b[38;5;28;43mself\u001b[39;49m\u001b[38;5;241;43m.\u001b[39;49m\u001b[43m_sock\u001b[49m\u001b[38;5;241;43m.\u001b[39;49m\u001b[43msend\u001b[49m\u001b[43m(\u001b[49m\u001b[43mdata\u001b[49m\u001b[43m)\u001b[49m\n\u001b[0;32m    131\u001b[0m     \u001b[38;5;66;03m# sent equal to 0 indicates a closed socket\u001b[39;00m\n\u001b[0;32m    132\u001b[0m     \u001b[38;5;28;01mif\u001b[39;00m sent \u001b[38;5;241m==\u001b[39m \u001b[38;5;241m0\u001b[39m:\n",
      "\u001b[1;31mConnectionAbortedError\u001b[0m: [WinError 10053] An established connection was aborted by the software in your host machine"
     ]
    },
    {
     "name": "stderr",
     "output_type": "stream",
     "text": [
      "\u001b[34m\u001b[1mwandb\u001b[0m: \u001b[33mWARNING\u001b[0m Calling wandb.login() after wandb.init() has no effect.\n"
     ]
    },
    {
     "name": "stdout",
     "output_type": "stream",
     "text": [
      "Create sweep with ID: tm8mv88i\n",
      "Sweep URL: https://wandb.ai/da24m015-iitm/assignment%201/sweeps/tm8mv88i\n"
     ]
    },
    {
     "name": "stderr",
     "output_type": "stream",
     "text": [
      "\u001b[34m\u001b[1mwandb\u001b[0m: Agent Starting Run: 9nl8dfd1 with config:\n",
      "\u001b[34m\u001b[1mwandb\u001b[0m: \tactivation: relu\n",
      "\u001b[34m\u001b[1mwandb\u001b[0m: \tbatch_size: 16\n",
      "\u001b[34m\u001b[1mwandb\u001b[0m: \tlearning_rate: 0.1\n",
      "\u001b[34m\u001b[1mwandb\u001b[0m: \tnum_hidden_layers: 2\n",
      "\u001b[34m\u001b[1mwandb\u001b[0m: \toptimizer: sgd\n"
     ]
    },
    {
     "data": {
      "text/html": [
       "Ignoring project 'assignment 1' when running a sweep."
      ],
      "text/plain": [
       "<IPython.core.display.HTML object>"
      ]
     },
     "metadata": {},
     "output_type": "display_data"
    },
    {
     "name": "stderr",
     "output_type": "stream",
     "text": [
      "Exception in thread Thread-93 (_run_job):\n",
      "Traceback (most recent call last):\n",
      "  File \"c:\\Users\\Rajnish\\anaconda3\\envs\\keras_env\\lib\\site-packages\\wandb\\agents\\pyagent.py\", line 306, in _run_job\n",
      "    self._function()\n",
      "  File \"C:\\Users\\Rajnish\\AppData\\Local\\Temp\\ipykernel_16696\\4041631253.py\", line 99, in train_model\n",
      "  File \"c:\\Users\\Rajnish\\anaconda3\\envs\\keras_env\\lib\\site-packages\\wandb\\sdk\\wandb_init.py\", line 1485, in init\n",
      "    wandb._sentry.reraise(e)\n",
      "  File \"c:\\Users\\Rajnish\\anaconda3\\envs\\keras_env\\lib\\site-packages\\wandb\\analytics\\sentry.py\", line 156, in reraise\n",
      "    raise exc.with_traceback(sys.exc_info()[2])\n",
      "  File \"c:\\Users\\Rajnish\\anaconda3\\envs\\keras_env\\lib\\site-packages\\wandb\\sdk\\wandb_init.py\", line 1471, in init\n",
      "    return wi.init(run_settings, run_config)\n",
      "  File \"c:\\Users\\Rajnish\\anaconda3\\envs\\keras_env\\lib\\site-packages\\wandb\\sdk\\wandb_init.py\", line 779, in init\n",
      "    with telemetry.context() as tel:\n",
      "  File \"c:\\Users\\Rajnish\\anaconda3\\envs\\keras_env\\lib\\site-packages\\wandb\\sdk\\lib\\telemetry.py\", line 42, in __exit__\n",
      "    self._run._telemetry_callback(self._obj)\n",
      "  File \"c:\\Users\\Rajnish\\anaconda3\\envs\\keras_env\\lib\\site-packages\\wandb\\sdk\\wandb_run.py\", line 749, in _telemetry_callback\n",
      "    self._telemetry_flush()\n",
      "  File \"c:\\Users\\Rajnish\\anaconda3\\envs\\keras_env\\lib\\site-packages\\wandb\\sdk\\wandb_run.py\", line 762, in _telemetry_flush\n",
      "    self._backend.interface._publish_telemetry(self._telemetry_obj)\n",
      "  File \"c:\\Users\\Rajnish\\anaconda3\\envs\\keras_env\\lib\\site-packages\\wandb\\sdk\\interface\\interface_shared.py\", line 70, in _publish_telemetry\n",
      "    self._publish(rec)\n",
      "  File \"c:\\Users\\Rajnish\\anaconda3\\envs\\keras_env\\lib\\site-packages\\wandb\\sdk\\interface\\interface_sock.py\", line 46, in _publish\n",
      "    self._sock_client.send_record_publish(record)\n",
      "  File \"c:\\Users\\Rajnish\\anaconda3\\envs\\keras_env\\lib\\site-packages\\wandb\\sdk\\lib\\sock_client.py\", line 224, in send_record_publish\n",
      "    self.send_server_request(server_req)\n",
      "  File \"c:\\Users\\Rajnish\\anaconda3\\envs\\keras_env\\lib\\site-packages\\wandb\\sdk\\lib\\sock_client.py\", line 154, in send_server_request\n",
      "    self._send_message(msg)\n",
      "  File \"c:\\Users\\Rajnish\\anaconda3\\envs\\keras_env\\lib\\site-packages\\wandb\\sdk\\lib\\sock_client.py\", line 151, in _send_message\n",
      "    self._sendall_with_error_handle(header + data)\n",
      "  File \"c:\\Users\\Rajnish\\anaconda3\\envs\\keras_env\\lib\\site-packages\\wandb\\sdk\\lib\\sock_client.py\", line 130, in _sendall_with_error_handle\n",
      "    sent = self._sock.send(data)\n",
      "ConnectionAbortedError: [WinError 10053] An established connection was aborted by the software in your host machine\n",
      "\n",
      "During handling of the above exception, another exception occurred:\n",
      "\n",
      "Traceback (most recent call last):\n",
      "  File \"c:\\Users\\Rajnish\\anaconda3\\envs\\keras_env\\lib\\threading.py\", line 1016, in _bootstrap_inner\n",
      "    self.run()\n",
      "  File \"c:\\Users\\Rajnish\\anaconda3\\envs\\keras_env\\lib\\site-packages\\ipykernel\\ipkernel.py\", line 766, in run_closure\n",
      "    _threading_Thread_run(self)\n",
      "  File \"c:\\Users\\Rajnish\\anaconda3\\envs\\keras_env\\lib\\threading.py\", line 953, in run\n",
      "    self._target(*self._args, **self._kwargs)\n",
      "  File \"c:\\Users\\Rajnish\\anaconda3\\envs\\keras_env\\lib\\site-packages\\wandb\\agents\\pyagent.py\", line 311, in _run_job\n",
      "    wandb.finish(exit_code=1)\n",
      "  File \"c:\\Users\\Rajnish\\anaconda3\\envs\\keras_env\\lib\\site-packages\\wandb\\sdk\\wandb_run.py\", line 4132, in finish\n",
      "    wandb.run.finish(exit_code=exit_code, quiet=quiet)\n",
      "  File \"c:\\Users\\Rajnish\\anaconda3\\envs\\keras_env\\lib\\site-packages\\wandb\\sdk\\wandb_run.py\", line 449, in wrapper\n",
      "    return func(self, *args, **kwargs)\n",
      "  File \"c:\\Users\\Rajnish\\anaconda3\\envs\\keras_env\\lib\\site-packages\\wandb\\sdk\\wandb_run.py\", line 391, in wrapper\n",
      "    return func(self, *args, **kwargs)\n",
      "  File \"c:\\Users\\Rajnish\\anaconda3\\envs\\keras_env\\lib\\site-packages\\wandb\\sdk\\wandb_run.py\", line 2106, in finish\n",
      "    return self._finish(exit_code)\n",
      "  File \"c:\\Users\\Rajnish\\anaconda3\\envs\\keras_env\\lib\\site-packages\\wandb\\sdk\\wandb_run.py\", line 2113, in _finish\n",
      "    with telemetry.context(run=self) as tel:\n",
      "  File \"c:\\Users\\Rajnish\\anaconda3\\envs\\keras_env\\lib\\site-packages\\wandb\\sdk\\lib\\telemetry.py\", line 42, in __exit__\n",
      "    self._run._telemetry_callback(self._obj)\n",
      "  File \"c:\\Users\\Rajnish\\anaconda3\\envs\\keras_env\\lib\\site-packages\\wandb\\sdk\\wandb_run.py\", line 749, in _telemetry_callback\n",
      "    self._telemetry_flush()\n",
      "  File \"c:\\Users\\Rajnish\\anaconda3\\envs\\keras_env\\lib\\site-packages\\wandb\\sdk\\wandb_run.py\", line 762, in _telemetry_flush\n",
      "    self._backend.interface._publish_telemetry(self._telemetry_obj)\n",
      "  File \"c:\\Users\\Rajnish\\anaconda3\\envs\\keras_env\\lib\\site-packages\\wandb\\sdk\\interface\\interface_shared.py\", line 70, in _publish_telemetry\n",
      "    self._publish(rec)\n",
      "  File \"c:\\Users\\Rajnish\\anaconda3\\envs\\keras_env\\lib\\site-packages\\wandb\\sdk\\interface\\interface_sock.py\", line 46, in _publish\n",
      "    self._sock_client.send_record_publish(record)\n",
      "  File \"c:\\Users\\Rajnish\\anaconda3\\envs\\keras_env\\lib\\site-packages\\wandb\\sdk\\lib\\sock_client.py\", line 224, in send_record_publish\n",
      "    self.send_server_request(server_req)\n",
      "  File \"c:\\Users\\Rajnish\\anaconda3\\envs\\keras_env\\lib\\site-packages\\wandb\\sdk\\lib\\sock_client.py\", line 154, in send_server_request\n",
      "    self._send_message(msg)\n",
      "  File \"c:\\Users\\Rajnish\\anaconda3\\envs\\keras_env\\lib\\site-packages\\wandb\\sdk\\lib\\sock_client.py\", line 151, in _send_message\n",
      "    self._sendall_with_error_handle(header + data)\n",
      "  File \"c:\\Users\\Rajnish\\anaconda3\\envs\\keras_env\\lib\\site-packages\\wandb\\sdk\\lib\\sock_client.py\", line 130, in _sendall_with_error_handle\n",
      "    sent = self._sock.send(data)\n",
      "ConnectionAbortedError: [WinError 10053] An established connection was aborted by the software in your host machine\n",
      "\u001b[34m\u001b[1mwandb\u001b[0m: Ctrl + C detected. Stopping sweep.\n"
     ]
    },
    {
     "name": "stdout",
     "output_type": "stream",
     "text": [
      "Error in callback <bound method _WandbInit._pause_backend of <wandb.sdk.wandb_init._WandbInit object at 0x000001D3E4A18F40>> (for post_run_cell), with arguments args (<ExecutionResult object at 1d3843a96c0, execution_count=3 error_before_exec=None error_in_exec=None info=<ExecutionInfo object at 1d3843a9780, raw_cell=\"import numpy as np\n",
      "import wandb\n",
      "from keras.dataset..\" store_history=True silent=False shell_futures=True cell_id=vscode-notebook-cell:/c%3A/Users/Rajnish/Desktop/Rajnish/M.Tech%20DSAI%2726/M.Tech%20DSAI%202024-2026/Semester%202/Introduction%20to%20Deep%20Learning/Introduction-to-Deep-Learning-DA6401-/Assignment%201/sample.ipynb#W1sZmlsZQ%3D%3D> result=None>,),kwargs {}:\n"
     ]
    },
    {
     "ename": "ConnectionAbortedError",
     "evalue": "[WinError 10053] An established connection was aborted by the software in your host machine",
     "output_type": "error",
     "traceback": [
      "\u001b[1;31m---------------------------------------------------------------------------\u001b[0m",
      "\u001b[1;31mConnectionAbortedError\u001b[0m                    Traceback (most recent call last)",
      "File \u001b[1;32mc:\\Users\\Rajnish\\anaconda3\\envs\\keras_env\\lib\\site-packages\\wandb\\sdk\\wandb_init.py:565\u001b[0m, in \u001b[0;36m_WandbInit._pause_backend\u001b[1;34m(self, *args, **kwargs)\u001b[0m\n\u001b[0;32m    563\u001b[0m \u001b[38;5;28;01mif\u001b[39;00m \u001b[38;5;28mself\u001b[39m\u001b[38;5;241m.\u001b[39mbackend\u001b[38;5;241m.\u001b[39minterface \u001b[38;5;129;01mis\u001b[39;00m \u001b[38;5;129;01mnot\u001b[39;00m \u001b[38;5;28;01mNone\u001b[39;00m:\n\u001b[0;32m    564\u001b[0m     \u001b[38;5;28mself\u001b[39m\u001b[38;5;241m.\u001b[39m_logger\u001b[38;5;241m.\u001b[39minfo(\u001b[38;5;124m\"\u001b[39m\u001b[38;5;124mpausing backend\u001b[39m\u001b[38;5;124m\"\u001b[39m)  \u001b[38;5;66;03m# type: ignore\u001b[39;00m\n\u001b[1;32m--> 565\u001b[0m     \u001b[38;5;28;43mself\u001b[39;49m\u001b[38;5;241;43m.\u001b[39;49m\u001b[43mbackend\u001b[49m\u001b[38;5;241;43m.\u001b[39;49m\u001b[43minterface\u001b[49m\u001b[38;5;241;43m.\u001b[39;49m\u001b[43mpublish_pause\u001b[49m\u001b[43m(\u001b[49m\u001b[43m)\u001b[49m\n",
      "File \u001b[1;32mc:\\Users\\Rajnish\\anaconda3\\envs\\keras_env\\lib\\site-packages\\wandb\\sdk\\interface\\interface.py:771\u001b[0m, in \u001b[0;36mInterfaceBase.publish_pause\u001b[1;34m(self)\u001b[0m\n\u001b[0;32m    769\u001b[0m \u001b[38;5;28;01mdef\u001b[39;00m\u001b[38;5;250m \u001b[39m\u001b[38;5;21mpublish_pause\u001b[39m(\u001b[38;5;28mself\u001b[39m) \u001b[38;5;241m-\u001b[39m\u001b[38;5;241m>\u001b[39m \u001b[38;5;28;01mNone\u001b[39;00m:\n\u001b[0;32m    770\u001b[0m     pause \u001b[38;5;241m=\u001b[39m pb\u001b[38;5;241m.\u001b[39mPauseRequest()\n\u001b[1;32m--> 771\u001b[0m     \u001b[38;5;28;43mself\u001b[39;49m\u001b[38;5;241;43m.\u001b[39;49m\u001b[43m_publish_pause\u001b[49m\u001b[43m(\u001b[49m\u001b[43mpause\u001b[49m\u001b[43m)\u001b[49m\n",
      "File \u001b[1;32mc:\\Users\\Rajnish\\anaconda3\\envs\\keras_env\\lib\\site-packages\\wandb\\sdk\\interface\\interface_shared.py:297\u001b[0m, in \u001b[0;36mInterfaceShared._publish_pause\u001b[1;34m(self, pause)\u001b[0m\n\u001b[0;32m    295\u001b[0m \u001b[38;5;28;01mdef\u001b[39;00m\u001b[38;5;250m \u001b[39m\u001b[38;5;21m_publish_pause\u001b[39m(\u001b[38;5;28mself\u001b[39m, pause: pb\u001b[38;5;241m.\u001b[39mPauseRequest) \u001b[38;5;241m-\u001b[39m\u001b[38;5;241m>\u001b[39m \u001b[38;5;28;01mNone\u001b[39;00m:\n\u001b[0;32m    296\u001b[0m     rec \u001b[38;5;241m=\u001b[39m \u001b[38;5;28mself\u001b[39m\u001b[38;5;241m.\u001b[39m_make_request(pause\u001b[38;5;241m=\u001b[39mpause)\n\u001b[1;32m--> 297\u001b[0m     \u001b[38;5;28;43mself\u001b[39;49m\u001b[38;5;241;43m.\u001b[39;49m\u001b[43m_publish\u001b[49m\u001b[43m(\u001b[49m\u001b[43mrec\u001b[49m\u001b[43m)\u001b[49m\n",
      "File \u001b[1;32mc:\\Users\\Rajnish\\anaconda3\\envs\\keras_env\\lib\\site-packages\\wandb\\sdk\\interface\\interface_sock.py:46\u001b[0m, in \u001b[0;36mInterfaceSock._publish\u001b[1;34m(self, record, local)\u001b[0m\n\u001b[0;32m     44\u001b[0m \u001b[38;5;28;01mdef\u001b[39;00m\u001b[38;5;250m \u001b[39m\u001b[38;5;21m_publish\u001b[39m(\u001b[38;5;28mself\u001b[39m, record: \u001b[38;5;124m\"\u001b[39m\u001b[38;5;124mpb.Record\u001b[39m\u001b[38;5;124m\"\u001b[39m, local: Optional[\u001b[38;5;28mbool\u001b[39m] \u001b[38;5;241m=\u001b[39m \u001b[38;5;28;01mNone\u001b[39;00m) \u001b[38;5;241m-\u001b[39m\u001b[38;5;241m>\u001b[39m \u001b[38;5;28;01mNone\u001b[39;00m:\n\u001b[0;32m     45\u001b[0m     \u001b[38;5;28mself\u001b[39m\u001b[38;5;241m.\u001b[39m_assign(record)\n\u001b[1;32m---> 46\u001b[0m     \u001b[38;5;28;43mself\u001b[39;49m\u001b[38;5;241;43m.\u001b[39;49m\u001b[43m_sock_client\u001b[49m\u001b[38;5;241;43m.\u001b[39;49m\u001b[43msend_record_publish\u001b[49m\u001b[43m(\u001b[49m\u001b[43mrecord\u001b[49m\u001b[43m)\u001b[49m\n",
      "File \u001b[1;32mc:\\Users\\Rajnish\\anaconda3\\envs\\keras_env\\lib\\site-packages\\wandb\\sdk\\lib\\sock_client.py:224\u001b[0m, in \u001b[0;36mSockClient.send_record_publish\u001b[1;34m(self, record)\u001b[0m\n\u001b[0;32m    222\u001b[0m server_req\u001b[38;5;241m.\u001b[39mrequest_id \u001b[38;5;241m=\u001b[39m record\u001b[38;5;241m.\u001b[39mcontrol\u001b[38;5;241m.\u001b[39mmailbox_slot\n\u001b[0;32m    223\u001b[0m server_req\u001b[38;5;241m.\u001b[39mrecord_publish\u001b[38;5;241m.\u001b[39mCopyFrom(record)\n\u001b[1;32m--> 224\u001b[0m \u001b[38;5;28;43mself\u001b[39;49m\u001b[38;5;241;43m.\u001b[39;49m\u001b[43msend_server_request\u001b[49m\u001b[43m(\u001b[49m\u001b[43mserver_req\u001b[49m\u001b[43m)\u001b[49m\n",
      "File \u001b[1;32mc:\\Users\\Rajnish\\anaconda3\\envs\\keras_env\\lib\\site-packages\\wandb\\sdk\\lib\\sock_client.py:154\u001b[0m, in \u001b[0;36mSockClient.send_server_request\u001b[1;34m(self, msg)\u001b[0m\n\u001b[0;32m    153\u001b[0m \u001b[38;5;28;01mdef\u001b[39;00m\u001b[38;5;250m \u001b[39m\u001b[38;5;21msend_server_request\u001b[39m(\u001b[38;5;28mself\u001b[39m, msg: Any) \u001b[38;5;241m-\u001b[39m\u001b[38;5;241m>\u001b[39m \u001b[38;5;28;01mNone\u001b[39;00m:\n\u001b[1;32m--> 154\u001b[0m     \u001b[38;5;28;43mself\u001b[39;49m\u001b[38;5;241;43m.\u001b[39;49m\u001b[43m_send_message\u001b[49m\u001b[43m(\u001b[49m\u001b[43mmsg\u001b[49m\u001b[43m)\u001b[49m\n",
      "File \u001b[1;32mc:\\Users\\Rajnish\\anaconda3\\envs\\keras_env\\lib\\site-packages\\wandb\\sdk\\lib\\sock_client.py:151\u001b[0m, in \u001b[0;36mSockClient._send_message\u001b[1;34m(self, msg)\u001b[0m\n\u001b[0;32m    149\u001b[0m header \u001b[38;5;241m=\u001b[39m struct\u001b[38;5;241m.\u001b[39mpack(\u001b[38;5;124m\"\u001b[39m\u001b[38;5;124m<BI\u001b[39m\u001b[38;5;124m\"\u001b[39m, \u001b[38;5;28mord\u001b[39m(\u001b[38;5;124m\"\u001b[39m\u001b[38;5;124mW\u001b[39m\u001b[38;5;124m\"\u001b[39m), raw_size)\n\u001b[0;32m    150\u001b[0m \u001b[38;5;28;01mwith\u001b[39;00m \u001b[38;5;28mself\u001b[39m\u001b[38;5;241m.\u001b[39m_lock:\n\u001b[1;32m--> 151\u001b[0m     \u001b[38;5;28;43mself\u001b[39;49m\u001b[38;5;241;43m.\u001b[39;49m\u001b[43m_sendall_with_error_handle\u001b[49m\u001b[43m(\u001b[49m\u001b[43mheader\u001b[49m\u001b[43m \u001b[49m\u001b[38;5;241;43m+\u001b[39;49m\u001b[43m \u001b[49m\u001b[43mdata\u001b[49m\u001b[43m)\u001b[49m\n",
      "File \u001b[1;32mc:\\Users\\Rajnish\\anaconda3\\envs\\keras_env\\lib\\site-packages\\wandb\\sdk\\lib\\sock_client.py:130\u001b[0m, in \u001b[0;36mSockClient._sendall_with_error_handle\u001b[1;34m(self, data)\u001b[0m\n\u001b[0;32m    128\u001b[0m start_time \u001b[38;5;241m=\u001b[39m time\u001b[38;5;241m.\u001b[39mmonotonic()\n\u001b[0;32m    129\u001b[0m \u001b[38;5;28;01mtry\u001b[39;00m:\n\u001b[1;32m--> 130\u001b[0m     sent \u001b[38;5;241m=\u001b[39m \u001b[38;5;28;43mself\u001b[39;49m\u001b[38;5;241;43m.\u001b[39;49m\u001b[43m_sock\u001b[49m\u001b[38;5;241;43m.\u001b[39;49m\u001b[43msend\u001b[49m\u001b[43m(\u001b[49m\u001b[43mdata\u001b[49m\u001b[43m)\u001b[49m\n\u001b[0;32m    131\u001b[0m     \u001b[38;5;66;03m# sent equal to 0 indicates a closed socket\u001b[39;00m\n\u001b[0;32m    132\u001b[0m     \u001b[38;5;28;01mif\u001b[39;00m sent \u001b[38;5;241m==\u001b[39m \u001b[38;5;241m0\u001b[39m:\n",
      "\u001b[1;31mConnectionAbortedError\u001b[0m: [WinError 10053] An established connection was aborted by the software in your host machine"
     ]
    }
   ],
   "source": [
    "import numpy as np\n",
    "import wandb\n",
    "from keras.datasets import fashion_mnist\n",
    "import matplotlib.pyplot as plt\n",
    "\n",
    "# Initialize wandb sweep configuration\n",
    "sweep_config = {\n",
    "    'method': 'grid',  # Try different values systematically\n",
    "    'metric': {'name': 'val_accuracy', 'goal': 'maximize'},\n",
    "    'parameters': {\n",
    "        'learning_rate': {'values': [0.1, 0.01, 0.001]},\n",
    "        'batch_size': {'values': [16, 32, 64]},\n",
    "        'optimizer': {'values': ['sgd', 'momentum', 'adam']},\n",
    "        'num_hidden_layers': {'values': [2, 3, 4]},\n",
    "        'activation': {'values': ['relu', 'tanh']},\n",
    "    }\n",
    "}\n",
    "sweep_id = wandb.sweep(sweep_config, project=\"assignment 1\")\n",
    "\n",
    "class NeuralNetwork:\n",
    "    def __init__(self, input_size, hidden_layers, output_size, activation_functions, weight_init=\"random\"):\n",
    "        self.input_size = input_size\n",
    "        self.hidden_layers = hidden_layers\n",
    "        self.output_size = output_size\n",
    "        self.num_layers = len(hidden_layers) + 1  # Hidden + Output layer\n",
    "        \n",
    "        self.activation_map = {\n",
    "            'sigmoid': self.sigmoid,\n",
    "            'tanh': self.tanh,\n",
    "            'relu': self.relu,\n",
    "            'softmax': self.softmax\n",
    "        }\n",
    "        \n",
    "        self.activation_functions = [self.activation_map[fn.lower()] for fn in activation_functions]\n",
    "        self.activation_derivatives = [\n",
    "            self.sigmoid_derivative if fn == 'sigmoid' else\n",
    "            self.tanh_derivative if fn == 'tanh' else\n",
    "            self.relu_derivative if fn == 'relu' else None\n",
    "            for fn in activation_functions[:-1]\n",
    "        ]\n",
    "        \n",
    "        self.parameters = self._initialize_parameters(weight_init)\n",
    "    \n",
    "    def _initialize_parameters(self, weight_init):\n",
    "        parameters = {}\n",
    "        layer_dims = [self.input_size] + self.hidden_layers + [self.output_size]\n",
    "        \n",
    "        for l in range(1, len(layer_dims)):\n",
    "            if weight_init == \"random\":\n",
    "                parameters[f'W{l}'] = np.random.randn(layer_dims[l], layer_dims[l-1]) * 0.01\n",
    "            elif weight_init == \"xavier\":\n",
    "                parameters[f'W{l}'] = np.random.randn(layer_dims[l], layer_dims[l-1]) * np.sqrt(1. / layer_dims[l-1])\n",
    "            parameters[f'b{l}'] = np.zeros((layer_dims[l], 1))\n",
    "        \n",
    "        return parameters\n",
    "\n",
    "    def sigmoid(self, Z):\n",
    "        return 1 / (1 + np.exp(-Z))\n",
    "    \n",
    "    def sigmoid_derivative(self, A):\n",
    "        return A * (1 - A)\n",
    "    \n",
    "    def tanh(self, Z):\n",
    "        return np.tanh(Z)\n",
    "    \n",
    "    def tanh_derivative(self, A):\n",
    "        return 1 - np.square(A)\n",
    "    \n",
    "    def relu(self, Z):\n",
    "        return np.maximum(0, Z)\n",
    "    \n",
    "    def relu_derivative(self, A):\n",
    "        return (A > 0).astype(float)\n",
    "    \n",
    "    def softmax(self, Z):\n",
    "        exps = np.exp(Z - np.max(Z, axis=0, keepdims=True))\n",
    "        return exps / np.sum(exps, axis=0, keepdims=True)\n",
    "\n",
    "    def forward_propagation(self, X):\n",
    "        A = X.T\n",
    "        activations = [A]\n",
    "        \n",
    "        for l in range(1, self.num_layers):\n",
    "            Z = np.dot(self.parameters[f'W{l}'], A) + self.parameters[f'b{l}']\n",
    "            A = self.activation_functions[l - 1](Z)\n",
    "            activations.append(A)\n",
    "        \n",
    "        Z_out = np.dot(self.parameters[f'W{self.num_layers}'], A) + self.parameters[f'b{self.num_layers}']\n",
    "        A_out = self.softmax(Z_out)\n",
    "        activations.append(A_out)\n",
    "        \n",
    "        return activations\n",
    "    \n",
    "    def predict(self, X):\n",
    "        A_out = self.forward_propagation(X)[-1]\n",
    "        return np.argmax(A_out, axis=0)\n",
    "\n",
    "def train_model():\n",
    "    wandb.init(project=\"assignment 1\", config=sweep_config['parameters'])\n",
    "    config = wandb.config\n",
    "    \n",
    "    # Load data\n",
    "    (X_train, y_train), (X_test, y_test) = fashion_mnist.load_data()\n",
    "    X_train, X_test = (X_train - np.mean(X_train)) / np.std(X_train), (X_test - np.mean(X_test)) / np.std(X_test)\n",
    "    X_train_flat, X_test_flat = X_train.reshape(X_train.shape[0], -1), X_test.reshape(X_test.shape[0], -1)\n",
    "    \n",
    "    # Create validation set\n",
    "    val_size = int(X_train_flat.shape[0] * 0.1)\n",
    "    X_val, y_val = X_train_flat[:val_size], y_train[:val_size]\n",
    "    X_train_final, y_train_final = X_train_flat[val_size:], y_train[val_size:]\n",
    "    \n",
    "    # Configure model\n",
    "    nn = NeuralNetwork(\n",
    "        input_size=784,\n",
    "        hidden_layers=[128] * config.num_hidden_layers,\n",
    "        output_size=10,\n",
    "        activation_functions=[config.activation] * config.num_hidden_layers + ['softmax'],\n",
    "        weight_init=\"xavier\"\n",
    "    )\n",
    "    \n",
    "    # Training loop (dummy implementation for now)\n",
    "    for epoch in range(5):  # Use 5 epochs as an example\n",
    "        loss = np.random.rand()  # Placeholder for actual loss computation\n",
    "        val_accuracy = np.random.rand()  # Placeholder for validation accuracy\n",
    "        \n",
    "        wandb.log({\"epoch\": epoch, \"loss\": loss, \"val_accuracy\": val_accuracy})\n",
    "    \n",
    "    wandb.finish()\n",
    "\n",
    "wandb.agent(sweep_id, train_model)\n"
   ]
  },
  {
   "cell_type": "code",
   "execution_count": null,
   "metadata": {},
   "outputs": [],
   "source": []
  }
 ],
 "metadata": {
  "kernelspec": {
   "display_name": "keras_env",
   "language": "python",
   "name": "python3"
  },
  "language_info": {
   "codemirror_mode": {
    "name": "ipython",
    "version": 3
   },
   "file_extension": ".py",
   "mimetype": "text/x-python",
   "name": "python",
   "nbconvert_exporter": "python",
   "pygments_lexer": "ipython3",
   "version": "3.10.16"
  }
 },
 "nbformat": 4,
 "nbformat_minor": 2
}
