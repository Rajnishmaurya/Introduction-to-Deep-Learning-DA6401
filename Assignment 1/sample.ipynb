{
 "cells": [
  {
   "cell_type": "code",
   "execution_count": null,
   "metadata": {},
   "outputs": [],
   "source": []
  },
  {
   "cell_type": "code",
   "execution_count": 1,
   "metadata": {},
   "outputs": [
    {
     "name": "stderr",
     "output_type": "stream",
     "text": [
      "\u001b[34m\u001b[1mwandb\u001b[0m: Using wandb-core as the SDK backend.  Please refer to https://wandb.me/wandb-core for more information.\n"
     ]
    },
    {
     "name": "stdout",
     "output_type": "stream",
     "text": [
      "Create sweep with ID: zejoqqq9\n",
      "Sweep URL: https://wandb.ai/da24m015-iitm/assignment%201/sweeps/zejoqqq9\n"
     ]
    },
    {
     "name": "stderr",
     "output_type": "stream",
     "text": [
      "\u001b[34m\u001b[1mwandb\u001b[0m: Agent Starting Run: 5rpk61lq with config:\n",
      "\u001b[34m\u001b[1mwandb\u001b[0m: \tactivation: relu\n",
      "\u001b[34m\u001b[1mwandb\u001b[0m: \tbatch_size: 16\n",
      "\u001b[34m\u001b[1mwandb\u001b[0m: \tlearning_rate: 0.1\n",
      "\u001b[34m\u001b[1mwandb\u001b[0m: \tnum_hidden_layers: 2\n",
      "\u001b[34m\u001b[1mwandb\u001b[0m: \toptimizer: sgd\n",
      "\u001b[34m\u001b[1mwandb\u001b[0m: Currently logged in as: \u001b[33mda24m015\u001b[0m (\u001b[33mda24m015-iitm\u001b[0m) to \u001b[32mhttps://api.wandb.ai\u001b[0m. Use \u001b[1m`wandb login --relogin`\u001b[0m to force relogin\n"
     ]
    },
    {
     "data": {
      "text/html": [
       "Ignoring project 'assignment 1' when running a sweep."
      ],
      "text/plain": [
       "<IPython.core.display.HTML object>"
      ]
     },
     "metadata": {},
     "output_type": "display_data"
    },
    {
     "data": {
      "text/html": [
       "Tracking run with wandb version 0.19.7"
      ],
      "text/plain": [
       "<IPython.core.display.HTML object>"
      ]
     },
     "metadata": {},
     "output_type": "display_data"
    },
    {
     "data": {
      "text/html": [
       "Run data is saved locally in <code>c:\\Users\\Rajnish\\Desktop\\Rajnish\\M.Tech DSAI'26\\M.Tech DSAI 2024-2026\\Semester 2\\Introduction to Deep Learning\\Introduction-to-Deep-Learning-DA6401-\\Assignment 1\\wandb\\run-20250305_200032-5rpk61lq</code>"
      ],
      "text/plain": [
       "<IPython.core.display.HTML object>"
      ]
     },
     "metadata": {},
     "output_type": "display_data"
    },
    {
     "data": {
      "text/html": [
       "Syncing run <strong><a href='https://wandb.ai/da24m015-iitm/assignment%201/runs/5rpk61lq' target=\"_blank\">stoic-sweep-1</a></strong> to <a href='https://wandb.ai/da24m015-iitm/assignment%201' target=\"_blank\">Weights & Biases</a> (<a href='https://wandb.me/developer-guide' target=\"_blank\">docs</a>)<br>Sweep page: <a href='https://wandb.ai/da24m015-iitm/assignment%201/sweeps/zejoqqq9' target=\"_blank\">https://wandb.ai/da24m015-iitm/assignment%201/sweeps/zejoqqq9</a>"
      ],
      "text/plain": [
       "<IPython.core.display.HTML object>"
      ]
     },
     "metadata": {},
     "output_type": "display_data"
    },
    {
     "data": {
      "text/html": [
       " View project at <a href='https://wandb.ai/da24m015-iitm/assignment%201' target=\"_blank\">https://wandb.ai/da24m015-iitm/assignment%201</a>"
      ],
      "text/plain": [
       "<IPython.core.display.HTML object>"
      ]
     },
     "metadata": {},
     "output_type": "display_data"
    },
    {
     "data": {
      "text/html": [
       " View sweep at <a href='https://wandb.ai/da24m015-iitm/assignment%201/sweeps/zejoqqq9' target=\"_blank\">https://wandb.ai/da24m015-iitm/assignment%201/sweeps/zejoqqq9</a>"
      ],
      "text/plain": [
       "<IPython.core.display.HTML object>"
      ]
     },
     "metadata": {},
     "output_type": "display_data"
    },
    {
     "data": {
      "text/html": [
       " View run at <a href='https://wandb.ai/da24m015-iitm/assignment%201/runs/5rpk61lq' target=\"_blank\">https://wandb.ai/da24m015-iitm/assignment%201/runs/5rpk61lq</a>"
      ],
      "text/plain": [
       "<IPython.core.display.HTML object>"
      ]
     },
     "metadata": {},
     "output_type": "display_data"
    },
    {
     "data": {
      "text/html": [],
      "text/plain": [
       "<IPython.core.display.HTML object>"
      ]
     },
     "metadata": {},
     "output_type": "display_data"
    },
    {
     "data": {
      "text/html": [
       "<br>    <style><br>        .wandb-row {<br>            display: flex;<br>            flex-direction: row;<br>            flex-wrap: wrap;<br>            justify-content: flex-start;<br>            width: 100%;<br>        }<br>        .wandb-col {<br>            display: flex;<br>            flex-direction: column;<br>            flex-basis: 100%;<br>            flex: 1;<br>            padding: 10px;<br>        }<br>    </style><br><div class=\"wandb-row\"><div class=\"wandb-col\"><h3>Run history:</h3><br/><table class=\"wandb\"><tr><td>epoch</td><td>▁▃▅▆█</td></tr><tr><td>loss</td><td>▁▃▆█▄</td></tr><tr><td>val_accuracy</td><td>▅▂▁▄█</td></tr></table><br/></div><div class=\"wandb-col\"><h3>Run summary:</h3><br/><table class=\"wandb\"><tr><td>epoch</td><td>4</td></tr><tr><td>loss</td><td>0.46089</td></tr><tr><td>val_accuracy</td><td>0.85929</td></tr></table><br/></div></div>"
      ],
      "text/plain": [
       "<IPython.core.display.HTML object>"
      ]
     },
     "metadata": {},
     "output_type": "display_data"
    },
    {
     "data": {
      "text/html": [
       " View run <strong style=\"color:#cdcd00\">stoic-sweep-1</strong> at: <a href='https://wandb.ai/da24m015-iitm/assignment%201/runs/5rpk61lq' target=\"_blank\">https://wandb.ai/da24m015-iitm/assignment%201/runs/5rpk61lq</a><br> View project at: <a href='https://wandb.ai/da24m015-iitm/assignment%201' target=\"_blank\">https://wandb.ai/da24m015-iitm/assignment%201</a><br>Synced 5 W&B file(s), 0 media file(s), 0 artifact file(s) and 0 other file(s)"
      ],
      "text/plain": [
       "<IPython.core.display.HTML object>"
      ]
     },
     "metadata": {},
     "output_type": "display_data"
    },
    {
     "data": {
      "text/html": [
       "Find logs at: <code>.\\wandb\\run-20250305_200032-5rpk61lq\\logs</code>"
      ],
      "text/plain": [
       "<IPython.core.display.HTML object>"
      ]
     },
     "metadata": {},
     "output_type": "display_data"
    },
    {
     "name": "stderr",
     "output_type": "stream",
     "text": [
      "\u001b[34m\u001b[1mwandb\u001b[0m: Sweep Agent: Waiting for job.\n",
      "\u001b[34m\u001b[1mwandb\u001b[0m: Job received.\n",
      "\u001b[34m\u001b[1mwandb\u001b[0m: Agent Starting Run: rmt9odqz with config:\n",
      "\u001b[34m\u001b[1mwandb\u001b[0m: \tactivation: relu\n",
      "\u001b[34m\u001b[1mwandb\u001b[0m: \tbatch_size: 16\n",
      "\u001b[34m\u001b[1mwandb\u001b[0m: \tlearning_rate: 0.1\n",
      "\u001b[34m\u001b[1mwandb\u001b[0m: \tnum_hidden_layers: 2\n",
      "\u001b[34m\u001b[1mwandb\u001b[0m: \toptimizer: momentum\n"
     ]
    },
    {
     "data": {
      "text/html": [
       "Ignoring project 'assignment 1' when running a sweep."
      ],
      "text/plain": [
       "<IPython.core.display.HTML object>"
      ]
     },
     "metadata": {},
     "output_type": "display_data"
    },
    {
     "data": {
      "text/html": [
       "Tracking run with wandb version 0.19.7"
      ],
      "text/plain": [
       "<IPython.core.display.HTML object>"
      ]
     },
     "metadata": {},
     "output_type": "display_data"
    },
    {
     "data": {
      "text/html": [
       "Run data is saved locally in <code>c:\\Users\\Rajnish\\Desktop\\Rajnish\\M.Tech DSAI'26\\M.Tech DSAI 2024-2026\\Semester 2\\Introduction to Deep Learning\\Introduction-to-Deep-Learning-DA6401-\\Assignment 1\\wandb\\run-20250305_200048-rmt9odqz</code>"
      ],
      "text/plain": [
       "<IPython.core.display.HTML object>"
      ]
     },
     "metadata": {},
     "output_type": "display_data"
    },
    {
     "data": {
      "text/html": [
       "Syncing run <strong><a href='https://wandb.ai/da24m015-iitm/assignment%201/runs/rmt9odqz' target=\"_blank\">ethereal-sweep-2</a></strong> to <a href='https://wandb.ai/da24m015-iitm/assignment%201' target=\"_blank\">Weights & Biases</a> (<a href='https://wandb.me/developer-guide' target=\"_blank\">docs</a>)<br>Sweep page: <a href='https://wandb.ai/da24m015-iitm/assignment%201/sweeps/zejoqqq9' target=\"_blank\">https://wandb.ai/da24m015-iitm/assignment%201/sweeps/zejoqqq9</a>"
      ],
      "text/plain": [
       "<IPython.core.display.HTML object>"
      ]
     },
     "metadata": {},
     "output_type": "display_data"
    },
    {
     "data": {
      "text/html": [
       " View project at <a href='https://wandb.ai/da24m015-iitm/assignment%201' target=\"_blank\">https://wandb.ai/da24m015-iitm/assignment%201</a>"
      ],
      "text/plain": [
       "<IPython.core.display.HTML object>"
      ]
     },
     "metadata": {},
     "output_type": "display_data"
    },
    {
     "data": {
      "text/html": [
       " View sweep at <a href='https://wandb.ai/da24m015-iitm/assignment%201/sweeps/zejoqqq9' target=\"_blank\">https://wandb.ai/da24m015-iitm/assignment%201/sweeps/zejoqqq9</a>"
      ],
      "text/plain": [
       "<IPython.core.display.HTML object>"
      ]
     },
     "metadata": {},
     "output_type": "display_data"
    },
    {
     "data": {
      "text/html": [
       " View run at <a href='https://wandb.ai/da24m015-iitm/assignment%201/runs/rmt9odqz' target=\"_blank\">https://wandb.ai/da24m015-iitm/assignment%201/runs/rmt9odqz</a>"
      ],
      "text/plain": [
       "<IPython.core.display.HTML object>"
      ]
     },
     "metadata": {},
     "output_type": "display_data"
    },
    {
     "data": {
      "text/html": [],
      "text/plain": [
       "<IPython.core.display.HTML object>"
      ]
     },
     "metadata": {},
     "output_type": "display_data"
    },
    {
     "data": {
      "text/html": [
       "<br>    <style><br>        .wandb-row {<br>            display: flex;<br>            flex-direction: row;<br>            flex-wrap: wrap;<br>            justify-content: flex-start;<br>            width: 100%;<br>        }<br>        .wandb-col {<br>            display: flex;<br>            flex-direction: column;<br>            flex-basis: 100%;<br>            flex: 1;<br>            padding: 10px;<br>        }<br>    </style><br><div class=\"wandb-row\"><div class=\"wandb-col\"><h3>Run history:</h3><br/><table class=\"wandb\"><tr><td>epoch</td><td>▁▃▅▆█</td></tr><tr><td>loss</td><td>▁▂█▄▂</td></tr><tr><td>val_accuracy</td><td>█▃▃▂▁</td></tr></table><br/></div><div class=\"wandb-col\"><h3>Run summary:</h3><br/><table class=\"wandb\"><tr><td>epoch</td><td>4</td></tr><tr><td>loss</td><td>0.13052</td></tr><tr><td>val_accuracy</td><td>0.02615</td></tr></table><br/></div></div>"
      ],
      "text/plain": [
       "<IPython.core.display.HTML object>"
      ]
     },
     "metadata": {},
     "output_type": "display_data"
    },
    {
     "data": {
      "text/html": [
       " View run <strong style=\"color:#cdcd00\">ethereal-sweep-2</strong> at: <a href='https://wandb.ai/da24m015-iitm/assignment%201/runs/rmt9odqz' target=\"_blank\">https://wandb.ai/da24m015-iitm/assignment%201/runs/rmt9odqz</a><br> View project at: <a href='https://wandb.ai/da24m015-iitm/assignment%201' target=\"_blank\">https://wandb.ai/da24m015-iitm/assignment%201</a><br>Synced 5 W&B file(s), 0 media file(s), 0 artifact file(s) and 0 other file(s)"
      ],
      "text/plain": [
       "<IPython.core.display.HTML object>"
      ]
     },
     "metadata": {},
     "output_type": "display_data"
    },
    {
     "data": {
      "text/html": [
       "Find logs at: <code>.\\wandb\\run-20250305_200048-rmt9odqz\\logs</code>"
      ],
      "text/plain": [
       "<IPython.core.display.HTML object>"
      ]
     },
     "metadata": {},
     "output_type": "display_data"
    },
    {
     "name": "stderr",
     "output_type": "stream",
     "text": [
      "\u001b[34m\u001b[1mwandb\u001b[0m: Ctrl + C detected. Stopping sweep.\n"
     ]
    }
   ],
   "source": [
    "import numpy as np\n",
    "import wandb\n",
    "from keras.datasets import fashion_mnist\n",
    "import matplotlib.pyplot as plt\n",
    "\n",
    "# Initialize wandb sweep configuration\n",
    "sweep_config = {\n",
    "    'method': 'grid',  # Try different values systematically\n",
    "    'metric': {'name': 'val_accuracy', 'goal': 'maximize'},\n",
    "    'parameters': {\n",
    "        'learning_rate': {'values': [0.1, 0.01, 0.001]},\n",
    "        'batch_size': {'values': [16, 32, 64]},\n",
    "        'optimizer': {'values': ['sgd', 'momentum', 'adam']},\n",
    "        'num_hidden_layers': {'values': [2, 3, 4]},\n",
    "        'activation': {'values': ['relu', 'tanh']},\n",
    "    }\n",
    "}\n",
    "sweep_id = wandb.sweep(sweep_config, project=\"assignment 1\")\n",
    "\n",
    "class NeuralNetwork:\n",
    "    def __init__(self, input_size, hidden_layers, output_size, activation_functions, weight_init=\"random\"):\n",
    "        self.input_size = input_size\n",
    "        self.hidden_layers = hidden_layers\n",
    "        self.output_size = output_size\n",
    "        self.num_layers = len(hidden_layers) + 1  # Hidden + Output layer\n",
    "        \n",
    "        self.activation_map = {\n",
    "            'sigmoid': self.sigmoid,\n",
    "            'tanh': self.tanh,\n",
    "            'relu': self.relu,\n",
    "            'softmax': self.softmax\n",
    "        }\n",
    "        \n",
    "        self.activation_functions = [self.activation_map[fn.lower()] for fn in activation_functions]\n",
    "        self.activation_derivatives = [\n",
    "            self.sigmoid_derivative if fn == 'sigmoid' else\n",
    "            self.tanh_derivative if fn == 'tanh' else\n",
    "            self.relu_derivative if fn == 'relu' else None\n",
    "            for fn in activation_functions[:-1]\n",
    "        ]\n",
    "        \n",
    "        self.parameters = self._initialize_parameters(weight_init)\n",
    "    \n",
    "    def _initialize_parameters(self, weight_init):\n",
    "        parameters = {}\n",
    "        layer_dims = [self.input_size] + self.hidden_layers + [self.output_size]\n",
    "        \n",
    "        for l in range(1, len(layer_dims)):\n",
    "            if weight_init == \"random\":\n",
    "                parameters[f'W{l}'] = np.random.randn(layer_dims[l], layer_dims[l-1]) * 0.01\n",
    "            elif weight_init == \"xavier\":\n",
    "                parameters[f'W{l}'] = np.random.randn(layer_dims[l], layer_dims[l-1]) * np.sqrt(1. / layer_dims[l-1])\n",
    "            parameters[f'b{l}'] = np.zeros((layer_dims[l], 1))\n",
    "        \n",
    "        return parameters\n",
    "\n",
    "    def sigmoid(self, Z):\n",
    "        return 1 / (1 + np.exp(-Z))\n",
    "    \n",
    "    def sigmoid_derivative(self, A):\n",
    "        return A * (1 - A)\n",
    "    \n",
    "    def tanh(self, Z):\n",
    "        return np.tanh(Z)\n",
    "    \n",
    "    def tanh_derivative(self, A):\n",
    "        return 1 - np.square(A)\n",
    "    \n",
    "    def relu(self, Z):\n",
    "        return np.maximum(0, Z)\n",
    "    \n",
    "    def relu_derivative(self, A):\n",
    "        return (A > 0).astype(float)\n",
    "    \n",
    "    def softmax(self, Z):\n",
    "        exps = np.exp(Z - np.max(Z, axis=0, keepdims=True))\n",
    "        return exps / np.sum(exps, axis=0, keepdims=True)\n",
    "\n",
    "    def forward_propagation(self, X):\n",
    "        A = X.T\n",
    "        activations = [A]\n",
    "        \n",
    "        for l in range(1, self.num_layers):\n",
    "            Z = np.dot(self.parameters[f'W{l}'], A) + self.parameters[f'b{l}']\n",
    "            A = self.activation_functions[l - 1](Z)\n",
    "            activations.append(A)\n",
    "        \n",
    "        Z_out = np.dot(self.parameters[f'W{self.num_layers}'], A) + self.parameters[f'b{self.num_layers}']\n",
    "        A_out = self.softmax(Z_out)\n",
    "        activations.append(A_out)\n",
    "        \n",
    "        return activations\n",
    "    \n",
    "    def predict(self, X):\n",
    "        A_out = self.forward_propagation(X)[-1]\n",
    "        return np.argmax(A_out, axis=0)\n",
    "\n",
    "def train_model():\n",
    "    wandb.init(project=\"assignment 1\", config=sweep_config['parameters'])\n",
    "    config = wandb.config\n",
    "    \n",
    "    # Load data\n",
    "    (X_train, y_train), (X_test, y_test) = fashion_mnist.load_data()\n",
    "    X_train, X_test = (X_train - np.mean(X_train)) / np.std(X_train), (X_test - np.mean(X_test)) / np.std(X_test)\n",
    "    X_train_flat, X_test_flat = X_train.reshape(X_train.shape[0], -1), X_test.reshape(X_test.shape[0], -1)\n",
    "    \n",
    "    # Create validation set\n",
    "    val_size = int(X_train_flat.shape[0] * 0.1)\n",
    "    X_val, y_val = X_train_flat[:val_size], y_train[:val_size]\n",
    "    X_train_final, y_train_final = X_train_flat[val_size:], y_train[val_size:]\n",
    "    \n",
    "    # Configure model\n",
    "    nn = NeuralNetwork(\n",
    "        input_size=784,\n",
    "        hidden_layers=[128] * config.num_hidden_layers,\n",
    "        output_size=10,\n",
    "        activation_functions=[config.activation] * config.num_hidden_layers + ['softmax'],\n",
    "        weight_init=\"xavier\"\n",
    "    )\n",
    "    \n",
    "    # Training loop (dummy implementation for now)\n",
    "    for epoch in range(5):  # Use 5 epochs as an example\n",
    "        loss = np.random.rand()  # Placeholder for actual loss computation\n",
    "        val_accuracy = np.random.rand()  # Placeholder for validation accuracy\n",
    "        \n",
    "        wandb.log({\"epoch\": epoch, \"loss\": loss, \"val_accuracy\": val_accuracy})\n",
    "    \n",
    "    wandb.finish()\n",
    "\n",
    "wandb.agent(sweep_id, train_model)\n"
   ]
  },
  {
   "cell_type": "code",
   "execution_count": null,
   "metadata": {},
   "outputs": [],
   "source": []
  }
 ],
 "metadata": {
  "kernelspec": {
   "display_name": "keras_env",
   "language": "python",
   "name": "python3"
  },
  "language_info": {
   "codemirror_mode": {
    "name": "ipython",
    "version": 3
   },
   "file_extension": ".py",
   "mimetype": "text/x-python",
   "name": "python",
   "nbconvert_exporter": "python",
   "pygments_lexer": "ipython3",
   "version": "3.10.16"
  }
 },
 "nbformat": 4,
 "nbformat_minor": 2
}
