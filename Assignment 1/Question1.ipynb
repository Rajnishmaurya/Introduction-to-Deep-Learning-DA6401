{
 "cells": [
  {
   "cell_type": "code",
   "execution_count": null,
   "metadata": {},
   "outputs": [],
   "source": []
  },
  {
   "cell_type": "code",
   "execution_count": 6,
   "metadata": {},
   "outputs": [
    {
     "name": "stderr",
     "output_type": "stream",
     "text": [
      "\u001b[34m\u001b[1mwandb\u001b[0m: Using wandb-core as the SDK backend.  Please refer to https://wandb.me/wandb-core for more information.\n",
      "\u001b[34m\u001b[1mwandb\u001b[0m: Currently logged in as: \u001b[33mda24m015\u001b[0m (\u001b[33mda24m015-iitm\u001b[0m) to \u001b[32mhttps://api.wandb.ai\u001b[0m. Use \u001b[1m`wandb login --relogin`\u001b[0m to force relogin\n"
     ]
    },
    {
     "data": {
      "text/html": [
       "Tracking run with wandb version 0.19.7"
      ],
      "text/plain": [
       "<IPython.core.display.HTML object>"
      ]
     },
     "metadata": {},
     "output_type": "display_data"
    },
    {
     "data": {
      "text/html": [
       "Run data is saved locally in <code>c:\\Users\\Rajnish\\Desktop\\Rajnish\\M.Tech DSAI'26\\M.Tech DSAI 2024-2026\\Semester 2\\Introduction to Deep Learning\\Introduction-to-Deep-Learning-DA6401-\\Assignment 1\\wandb\\run-20250304_224621-la9viups</code>"
      ],
      "text/plain": [
       "<IPython.core.display.HTML object>"
      ]
     },
     "metadata": {},
     "output_type": "display_data"
    },
    {
     "data": {
      "text/html": [
       "Syncing run <strong><a href='https://wandb.ai/da24m015-iitm/assignment%201/runs/la9viups' target=\"_blank\">Question-1</a></strong> to <a href='https://wandb.ai/da24m015-iitm/assignment%201' target=\"_blank\">Weights & Biases</a> (<a href='https://wandb.me/developer-guide' target=\"_blank\">docs</a>)<br>"
      ],
      "text/plain": [
       "<IPython.core.display.HTML object>"
      ]
     },
     "metadata": {},
     "output_type": "display_data"
    },
    {
     "data": {
      "text/html": [
       " View project at <a href='https://wandb.ai/da24m015-iitm/assignment%201' target=\"_blank\">https://wandb.ai/da24m015-iitm/assignment%201</a>"
      ],
      "text/plain": [
       "<IPython.core.display.HTML object>"
      ]
     },
     "metadata": {},
     "output_type": "display_data"
    },
    {
     "data": {
      "text/html": [
       " View run at <a href='https://wandb.ai/da24m015-iitm/assignment%201/runs/la9viups' target=\"_blank\">https://wandb.ai/da24m015-iitm/assignment%201/runs/la9viups</a>"
      ],
      "text/plain": [
       "<IPython.core.display.HTML object>"
      ]
     },
     "metadata": {},
     "output_type": "display_data"
    }
   ],
   "source": [
    "from keras.datasets import fashion_mnist\n",
    "import wandb\n",
    "\n",
    "wandb.init(project=\"assignment 1\", entity=\"da24m015-iitm\",name=\"Question-1\")\n",
    "class_names = ['T-shirt/top', 'Trouser/pants', 'Pullover shirt', 'Dress', 'Coat', 'Sandal', 'Shirt', 'Sneaker', 'Bag',\n",
    "\t\t\t   'Ankle boot']\n",
    "\n",
    "(trainX, trainy), (testX, testy) = fashion_mnist.load_data()\n",
    "trainX=trainX / 255.0\n",
    "testX=testX / 255.0\n",
    "\n",
    "def log_images():\n",
    "\tset_images=[]\n",
    "\tset_labels=[]\n",
    "\tcount=0\n",
    "\tfor d in range(len(trainy)):\n",
    "\t\tif trainy[d]==count:\n",
    "\t\t\t\tset_images.append(trainX[d])\n",
    "\t\t\t\tset_labels.append(class_names[trainy[d]])\n",
    "\t\t\t\tcount=count+1\n",
    "\t\telse:\n",
    "\t\t\t\tpass\n",
    "\t\tif count==10:\n",
    "\t\t\tbreak\n",
    "\n",
    "\twandb.log({\"Plot\": [wandb.Image(img, caption=caption) for img, caption in zip(set_images, set_labels)]})\n",
    "log_images()"
   ]
  },
  {
   "cell_type": "code",
   "execution_count": null,
   "metadata": {},
   "outputs": [],
   "source": []
  }
 ],
 "metadata": {
  "kernelspec": {
   "display_name": "keras_env",
   "language": "python",
   "name": "python3"
  },
  "language_info": {
   "codemirror_mode": {
    "name": "ipython",
    "version": 3
   },
   "file_extension": ".py",
   "mimetype": "text/x-python",
   "name": "python",
   "nbconvert_exporter": "python",
   "pygments_lexer": "ipython3",
   "version": "3.10.16"
  }
 },
 "nbformat": 4,
 "nbformat_minor": 2
}
